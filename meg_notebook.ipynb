{
 "cells": [
  {
   "cell_type": "code",
   "execution_count": 1,
   "metadata": {},
   "outputs": [],
   "source": [
    "import pandas as pd\n",
    "import pickle\n",
    "import matplotlib.pyplot as plt\n",
    "\n",
    "from surprise import Dataset, Reader, accuracy\n",
    "from surprise.model_selection import cross_validate, train_test_split, GridSearchCV\n",
    "from surprise.prediction_algorithms import SVD, SVDpp, NMF, BaselineOnly, NormalPredictor\n",
    "\n",
    "%matplotlib inline"
   ]
  },
  {
   "cell_type": "code",
   "execution_count": 2,
   "metadata": {},
   "outputs": [
    {
     "name": "stdout",
     "output_type": "stream",
     "text": [
      "reviews_Beauty_5.json.gz\r\n"
     ]
    }
   ],
   "source": [
    "!ls Data"
   ]
  },
  {
   "cell_type": "code",
   "execution_count": 3,
   "metadata": {},
   "outputs": [],
   "source": [
    "df = pd.read_json(\"Data/reviews_Beauty_5.json.gz\",lines=True)"
   ]
  },
  {
   "cell_type": "code",
   "execution_count": 4,
   "metadata": {},
   "outputs": [
    {
     "data": {
      "text/html": [
       "<div>\n",
       "<style scoped>\n",
       "    .dataframe tbody tr th:only-of-type {\n",
       "        vertical-align: middle;\n",
       "    }\n",
       "\n",
       "    .dataframe tbody tr th {\n",
       "        vertical-align: top;\n",
       "    }\n",
       "\n",
       "    .dataframe thead th {\n",
       "        text-align: right;\n",
       "    }\n",
       "</style>\n",
       "<table border=\"1\" class=\"dataframe\">\n",
       "  <thead>\n",
       "    <tr style=\"text-align: right;\">\n",
       "      <th></th>\n",
       "      <th>reviewerID</th>\n",
       "      <th>asin</th>\n",
       "      <th>reviewerName</th>\n",
       "      <th>helpful</th>\n",
       "      <th>reviewText</th>\n",
       "      <th>overall</th>\n",
       "      <th>summary</th>\n",
       "      <th>unixReviewTime</th>\n",
       "      <th>reviewTime</th>\n",
       "    </tr>\n",
       "  </thead>\n",
       "  <tbody>\n",
       "    <tr>\n",
       "      <th>0</th>\n",
       "      <td>A1YJEY40YUW4SE</td>\n",
       "      <td>7806397051</td>\n",
       "      <td>Andrea</td>\n",
       "      <td>[3, 4]</td>\n",
       "      <td>Very oily and creamy. Not at all what I expect...</td>\n",
       "      <td>1</td>\n",
       "      <td>Don't waste your money</td>\n",
       "      <td>1391040000</td>\n",
       "      <td>01 30, 2014</td>\n",
       "    </tr>\n",
       "    <tr>\n",
       "      <th>1</th>\n",
       "      <td>A60XNB876KYML</td>\n",
       "      <td>7806397051</td>\n",
       "      <td>Jessica H.</td>\n",
       "      <td>[1, 1]</td>\n",
       "      <td>This palette was a decent price and I was look...</td>\n",
       "      <td>3</td>\n",
       "      <td>OK Palette!</td>\n",
       "      <td>1397779200</td>\n",
       "      <td>04 18, 2014</td>\n",
       "    </tr>\n",
       "    <tr>\n",
       "      <th>2</th>\n",
       "      <td>A3G6XNM240RMWA</td>\n",
       "      <td>7806397051</td>\n",
       "      <td>Karen</td>\n",
       "      <td>[0, 1]</td>\n",
       "      <td>The texture of this concealer pallet is fantas...</td>\n",
       "      <td>4</td>\n",
       "      <td>great quality</td>\n",
       "      <td>1378425600</td>\n",
       "      <td>09 6, 2013</td>\n",
       "    </tr>\n",
       "    <tr>\n",
       "      <th>3</th>\n",
       "      <td>A1PQFP6SAJ6D80</td>\n",
       "      <td>7806397051</td>\n",
       "      <td>Norah</td>\n",
       "      <td>[2, 2]</td>\n",
       "      <td>I really can't tell what exactly this thing is...</td>\n",
       "      <td>2</td>\n",
       "      <td>Do not work on my face</td>\n",
       "      <td>1386460800</td>\n",
       "      <td>12 8, 2013</td>\n",
       "    </tr>\n",
       "    <tr>\n",
       "      <th>4</th>\n",
       "      <td>A38FVHZTNQ271F</td>\n",
       "      <td>7806397051</td>\n",
       "      <td>Nova Amor</td>\n",
       "      <td>[0, 0]</td>\n",
       "      <td>It was a little smaller than I expected, but t...</td>\n",
       "      <td>3</td>\n",
       "      <td>It's okay.</td>\n",
       "      <td>1382140800</td>\n",
       "      <td>10 19, 2013</td>\n",
       "    </tr>\n",
       "    <tr>\n",
       "      <th>...</th>\n",
       "      <td>...</td>\n",
       "      <td>...</td>\n",
       "      <td>...</td>\n",
       "      <td>...</td>\n",
       "      <td>...</td>\n",
       "      <td>...</td>\n",
       "      <td>...</td>\n",
       "      <td>...</td>\n",
       "      <td>...</td>\n",
       "    </tr>\n",
       "    <tr>\n",
       "      <th>198497</th>\n",
       "      <td>A2BLFCOPSMBOZ9</td>\n",
       "      <td>B00LLPT4HI</td>\n",
       "      <td>Dave Edmiston</td>\n",
       "      <td>[0, 0]</td>\n",
       "      <td>Just a little dab of this shea butter should b...</td>\n",
       "      <td>5</td>\n",
       "      <td>A little dab...</td>\n",
       "      <td>1405468800</td>\n",
       "      <td>07 16, 2014</td>\n",
       "    </tr>\n",
       "    <tr>\n",
       "      <th>198498</th>\n",
       "      <td>A1UQBFCERIP7VJ</td>\n",
       "      <td>B00LLPT4HI</td>\n",
       "      <td>Margaret Picky</td>\n",
       "      <td>[0, 0]</td>\n",
       "      <td>This shea butter is completely raw and unrefin...</td>\n",
       "      <td>5</td>\n",
       "      <td>Pure organic raw shea butter</td>\n",
       "      <td>1405296000</td>\n",
       "      <td>07 14, 2014</td>\n",
       "    </tr>\n",
       "    <tr>\n",
       "      <th>198499</th>\n",
       "      <td>A35Q0RBM3YNQNF</td>\n",
       "      <td>B00LLPT4HI</td>\n",
       "      <td>M. Hill</td>\n",
       "      <td>[0, 0]</td>\n",
       "      <td>The skin is the body's largest organ and it ab...</td>\n",
       "      <td>5</td>\n",
       "      <td>One Pound Organic Grade A Unrefined Shea Butter</td>\n",
       "      <td>1405468800</td>\n",
       "      <td>07 16, 2014</td>\n",
       "    </tr>\n",
       "    <tr>\n",
       "      <th>198500</th>\n",
       "      <td>A3LGT6UZL99IW1</td>\n",
       "      <td>B00LLPT4HI</td>\n",
       "      <td>Richard C. Drew \"Anaal Nathra/Uthe vas Bethod...</td>\n",
       "      <td>[0, 0]</td>\n",
       "      <td>I have very dry elbows and knees.  I have a to...</td>\n",
       "      <td>5</td>\n",
       "      <td>This stuff is amazing!</td>\n",
       "      <td>1405382400</td>\n",
       "      <td>07 15, 2014</td>\n",
       "    </tr>\n",
       "    <tr>\n",
       "      <th>198501</th>\n",
       "      <td>A3UJRNI8UR4871</td>\n",
       "      <td>B00LLPT4HI</td>\n",
       "      <td>Wulfstan \"wulfstan\"</td>\n",
       "      <td>[0, 1]</td>\n",
       "      <td>This is 100% pure Shea Butter. Do not mistake ...</td>\n",
       "      <td>5</td>\n",
       "      <td>The \"Real Stuff\"!</td>\n",
       "      <td>1405987200</td>\n",
       "      <td>07 22, 2014</td>\n",
       "    </tr>\n",
       "  </tbody>\n",
       "</table>\n",
       "<p>198502 rows × 9 columns</p>\n",
       "</div>"
      ],
      "text/plain": [
       "            reviewerID        asin  \\\n",
       "0       A1YJEY40YUW4SE  7806397051   \n",
       "1        A60XNB876KYML  7806397051   \n",
       "2       A3G6XNM240RMWA  7806397051   \n",
       "3       A1PQFP6SAJ6D80  7806397051   \n",
       "4       A38FVHZTNQ271F  7806397051   \n",
       "...                ...         ...   \n",
       "198497  A2BLFCOPSMBOZ9  B00LLPT4HI   \n",
       "198498  A1UQBFCERIP7VJ  B00LLPT4HI   \n",
       "198499  A35Q0RBM3YNQNF  B00LLPT4HI   \n",
       "198500  A3LGT6UZL99IW1  B00LLPT4HI   \n",
       "198501  A3UJRNI8UR4871  B00LLPT4HI   \n",
       "\n",
       "                                            reviewerName helpful  \\\n",
       "0                                                 Andrea  [3, 4]   \n",
       "1                                             Jessica H.  [1, 1]   \n",
       "2                                                  Karen  [0, 1]   \n",
       "3                                                  Norah  [2, 2]   \n",
       "4                                              Nova Amor  [0, 0]   \n",
       "...                                                  ...     ...   \n",
       "198497                                     Dave Edmiston  [0, 0]   \n",
       "198498                                    Margaret Picky  [0, 0]   \n",
       "198499                                           M. Hill  [0, 0]   \n",
       "198500  Richard C. Drew \"Anaal Nathra/Uthe vas Bethod...  [0, 0]   \n",
       "198501                               Wulfstan \"wulfstan\"  [0, 1]   \n",
       "\n",
       "                                               reviewText  overall  \\\n",
       "0       Very oily and creamy. Not at all what I expect...        1   \n",
       "1       This palette was a decent price and I was look...        3   \n",
       "2       The texture of this concealer pallet is fantas...        4   \n",
       "3       I really can't tell what exactly this thing is...        2   \n",
       "4       It was a little smaller than I expected, but t...        3   \n",
       "...                                                   ...      ...   \n",
       "198497  Just a little dab of this shea butter should b...        5   \n",
       "198498  This shea butter is completely raw and unrefin...        5   \n",
       "198499  The skin is the body's largest organ and it ab...        5   \n",
       "198500  I have very dry elbows and knees.  I have a to...        5   \n",
       "198501  This is 100% pure Shea Butter. Do not mistake ...        5   \n",
       "\n",
       "                                                summary  unixReviewTime  \\\n",
       "0                                Don't waste your money      1391040000   \n",
       "1                                           OK Palette!      1397779200   \n",
       "2                                         great quality      1378425600   \n",
       "3                                Do not work on my face      1386460800   \n",
       "4                                            It's okay.      1382140800   \n",
       "...                                                 ...             ...   \n",
       "198497                                  A little dab...      1405468800   \n",
       "198498                     Pure organic raw shea butter      1405296000   \n",
       "198499  One Pound Organic Grade A Unrefined Shea Butter      1405468800   \n",
       "198500                           This stuff is amazing!      1405382400   \n",
       "198501                                The \"Real Stuff\"!      1405987200   \n",
       "\n",
       "         reviewTime  \n",
       "0       01 30, 2014  \n",
       "1       04 18, 2014  \n",
       "2        09 6, 2013  \n",
       "3        12 8, 2013  \n",
       "4       10 19, 2013  \n",
       "...             ...  \n",
       "198497  07 16, 2014  \n",
       "198498  07 14, 2014  \n",
       "198499  07 16, 2014  \n",
       "198500  07 15, 2014  \n",
       "198501  07 22, 2014  \n",
       "\n",
       "[198502 rows x 9 columns]"
      ]
     },
     "execution_count": 4,
     "metadata": {},
     "output_type": "execute_result"
    }
   ],
   "source": [
    "df"
   ]
  },
  {
   "cell_type": "code",
   "execution_count": 5,
   "metadata": {},
   "outputs": [
    {
     "data": {
      "text/plain": [
       "reviewerID           0\n",
       "asin                 0\n",
       "reviewerName      1386\n",
       "helpful              0\n",
       "reviewText           0\n",
       "overall              0\n",
       "summary              0\n",
       "unixReviewTime       0\n",
       "reviewTime           0\n",
       "dtype: int64"
      ]
     },
     "execution_count": 5,
     "metadata": {},
     "output_type": "execute_result"
    }
   ],
   "source": [
    "df.isna().sum()"
   ]
  },
  {
   "cell_type": "code",
   "execution_count": 6,
   "metadata": {},
   "outputs": [],
   "source": [
    "#1386 reviewerNames left blank; we will not need reviewerName since utilizing reviewerID but \n",
    "#curious why"
   ]
  },
  {
   "cell_type": "code",
   "execution_count": 7,
   "metadata": {},
   "outputs": [
    {
     "data": {
      "text/html": [
       "<div>\n",
       "<style scoped>\n",
       "    .dataframe tbody tr th:only-of-type {\n",
       "        vertical-align: middle;\n",
       "    }\n",
       "\n",
       "    .dataframe tbody tr th {\n",
       "        vertical-align: top;\n",
       "    }\n",
       "\n",
       "    .dataframe thead th {\n",
       "        text-align: right;\n",
       "    }\n",
       "</style>\n",
       "<table border=\"1\" class=\"dataframe\">\n",
       "  <thead>\n",
       "    <tr style=\"text-align: right;\">\n",
       "      <th></th>\n",
       "      <th>reviewerID</th>\n",
       "      <th>asin</th>\n",
       "      <th>reviewerName</th>\n",
       "      <th>helpful</th>\n",
       "      <th>reviewText</th>\n",
       "      <th>overall</th>\n",
       "      <th>summary</th>\n",
       "      <th>unixReviewTime</th>\n",
       "      <th>reviewTime</th>\n",
       "    </tr>\n",
       "  </thead>\n",
       "  <tbody>\n",
       "    <tr>\n",
       "      <th>8</th>\n",
       "      <td>A3LMILRM9OC3SA</td>\n",
       "      <td>9759091062</td>\n",
       "      <td>NaN</td>\n",
       "      <td>[0, 0]</td>\n",
       "      <td>Did nothing for me. Stings when I put it on. I...</td>\n",
       "      <td>2</td>\n",
       "      <td>no Lightening, no Brightening,......NOTHING</td>\n",
       "      <td>1405209600</td>\n",
       "      <td>07 13, 2014</td>\n",
       "    </tr>\n",
       "    <tr>\n",
       "      <th>1790</th>\n",
       "      <td>AK1H26O8DLMNN</td>\n",
       "      <td>B0000535UM</td>\n",
       "      <td>NaN</td>\n",
       "      <td>[0, 0]</td>\n",
       "      <td>The first thickening shampoo that works on my ...</td>\n",
       "      <td>5</td>\n",
       "      <td>Actually works</td>\n",
       "      <td>1405123200</td>\n",
       "      <td>07 12, 2014</td>\n",
       "    </tr>\n",
       "    <tr>\n",
       "      <th>2242</th>\n",
       "      <td>APTLHR9PHGPXN</td>\n",
       "      <td>B00005NAOD</td>\n",
       "      <td>NaN</td>\n",
       "      <td>[0, 0]</td>\n",
       "      <td>Kind of drying, not moisturizing. Kind of disa...</td>\n",
       "      <td>2</td>\n",
       "      <td>Inexpensive and feels that wY</td>\n",
       "      <td>1405209600</td>\n",
       "      <td>07 13, 2014</td>\n",
       "    </tr>\n",
       "    <tr>\n",
       "      <th>2304</th>\n",
       "      <td>AQWX644AFUFFK</td>\n",
       "      <td>B00005NFBD</td>\n",
       "      <td>NaN</td>\n",
       "      <td>[0, 0]</td>\n",
       "      <td>This is just ok. For one, I found this in a st...</td>\n",
       "      <td>3</td>\n",
       "      <td>Ok, nothing amazing</td>\n",
       "      <td>1405468800</td>\n",
       "      <td>07 16, 2014</td>\n",
       "    </tr>\n",
       "    <tr>\n",
       "      <th>3651</th>\n",
       "      <td>A43K5ZRQ87TO6</td>\n",
       "      <td>B00008PC1O</td>\n",
       "      <td>NaN</td>\n",
       "      <td>[0, 0]</td>\n",
       "      <td>Works well and easy to use!</td>\n",
       "      <td>5</td>\n",
       "      <td>Five Stars</td>\n",
       "      <td>1405296000</td>\n",
       "      <td>07 14, 2014</td>\n",
       "    </tr>\n",
       "    <tr>\n",
       "      <th>...</th>\n",
       "      <td>...</td>\n",
       "      <td>...</td>\n",
       "      <td>...</td>\n",
       "      <td>...</td>\n",
       "      <td>...</td>\n",
       "      <td>...</td>\n",
       "      <td>...</td>\n",
       "      <td>...</td>\n",
       "      <td>...</td>\n",
       "    </tr>\n",
       "    <tr>\n",
       "      <th>197192</th>\n",
       "      <td>A1Z3AV93ONK5VF</td>\n",
       "      <td>B00KAL5JAU</td>\n",
       "      <td>NaN</td>\n",
       "      <td>[0, 0]</td>\n",
       "      <td>We already had the Dead Sea Shampoo by Adovia ...</td>\n",
       "      <td>5</td>\n",
       "      <td>Non greasy, silky shiny hair</td>\n",
       "      <td>1401235200</td>\n",
       "      <td>05 28, 2014</td>\n",
       "    </tr>\n",
       "    <tr>\n",
       "      <th>197193</th>\n",
       "      <td>A184I8GT3BHZQV</td>\n",
       "      <td>B00KAL5JAU</td>\n",
       "      <td>NaN</td>\n",
       "      <td>[0, 1]</td>\n",
       "      <td>&amp;#60;a href=&amp;#34;http://www.tomoson.com/?code=...</td>\n",
       "      <td>5</td>\n",
       "      <td>Dead Sea Salt hair conditioner</td>\n",
       "      <td>1403568000</td>\n",
       "      <td>06 24, 2014</td>\n",
       "    </tr>\n",
       "    <tr>\n",
       "      <th>197194</th>\n",
       "      <td>A8C9EJORQD23</td>\n",
       "      <td>B00KAL5JAU</td>\n",
       "      <td>NaN</td>\n",
       "      <td>[0, 1]</td>\n",
       "      <td>I use this with the Adovia shampoo I mention a...</td>\n",
       "      <td>5</td>\n",
       "      <td>Adovia does natural right!</td>\n",
       "      <td>1402272000</td>\n",
       "      <td>06 9, 2014</td>\n",
       "    </tr>\n",
       "    <tr>\n",
       "      <th>198446</th>\n",
       "      <td>A2PIGZCDGM4NJ7</td>\n",
       "      <td>B00L5JHZJO</td>\n",
       "      <td>NaN</td>\n",
       "      <td>[10, 11]</td>\n",
       "      <td>This is a horrible product, most of the review...</td>\n",
       "      <td>1</td>\n",
       "      <td>Bad Product</td>\n",
       "      <td>1404864000</td>\n",
       "      <td>07 9, 2014</td>\n",
       "    </tr>\n",
       "    <tr>\n",
       "      <th>198447</th>\n",
       "      <td>A3M1ADU4JICQR2</td>\n",
       "      <td>B00L5JHZJO</td>\n",
       "      <td>NaN</td>\n",
       "      <td>[5, 6]</td>\n",
       "      <td>I bought this for my wife, as she loves using ...</td>\n",
       "      <td>1</td>\n",
       "      <td>Not satisfed</td>\n",
       "      <td>1404432000</td>\n",
       "      <td>07 4, 2014</td>\n",
       "    </tr>\n",
       "  </tbody>\n",
       "</table>\n",
       "<p>1386 rows × 9 columns</p>\n",
       "</div>"
      ],
      "text/plain": [
       "            reviewerID        asin reviewerName   helpful  \\\n",
       "8       A3LMILRM9OC3SA  9759091062          NaN    [0, 0]   \n",
       "1790     AK1H26O8DLMNN  B0000535UM          NaN    [0, 0]   \n",
       "2242     APTLHR9PHGPXN  B00005NAOD          NaN    [0, 0]   \n",
       "2304     AQWX644AFUFFK  B00005NFBD          NaN    [0, 0]   \n",
       "3651     A43K5ZRQ87TO6  B00008PC1O          NaN    [0, 0]   \n",
       "...                ...         ...          ...       ...   \n",
       "197192  A1Z3AV93ONK5VF  B00KAL5JAU          NaN    [0, 0]   \n",
       "197193  A184I8GT3BHZQV  B00KAL5JAU          NaN    [0, 1]   \n",
       "197194    A8C9EJORQD23  B00KAL5JAU          NaN    [0, 1]   \n",
       "198446  A2PIGZCDGM4NJ7  B00L5JHZJO          NaN  [10, 11]   \n",
       "198447  A3M1ADU4JICQR2  B00L5JHZJO          NaN    [5, 6]   \n",
       "\n",
       "                                               reviewText  overall  \\\n",
       "8       Did nothing for me. Stings when I put it on. I...        2   \n",
       "1790    The first thickening shampoo that works on my ...        5   \n",
       "2242    Kind of drying, not moisturizing. Kind of disa...        2   \n",
       "2304    This is just ok. For one, I found this in a st...        3   \n",
       "3651                          Works well and easy to use!        5   \n",
       "...                                                   ...      ...   \n",
       "197192  We already had the Dead Sea Shampoo by Adovia ...        5   \n",
       "197193  &#60;a href=&#34;http://www.tomoson.com/?code=...        5   \n",
       "197194  I use this with the Adovia shampoo I mention a...        5   \n",
       "198446  This is a horrible product, most of the review...        1   \n",
       "198447  I bought this for my wife, as she loves using ...        1   \n",
       "\n",
       "                                            summary  unixReviewTime  \\\n",
       "8       no Lightening, no Brightening,......NOTHING      1405209600   \n",
       "1790                                 Actually works      1405123200   \n",
       "2242                  Inexpensive and feels that wY      1405209600   \n",
       "2304                            Ok, nothing amazing      1405468800   \n",
       "3651                                     Five Stars      1405296000   \n",
       "...                                             ...             ...   \n",
       "197192                 Non greasy, silky shiny hair      1401235200   \n",
       "197193               Dead Sea Salt hair conditioner      1403568000   \n",
       "197194                   Adovia does natural right!      1402272000   \n",
       "198446                                  Bad Product      1404864000   \n",
       "198447                                 Not satisfed      1404432000   \n",
       "\n",
       "         reviewTime  \n",
       "8       07 13, 2014  \n",
       "1790    07 12, 2014  \n",
       "2242    07 13, 2014  \n",
       "2304    07 16, 2014  \n",
       "3651    07 14, 2014  \n",
       "...             ...  \n",
       "197192  05 28, 2014  \n",
       "197193  06 24, 2014  \n",
       "197194   06 9, 2014  \n",
       "198446   07 9, 2014  \n",
       "198447   07 4, 2014  \n",
       "\n",
       "[1386 rows x 9 columns]"
      ]
     },
     "execution_count": 7,
     "metadata": {},
     "output_type": "execute_result"
    }
   ],
   "source": [
    "df[df['reviewerName'].isnull()]"
   ]
  },
  {
   "cell_type": "code",
   "execution_count": 8,
   "metadata": {},
   "outputs": [],
   "source": [
    "#all necessary information is included even when reviewerName is NaN"
   ]
  },
  {
   "cell_type": "code",
   "execution_count": 9,
   "metadata": {},
   "outputs": [
    {
     "data": {
      "text/plain": [
       "A2V5R832QCSOMX    204\n",
       "ALNFHVS3SC4FV     192\n",
       "AKMEY1BSHSDG7     182\n",
       "A3KEZLJ59C1JVH    154\n",
       "ALQGOMOY1F5X9     150\n",
       "                 ... \n",
       "AFAIEJL65GKRK       5\n",
       "A1DXDPN8720R2U      5\n",
       "A38MNWW6OKA6KI      5\n",
       "A5XF76PK1PEYO       5\n",
       "A35K5RQB1J9LP       5\n",
       "Name: reviewerID, Length: 22363, dtype: int64"
      ]
     },
     "execution_count": 9,
     "metadata": {},
     "output_type": "execute_result"
    }
   ],
   "source": [
    "df.reviewerID.value_counts()"
   ]
  },
  {
   "cell_type": "code",
   "execution_count": 10,
   "metadata": {},
   "outputs": [],
   "source": [
    "#YAY! all reviewerIDs have value of at least 5, total of 22,363 reviewers"
   ]
  },
  {
   "cell_type": "code",
   "execution_count": 11,
   "metadata": {},
   "outputs": [
    {
     "data": {
      "text/plain": [
       "B004OHQR1Q    431\n",
       "B0043OYFKU    403\n",
       "B0069FDR96    391\n",
       "B000ZMBSPE    389\n",
       "B00150LT40    329\n",
       "             ... \n",
       "B0033I9Y1C      5\n",
       "B0001ZZH0M      5\n",
       "B004LXKY4E      5\n",
       "B003JCLP6E      5\n",
       "B000UPEF88      5\n",
       "Name: asin, Length: 12101, dtype: int64"
      ]
     },
     "execution_count": 11,
     "metadata": {},
     "output_type": "execute_result"
    }
   ],
   "source": [
    "df.asin.value_counts()"
   ]
  },
  {
   "cell_type": "code",
   "execution_count": 12,
   "metadata": {},
   "outputs": [],
   "source": [
    "#YAY! all products have at least 5 reviews, total of 12,101 different products"
   ]
  },
  {
   "cell_type": "code",
   "execution_count": 13,
   "metadata": {},
   "outputs": [],
   "source": [
    "#can save data as a CSV file for easier use, but it does not look like we need to clean data\n",
    "#can drop reviewerNames"
   ]
  },
  {
   "cell_type": "code",
   "execution_count": 14,
   "metadata": {},
   "outputs": [],
   "source": [
    "lower_rating = df.overall.min()"
   ]
  },
  {
   "cell_type": "code",
   "execution_count": 15,
   "metadata": {},
   "outputs": [],
   "source": [
    "upper_rating = df.overall.max()"
   ]
  },
  {
   "cell_type": "code",
   "execution_count": 16,
   "metadata": {},
   "outputs": [
    {
     "name": "stdout",
     "output_type": "stream",
     "text": [
      "Review range: 1 to 5\n"
     ]
    }
   ],
   "source": [
    "print('Review range: {0} to {1}'.format(lower_rating, upper_rating))"
   ]
  },
  {
   "cell_type": "code",
   "execution_count": 17,
   "metadata": {},
   "outputs": [],
   "source": [
    "#Confirming our review range is 1 to 5, which is the default for surprise"
   ]
  },
  {
   "cell_type": "code",
   "execution_count": 18,
   "metadata": {},
   "outputs": [],
   "source": [
    "#Creating dataframe with appropriate columns to run through surprise"
   ]
  },
  {
   "cell_type": "code",
   "execution_count": 19,
   "metadata": {},
   "outputs": [],
   "source": [
    "surprise_df = df[['reviewerID', 'asin', 'overall']]"
   ]
  },
  {
   "cell_type": "code",
   "execution_count": 20,
   "metadata": {},
   "outputs": [
    {
     "data": {
      "text/html": [
       "<div>\n",
       "<style scoped>\n",
       "    .dataframe tbody tr th:only-of-type {\n",
       "        vertical-align: middle;\n",
       "    }\n",
       "\n",
       "    .dataframe tbody tr th {\n",
       "        vertical-align: top;\n",
       "    }\n",
       "\n",
       "    .dataframe thead th {\n",
       "        text-align: right;\n",
       "    }\n",
       "</style>\n",
       "<table border=\"1\" class=\"dataframe\">\n",
       "  <thead>\n",
       "    <tr style=\"text-align: right;\">\n",
       "      <th></th>\n",
       "      <th>reviewerID</th>\n",
       "      <th>asin</th>\n",
       "      <th>overall</th>\n",
       "    </tr>\n",
       "  </thead>\n",
       "  <tbody>\n",
       "    <tr>\n",
       "      <th>0</th>\n",
       "      <td>A1YJEY40YUW4SE</td>\n",
       "      <td>7806397051</td>\n",
       "      <td>1</td>\n",
       "    </tr>\n",
       "    <tr>\n",
       "      <th>1</th>\n",
       "      <td>A60XNB876KYML</td>\n",
       "      <td>7806397051</td>\n",
       "      <td>3</td>\n",
       "    </tr>\n",
       "    <tr>\n",
       "      <th>2</th>\n",
       "      <td>A3G6XNM240RMWA</td>\n",
       "      <td>7806397051</td>\n",
       "      <td>4</td>\n",
       "    </tr>\n",
       "    <tr>\n",
       "      <th>3</th>\n",
       "      <td>A1PQFP6SAJ6D80</td>\n",
       "      <td>7806397051</td>\n",
       "      <td>2</td>\n",
       "    </tr>\n",
       "    <tr>\n",
       "      <th>4</th>\n",
       "      <td>A38FVHZTNQ271F</td>\n",
       "      <td>7806397051</td>\n",
       "      <td>3</td>\n",
       "    </tr>\n",
       "    <tr>\n",
       "      <th>...</th>\n",
       "      <td>...</td>\n",
       "      <td>...</td>\n",
       "      <td>...</td>\n",
       "    </tr>\n",
       "    <tr>\n",
       "      <th>198497</th>\n",
       "      <td>A2BLFCOPSMBOZ9</td>\n",
       "      <td>B00LLPT4HI</td>\n",
       "      <td>5</td>\n",
       "    </tr>\n",
       "    <tr>\n",
       "      <th>198498</th>\n",
       "      <td>A1UQBFCERIP7VJ</td>\n",
       "      <td>B00LLPT4HI</td>\n",
       "      <td>5</td>\n",
       "    </tr>\n",
       "    <tr>\n",
       "      <th>198499</th>\n",
       "      <td>A35Q0RBM3YNQNF</td>\n",
       "      <td>B00LLPT4HI</td>\n",
       "      <td>5</td>\n",
       "    </tr>\n",
       "    <tr>\n",
       "      <th>198500</th>\n",
       "      <td>A3LGT6UZL99IW1</td>\n",
       "      <td>B00LLPT4HI</td>\n",
       "      <td>5</td>\n",
       "    </tr>\n",
       "    <tr>\n",
       "      <th>198501</th>\n",
       "      <td>A3UJRNI8UR4871</td>\n",
       "      <td>B00LLPT4HI</td>\n",
       "      <td>5</td>\n",
       "    </tr>\n",
       "  </tbody>\n",
       "</table>\n",
       "<p>198502 rows × 3 columns</p>\n",
       "</div>"
      ],
      "text/plain": [
       "            reviewerID        asin  overall\n",
       "0       A1YJEY40YUW4SE  7806397051        1\n",
       "1        A60XNB876KYML  7806397051        3\n",
       "2       A3G6XNM240RMWA  7806397051        4\n",
       "3       A1PQFP6SAJ6D80  7806397051        2\n",
       "4       A38FVHZTNQ271F  7806397051        3\n",
       "...                ...         ...      ...\n",
       "198497  A2BLFCOPSMBOZ9  B00LLPT4HI        5\n",
       "198498  A1UQBFCERIP7VJ  B00LLPT4HI        5\n",
       "198499  A35Q0RBM3YNQNF  B00LLPT4HI        5\n",
       "198500  A3LGT6UZL99IW1  B00LLPT4HI        5\n",
       "198501  A3UJRNI8UR4871  B00LLPT4HI        5\n",
       "\n",
       "[198502 rows x 3 columns]"
      ]
     },
     "execution_count": 20,
     "metadata": {},
     "output_type": "execute_result"
    }
   ],
   "source": [
    "surprise_df"
   ]
  },
  {
   "cell_type": "code",
   "execution_count": 21,
   "metadata": {},
   "outputs": [],
   "source": [
    "reader = Reader(rating_scale=(1, 5))\n",
    "surprise_data = Dataset.load_from_df(surprise_df, reader)\n",
    "\n",
    "trainset, testset = train_test_split(surprise_data, test_size=0.2, random_state=23)"
   ]
  },
  {
   "cell_type": "code",
   "execution_count": 22,
   "metadata": {},
   "outputs": [
    {
     "data": {
      "text/plain": [
       "<surprise.dataset.DatasetAutoFolds at 0x7fed615e58b0>"
      ]
     },
     "execution_count": 22,
     "metadata": {},
     "output_type": "execute_result"
    }
   ],
   "source": [
    "surprise_data"
   ]
  },
  {
   "cell_type": "code",
   "execution_count": 23,
   "metadata": {
    "scrolled": true
   },
   "outputs": [
    {
     "name": "stdout",
     "output_type": "stream",
     "text": [
      "Number of users:  22359 \n",
      "\n",
      "Number of items:  12101 \n",
      "\n"
     ]
    }
   ],
   "source": [
    "# How many users and items are in the trainset\n",
    "print('Number of users: ', trainset.n_users, '\\n')\n",
    "print('Number of items: ', trainset.n_items, '\\n')"
   ]
  },
  {
   "cell_type": "code",
   "execution_count": 24,
   "metadata": {},
   "outputs": [],
   "source": [
    "#10,000 more users than items"
   ]
  },
  {
   "cell_type": "code",
   "execution_count": 25,
   "metadata": {},
   "outputs": [
    {
     "name": "stdout",
     "output_type": "stream",
     "text": [
      "Type trainset : <class 'surprise.trainset.Trainset'> \n",
      "\n",
      "Type testset : <class 'list'>\n"
     ]
    }
   ],
   "source": [
    "print('Type trainset :',type(trainset),'\\n')\n",
    "print('Type testset :',type(testset))"
   ]
  },
  {
   "cell_type": "code",
   "execution_count": 26,
   "metadata": {},
   "outputs": [
    {
     "name": "stdout",
     "output_type": "stream",
     "text": [
      "39701\n",
      "('A32POM4ALTYIZV', 'B005Z4QT7E', 2.0)\n"
     ]
    }
   ],
   "source": [
    "print(len(testset))\n",
    "print(testset[0])"
   ]
  },
  {
   "cell_type": "code",
   "execution_count": 27,
   "metadata": {},
   "outputs": [
    {
     "name": "stdout",
     "output_type": "stream",
     "text": [
      "198502\n"
     ]
    }
   ],
   "source": [
    "print(len(df))"
   ]
  },
  {
   "cell_type": "code",
   "execution_count": 28,
   "metadata": {},
   "outputs": [
    {
     "data": {
      "text/plain": [
       "39700.4"
      ]
     },
     "execution_count": 28,
     "metadata": {},
     "output_type": "execute_result"
    }
   ],
   "source": [
    "198502 * .2"
   ]
  },
  {
   "cell_type": "code",
   "execution_count": 29,
   "metadata": {},
   "outputs": [],
   "source": [
    "#sanity check that test set is 20% of total data"
   ]
  },
  {
   "cell_type": "code",
   "execution_count": 30,
   "metadata": {},
   "outputs": [],
   "source": [
    "#starting with item-item similarity"
   ]
  },
  {
   "cell_type": "code",
   "execution_count": 31,
   "metadata": {},
   "outputs": [],
   "source": [
    "sim_cos = {'name':'cosine', 'user_based':False}"
   ]
  },
  {
   "cell_type": "code",
   "execution_count": 32,
   "metadata": {},
   "outputs": [],
   "source": [
    "from surprise.prediction_algorithms import knns"
   ]
  },
  {
   "cell_type": "code",
   "execution_count": 33,
   "metadata": {},
   "outputs": [
    {
     "name": "stdout",
     "output_type": "stream",
     "text": [
      "Computing the cosine similarity matrix...\n",
      "Done computing similarity matrix.\n"
     ]
    },
    {
     "data": {
      "text/plain": [
       "<surprise.prediction_algorithms.knns.KNNBasic at 0x7fed43b1f1c0>"
      ]
     },
     "execution_count": 33,
     "metadata": {},
     "output_type": "execute_result"
    }
   ],
   "source": [
    "basic = knns.KNNBasic(sim_options=sim_cos)\n",
    "basic.fit(trainset)"
   ]
  },
  {
   "cell_type": "code",
   "execution_count": 34,
   "metadata": {},
   "outputs": [],
   "source": [
    "# looking at the similarity metrics of each of the items to one another by using the sim attribute of our fitted model"
   ]
  },
  {
   "cell_type": "code",
   "execution_count": 35,
   "metadata": {
    "scrolled": true
   },
   "outputs": [
    {
     "data": {
      "text/plain": [
       "array([[1., 0., 0., ..., 0., 0., 0.],\n",
       "       [0., 1., 0., ..., 0., 0., 0.],\n",
       "       [0., 0., 1., ..., 0., 0., 0.],\n",
       "       ...,\n",
       "       [0., 0., 0., ..., 1., 0., 0.],\n",
       "       [0., 0., 0., ..., 0., 1., 0.],\n",
       "       [0., 0., 0., ..., 0., 0., 1.]])"
      ]
     },
     "execution_count": 35,
     "metadata": {},
     "output_type": "execute_result"
    }
   ],
   "source": [
    "basic.sim"
   ]
  },
  {
   "cell_type": "code",
   "execution_count": 36,
   "metadata": {},
   "outputs": [],
   "source": [
    "predictions = basic.test(testset)"
   ]
  },
  {
   "cell_type": "code",
   "execution_count": 37,
   "metadata": {},
   "outputs": [
    {
     "name": "stdout",
     "output_type": "stream",
     "text": [
      "RMSE: 1.2129\n",
      "1.2128933192100995\n"
     ]
    }
   ],
   "source": [
    "print(accuracy.rmse(predictions))"
   ]
  },
  {
   "cell_type": "code",
   "execution_count": 38,
   "metadata": {},
   "outputs": [],
   "source": [
    "#RMSE of about 1.2, meaning that it was off by roughly 1.2 points for each guess it made for ratings"
   ]
  },
  {
   "cell_type": "code",
   "execution_count": 39,
   "metadata": {},
   "outputs": [],
   "source": [
    "sim_cos_user = {'name':'cosine', 'user_based':True}"
   ]
  },
  {
   "cell_type": "code",
   "execution_count": 40,
   "metadata": {},
   "outputs": [
    {
     "name": "stdout",
     "output_type": "stream",
     "text": [
      "Computing the cosine similarity matrix...\n",
      "Done computing similarity matrix.\n"
     ]
    },
    {
     "data": {
      "text/plain": [
       "<surprise.prediction_algorithms.knns.KNNBasic at 0x7fed10ab59d0>"
      ]
     },
     "execution_count": 40,
     "metadata": {},
     "output_type": "execute_result"
    }
   ],
   "source": [
    "basic_user = knns.KNNBasic(sim_options=sim_cos_user)\n",
    "basic_user.fit(trainset)"
   ]
  },
  {
   "cell_type": "code",
   "execution_count": 41,
   "metadata": {},
   "outputs": [
    {
     "data": {
      "text/plain": [
       "array([[1., 0., 0., ..., 0., 0., 0.],\n",
       "       [0., 1., 0., ..., 0., 0., 0.],\n",
       "       [0., 0., 1., ..., 0., 0., 0.],\n",
       "       ...,\n",
       "       [0., 0., 0., ..., 1., 0., 0.],\n",
       "       [0., 0., 0., ..., 0., 1., 0.],\n",
       "       [0., 0., 0., ..., 0., 0., 1.]])"
      ]
     },
     "execution_count": 41,
     "metadata": {},
     "output_type": "execute_result"
    }
   ],
   "source": [
    "basic_user.sim"
   ]
  },
  {
   "cell_type": "code",
   "execution_count": 42,
   "metadata": {},
   "outputs": [],
   "source": [
    "predictions_user = basic_user.test(testset)"
   ]
  },
  {
   "cell_type": "code",
   "execution_count": 43,
   "metadata": {},
   "outputs": [
    {
     "name": "stdout",
     "output_type": "stream",
     "text": [
      "RMSE: 1.2401\n",
      "1.2400588428109054\n"
     ]
    }
   ],
   "source": [
    "print(accuracy.rmse(predictions_user))"
   ]
  },
  {
   "cell_type": "code",
   "execution_count": 44,
   "metadata": {},
   "outputs": [],
   "source": [
    "#KNN model with Pearson Correlation "
   ]
  },
  {
   "cell_type": "code",
   "execution_count": 45,
   "metadata": {},
   "outputs": [
    {
     "name": "stdout",
     "output_type": "stream",
     "text": [
      "Computing the pearson similarity matrix...\n",
      "Done computing similarity matrix.\n",
      "RMSE: 1.1854\n",
      "1.1854039491870065\n"
     ]
    }
   ],
   "source": [
    "sim_pearson = {'name':'pearson', 'user_based':False}\n",
    "basic_pearson = knns.KNNBasic(sim_options=sim_pearson)\n",
    "basic_pearson.fit(trainset)\n",
    "predictions = basic_pearson.test(testset)\n",
    "print(accuracy.rmse(predictions))"
   ]
  },
  {
   "cell_type": "code",
   "execution_count": 46,
   "metadata": {},
   "outputs": [
    {
     "name": "stdout",
     "output_type": "stream",
     "text": [
      "Computing the pearson similarity matrix...\n",
      "Done computing similarity matrix.\n",
      "RMSE: 1.1795\n",
      "1.1795381227887218\n"
     ]
    }
   ],
   "source": [
    "sim_pearson_user = {'name':'pearson', 'user_based':True}\n",
    "basic_pearson_user = knns.KNNBasic(sim_options=sim_pearson_user)\n",
    "basic_pearson_user.fit(trainset)\n",
    "predictions_user = basic_pearson_user.test(testset)\n",
    "print(accuracy.rmse(predictions_user))"
   ]
  },
  {
   "cell_type": "code",
   "execution_count": 47,
   "metadata": {},
   "outputs": [],
   "source": [
    "#KNN model with Means"
   ]
  },
  {
   "cell_type": "code",
   "execution_count": 48,
   "metadata": {},
   "outputs": [],
   "source": [
    "#same thing as the basic KNN model, except it takes into account the mean rating of each user or item depending on \n",
    "#whether you are performing user-user or item-item similarities, respectively."
   ]
  },
  {
   "cell_type": "code",
   "execution_count": 49,
   "metadata": {},
   "outputs": [
    {
     "name": "stdout",
     "output_type": "stream",
     "text": [
      "Computing the pearson similarity matrix...\n",
      "Done computing similarity matrix.\n",
      "RMSE: 1.1791\n",
      "1.1790736593254243\n"
     ]
    }
   ],
   "source": [
    "sim_pearson = {'name':'pearson', 'user_based':False}\n",
    "knn_means = knns.KNNWithMeans(sim_options=sim_pearson)\n",
    "knn_means.fit(trainset)\n",
    "predictions = knn_means.test(testset)\n",
    "print(accuracy.rmse(predictions))"
   ]
  },
  {
   "cell_type": "code",
   "execution_count": 50,
   "metadata": {},
   "outputs": [
    {
     "name": "stdout",
     "output_type": "stream",
     "text": [
      "Computing the pearson similarity matrix...\n",
      "Done computing similarity matrix.\n",
      "RMSE: 1.1622\n",
      "1.162184545973618\n"
     ]
    }
   ],
   "source": [
    "sim_pearson_user = {'name':'pearson', 'user_based':True}\n",
    "knn_means_user = knns.KNNWithMeans(sim_options=sim_pearson_user)\n",
    "knn_means_user.fit(trainset)\n",
    "predictions_user = knn_means_user.test(testset)\n",
    "print(accuracy.rmse(predictions_user))"
   ]
  },
  {
   "cell_type": "code",
   "execution_count": 51,
   "metadata": {},
   "outputs": [],
   "source": [
    "#This is our best model so far"
   ]
  },
  {
   "cell_type": "code",
   "execution_count": 52,
   "metadata": {},
   "outputs": [],
   "source": [
    "#Running an SVD model with defaults"
   ]
  },
  {
   "cell_type": "code",
   "execution_count": 53,
   "metadata": {},
   "outputs": [
    {
     "name": "stdout",
     "output_type": "stream",
     "text": [
      "RMSE: 1.0889\n",
      "1.0889451149217502\n"
     ]
    }
   ],
   "source": [
    "svd = SVD(random_state=42)\n",
    "svd.fit(trainset)\n",
    "predictions = svd.test(testset)\n",
    "print(accuracy.rmse(predictions))"
   ]
  },
  {
   "cell_type": "code",
   "execution_count": 54,
   "metadata": {},
   "outputs": [],
   "source": [
    "#Lowest RMSE so far!"
   ]
  },
  {
   "cell_type": "code",
   "execution_count": 55,
   "metadata": {},
   "outputs": [
    {
     "data": {
      "text/plain": [
       "Prediction(uid='A1YJEY40YUW4SE', iid='B00LLPT4HI', r_ui=None, est=4.41104541567184, details={'was_impossible': False})"
      ]
     },
     "execution_count": 55,
     "metadata": {},
     "output_type": "execute_result"
    }
   ],
   "source": [
    "svd.predict('A1YJEY40YUW4SE', 'B00LLPT4HI')"
   ]
  },
  {
   "cell_type": "code",
   "execution_count": 56,
   "metadata": {},
   "outputs": [
    {
     "data": {
      "text/plain": [
       "Prediction(uid='A2BLFCOPSMBOZ9', iid='7806397051', r_ui=None, est=3.774499861592997, details={'was_impossible': False})"
      ]
     },
     "execution_count": 56,
     "metadata": {},
     "output_type": "execute_result"
    }
   ],
   "source": [
    "svd.predict('A2BLFCOPSMBOZ9', '7806397051')"
   ]
  },
  {
   "cell_type": "code",
   "execution_count": 57,
   "metadata": {},
   "outputs": [],
   "source": [
    "#Checking to see estimated rating for 2 user/product combinations"
   ]
  },
  {
   "cell_type": "code",
   "execution_count": 58,
   "metadata": {},
   "outputs": [
    {
     "data": {
      "text/plain": [
       "<surprise.trainset.Trainset at 0x7fed308a2bb0>"
      ]
     },
     "execution_count": 58,
     "metadata": {},
     "output_type": "execute_result"
    }
   ],
   "source": [
    "trainset"
   ]
  },
  {
   "cell_type": "code",
   "execution_count": 59,
   "metadata": {},
   "outputs": [],
   "source": [
    "cv_svd_baseline = cross_validate(svd, surprise_data)"
   ]
  },
  {
   "cell_type": "code",
   "execution_count": 60,
   "metadata": {},
   "outputs": [
    {
     "data": {
      "text/plain": [
       "{'test_rmse': array([1.08980963, 1.08591658, 1.09065492, 1.08666649, 1.09817742]),\n",
       " 'test_mae': array([0.83597309, 0.83313975, 0.83726676, 0.83471144, 0.83813063]),\n",
       " 'fit_time': (8.994711875915527,\n",
       "  9.048747062683105,\n",
       "  9.145930051803589,\n",
       "  9.050917863845825,\n",
       "  9.20858097076416),\n",
       " 'test_time': (0.2082078456878662,\n",
       "  0.2016451358795166,\n",
       "  0.20255112648010254,\n",
       "  0.2091081142425537,\n",
       "  0.4840390682220459)}"
      ]
     },
     "execution_count": 60,
     "metadata": {},
     "output_type": "execute_result"
    }
   ],
   "source": [
    "cv_svd_baseline"
   ]
  },
  {
   "cell_type": "code",
   "execution_count": 61,
   "metadata": {},
   "outputs": [
    {
     "data": {
      "text/html": [
       "<div>\n",
       "<style scoped>\n",
       "    .dataframe tbody tr th:only-of-type {\n",
       "        vertical-align: middle;\n",
       "    }\n",
       "\n",
       "    .dataframe tbody tr th {\n",
       "        vertical-align: top;\n",
       "    }\n",
       "\n",
       "    .dataframe thead th {\n",
       "        text-align: right;\n",
       "    }\n",
       "</style>\n",
       "<table border=\"1\" class=\"dataframe\">\n",
       "  <thead>\n",
       "    <tr style=\"text-align: right;\">\n",
       "      <th></th>\n",
       "      <th>reviewerID</th>\n",
       "      <th>asin</th>\n",
       "      <th>reviewerName</th>\n",
       "      <th>helpful</th>\n",
       "      <th>reviewText</th>\n",
       "      <th>overall</th>\n",
       "      <th>summary</th>\n",
       "      <th>unixReviewTime</th>\n",
       "      <th>reviewTime</th>\n",
       "    </tr>\n",
       "  </thead>\n",
       "  <tbody>\n",
       "    <tr>\n",
       "      <th>0</th>\n",
       "      <td>A1YJEY40YUW4SE</td>\n",
       "      <td>7806397051</td>\n",
       "      <td>Andrea</td>\n",
       "      <td>[3, 4]</td>\n",
       "      <td>Very oily and creamy. Not at all what I expect...</td>\n",
       "      <td>1</td>\n",
       "      <td>Don't waste your money</td>\n",
       "      <td>1391040000</td>\n",
       "      <td>01 30, 2014</td>\n",
       "    </tr>\n",
       "    <tr>\n",
       "      <th>1</th>\n",
       "      <td>A60XNB876KYML</td>\n",
       "      <td>7806397051</td>\n",
       "      <td>Jessica H.</td>\n",
       "      <td>[1, 1]</td>\n",
       "      <td>This palette was a decent price and I was look...</td>\n",
       "      <td>3</td>\n",
       "      <td>OK Palette!</td>\n",
       "      <td>1397779200</td>\n",
       "      <td>04 18, 2014</td>\n",
       "    </tr>\n",
       "    <tr>\n",
       "      <th>2</th>\n",
       "      <td>A3G6XNM240RMWA</td>\n",
       "      <td>7806397051</td>\n",
       "      <td>Karen</td>\n",
       "      <td>[0, 1]</td>\n",
       "      <td>The texture of this concealer pallet is fantas...</td>\n",
       "      <td>4</td>\n",
       "      <td>great quality</td>\n",
       "      <td>1378425600</td>\n",
       "      <td>09 6, 2013</td>\n",
       "    </tr>\n",
       "    <tr>\n",
       "      <th>3</th>\n",
       "      <td>A1PQFP6SAJ6D80</td>\n",
       "      <td>7806397051</td>\n",
       "      <td>Norah</td>\n",
       "      <td>[2, 2]</td>\n",
       "      <td>I really can't tell what exactly this thing is...</td>\n",
       "      <td>2</td>\n",
       "      <td>Do not work on my face</td>\n",
       "      <td>1386460800</td>\n",
       "      <td>12 8, 2013</td>\n",
       "    </tr>\n",
       "    <tr>\n",
       "      <th>4</th>\n",
       "      <td>A38FVHZTNQ271F</td>\n",
       "      <td>7806397051</td>\n",
       "      <td>Nova Amor</td>\n",
       "      <td>[0, 0]</td>\n",
       "      <td>It was a little smaller than I expected, but t...</td>\n",
       "      <td>3</td>\n",
       "      <td>It's okay.</td>\n",
       "      <td>1382140800</td>\n",
       "      <td>10 19, 2013</td>\n",
       "    </tr>\n",
       "    <tr>\n",
       "      <th>...</th>\n",
       "      <td>...</td>\n",
       "      <td>...</td>\n",
       "      <td>...</td>\n",
       "      <td>...</td>\n",
       "      <td>...</td>\n",
       "      <td>...</td>\n",
       "      <td>...</td>\n",
       "      <td>...</td>\n",
       "      <td>...</td>\n",
       "    </tr>\n",
       "    <tr>\n",
       "      <th>198497</th>\n",
       "      <td>A2BLFCOPSMBOZ9</td>\n",
       "      <td>B00LLPT4HI</td>\n",
       "      <td>Dave Edmiston</td>\n",
       "      <td>[0, 0]</td>\n",
       "      <td>Just a little dab of this shea butter should b...</td>\n",
       "      <td>5</td>\n",
       "      <td>A little dab...</td>\n",
       "      <td>1405468800</td>\n",
       "      <td>07 16, 2014</td>\n",
       "    </tr>\n",
       "    <tr>\n",
       "      <th>198498</th>\n",
       "      <td>A1UQBFCERIP7VJ</td>\n",
       "      <td>B00LLPT4HI</td>\n",
       "      <td>Margaret Picky</td>\n",
       "      <td>[0, 0]</td>\n",
       "      <td>This shea butter is completely raw and unrefin...</td>\n",
       "      <td>5</td>\n",
       "      <td>Pure organic raw shea butter</td>\n",
       "      <td>1405296000</td>\n",
       "      <td>07 14, 2014</td>\n",
       "    </tr>\n",
       "    <tr>\n",
       "      <th>198499</th>\n",
       "      <td>A35Q0RBM3YNQNF</td>\n",
       "      <td>B00LLPT4HI</td>\n",
       "      <td>M. Hill</td>\n",
       "      <td>[0, 0]</td>\n",
       "      <td>The skin is the body's largest organ and it ab...</td>\n",
       "      <td>5</td>\n",
       "      <td>One Pound Organic Grade A Unrefined Shea Butter</td>\n",
       "      <td>1405468800</td>\n",
       "      <td>07 16, 2014</td>\n",
       "    </tr>\n",
       "    <tr>\n",
       "      <th>198500</th>\n",
       "      <td>A3LGT6UZL99IW1</td>\n",
       "      <td>B00LLPT4HI</td>\n",
       "      <td>Richard C. Drew \"Anaal Nathra/Uthe vas Bethod...</td>\n",
       "      <td>[0, 0]</td>\n",
       "      <td>I have very dry elbows and knees.  I have a to...</td>\n",
       "      <td>5</td>\n",
       "      <td>This stuff is amazing!</td>\n",
       "      <td>1405382400</td>\n",
       "      <td>07 15, 2014</td>\n",
       "    </tr>\n",
       "    <tr>\n",
       "      <th>198501</th>\n",
       "      <td>A3UJRNI8UR4871</td>\n",
       "      <td>B00LLPT4HI</td>\n",
       "      <td>Wulfstan \"wulfstan\"</td>\n",
       "      <td>[0, 1]</td>\n",
       "      <td>This is 100% pure Shea Butter. Do not mistake ...</td>\n",
       "      <td>5</td>\n",
       "      <td>The \"Real Stuff\"!</td>\n",
       "      <td>1405987200</td>\n",
       "      <td>07 22, 2014</td>\n",
       "    </tr>\n",
       "  </tbody>\n",
       "</table>\n",
       "<p>198502 rows × 9 columns</p>\n",
       "</div>"
      ],
      "text/plain": [
       "            reviewerID        asin  \\\n",
       "0       A1YJEY40YUW4SE  7806397051   \n",
       "1        A60XNB876KYML  7806397051   \n",
       "2       A3G6XNM240RMWA  7806397051   \n",
       "3       A1PQFP6SAJ6D80  7806397051   \n",
       "4       A38FVHZTNQ271F  7806397051   \n",
       "...                ...         ...   \n",
       "198497  A2BLFCOPSMBOZ9  B00LLPT4HI   \n",
       "198498  A1UQBFCERIP7VJ  B00LLPT4HI   \n",
       "198499  A35Q0RBM3YNQNF  B00LLPT4HI   \n",
       "198500  A3LGT6UZL99IW1  B00LLPT4HI   \n",
       "198501  A3UJRNI8UR4871  B00LLPT4HI   \n",
       "\n",
       "                                            reviewerName helpful  \\\n",
       "0                                                 Andrea  [3, 4]   \n",
       "1                                             Jessica H.  [1, 1]   \n",
       "2                                                  Karen  [0, 1]   \n",
       "3                                                  Norah  [2, 2]   \n",
       "4                                              Nova Amor  [0, 0]   \n",
       "...                                                  ...     ...   \n",
       "198497                                     Dave Edmiston  [0, 0]   \n",
       "198498                                    Margaret Picky  [0, 0]   \n",
       "198499                                           M. Hill  [0, 0]   \n",
       "198500  Richard C. Drew \"Anaal Nathra/Uthe vas Bethod...  [0, 0]   \n",
       "198501                               Wulfstan \"wulfstan\"  [0, 1]   \n",
       "\n",
       "                                               reviewText  overall  \\\n",
       "0       Very oily and creamy. Not at all what I expect...        1   \n",
       "1       This palette was a decent price and I was look...        3   \n",
       "2       The texture of this concealer pallet is fantas...        4   \n",
       "3       I really can't tell what exactly this thing is...        2   \n",
       "4       It was a little smaller than I expected, but t...        3   \n",
       "...                                                   ...      ...   \n",
       "198497  Just a little dab of this shea butter should b...        5   \n",
       "198498  This shea butter is completely raw and unrefin...        5   \n",
       "198499  The skin is the body's largest organ and it ab...        5   \n",
       "198500  I have very dry elbows and knees.  I have a to...        5   \n",
       "198501  This is 100% pure Shea Butter. Do not mistake ...        5   \n",
       "\n",
       "                                                summary  unixReviewTime  \\\n",
       "0                                Don't waste your money      1391040000   \n",
       "1                                           OK Palette!      1397779200   \n",
       "2                                         great quality      1378425600   \n",
       "3                                Do not work on my face      1386460800   \n",
       "4                                            It's okay.      1382140800   \n",
       "...                                                 ...             ...   \n",
       "198497                                  A little dab...      1405468800   \n",
       "198498                     Pure organic raw shea butter      1405296000   \n",
       "198499  One Pound Organic Grade A Unrefined Shea Butter      1405468800   \n",
       "198500                           This stuff is amazing!      1405382400   \n",
       "198501                                The \"Real Stuff\"!      1405987200   \n",
       "\n",
       "         reviewTime  \n",
       "0       01 30, 2014  \n",
       "1       04 18, 2014  \n",
       "2        09 6, 2013  \n",
       "3        12 8, 2013  \n",
       "4       10 19, 2013  \n",
       "...             ...  \n",
       "198497  07 16, 2014  \n",
       "198498  07 14, 2014  \n",
       "198499  07 16, 2014  \n",
       "198500  07 15, 2014  \n",
       "198501  07 22, 2014  \n",
       "\n",
       "[198502 rows x 9 columns]"
      ]
     },
     "execution_count": 61,
     "metadata": {},
     "output_type": "execute_result"
    }
   ],
   "source": [
    "df"
   ]
  },
  {
   "cell_type": "code",
   "execution_count": 62,
   "metadata": {},
   "outputs": [],
   "source": [
    "#Baseline Models; true baseline should be NormalPredictor(); user_based=True"
   ]
  },
  {
   "cell_type": "code",
   "execution_count": 63,
   "metadata": {},
   "outputs": [
    {
     "data": {
      "text/plain": [
       "<surprise.prediction_algorithms.random_pred.NormalPredictor at 0x7fecd0865370>"
      ]
     },
     "execution_count": 63,
     "metadata": {},
     "output_type": "execute_result"
    }
   ],
   "source": [
    "baseline = NormalPredictor()\n",
    "baseline.fit(trainset)"
   ]
  },
  {
   "cell_type": "code",
   "execution_count": 64,
   "metadata": {},
   "outputs": [],
   "source": [
    "predictions = baseline.test(testset)"
   ]
  },
  {
   "cell_type": "code",
   "execution_count": 65,
   "metadata": {},
   "outputs": [
    {
     "name": "stdout",
     "output_type": "stream",
     "text": [
      "RMSE: 1.4998\n"
     ]
    }
   ],
   "source": [
    "baseline = accuracy.rmse(predictions)"
   ]
  },
  {
   "cell_type": "code",
   "execution_count": 66,
   "metadata": {},
   "outputs": [
    {
     "name": "stdout",
     "output_type": "stream",
     "text": [
      "Estimating biases using als...\n"
     ]
    },
    {
     "data": {
      "text/plain": [
       "<surprise.prediction_algorithms.baseline_only.BaselineOnly at 0x7fed10a93280>"
      ]
     },
     "execution_count": 66,
     "metadata": {},
     "output_type": "execute_result"
    }
   ],
   "source": [
    "baseline2 = BaselineOnly()\n",
    "baseline2.fit(trainset)"
   ]
  },
  {
   "cell_type": "code",
   "execution_count": 67,
   "metadata": {},
   "outputs": [],
   "source": [
    "predictions2 = baseline2.test(testset)"
   ]
  },
  {
   "cell_type": "code",
   "execution_count": 68,
   "metadata": {},
   "outputs": [
    {
     "name": "stdout",
     "output_type": "stream",
     "text": [
      "RMSE: 1.0890\n"
     ]
    }
   ],
   "source": [
    "baseline2 = accuracy.rmse(predictions2)"
   ]
  },
  {
   "cell_type": "code",
   "execution_count": null,
   "metadata": {},
   "outputs": [],
   "source": []
  }
 ],
 "metadata": {
  "kernelspec": {
   "display_name": "Python (learn-env)",
   "language": "python",
   "name": "learn-env"
  },
  "language_info": {
   "codemirror_mode": {
    "name": "ipython",
    "version": 3
   },
   "file_extension": ".py",
   "mimetype": "text/x-python",
   "name": "python",
   "nbconvert_exporter": "python",
   "pygments_lexer": "ipython3",
   "version": "3.8.5"
  }
 },
 "nbformat": 4,
 "nbformat_minor": 4
}
