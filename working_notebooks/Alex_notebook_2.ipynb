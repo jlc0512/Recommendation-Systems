{
 "cells": [
  {
   "cell_type": "code",
   "execution_count": 1,
   "metadata": {},
   "outputs": [],
   "source": [
    "import pandas as pd\n",
    "import pickle\n",
    "import matplotlib.pyplot as plt\n",
    "\n",
    "from surprise import Dataset, Reader, accuracy\n",
    "from surprise.model_selection import cross_validate, train_test_split, GridSearchCV\n",
    "from surprise.prediction_algorithms import SVD, SVDpp, NMF, BaselineOnly, NormalPredictor\n",
    "\n",
    "%matplotlib inline"
   ]
  },
  {
   "cell_type": "code",
   "execution_count": 2,
   "metadata": {},
   "outputs": [
    {
     "name": "stdout",
     "output_type": "stream",
     "text": [
      "reviews_Beauty_5.json.gz\r\n"
     ]
    }
   ],
   "source": [
    "!ls Data"
   ]
  },
  {
   "cell_type": "code",
   "execution_count": 3,
   "metadata": {},
   "outputs": [],
   "source": [
    "df = pd.read_json(\"Data/reviews_Beauty_5.json.gz\",lines=True)"
   ]
  },
  {
   "cell_type": "code",
   "execution_count": 133,
   "metadata": {},
   "outputs": [
    {
     "data": {
      "text/html": [
       "<div>\n",
       "<style scoped>\n",
       "    .dataframe tbody tr th:only-of-type {\n",
       "        vertical-align: middle;\n",
       "    }\n",
       "\n",
       "    .dataframe tbody tr th {\n",
       "        vertical-align: top;\n",
       "    }\n",
       "\n",
       "    .dataframe thead th {\n",
       "        text-align: right;\n",
       "    }\n",
       "</style>\n",
       "<table border=\"1\" class=\"dataframe\">\n",
       "  <thead>\n",
       "    <tr style=\"text-align: right;\">\n",
       "      <th></th>\n",
       "      <th>reviewerID</th>\n",
       "      <th>asin</th>\n",
       "      <th>reviewerName</th>\n",
       "      <th>helpful</th>\n",
       "      <th>reviewText</th>\n",
       "      <th>overall</th>\n",
       "      <th>summary</th>\n",
       "      <th>unixReviewTime</th>\n",
       "      <th>reviewTime</th>\n",
       "    </tr>\n",
       "  </thead>\n",
       "  <tbody>\n",
       "  </tbody>\n",
       "</table>\n",
       "</div>"
      ],
      "text/plain": [
       "Empty DataFrame\n",
       "Columns: [reviewerID, asin, reviewerName, helpful, reviewText, overall, summary, unixReviewTime, reviewTime]\n",
       "Index: []"
      ]
     },
     "execution_count": 133,
     "metadata": {},
     "output_type": "execute_result"
    }
   ],
   "source": [
    "df[df[\"summary\"]==\" \"]"
   ]
  },
  {
   "cell_type": "code",
   "execution_count": 5,
   "metadata": {},
   "outputs": [
    {
     "data": {
      "text/plain": [
       "reviewerID           0\n",
       "asin                 0\n",
       "reviewerName      1386\n",
       "helpful              0\n",
       "reviewText           0\n",
       "overall              0\n",
       "summary              0\n",
       "unixReviewTime       0\n",
       "reviewTime           0\n",
       "dtype: int64"
      ]
     },
     "execution_count": 5,
     "metadata": {},
     "output_type": "execute_result"
    }
   ],
   "source": [
    "df.isna().sum()"
   ]
  },
  {
   "cell_type": "code",
   "execution_count": 6,
   "metadata": {},
   "outputs": [],
   "source": [
    "#1386 reviewerNames left blank; we will not need reviewerName since utilizing reviewerID but \n",
    "#curious why"
   ]
  },
  {
   "cell_type": "code",
   "execution_count": 7,
   "metadata": {},
   "outputs": [
    {
     "data": {
      "text/html": [
       "<div>\n",
       "<style scoped>\n",
       "    .dataframe tbody tr th:only-of-type {\n",
       "        vertical-align: middle;\n",
       "    }\n",
       "\n",
       "    .dataframe tbody tr th {\n",
       "        vertical-align: top;\n",
       "    }\n",
       "\n",
       "    .dataframe thead th {\n",
       "        text-align: right;\n",
       "    }\n",
       "</style>\n",
       "<table border=\"1\" class=\"dataframe\">\n",
       "  <thead>\n",
       "    <tr style=\"text-align: right;\">\n",
       "      <th></th>\n",
       "      <th>reviewerID</th>\n",
       "      <th>asin</th>\n",
       "      <th>reviewerName</th>\n",
       "      <th>helpful</th>\n",
       "      <th>reviewText</th>\n",
       "      <th>overall</th>\n",
       "      <th>summary</th>\n",
       "      <th>unixReviewTime</th>\n",
       "      <th>reviewTime</th>\n",
       "    </tr>\n",
       "  </thead>\n",
       "  <tbody>\n",
       "    <tr>\n",
       "      <th>8</th>\n",
       "      <td>A3LMILRM9OC3SA</td>\n",
       "      <td>9759091062</td>\n",
       "      <td>NaN</td>\n",
       "      <td>[0, 0]</td>\n",
       "      <td>Did nothing for me. Stings when I put it on. I...</td>\n",
       "      <td>2</td>\n",
       "      <td>no Lightening, no Brightening,......NOTHING</td>\n",
       "      <td>1405209600</td>\n",
       "      <td>07 13, 2014</td>\n",
       "    </tr>\n",
       "    <tr>\n",
       "      <th>1790</th>\n",
       "      <td>AK1H26O8DLMNN</td>\n",
       "      <td>B0000535UM</td>\n",
       "      <td>NaN</td>\n",
       "      <td>[0, 0]</td>\n",
       "      <td>The first thickening shampoo that works on my ...</td>\n",
       "      <td>5</td>\n",
       "      <td>Actually works</td>\n",
       "      <td>1405123200</td>\n",
       "      <td>07 12, 2014</td>\n",
       "    </tr>\n",
       "    <tr>\n",
       "      <th>2242</th>\n",
       "      <td>APTLHR9PHGPXN</td>\n",
       "      <td>B00005NAOD</td>\n",
       "      <td>NaN</td>\n",
       "      <td>[0, 0]</td>\n",
       "      <td>Kind of drying, not moisturizing. Kind of disa...</td>\n",
       "      <td>2</td>\n",
       "      <td>Inexpensive and feels that wY</td>\n",
       "      <td>1405209600</td>\n",
       "      <td>07 13, 2014</td>\n",
       "    </tr>\n",
       "    <tr>\n",
       "      <th>2304</th>\n",
       "      <td>AQWX644AFUFFK</td>\n",
       "      <td>B00005NFBD</td>\n",
       "      <td>NaN</td>\n",
       "      <td>[0, 0]</td>\n",
       "      <td>This is just ok. For one, I found this in a st...</td>\n",
       "      <td>3</td>\n",
       "      <td>Ok, nothing amazing</td>\n",
       "      <td>1405468800</td>\n",
       "      <td>07 16, 2014</td>\n",
       "    </tr>\n",
       "    <tr>\n",
       "      <th>3651</th>\n",
       "      <td>A43K5ZRQ87TO6</td>\n",
       "      <td>B00008PC1O</td>\n",
       "      <td>NaN</td>\n",
       "      <td>[0, 0]</td>\n",
       "      <td>Works well and easy to use!</td>\n",
       "      <td>5</td>\n",
       "      <td>Five Stars</td>\n",
       "      <td>1405296000</td>\n",
       "      <td>07 14, 2014</td>\n",
       "    </tr>\n",
       "    <tr>\n",
       "      <th>...</th>\n",
       "      <td>...</td>\n",
       "      <td>...</td>\n",
       "      <td>...</td>\n",
       "      <td>...</td>\n",
       "      <td>...</td>\n",
       "      <td>...</td>\n",
       "      <td>...</td>\n",
       "      <td>...</td>\n",
       "      <td>...</td>\n",
       "    </tr>\n",
       "    <tr>\n",
       "      <th>197192</th>\n",
       "      <td>A1Z3AV93ONK5VF</td>\n",
       "      <td>B00KAL5JAU</td>\n",
       "      <td>NaN</td>\n",
       "      <td>[0, 0]</td>\n",
       "      <td>We already had the Dead Sea Shampoo by Adovia ...</td>\n",
       "      <td>5</td>\n",
       "      <td>Non greasy, silky shiny hair</td>\n",
       "      <td>1401235200</td>\n",
       "      <td>05 28, 2014</td>\n",
       "    </tr>\n",
       "    <tr>\n",
       "      <th>197193</th>\n",
       "      <td>A184I8GT3BHZQV</td>\n",
       "      <td>B00KAL5JAU</td>\n",
       "      <td>NaN</td>\n",
       "      <td>[0, 1]</td>\n",
       "      <td>&amp;#60;a href=&amp;#34;http://www.tomoson.com/?code=...</td>\n",
       "      <td>5</td>\n",
       "      <td>Dead Sea Salt hair conditioner</td>\n",
       "      <td>1403568000</td>\n",
       "      <td>06 24, 2014</td>\n",
       "    </tr>\n",
       "    <tr>\n",
       "      <th>197194</th>\n",
       "      <td>A8C9EJORQD23</td>\n",
       "      <td>B00KAL5JAU</td>\n",
       "      <td>NaN</td>\n",
       "      <td>[0, 1]</td>\n",
       "      <td>I use this with the Adovia shampoo I mention a...</td>\n",
       "      <td>5</td>\n",
       "      <td>Adovia does natural right!</td>\n",
       "      <td>1402272000</td>\n",
       "      <td>06 9, 2014</td>\n",
       "    </tr>\n",
       "    <tr>\n",
       "      <th>198446</th>\n",
       "      <td>A2PIGZCDGM4NJ7</td>\n",
       "      <td>B00L5JHZJO</td>\n",
       "      <td>NaN</td>\n",
       "      <td>[10, 11]</td>\n",
       "      <td>This is a horrible product, most of the review...</td>\n",
       "      <td>1</td>\n",
       "      <td>Bad Product</td>\n",
       "      <td>1404864000</td>\n",
       "      <td>07 9, 2014</td>\n",
       "    </tr>\n",
       "    <tr>\n",
       "      <th>198447</th>\n",
       "      <td>A3M1ADU4JICQR2</td>\n",
       "      <td>B00L5JHZJO</td>\n",
       "      <td>NaN</td>\n",
       "      <td>[5, 6]</td>\n",
       "      <td>I bought this for my wife, as she loves using ...</td>\n",
       "      <td>1</td>\n",
       "      <td>Not satisfed</td>\n",
       "      <td>1404432000</td>\n",
       "      <td>07 4, 2014</td>\n",
       "    </tr>\n",
       "  </tbody>\n",
       "</table>\n",
       "<p>1386 rows × 9 columns</p>\n",
       "</div>"
      ],
      "text/plain": [
       "            reviewerID        asin reviewerName   helpful  \\\n",
       "8       A3LMILRM9OC3SA  9759091062          NaN    [0, 0]   \n",
       "1790     AK1H26O8DLMNN  B0000535UM          NaN    [0, 0]   \n",
       "2242     APTLHR9PHGPXN  B00005NAOD          NaN    [0, 0]   \n",
       "2304     AQWX644AFUFFK  B00005NFBD          NaN    [0, 0]   \n",
       "3651     A43K5ZRQ87TO6  B00008PC1O          NaN    [0, 0]   \n",
       "...                ...         ...          ...       ...   \n",
       "197192  A1Z3AV93ONK5VF  B00KAL5JAU          NaN    [0, 0]   \n",
       "197193  A184I8GT3BHZQV  B00KAL5JAU          NaN    [0, 1]   \n",
       "197194    A8C9EJORQD23  B00KAL5JAU          NaN    [0, 1]   \n",
       "198446  A2PIGZCDGM4NJ7  B00L5JHZJO          NaN  [10, 11]   \n",
       "198447  A3M1ADU4JICQR2  B00L5JHZJO          NaN    [5, 6]   \n",
       "\n",
       "                                               reviewText  overall  \\\n",
       "8       Did nothing for me. Stings when I put it on. I...        2   \n",
       "1790    The first thickening shampoo that works on my ...        5   \n",
       "2242    Kind of drying, not moisturizing. Kind of disa...        2   \n",
       "2304    This is just ok. For one, I found this in a st...        3   \n",
       "3651                          Works well and easy to use!        5   \n",
       "...                                                   ...      ...   \n",
       "197192  We already had the Dead Sea Shampoo by Adovia ...        5   \n",
       "197193  &#60;a href=&#34;http://www.tomoson.com/?code=...        5   \n",
       "197194  I use this with the Adovia shampoo I mention a...        5   \n",
       "198446  This is a horrible product, most of the review...        1   \n",
       "198447  I bought this for my wife, as she loves using ...        1   \n",
       "\n",
       "                                            summary  unixReviewTime  \\\n",
       "8       no Lightening, no Brightening,......NOTHING      1405209600   \n",
       "1790                                 Actually works      1405123200   \n",
       "2242                  Inexpensive and feels that wY      1405209600   \n",
       "2304                            Ok, nothing amazing      1405468800   \n",
       "3651                                     Five Stars      1405296000   \n",
       "...                                             ...             ...   \n",
       "197192                 Non greasy, silky shiny hair      1401235200   \n",
       "197193               Dead Sea Salt hair conditioner      1403568000   \n",
       "197194                   Adovia does natural right!      1402272000   \n",
       "198446                                  Bad Product      1404864000   \n",
       "198447                                 Not satisfed      1404432000   \n",
       "\n",
       "         reviewTime  \n",
       "8       07 13, 2014  \n",
       "1790    07 12, 2014  \n",
       "2242    07 13, 2014  \n",
       "2304    07 16, 2014  \n",
       "3651    07 14, 2014  \n",
       "...             ...  \n",
       "197192  05 28, 2014  \n",
       "197193  06 24, 2014  \n",
       "197194   06 9, 2014  \n",
       "198446   07 9, 2014  \n",
       "198447   07 4, 2014  \n",
       "\n",
       "[1386 rows x 9 columns]"
      ]
     },
     "execution_count": 7,
     "metadata": {},
     "output_type": "execute_result"
    }
   ],
   "source": [
    "df[df['reviewerName'].isnull()]"
   ]
  },
  {
   "cell_type": "code",
   "execution_count": 8,
   "metadata": {},
   "outputs": [],
   "source": [
    "#all necessary information is included even when reviewerName is NaN"
   ]
  },
  {
   "cell_type": "code",
   "execution_count": 9,
   "metadata": {},
   "outputs": [
    {
     "data": {
      "text/plain": [
       "A2V5R832QCSOMX    204\n",
       "ALNFHVS3SC4FV     192\n",
       "AKMEY1BSHSDG7     182\n",
       "A3KEZLJ59C1JVH    154\n",
       "ALQGOMOY1F5X9     150\n",
       "                 ... \n",
       "A2WQPYI2WI6U7X      5\n",
       "A23164157UKPXV      5\n",
       "A3PLXJACVMU6NZ      5\n",
       "A1AFKC16E1HZ1S      5\n",
       "AC5J3VHPGDSJW       5\n",
       "Name: reviewerID, Length: 22363, dtype: int64"
      ]
     },
     "execution_count": 9,
     "metadata": {},
     "output_type": "execute_result"
    }
   ],
   "source": [
    "df.reviewerID.value_counts()"
   ]
  },
  {
   "cell_type": "code",
   "execution_count": 10,
   "metadata": {},
   "outputs": [],
   "source": [
    "#YAY! all reviewerIDs have value of at least 5, total of 22,363 reviewers"
   ]
  },
  {
   "cell_type": "code",
   "execution_count": 11,
   "metadata": {},
   "outputs": [
    {
     "data": {
      "text/plain": [
       "B004OHQR1Q    431\n",
       "B0043OYFKU    403\n",
       "B0069FDR96    391\n",
       "B000ZMBSPE    389\n",
       "B00150LT40    329\n",
       "             ... \n",
       "B002WVG8MY      5\n",
       "B001DXQMS2      5\n",
       "B004SODRDG      5\n",
       "B000FVHS4U      5\n",
       "B0073FET84      5\n",
       "Name: asin, Length: 12101, dtype: int64"
      ]
     },
     "execution_count": 11,
     "metadata": {},
     "output_type": "execute_result"
    }
   ],
   "source": [
    "df.asin.value_counts()"
   ]
  },
  {
   "cell_type": "code",
   "execution_count": 12,
   "metadata": {},
   "outputs": [],
   "source": [
    "#YAY! all products have at least 5 reviews, total of 12,101 different products"
   ]
  },
  {
   "cell_type": "code",
   "execution_count": 13,
   "metadata": {},
   "outputs": [],
   "source": [
    "#can save data as a CSV file for easier use, but it does not look like we need to clean data\n",
    "#can drop reviewerNames"
   ]
  },
  {
   "cell_type": "code",
   "execution_count": 14,
   "metadata": {},
   "outputs": [],
   "source": [
    "lower_rating = df.overall.min()"
   ]
  },
  {
   "cell_type": "code",
   "execution_count": 15,
   "metadata": {},
   "outputs": [],
   "source": [
    "upper_rating = df.overall.max()"
   ]
  },
  {
   "cell_type": "code",
   "execution_count": 16,
   "metadata": {},
   "outputs": [
    {
     "name": "stdout",
     "output_type": "stream",
     "text": [
      "Review range: 1 to 5\n"
     ]
    }
   ],
   "source": [
    "print('Review range: {0} to {1}'.format(lower_rating, upper_rating))"
   ]
  },
  {
   "cell_type": "code",
   "execution_count": 17,
   "metadata": {},
   "outputs": [],
   "source": [
    "#Confirming our review range is 1 to 5, which is the default for surprise"
   ]
  },
  {
   "cell_type": "code",
   "execution_count": 18,
   "metadata": {},
   "outputs": [],
   "source": [
    "#Creating dataframe with appropriate columns to run through surprise"
   ]
  },
  {
   "cell_type": "code",
   "execution_count": 19,
   "metadata": {},
   "outputs": [],
   "source": [
    "surprise_df = df[['reviewerID', 'asin', 'overall']]"
   ]
  },
  {
   "cell_type": "code",
   "execution_count": 20,
   "metadata": {},
   "outputs": [
    {
     "data": {
      "text/html": [
       "<div>\n",
       "<style scoped>\n",
       "    .dataframe tbody tr th:only-of-type {\n",
       "        vertical-align: middle;\n",
       "    }\n",
       "\n",
       "    .dataframe tbody tr th {\n",
       "        vertical-align: top;\n",
       "    }\n",
       "\n",
       "    .dataframe thead th {\n",
       "        text-align: right;\n",
       "    }\n",
       "</style>\n",
       "<table border=\"1\" class=\"dataframe\">\n",
       "  <thead>\n",
       "    <tr style=\"text-align: right;\">\n",
       "      <th></th>\n",
       "      <th>reviewerID</th>\n",
       "      <th>asin</th>\n",
       "      <th>overall</th>\n",
       "    </tr>\n",
       "  </thead>\n",
       "  <tbody>\n",
       "    <tr>\n",
       "      <th>0</th>\n",
       "      <td>A1YJEY40YUW4SE</td>\n",
       "      <td>7806397051</td>\n",
       "      <td>1</td>\n",
       "    </tr>\n",
       "    <tr>\n",
       "      <th>1</th>\n",
       "      <td>A60XNB876KYML</td>\n",
       "      <td>7806397051</td>\n",
       "      <td>3</td>\n",
       "    </tr>\n",
       "    <tr>\n",
       "      <th>2</th>\n",
       "      <td>A3G6XNM240RMWA</td>\n",
       "      <td>7806397051</td>\n",
       "      <td>4</td>\n",
       "    </tr>\n",
       "    <tr>\n",
       "      <th>3</th>\n",
       "      <td>A1PQFP6SAJ6D80</td>\n",
       "      <td>7806397051</td>\n",
       "      <td>2</td>\n",
       "    </tr>\n",
       "    <tr>\n",
       "      <th>4</th>\n",
       "      <td>A38FVHZTNQ271F</td>\n",
       "      <td>7806397051</td>\n",
       "      <td>3</td>\n",
       "    </tr>\n",
       "    <tr>\n",
       "      <th>...</th>\n",
       "      <td>...</td>\n",
       "      <td>...</td>\n",
       "      <td>...</td>\n",
       "    </tr>\n",
       "    <tr>\n",
       "      <th>198497</th>\n",
       "      <td>A2BLFCOPSMBOZ9</td>\n",
       "      <td>B00LLPT4HI</td>\n",
       "      <td>5</td>\n",
       "    </tr>\n",
       "    <tr>\n",
       "      <th>198498</th>\n",
       "      <td>A1UQBFCERIP7VJ</td>\n",
       "      <td>B00LLPT4HI</td>\n",
       "      <td>5</td>\n",
       "    </tr>\n",
       "    <tr>\n",
       "      <th>198499</th>\n",
       "      <td>A35Q0RBM3YNQNF</td>\n",
       "      <td>B00LLPT4HI</td>\n",
       "      <td>5</td>\n",
       "    </tr>\n",
       "    <tr>\n",
       "      <th>198500</th>\n",
       "      <td>A3LGT6UZL99IW1</td>\n",
       "      <td>B00LLPT4HI</td>\n",
       "      <td>5</td>\n",
       "    </tr>\n",
       "    <tr>\n",
       "      <th>198501</th>\n",
       "      <td>A3UJRNI8UR4871</td>\n",
       "      <td>B00LLPT4HI</td>\n",
       "      <td>5</td>\n",
       "    </tr>\n",
       "  </tbody>\n",
       "</table>\n",
       "<p>198502 rows × 3 columns</p>\n",
       "</div>"
      ],
      "text/plain": [
       "            reviewerID        asin  overall\n",
       "0       A1YJEY40YUW4SE  7806397051        1\n",
       "1        A60XNB876KYML  7806397051        3\n",
       "2       A3G6XNM240RMWA  7806397051        4\n",
       "3       A1PQFP6SAJ6D80  7806397051        2\n",
       "4       A38FVHZTNQ271F  7806397051        3\n",
       "...                ...         ...      ...\n",
       "198497  A2BLFCOPSMBOZ9  B00LLPT4HI        5\n",
       "198498  A1UQBFCERIP7VJ  B00LLPT4HI        5\n",
       "198499  A35Q0RBM3YNQNF  B00LLPT4HI        5\n",
       "198500  A3LGT6UZL99IW1  B00LLPT4HI        5\n",
       "198501  A3UJRNI8UR4871  B00LLPT4HI        5\n",
       "\n",
       "[198502 rows x 3 columns]"
      ]
     },
     "execution_count": 20,
     "metadata": {},
     "output_type": "execute_result"
    }
   ],
   "source": [
    "surprise_df"
   ]
  },
  {
   "cell_type": "code",
   "execution_count": 21,
   "metadata": {},
   "outputs": [],
   "source": [
    "reader = Reader(rating_scale=(1, 5))\n",
    "surprise_data = Dataset.load_from_df(surprise_df, reader)\n",
    "\n",
    "trainset, testset = train_test_split(surprise_data, test_size=0.2, random_state=23)"
   ]
  },
  {
   "cell_type": "code",
   "execution_count": 22,
   "metadata": {},
   "outputs": [
    {
     "data": {
      "text/plain": [
       "<surprise.dataset.DatasetAutoFolds at 0x7fc13772e8e0>"
      ]
     },
     "execution_count": 22,
     "metadata": {},
     "output_type": "execute_result"
    }
   ],
   "source": [
    "surprise_data"
   ]
  },
  {
   "cell_type": "code",
   "execution_count": 23,
   "metadata": {
    "scrolled": true
   },
   "outputs": [
    {
     "name": "stdout",
     "output_type": "stream",
     "text": [
      "Number of users:  22359 \n",
      "\n",
      "Number of items:  12101 \n",
      "\n"
     ]
    }
   ],
   "source": [
    "# How many users and items are in the trainset\n",
    "print('Number of users: ', trainset.n_users, '\\n')\n",
    "print('Number of items: ', trainset.n_items, '\\n')"
   ]
  },
  {
   "cell_type": "code",
   "execution_count": 24,
   "metadata": {},
   "outputs": [],
   "source": [
    "#10,000 more users than items"
   ]
  },
  {
   "cell_type": "code",
   "execution_count": 25,
   "metadata": {},
   "outputs": [
    {
     "name": "stdout",
     "output_type": "stream",
     "text": [
      "Type trainset : <class 'surprise.trainset.Trainset'> \n",
      "\n",
      "Type testset : <class 'list'>\n"
     ]
    }
   ],
   "source": [
    "print('Type trainset :',type(trainset),'\\n')\n",
    "print('Type testset :',type(testset))"
   ]
  },
  {
   "cell_type": "code",
   "execution_count": 26,
   "metadata": {},
   "outputs": [
    {
     "name": "stdout",
     "output_type": "stream",
     "text": [
      "39701\n",
      "('A32POM4ALTYIZV', 'B005Z4QT7E', 2.0)\n"
     ]
    }
   ],
   "source": [
    "print(len(testset))\n",
    "print(testset[0])"
   ]
  },
  {
   "cell_type": "code",
   "execution_count": 27,
   "metadata": {},
   "outputs": [
    {
     "name": "stdout",
     "output_type": "stream",
     "text": [
      "198502\n"
     ]
    }
   ],
   "source": [
    "print(len(df))"
   ]
  },
  {
   "cell_type": "code",
   "execution_count": 28,
   "metadata": {},
   "outputs": [
    {
     "data": {
      "text/plain": [
       "39700.4"
      ]
     },
     "execution_count": 28,
     "metadata": {},
     "output_type": "execute_result"
    }
   ],
   "source": [
    "198502 * .2"
   ]
  },
  {
   "cell_type": "code",
   "execution_count": 29,
   "metadata": {},
   "outputs": [],
   "source": [
    "#sanity check that test set is 20% of total data"
   ]
  },
  {
   "cell_type": "code",
   "execution_count": 30,
   "metadata": {},
   "outputs": [],
   "source": [
    "#starting with item-item similarity"
   ]
  },
  {
   "cell_type": "code",
   "execution_count": 31,
   "metadata": {},
   "outputs": [],
   "source": [
    "sim_cos = {'name':'cosine', 'user_based':False}"
   ]
  },
  {
   "cell_type": "code",
   "execution_count": 35,
   "metadata": {},
   "outputs": [],
   "source": [
    "from surprise.prediction_algorithms import knns"
   ]
  },
  {
   "cell_type": "code",
   "execution_count": 36,
   "metadata": {},
   "outputs": [
    {
     "name": "stdout",
     "output_type": "stream",
     "text": [
      "Computing the cosine similarity matrix...\n",
      "Done computing similarity matrix.\n"
     ]
    },
    {
     "data": {
      "text/plain": [
       "<surprise.prediction_algorithms.knns.KNNBasic at 0x7fc46e565520>"
      ]
     },
     "execution_count": 36,
     "metadata": {},
     "output_type": "execute_result"
    }
   ],
   "source": [
    "basic = knns.KNNBasic(sim_options=sim_cos)\n",
    "basic.fit(trainset)"
   ]
  },
  {
   "cell_type": "code",
   "execution_count": 37,
   "metadata": {},
   "outputs": [],
   "source": [
    "# looking at the similarity metrics of each of the items to one another by using the sim attribute of our fitted model"
   ]
  },
  {
   "cell_type": "code",
   "execution_count": 38,
   "metadata": {
    "scrolled": true
   },
   "outputs": [
    {
     "data": {
      "text/plain": [
       "array([[1., 0., 0., ..., 0., 0., 0.],\n",
       "       [0., 1., 0., ..., 0., 0., 0.],\n",
       "       [0., 0., 1., ..., 0., 0., 0.],\n",
       "       ...,\n",
       "       [0., 0., 0., ..., 1., 0., 0.],\n",
       "       [0., 0., 0., ..., 0., 1., 0.],\n",
       "       [0., 0., 0., ..., 0., 0., 1.]])"
      ]
     },
     "execution_count": 38,
     "metadata": {},
     "output_type": "execute_result"
    }
   ],
   "source": [
    "basic.sim"
   ]
  },
  {
   "cell_type": "code",
   "execution_count": 39,
   "metadata": {},
   "outputs": [],
   "source": [
    "predictions = basic.test(testset)"
   ]
  },
  {
   "cell_type": "code",
   "execution_count": 40,
   "metadata": {},
   "outputs": [
    {
     "name": "stdout",
     "output_type": "stream",
     "text": [
      "RMSE: 1.2129\n",
      "1.2128933192100995\n"
     ]
    }
   ],
   "source": [
    "print(accuracy.rmse(predictions))"
   ]
  },
  {
   "cell_type": "code",
   "execution_count": 41,
   "metadata": {},
   "outputs": [],
   "source": [
    "#RMSE of about 1.2, meaning that it was off by roughly 1.2 points for each guess it made for ratings"
   ]
  },
  {
   "cell_type": "code",
   "execution_count": 42,
   "metadata": {},
   "outputs": [],
   "source": [
    "sim_cos_user = {'name':'cosine', 'user_based':True}"
   ]
  },
  {
   "cell_type": "code",
   "execution_count": 43,
   "metadata": {},
   "outputs": [
    {
     "name": "stdout",
     "output_type": "stream",
     "text": [
      "Computing the cosine similarity matrix...\n",
      "Done computing similarity matrix.\n"
     ]
    },
    {
     "data": {
      "text/plain": [
       "<surprise.prediction_algorithms.knns.KNNBasic at 0x7fc52e4e5c70>"
      ]
     },
     "execution_count": 43,
     "metadata": {},
     "output_type": "execute_result"
    }
   ],
   "source": [
    "basic_user = knns.KNNBasic(sim_options=sim_cos_user)\n",
    "basic_user.fit(trainset)"
   ]
  },
  {
   "cell_type": "code",
   "execution_count": 44,
   "metadata": {},
   "outputs": [
    {
     "data": {
      "text/plain": [
       "array([[1., 0., 0., ..., 0., 0., 0.],\n",
       "       [0., 1., 0., ..., 0., 0., 0.],\n",
       "       [0., 0., 1., ..., 0., 0., 0.],\n",
       "       ...,\n",
       "       [0., 0., 0., ..., 1., 0., 0.],\n",
       "       [0., 0., 0., ..., 0., 1., 0.],\n",
       "       [0., 0., 0., ..., 0., 0., 1.]])"
      ]
     },
     "execution_count": 44,
     "metadata": {},
     "output_type": "execute_result"
    }
   ],
   "source": [
    "basic_user.sim"
   ]
  },
  {
   "cell_type": "code",
   "execution_count": 45,
   "metadata": {},
   "outputs": [],
   "source": [
    "predictions_user = basic_user.test(testset)"
   ]
  },
  {
   "cell_type": "code",
   "execution_count": 46,
   "metadata": {},
   "outputs": [
    {
     "name": "stdout",
     "output_type": "stream",
     "text": [
      "RMSE: 1.2401\n",
      "1.2400588428109054\n"
     ]
    }
   ],
   "source": [
    "print(accuracy.rmse(predictions_user))"
   ]
  },
  {
   "cell_type": "code",
   "execution_count": 47,
   "metadata": {},
   "outputs": [],
   "source": [
    "#KNN model with Pearson Correlation "
   ]
  },
  {
   "cell_type": "code",
   "execution_count": 48,
   "metadata": {},
   "outputs": [
    {
     "name": "stdout",
     "output_type": "stream",
     "text": [
      "Computing the pearson similarity matrix...\n",
      "Done computing similarity matrix.\n",
      "RMSE: 1.1854\n",
      "1.1854039491870065\n"
     ]
    }
   ],
   "source": [
    "sim_pearson = {'name':'pearson', 'user_based':False}\n",
    "basic_pearson = knns.KNNBasic(sim_options=sim_pearson)\n",
    "basic_pearson.fit(trainset)\n",
    "predictions = basic_pearson.test(testset)\n",
    "print(accuracy.rmse(predictions))"
   ]
  },
  {
   "cell_type": "code",
   "execution_count": 49,
   "metadata": {},
   "outputs": [
    {
     "name": "stdout",
     "output_type": "stream",
     "text": [
      "Computing the pearson similarity matrix...\n",
      "Done computing similarity matrix.\n",
      "RMSE: 1.1795\n",
      "1.1795381227887218\n"
     ]
    }
   ],
   "source": [
    "sim_pearson_user = {'name':'pearson', 'user_based':True}\n",
    "basic_pearson_user = knns.KNNBasic(sim_options=sim_pearson_user)\n",
    "basic_pearson_user.fit(trainset)\n",
    "predictions_user = basic_pearson_user.test(testset)\n",
    "print(accuracy.rmse(predictions_user))"
   ]
  },
  {
   "cell_type": "code",
   "execution_count": 50,
   "metadata": {},
   "outputs": [],
   "source": [
    "#KNN model with Means"
   ]
  },
  {
   "cell_type": "code",
   "execution_count": 51,
   "metadata": {},
   "outputs": [],
   "source": [
    "#same thing as the basic KNN model, except it takes into account the mean rating of each user or item depending on \n",
    "#whether you are performing user-user or item-item similarities, respectively."
   ]
  },
  {
   "cell_type": "code",
   "execution_count": 52,
   "metadata": {},
   "outputs": [
    {
     "name": "stdout",
     "output_type": "stream",
     "text": [
      "Computing the pearson similarity matrix...\n",
      "Done computing similarity matrix.\n",
      "RMSE: 1.1791\n",
      "1.1790736593254243\n"
     ]
    }
   ],
   "source": [
    "sim_pearson = {'name':'pearson', 'user_based':False}\n",
    "knn_means = knns.KNNWithMeans(sim_options=sim_pearson)\n",
    "knn_means.fit(trainset)\n",
    "predictions = knn_means.test(testset)\n",
    "print(accuracy.rmse(predictions))"
   ]
  },
  {
   "cell_type": "code",
   "execution_count": 53,
   "metadata": {},
   "outputs": [
    {
     "name": "stdout",
     "output_type": "stream",
     "text": [
      "Computing the pearson similarity matrix...\n",
      "Done computing similarity matrix.\n",
      "RMSE: 1.1622\n",
      "1.162184545973618\n"
     ]
    }
   ],
   "source": [
    "sim_pearson_user = {'name':'pearson', 'user_based':True}\n",
    "knn_means_user = knns.KNNWithMeans(sim_options=sim_pearson_user)\n",
    "knn_means_user.fit(trainset)\n",
    "predictions_user = knn_means_user.test(testset)\n",
    "print(accuracy.rmse(predictions_user))"
   ]
  },
  {
   "cell_type": "code",
   "execution_count": 54,
   "metadata": {},
   "outputs": [],
   "source": [
    "#This is our best model so far"
   ]
  },
  {
   "cell_type": "code",
   "execution_count": 55,
   "metadata": {},
   "outputs": [],
   "source": [
    "#Running an SVD model with defaults"
   ]
  },
  {
   "cell_type": "code",
   "execution_count": 56,
   "metadata": {},
   "outputs": [
    {
     "name": "stdout",
     "output_type": "stream",
     "text": [
      "RMSE: 1.0889\n",
      "1.0889451149217502\n"
     ]
    }
   ],
   "source": [
    "svd = SVD(random_state=42)\n",
    "svd.fit(trainset)\n",
    "predictions = svd.test(testset)\n",
    "print(accuracy.rmse(predictions))"
   ]
  },
  {
   "cell_type": "code",
   "execution_count": 57,
   "metadata": {},
   "outputs": [],
   "source": [
    "#Lowest RMSE so far!"
   ]
  },
  {
   "cell_type": "code",
   "execution_count": 58,
   "metadata": {},
   "outputs": [
    {
     "data": {
      "text/plain": [
       "Prediction(uid='A1YJEY40YUW4SE', iid='B00LLPT4HI', r_ui=None, est=4.41104541567184, details={'was_impossible': False})"
      ]
     },
     "execution_count": 58,
     "metadata": {},
     "output_type": "execute_result"
    }
   ],
   "source": [
    "svd.predict('A1YJEY40YUW4SE', 'B00LLPT4HI')"
   ]
  },
  {
   "cell_type": "code",
   "execution_count": 59,
   "metadata": {},
   "outputs": [
    {
     "data": {
      "text/plain": [
       "Prediction(uid='A2BLFCOPSMBOZ9', iid='7806397051', r_ui=None, est=3.774499861592997, details={'was_impossible': False})"
      ]
     },
     "execution_count": 59,
     "metadata": {},
     "output_type": "execute_result"
    }
   ],
   "source": [
    "svd.predict('A2BLFCOPSMBOZ9', '7806397051')"
   ]
  },
  {
   "cell_type": "code",
   "execution_count": 60,
   "metadata": {},
   "outputs": [],
   "source": [
    "#Checking to see estimated rating for 2 user/product combinations"
   ]
  },
  {
   "cell_type": "code",
   "execution_count": 61,
   "metadata": {},
   "outputs": [
    {
     "data": {
      "text/plain": [
       "<surprise.trainset.Trainset at 0x7fc46de06af0>"
      ]
     },
     "execution_count": 61,
     "metadata": {},
     "output_type": "execute_result"
    }
   ],
   "source": [
    "trainset"
   ]
  },
  {
   "cell_type": "code",
   "execution_count": 62,
   "metadata": {},
   "outputs": [],
   "source": [
    "cv_svd_baseline = cross_validate(svd, surprise_data)"
   ]
  },
  {
   "cell_type": "code",
   "execution_count": 63,
   "metadata": {},
   "outputs": [
    {
     "data": {
      "text/plain": [
       "{'test_rmse': array([1.08870948, 1.0833853 , 1.09177078, 1.09185146, 1.08971124]),\n",
       " 'test_mae': array([0.83439172, 0.82976812, 0.8368646 , 0.8375184 , 0.83600292]),\n",
       " 'fit_time': (8.10701298713684,\n",
       "  8.074291229248047,\n",
       "  8.08345103263855,\n",
       "  8.2220458984375,\n",
       "  8.068026065826416),\n",
       " 'test_time': (0.19235897064208984,\n",
       "  0.1955568790435791,\n",
       "  0.20186996459960938,\n",
       "  0.19525408744812012,\n",
       "  0.18959999084472656)}"
      ]
     },
     "execution_count": 63,
     "metadata": {},
     "output_type": "execute_result"
    }
   ],
   "source": [
    "cv_svd_baseline"
   ]
  },
  {
   "cell_type": "code",
   "execution_count": 64,
   "metadata": {},
   "outputs": [
    {
     "data": {
      "text/html": [
       "<div>\n",
       "<style scoped>\n",
       "    .dataframe tbody tr th:only-of-type {\n",
       "        vertical-align: middle;\n",
       "    }\n",
       "\n",
       "    .dataframe tbody tr th {\n",
       "        vertical-align: top;\n",
       "    }\n",
       "\n",
       "    .dataframe thead th {\n",
       "        text-align: right;\n",
       "    }\n",
       "</style>\n",
       "<table border=\"1\" class=\"dataframe\">\n",
       "  <thead>\n",
       "    <tr style=\"text-align: right;\">\n",
       "      <th></th>\n",
       "      <th>reviewerID</th>\n",
       "      <th>asin</th>\n",
       "      <th>reviewerName</th>\n",
       "      <th>helpful</th>\n",
       "      <th>reviewText</th>\n",
       "      <th>overall</th>\n",
       "      <th>summary</th>\n",
       "      <th>unixReviewTime</th>\n",
       "      <th>reviewTime</th>\n",
       "    </tr>\n",
       "  </thead>\n",
       "  <tbody>\n",
       "    <tr>\n",
       "      <th>0</th>\n",
       "      <td>A1YJEY40YUW4SE</td>\n",
       "      <td>7806397051</td>\n",
       "      <td>Andrea</td>\n",
       "      <td>[3, 4]</td>\n",
       "      <td>Very oily and creamy. Not at all what I expect...</td>\n",
       "      <td>1</td>\n",
       "      <td>Don't waste your money</td>\n",
       "      <td>1391040000</td>\n",
       "      <td>01 30, 2014</td>\n",
       "    </tr>\n",
       "    <tr>\n",
       "      <th>1</th>\n",
       "      <td>A60XNB876KYML</td>\n",
       "      <td>7806397051</td>\n",
       "      <td>Jessica H.</td>\n",
       "      <td>[1, 1]</td>\n",
       "      <td>This palette was a decent price and I was look...</td>\n",
       "      <td>3</td>\n",
       "      <td>OK Palette!</td>\n",
       "      <td>1397779200</td>\n",
       "      <td>04 18, 2014</td>\n",
       "    </tr>\n",
       "    <tr>\n",
       "      <th>2</th>\n",
       "      <td>A3G6XNM240RMWA</td>\n",
       "      <td>7806397051</td>\n",
       "      <td>Karen</td>\n",
       "      <td>[0, 1]</td>\n",
       "      <td>The texture of this concealer pallet is fantas...</td>\n",
       "      <td>4</td>\n",
       "      <td>great quality</td>\n",
       "      <td>1378425600</td>\n",
       "      <td>09 6, 2013</td>\n",
       "    </tr>\n",
       "    <tr>\n",
       "      <th>3</th>\n",
       "      <td>A1PQFP6SAJ6D80</td>\n",
       "      <td>7806397051</td>\n",
       "      <td>Norah</td>\n",
       "      <td>[2, 2]</td>\n",
       "      <td>I really can't tell what exactly this thing is...</td>\n",
       "      <td>2</td>\n",
       "      <td>Do not work on my face</td>\n",
       "      <td>1386460800</td>\n",
       "      <td>12 8, 2013</td>\n",
       "    </tr>\n",
       "    <tr>\n",
       "      <th>4</th>\n",
       "      <td>A38FVHZTNQ271F</td>\n",
       "      <td>7806397051</td>\n",
       "      <td>Nova Amor</td>\n",
       "      <td>[0, 0]</td>\n",
       "      <td>It was a little smaller than I expected, but t...</td>\n",
       "      <td>3</td>\n",
       "      <td>It's okay.</td>\n",
       "      <td>1382140800</td>\n",
       "      <td>10 19, 2013</td>\n",
       "    </tr>\n",
       "    <tr>\n",
       "      <th>...</th>\n",
       "      <td>...</td>\n",
       "      <td>...</td>\n",
       "      <td>...</td>\n",
       "      <td>...</td>\n",
       "      <td>...</td>\n",
       "      <td>...</td>\n",
       "      <td>...</td>\n",
       "      <td>...</td>\n",
       "      <td>...</td>\n",
       "    </tr>\n",
       "    <tr>\n",
       "      <th>198497</th>\n",
       "      <td>A2BLFCOPSMBOZ9</td>\n",
       "      <td>B00LLPT4HI</td>\n",
       "      <td>Dave Edmiston</td>\n",
       "      <td>[0, 0]</td>\n",
       "      <td>Just a little dab of this shea butter should b...</td>\n",
       "      <td>5</td>\n",
       "      <td>A little dab...</td>\n",
       "      <td>1405468800</td>\n",
       "      <td>07 16, 2014</td>\n",
       "    </tr>\n",
       "    <tr>\n",
       "      <th>198498</th>\n",
       "      <td>A1UQBFCERIP7VJ</td>\n",
       "      <td>B00LLPT4HI</td>\n",
       "      <td>Margaret Picky</td>\n",
       "      <td>[0, 0]</td>\n",
       "      <td>This shea butter is completely raw and unrefin...</td>\n",
       "      <td>5</td>\n",
       "      <td>Pure organic raw shea butter</td>\n",
       "      <td>1405296000</td>\n",
       "      <td>07 14, 2014</td>\n",
       "    </tr>\n",
       "    <tr>\n",
       "      <th>198499</th>\n",
       "      <td>A35Q0RBM3YNQNF</td>\n",
       "      <td>B00LLPT4HI</td>\n",
       "      <td>M. Hill</td>\n",
       "      <td>[0, 0]</td>\n",
       "      <td>The skin is the body's largest organ and it ab...</td>\n",
       "      <td>5</td>\n",
       "      <td>One Pound Organic Grade A Unrefined Shea Butter</td>\n",
       "      <td>1405468800</td>\n",
       "      <td>07 16, 2014</td>\n",
       "    </tr>\n",
       "    <tr>\n",
       "      <th>198500</th>\n",
       "      <td>A3LGT6UZL99IW1</td>\n",
       "      <td>B00LLPT4HI</td>\n",
       "      <td>Richard C. Drew \"Anaal Nathra/Uthe vas Bethod...</td>\n",
       "      <td>[0, 0]</td>\n",
       "      <td>I have very dry elbows and knees.  I have a to...</td>\n",
       "      <td>5</td>\n",
       "      <td>This stuff is amazing!</td>\n",
       "      <td>1405382400</td>\n",
       "      <td>07 15, 2014</td>\n",
       "    </tr>\n",
       "    <tr>\n",
       "      <th>198501</th>\n",
       "      <td>A3UJRNI8UR4871</td>\n",
       "      <td>B00LLPT4HI</td>\n",
       "      <td>Wulfstan \"wulfstan\"</td>\n",
       "      <td>[0, 1]</td>\n",
       "      <td>This is 100% pure Shea Butter. Do not mistake ...</td>\n",
       "      <td>5</td>\n",
       "      <td>The \"Real Stuff\"!</td>\n",
       "      <td>1405987200</td>\n",
       "      <td>07 22, 2014</td>\n",
       "    </tr>\n",
       "  </tbody>\n",
       "</table>\n",
       "<p>198502 rows × 9 columns</p>\n",
       "</div>"
      ],
      "text/plain": [
       "            reviewerID        asin  \\\n",
       "0       A1YJEY40YUW4SE  7806397051   \n",
       "1        A60XNB876KYML  7806397051   \n",
       "2       A3G6XNM240RMWA  7806397051   \n",
       "3       A1PQFP6SAJ6D80  7806397051   \n",
       "4       A38FVHZTNQ271F  7806397051   \n",
       "...                ...         ...   \n",
       "198497  A2BLFCOPSMBOZ9  B00LLPT4HI   \n",
       "198498  A1UQBFCERIP7VJ  B00LLPT4HI   \n",
       "198499  A35Q0RBM3YNQNF  B00LLPT4HI   \n",
       "198500  A3LGT6UZL99IW1  B00LLPT4HI   \n",
       "198501  A3UJRNI8UR4871  B00LLPT4HI   \n",
       "\n",
       "                                            reviewerName helpful  \\\n",
       "0                                                 Andrea  [3, 4]   \n",
       "1                                             Jessica H.  [1, 1]   \n",
       "2                                                  Karen  [0, 1]   \n",
       "3                                                  Norah  [2, 2]   \n",
       "4                                              Nova Amor  [0, 0]   \n",
       "...                                                  ...     ...   \n",
       "198497                                     Dave Edmiston  [0, 0]   \n",
       "198498                                    Margaret Picky  [0, 0]   \n",
       "198499                                           M. Hill  [0, 0]   \n",
       "198500  Richard C. Drew \"Anaal Nathra/Uthe vas Bethod...  [0, 0]   \n",
       "198501                               Wulfstan \"wulfstan\"  [0, 1]   \n",
       "\n",
       "                                               reviewText  overall  \\\n",
       "0       Very oily and creamy. Not at all what I expect...        1   \n",
       "1       This palette was a decent price and I was look...        3   \n",
       "2       The texture of this concealer pallet is fantas...        4   \n",
       "3       I really can't tell what exactly this thing is...        2   \n",
       "4       It was a little smaller than I expected, but t...        3   \n",
       "...                                                   ...      ...   \n",
       "198497  Just a little dab of this shea butter should b...        5   \n",
       "198498  This shea butter is completely raw and unrefin...        5   \n",
       "198499  The skin is the body's largest organ and it ab...        5   \n",
       "198500  I have very dry elbows and knees.  I have a to...        5   \n",
       "198501  This is 100% pure Shea Butter. Do not mistake ...        5   \n",
       "\n",
       "                                                summary  unixReviewTime  \\\n",
       "0                                Don't waste your money      1391040000   \n",
       "1                                           OK Palette!      1397779200   \n",
       "2                                         great quality      1378425600   \n",
       "3                                Do not work on my face      1386460800   \n",
       "4                                            It's okay.      1382140800   \n",
       "...                                                 ...             ...   \n",
       "198497                                  A little dab...      1405468800   \n",
       "198498                     Pure organic raw shea butter      1405296000   \n",
       "198499  One Pound Organic Grade A Unrefined Shea Butter      1405468800   \n",
       "198500                           This stuff is amazing!      1405382400   \n",
       "198501                                The \"Real Stuff\"!      1405987200   \n",
       "\n",
       "         reviewTime  \n",
       "0       01 30, 2014  \n",
       "1       04 18, 2014  \n",
       "2        09 6, 2013  \n",
       "3        12 8, 2013  \n",
       "4       10 19, 2013  \n",
       "...             ...  \n",
       "198497  07 16, 2014  \n",
       "198498  07 14, 2014  \n",
       "198499  07 16, 2014  \n",
       "198500  07 15, 2014  \n",
       "198501  07 22, 2014  \n",
       "\n",
       "[198502 rows x 9 columns]"
      ]
     },
     "execution_count": 64,
     "metadata": {},
     "output_type": "execute_result"
    }
   ],
   "source": [
    "df"
   ]
  },
  {
   "cell_type": "code",
   "execution_count": 65,
   "metadata": {},
   "outputs": [],
   "source": [
    "#Baseline Models; true baseline should be NormalPredictor(); user_based=True"
   ]
  },
  {
   "cell_type": "code",
   "execution_count": 66,
   "metadata": {},
   "outputs": [
    {
     "data": {
      "text/plain": [
       "<surprise.prediction_algorithms.random_pred.NormalPredictor at 0x7fc45b5f46d0>"
      ]
     },
     "execution_count": 66,
     "metadata": {},
     "output_type": "execute_result"
    }
   ],
   "source": [
    "baseline = NormalPredictor()\n",
    "baseline.fit(trainset)"
   ]
  },
  {
   "cell_type": "code",
   "execution_count": 67,
   "metadata": {},
   "outputs": [],
   "source": [
    "predictions = baseline.test(testset)"
   ]
  },
  {
   "cell_type": "code",
   "execution_count": 68,
   "metadata": {},
   "outputs": [
    {
     "name": "stdout",
     "output_type": "stream",
     "text": [
      "RMSE: 1.4973\n"
     ]
    }
   ],
   "source": [
    "baseline = accuracy.rmse(predictions)"
   ]
  },
  {
   "cell_type": "code",
   "execution_count": 69,
   "metadata": {},
   "outputs": [
    {
     "name": "stdout",
     "output_type": "stream",
     "text": [
      "Estimating biases using als...\n"
     ]
    },
    {
     "data": {
      "text/plain": [
       "<surprise.prediction_algorithms.baseline_only.BaselineOnly at 0x7fc46b7fd280>"
      ]
     },
     "execution_count": 69,
     "metadata": {},
     "output_type": "execute_result"
    }
   ],
   "source": [
    "baseline2 = BaselineOnly()\n",
    "baseline2.fit(trainset)"
   ]
  },
  {
   "cell_type": "code",
   "execution_count": 70,
   "metadata": {},
   "outputs": [],
   "source": [
    "predictions2 = baseline2.test(testset)"
   ]
  },
  {
   "cell_type": "code",
   "execution_count": 71,
   "metadata": {},
   "outputs": [
    {
     "name": "stdout",
     "output_type": "stream",
     "text": [
      "RMSE: 1.0890\n"
     ]
    }
   ],
   "source": [
    "baseline2 = accuracy.rmse(predictions2)"
   ]
  },
  {
   "cell_type": "markdown",
   "metadata": {},
   "source": [
    "### Alex: SVD"
   ]
  },
  {
   "cell_type": "markdown",
   "metadata": {},
   "source": [
    "#### Attempt on new split"
   ]
  },
  {
   "cell_type": "code",
   "execution_count": 116,
   "metadata": {},
   "outputs": [],
   "source": [
    "#Import cross_validate, SVD, and Grid Search from Suprise\n",
    "from surprise.model_selection import cross_validate\n",
    "from surprise.prediction_algorithms import SVD\n",
    "from surprise.model_selection import GridSearchCV"
   ]
  },
  {
   "cell_type": "code",
   "execution_count": 117,
   "metadata": {},
   "outputs": [],
   "source": [
    "#Hold out 10% of data for validation\n",
    "#Create a new surpise data class\n",
    "svd_data = Dataset.load_from_df(surprise_df, reader)\n",
    "raw_ratings_svd = svd_data.raw_ratings\n",
    "# A = 90% of the data, B = 10% of the data\n",
    "threshold = int(.9 * len(raw_ratings_svd))\n",
    "A_raw_ratings_svd = raw_ratings_svd[:threshold]\n",
    "B_raw_ratings_svd = raw_ratings_svd[threshold:]"
   ]
  },
  {
   "cell_type": "code",
   "execution_count": 118,
   "metadata": {},
   "outputs": [],
   "source": [
    "# svd_data is now the set A\n",
    "svd_data.raw_ratings = A_raw_ratings_svd"
   ]
  },
  {
   "cell_type": "code",
   "execution_count": 34,
   "metadata": {},
   "outputs": [],
   "source": [
    "#Create a param grid for grid search\n",
    "SVD_parm_grid = {'n_factors':[20,50,100,150],'n_epochs':[10,20,30],'biased':[True,False]}"
   ]
  },
  {
   "cell_type": "code",
   "execution_count": 80,
   "metadata": {},
   "outputs": [],
   "source": [
    "#Instantiate our grid search & fit to set A\n",
    "svd_grid_search = GridSearchCV(algo_class=SVD,param_grid=SVD_parm_grid,measures=['rmse'],cv=5)\n",
    "svd_grid_search.fit(svd_data)"
   ]
  },
  {
   "cell_type": "code",
   "execution_count": 73,
   "metadata": {},
   "outputs": [],
   "source": [
    "#https://surprise.readthedocs.io/en/stable/FAQ.html -> \"How to save some data for unbiased accuracy estimation\""
   ]
  },
  {
   "cell_type": "code",
   "execution_count": 81,
   "metadata": {},
   "outputs": [],
   "source": [
    "best_svd_algo = svd_grid_search.best_estimator['rmse']"
   ]
  },
  {
   "cell_type": "code",
   "execution_count": 87,
   "metadata": {},
   "outputs": [
    {
     "data": {
      "text/plain": [
       "{'rmse': {'n_factors': 20, 'n_epochs': 20, 'biased': True}}"
      ]
     },
     "execution_count": 87,
     "metadata": {},
     "output_type": "execute_result"
    }
   ],
   "source": [
    "svd_grid_search.best_params"
   ]
  },
  {
   "cell_type": "code",
   "execution_count": 82,
   "metadata": {},
   "outputs": [
    {
     "data": {
      "text/plain": [
       "<surprise.prediction_algorithms.matrix_factorization.SVD at 0x7fc5288ae790>"
      ]
     },
     "execution_count": 82,
     "metadata": {},
     "output_type": "execute_result"
    }
   ],
   "source": [
    "# retrain on the whole set A\n",
    "trainset_svd = svd_data.build_full_trainset()\n",
    "best_svd_algo.fit(trainset_svd)"
   ]
  },
  {
   "cell_type": "code",
   "execution_count": 83,
   "metadata": {},
   "outputs": [
    {
     "name": "stdout",
     "output_type": "stream",
     "text": [
      "Biased accuracy on A,   RMSE: 0.9390\n"
     ]
    },
    {
     "data": {
      "text/plain": [
       "0.938986292642642"
      ]
     },
     "execution_count": 83,
     "metadata": {},
     "output_type": "execute_result"
    }
   ],
   "source": [
    "predictions = best_svd_algo.test(trainset_svd.build_testset())\n",
    "print('Biased accuracy on A,', end='   ')\n",
    "accuracy.rmse(predictions)"
   ]
  },
  {
   "cell_type": "code",
   "execution_count": 86,
   "metadata": {},
   "outputs": [
    {
     "name": "stdout",
     "output_type": "stream",
     "text": [
      "Unbiased accuracy on B, RMSE: 0.9689\n"
     ]
    },
    {
     "data": {
      "text/plain": [
       "0.9688963063125187"
      ]
     },
     "execution_count": 86,
     "metadata": {},
     "output_type": "execute_result"
    }
   ],
   "source": [
    "# Compute unbiased accuracy on B\n",
    "testset_svd = svd_data.construct_testset(B_raw_ratings_svd)  # testset is now the set B\n",
    "predictions = best_svd_algo.test(testset_svd)\n",
    "print('Unbiased accuracy on B,', end=' ')\n",
    "accuracy.rmse(predictions)"
   ]
  },
  {
   "cell_type": "markdown",
   "metadata": {},
   "source": [
    "#### Attempt new grid search params with lower n_factors\n",
    "- Adding lower values for n_factors because our previous best estimator hit our lower limit of n_factors = 20"
   ]
  },
  {
   "cell_type": "code",
   "execution_count": 134,
   "metadata": {},
   "outputs": [],
   "source": [
    "SVD_parm_grid = {'n_factors':[2,5,10,20],'n_epochs':[10,20,30],'biased':[True,False]}"
   ]
  },
  {
   "cell_type": "code",
   "execution_count": 135,
   "metadata": {},
   "outputs": [],
   "source": [
    "#Instantiate our grid search & fit to set A\n",
    "svd_grid_search = GridSearchCV(algo_class=SVD,param_grid=SVD_parm_grid,measures=['rmse'],cv=5)\n",
    "svd_grid_search.fit(svd_data)"
   ]
  },
  {
   "cell_type": "code",
   "execution_count": 136,
   "metadata": {},
   "outputs": [],
   "source": [
    "best_svd_algo = svd_grid_search.best_estimator['rmse']"
   ]
  },
  {
   "cell_type": "code",
   "execution_count": 137,
   "metadata": {},
   "outputs": [
    {
     "data": {
      "text/plain": [
       "{'rmse': {'n_factors': 2, 'n_epochs': 20, 'biased': True}}"
      ]
     },
     "execution_count": 137,
     "metadata": {},
     "output_type": "execute_result"
    }
   ],
   "source": [
    "svd_grid_search.best_params"
   ]
  },
  {
   "cell_type": "code",
   "execution_count": null,
   "metadata": {},
   "outputs": [],
   "source": [
    "SVD(n_factors=2,n_epochs=20,biased=True)"
   ]
  },
  {
   "cell_type": "code",
   "execution_count": 138,
   "metadata": {},
   "outputs": [
    {
     "data": {
      "text/plain": [
       "<surprise.prediction_algorithms.matrix_factorization.SVD at 0x7fc183e625b0>"
      ]
     },
     "execution_count": 138,
     "metadata": {},
     "output_type": "execute_result"
    }
   ],
   "source": [
    "# retrain on the whole set A\n",
    "trainset_svd = svd_data.build_full_trainset()\n",
    "best_svd_algo.fit(trainset_svd)"
   ]
  },
  {
   "cell_type": "code",
   "execution_count": 139,
   "metadata": {},
   "outputs": [
    {
     "name": "stdout",
     "output_type": "stream",
     "text": [
      "Biased accuracy on A,   RMSE: 0.9824\n"
     ]
    },
    {
     "data": {
      "text/plain": [
       "0.9823613584790697"
      ]
     },
     "execution_count": 139,
     "metadata": {},
     "output_type": "execute_result"
    }
   ],
   "source": [
    "predictions = best_svd_algo.test(trainset_svd.build_testset())\n",
    "print('Biased accuracy on A,', end='   ')\n",
    "accuracy.rmse(predictions)"
   ]
  },
  {
   "cell_type": "code",
   "execution_count": 140,
   "metadata": {},
   "outputs": [
    {
     "name": "stdout",
     "output_type": "stream",
     "text": [
      "Unbiased accuracy on B, RMSE: 0.9687\n"
     ]
    },
    {
     "data": {
      "text/plain": [
       "0.9687055612776263"
      ]
     },
     "execution_count": 140,
     "metadata": {},
     "output_type": "execute_result"
    }
   ],
   "source": [
    "# Compute unbiased accuracy on B\n",
    "testset_svd = svd_data.construct_testset(B_raw_ratings_svd)  # testset is now the set B\n",
    "predictions = best_svd_algo.test(testset_svd)\n",
    "print('Unbiased accuracy on B,', end=' ')\n",
    "accuracy.rmse(predictions)"
   ]
  },
  {
   "cell_type": "markdown",
   "metadata": {},
   "source": [
    "#### Attempt new grid search params with regularization\n"
   ]
  },
  {
   "cell_type": "code",
   "execution_count": null,
   "metadata": {},
   "outputs": [],
   "source": [
    "SVD("
   ]
  },
  {
   "cell_type": "markdown",
   "metadata": {},
   "source": [
    "#### Attempt on trainset"
   ]
  },
  {
   "cell_type": "code",
   "execution_count": 39,
   "metadata": {},
   "outputs": [],
   "source": [
    "#Instantiate our grid search & fit to trainset\n",
    "svd_grid_search_ts = GridSearchCV(algo_class=SVD,param_grid=SVD_parm_grid,measures=['rmse'],cv=5,return_train_measures=True)\n",
    "svd_grid_search_ts.fit(surprise_data)"
   ]
  },
  {
   "cell_type": "code",
   "execution_count": 47,
   "metadata": {},
   "outputs": [
    {
     "data": {
      "text/plain": [
       "{'rmse': <surprise.prediction_algorithms.matrix_factorization.SVD at 0x7fc102c68580>}"
      ]
     },
     "execution_count": 47,
     "metadata": {},
     "output_type": "execute_result"
    }
   ],
   "source": [
    "svd_grid_search_ts.best_estimator"
   ]
  },
  {
   "cell_type": "code",
   "execution_count": 53,
   "metadata": {},
   "outputs": [],
   "source": [
    "best_svd_algo = svd_grid_search_ts.best_estimator['rmse']"
   ]
  },
  {
   "cell_type": "code",
   "execution_count": 52,
   "metadata": {},
   "outputs": [
    {
     "data": {
      "text/plain": [
       "{'rmse': <surprise.prediction_algorithms.matrix_factorization.SVD at 0x7fc102c68580>}"
      ]
     },
     "execution_count": 52,
     "metadata": {},
     "output_type": "execute_result"
    }
   ],
   "source": [
    "best_svd_algo"
   ]
  },
  {
   "cell_type": "code",
   "execution_count": 58,
   "metadata": {},
   "outputs": [
    {
     "name": "stdout",
     "output_type": "stream",
     "text": [
      "RMSE: 1.0836\n"
     ]
    },
    {
     "data": {
      "text/plain": [
       "1.0836471641265648"
      ]
     },
     "execution_count": 58,
     "metadata": {},
     "output_type": "execute_result"
    }
   ],
   "source": [
    "best_svd_algo.fit(trainset)\n",
    "predictions = best_svd_algo.test(testset)\n",
    "accuracy.rmse(predictions)"
   ]
  },
  {
   "cell_type": "markdown",
   "metadata": {},
   "source": [
    "### Exploring users who rate everything a 5"
   ]
  },
  {
   "cell_type": "code",
   "execution_count": 81,
   "metadata": {},
   "outputs": [
    {
     "data": {
      "text/plain": [
       "5.000000    2822\n",
       "4.000000    1615\n",
       "4.200000     900\n",
       "4.400000     863\n",
       "4.600000     861\n",
       "            ... \n",
       "3.648649       1\n",
       "4.243243       1\n",
       "3.694118       1\n",
       "4.710000       1\n",
       "4.048780       1\n",
       "Name: overall, Length: 795, dtype: int64"
      ]
     },
     "execution_count": 81,
     "metadata": {},
     "output_type": "execute_result"
    }
   ],
   "source": [
    "high_ratings = df.groupby(\"reviewerID\")[\"overall\",].mean().sort_values(ascending=False)\n",
    "high_ratings.value_counts()"
   ]
  },
  {
   "cell_type": "code",
   "execution_count": 72,
   "metadata": {},
   "outputs": [
    {
     "data": {
      "text/plain": [
       "reviewerID\n",
       "A4UHZXSLMBWT2     5.0\n",
       "A1ORLBQV893JF0    5.0\n",
       "A2RJT3IE2T6KXJ    5.0\n",
       "ANOJX4RAUJ9HL     5.0\n",
       "A15QGN6UXJVW9G    5.0\n",
       "                 ... \n",
       "A2MHHSACEJANSX    1.0\n",
       "A1KLA02LZXAT46    1.0\n",
       "A1GQLVT0SWAWU     1.0\n",
       "A2DPSPXFJ507C0    1.0\n",
       "A1W522Z24EPBJB    1.0\n",
       "Name: overall, Length: 22363, dtype: float64"
      ]
     },
     "execution_count": 72,
     "metadata": {},
     "output_type": "execute_result"
    }
   ],
   "source": [
    "high_ratings"
   ]
  },
  {
   "cell_type": "code",
   "execution_count": 73,
   "metadata": {},
   "outputs": [
    {
     "data": {
      "text/plain": [
       "198502"
      ]
     },
     "execution_count": 73,
     "metadata": {},
     "output_type": "execute_result"
    }
   ],
   "source": [
    "len(df)"
   ]
  },
  {
   "cell_type": "code",
   "execution_count": 80,
   "metadata": {},
   "outputs": [
    {
     "data": {
      "text/plain": [
       "A2V5R832QCSOMX    204\n",
       "ALNFHVS3SC4FV     192\n",
       "AKMEY1BSHSDG7     182\n",
       "A3KEZLJ59C1JVH    154\n",
       "ALQGOMOY1F5X9     150\n",
       "                 ... \n",
       "A2WQPYI2WI6U7X      5\n",
       "A23164157UKPXV      5\n",
       "A3PLXJACVMU6NZ      5\n",
       "A1AFKC16E1HZ1S      5\n",
       "AC5J3VHPGDSJW       5\n",
       "Name: reviewerID, Length: 22363, dtype: int64"
      ]
     },
     "execution_count": 80,
     "metadata": {},
     "output_type": "execute_result"
    }
   ],
   "source": [
    "df[\"reviewerID\"].value_counts()"
   ]
  },
  {
   "cell_type": "code",
   "execution_count": 83,
   "metadata": {},
   "outputs": [
    {
     "data": {
      "text/plain": [
       "5.000000    2822\n",
       "4.000000    1615\n",
       "4.200000     900\n",
       "4.400000     863\n",
       "4.600000     861\n",
       "            ... \n",
       "3.896104       1\n",
       "2.416667       1\n",
       "4.559322       1\n",
       "3.662338       1\n",
       "3.105263       1\n",
       "Name: overall, Length: 795, dtype: int64"
      ]
     },
     "execution_count": 83,
     "metadata": {},
     "output_type": "execute_result"
    }
   ],
   "source": [
    "df.groupby(\"reviewerID\")[\"overall\"].mean().sort_values().value_counts()"
   ]
  },
  {
   "cell_type": "code",
   "execution_count": 87,
   "metadata": {},
   "outputs": [
    {
     "ename": "SyntaxError",
     "evalue": "EOL while scanning string literal (<ipython-input-87-0be5a2e74049>, line 1)",
     "output_type": "error",
     "traceback": [
      "\u001b[0;36m  File \u001b[0;32m\"<ipython-input-87-0be5a2e74049>\"\u001b[0;36m, line \u001b[0;32m1\u001b[0m\n\u001b[0;31m    low_raters = df[df.groupby(\"reviewID”)[“overall”].mean()==1]\u001b[0m\n\u001b[0m                                                                ^\u001b[0m\n\u001b[0;31mSyntaxError\u001b[0m\u001b[0;31m:\u001b[0m EOL while scanning string literal\n"
     ]
    }
   ],
   "source": [
    "low_raters = df[df.groupby(\"reviewID”)[“overall”].mean()==1]"
   ]
  },
  {
   "cell_type": "code",
   "execution_count": 96,
   "metadata": {},
   "outputs": [
    {
     "name": "stderr",
     "output_type": "stream",
     "text": [
      "<ipython-input-96-8752c1212ea2>:1: FutureWarning: Indexing with multiple keys (implicitly converted to a tuple of keys) will be deprecated, use a list instead.\n",
      "  avg_rating_user = df.groupby(\"reviewerID\")[\"overall\",\"reviewerID\"].mean().sort_values(\"overall\")\n"
     ]
    },
    {
     "data": {
      "text/html": [
       "<div>\n",
       "<style scoped>\n",
       "    .dataframe tbody tr th:only-of-type {\n",
       "        vertical-align: middle;\n",
       "    }\n",
       "\n",
       "    .dataframe tbody tr th {\n",
       "        vertical-align: top;\n",
       "    }\n",
       "\n",
       "    .dataframe thead th {\n",
       "        text-align: right;\n",
       "    }\n",
       "</style>\n",
       "<table border=\"1\" class=\"dataframe\">\n",
       "  <thead>\n",
       "    <tr style=\"text-align: right;\">\n",
       "      <th></th>\n",
       "      <th>overall</th>\n",
       "    </tr>\n",
       "    <tr>\n",
       "      <th>reviewerID</th>\n",
       "      <th></th>\n",
       "    </tr>\n",
       "  </thead>\n",
       "  <tbody>\n",
       "    <tr>\n",
       "      <th>A1W522Z24EPBJB</th>\n",
       "      <td>1.0</td>\n",
       "    </tr>\n",
       "    <tr>\n",
       "      <th>A2DPSPXFJ507C0</th>\n",
       "      <td>1.0</td>\n",
       "    </tr>\n",
       "    <tr>\n",
       "      <th>A1GQLVT0SWAWU</th>\n",
       "      <td>1.0</td>\n",
       "    </tr>\n",
       "    <tr>\n",
       "      <th>A1KLA02LZXAT46</th>\n",
       "      <td>1.0</td>\n",
       "    </tr>\n",
       "    <tr>\n",
       "      <th>A2MHHSACEJANSX</th>\n",
       "      <td>1.0</td>\n",
       "    </tr>\n",
       "    <tr>\n",
       "      <th>...</th>\n",
       "      <td>...</td>\n",
       "    </tr>\n",
       "    <tr>\n",
       "      <th>A15QGN6UXJVW9G</th>\n",
       "      <td>5.0</td>\n",
       "    </tr>\n",
       "    <tr>\n",
       "      <th>ANOJX4RAUJ9HL</th>\n",
       "      <td>5.0</td>\n",
       "    </tr>\n",
       "    <tr>\n",
       "      <th>A2RJT3IE2T6KXJ</th>\n",
       "      <td>5.0</td>\n",
       "    </tr>\n",
       "    <tr>\n",
       "      <th>A1ORLBQV893JF0</th>\n",
       "      <td>5.0</td>\n",
       "    </tr>\n",
       "    <tr>\n",
       "      <th>A4UHZXSLMBWT2</th>\n",
       "      <td>5.0</td>\n",
       "    </tr>\n",
       "  </tbody>\n",
       "</table>\n",
       "<p>22363 rows × 1 columns</p>\n",
       "</div>"
      ],
      "text/plain": [
       "                overall\n",
       "reviewerID             \n",
       "A1W522Z24EPBJB      1.0\n",
       "A2DPSPXFJ507C0      1.0\n",
       "A1GQLVT0SWAWU       1.0\n",
       "A1KLA02LZXAT46      1.0\n",
       "A2MHHSACEJANSX      1.0\n",
       "...                 ...\n",
       "A15QGN6UXJVW9G      5.0\n",
       "ANOJX4RAUJ9HL       5.0\n",
       "A2RJT3IE2T6KXJ      5.0\n",
       "A1ORLBQV893JF0      5.0\n",
       "A4UHZXSLMBWT2       5.0\n",
       "\n",
       "[22363 rows x 1 columns]"
      ]
     },
     "execution_count": 96,
     "metadata": {},
     "output_type": "execute_result"
    }
   ],
   "source": [
    "avg_rating_user = df.groupby(\"reviewerID\")[\"overall\",\"reviewerID\"].mean().sort_values(\"overall\")\n",
    "avg_rating_user"
   ]
  },
  {
   "cell_type": "code",
   "execution_count": 101,
   "metadata": {},
   "outputs": [
    {
     "name": "stderr",
     "output_type": "stream",
     "text": [
      "<ipython-input-101-3e5bd0f52af1>:1: FutureWarning: Indexing with multiple keys (implicitly converted to a tuple of keys) will be deprecated, use a list instead.\n",
      "  count_rating_user = df.groupby(\"reviewerID\")[\"overall\",\"reviewerID\"].count().sort_values(\"overall\")\n"
     ]
    },
    {
     "data": {
      "text/html": [
       "<div>\n",
       "<style scoped>\n",
       "    .dataframe tbody tr th:only-of-type {\n",
       "        vertical-align: middle;\n",
       "    }\n",
       "\n",
       "    .dataframe tbody tr th {\n",
       "        vertical-align: top;\n",
       "    }\n",
       "\n",
       "    .dataframe thead th {\n",
       "        text-align: right;\n",
       "    }\n",
       "</style>\n",
       "<table border=\"1\" class=\"dataframe\">\n",
       "  <thead>\n",
       "    <tr style=\"text-align: right;\">\n",
       "      <th></th>\n",
       "      <th>overall</th>\n",
       "      <th>reviewerID</th>\n",
       "    </tr>\n",
       "    <tr>\n",
       "      <th>reviewerID</th>\n",
       "      <th></th>\n",
       "      <th></th>\n",
       "    </tr>\n",
       "  </thead>\n",
       "  <tbody>\n",
       "    <tr>\n",
       "      <th>A1TQ2IR4LZWJDI</th>\n",
       "      <td>5</td>\n",
       "      <td>5</td>\n",
       "    </tr>\n",
       "    <tr>\n",
       "      <th>A20H2Q6KA5D4B3</th>\n",
       "      <td>5</td>\n",
       "      <td>5</td>\n",
       "    </tr>\n",
       "    <tr>\n",
       "      <th>A3G6TBNZG4XC75</th>\n",
       "      <td>5</td>\n",
       "      <td>5</td>\n",
       "    </tr>\n",
       "    <tr>\n",
       "      <th>A20H1A2Q7LO87Z</th>\n",
       "      <td>5</td>\n",
       "      <td>5</td>\n",
       "    </tr>\n",
       "    <tr>\n",
       "      <th>A3G78MIYEFPHEC</th>\n",
       "      <td>5</td>\n",
       "      <td>5</td>\n",
       "    </tr>\n",
       "    <tr>\n",
       "      <th>...</th>\n",
       "      <td>...</td>\n",
       "      <td>...</td>\n",
       "    </tr>\n",
       "    <tr>\n",
       "      <th>ALQGOMOY1F5X9</th>\n",
       "      <td>150</td>\n",
       "      <td>150</td>\n",
       "    </tr>\n",
       "    <tr>\n",
       "      <th>A3KEZLJ59C1JVH</th>\n",
       "      <td>154</td>\n",
       "      <td>154</td>\n",
       "    </tr>\n",
       "    <tr>\n",
       "      <th>AKMEY1BSHSDG7</th>\n",
       "      <td>182</td>\n",
       "      <td>182</td>\n",
       "    </tr>\n",
       "    <tr>\n",
       "      <th>ALNFHVS3SC4FV</th>\n",
       "      <td>192</td>\n",
       "      <td>192</td>\n",
       "    </tr>\n",
       "    <tr>\n",
       "      <th>A2V5R832QCSOMX</th>\n",
       "      <td>204</td>\n",
       "      <td>204</td>\n",
       "    </tr>\n",
       "  </tbody>\n",
       "</table>\n",
       "<p>22363 rows × 2 columns</p>\n",
       "</div>"
      ],
      "text/plain": [
       "                overall  reviewerID\n",
       "reviewerID                         \n",
       "A1TQ2IR4LZWJDI        5           5\n",
       "A20H2Q6KA5D4B3        5           5\n",
       "A3G6TBNZG4XC75        5           5\n",
       "A20H1A2Q7LO87Z        5           5\n",
       "A3G78MIYEFPHEC        5           5\n",
       "...                 ...         ...\n",
       "ALQGOMOY1F5X9       150         150\n",
       "A3KEZLJ59C1JVH      154         154\n",
       "AKMEY1BSHSDG7       182         182\n",
       "ALNFHVS3SC4FV       192         192\n",
       "A2V5R832QCSOMX      204         204\n",
       "\n",
       "[22363 rows x 2 columns]"
      ]
     },
     "execution_count": 101,
     "metadata": {},
     "output_type": "execute_result"
    }
   ],
   "source": [
    "count_rating_user = df.groupby(\"reviewerID\")[\"overall\",\"reviewerID\"].count().sort_values(\"overall\")\n",
    "count_rating_user"
   ]
  },
  {
   "cell_type": "code",
   "execution_count": 99,
   "metadata": {},
   "outputs": [
    {
     "data": {
      "text/html": [
       "<div>\n",
       "<style scoped>\n",
       "    .dataframe tbody tr th:only-of-type {\n",
       "        vertical-align: middle;\n",
       "    }\n",
       "\n",
       "    .dataframe tbody tr th {\n",
       "        vertical-align: top;\n",
       "    }\n",
       "\n",
       "    .dataframe thead th {\n",
       "        text-align: right;\n",
       "    }\n",
       "</style>\n",
       "<table border=\"1\" class=\"dataframe\">\n",
       "  <thead>\n",
       "    <tr style=\"text-align: right;\">\n",
       "      <th></th>\n",
       "      <th>overall</th>\n",
       "    </tr>\n",
       "    <tr>\n",
       "      <th>reviewerID</th>\n",
       "      <th></th>\n",
       "    </tr>\n",
       "  </thead>\n",
       "  <tbody>\n",
       "    <tr>\n",
       "      <th>A1W522Z24EPBJB</th>\n",
       "      <td>1.0</td>\n",
       "    </tr>\n",
       "    <tr>\n",
       "      <th>A2DPSPXFJ507C0</th>\n",
       "      <td>1.0</td>\n",
       "    </tr>\n",
       "    <tr>\n",
       "      <th>A1GQLVT0SWAWU</th>\n",
       "      <td>1.0</td>\n",
       "    </tr>\n",
       "    <tr>\n",
       "      <th>A1KLA02LZXAT46</th>\n",
       "      <td>1.0</td>\n",
       "    </tr>\n",
       "    <tr>\n",
       "      <th>A2MHHSACEJANSX</th>\n",
       "      <td>1.0</td>\n",
       "    </tr>\n",
       "    <tr>\n",
       "      <th>A2RJTIE73NPN3C</th>\n",
       "      <td>1.0</td>\n",
       "    </tr>\n",
       "    <tr>\n",
       "      <th>ASWIC85F71H4J</th>\n",
       "      <td>1.0</td>\n",
       "    </tr>\n",
       "    <tr>\n",
       "      <th>A2TBE0N8JN6H4K</th>\n",
       "      <td>1.0</td>\n",
       "    </tr>\n",
       "    <tr>\n",
       "      <th>A1GPPMHYM6SMEW</th>\n",
       "      <td>1.0</td>\n",
       "    </tr>\n",
       "  </tbody>\n",
       "</table>\n",
       "</div>"
      ],
      "text/plain": [
       "                overall\n",
       "reviewerID             \n",
       "A1W522Z24EPBJB      1.0\n",
       "A2DPSPXFJ507C0      1.0\n",
       "A1GQLVT0SWAWU       1.0\n",
       "A1KLA02LZXAT46      1.0\n",
       "A2MHHSACEJANSX      1.0\n",
       "A2RJTIE73NPN3C      1.0\n",
       "ASWIC85F71H4J       1.0\n",
       "A2TBE0N8JN6H4K      1.0\n",
       "A1GPPMHYM6SMEW      1.0"
      ]
     },
     "execution_count": 99,
     "metadata": {},
     "output_type": "execute_result"
    }
   ],
   "source": [
    "low_rating_user = avg_rating_user[avg_rating_user[\"overall\"]==1.0]\n",
    "low_rating_user"
   ]
  },
  {
   "cell_type": "code",
   "execution_count": 100,
   "metadata": {},
   "outputs": [
    {
     "data": {
      "text/html": [
       "<div>\n",
       "<style scoped>\n",
       "    .dataframe tbody tr th:only-of-type {\n",
       "        vertical-align: middle;\n",
       "    }\n",
       "\n",
       "    .dataframe tbody tr th {\n",
       "        vertical-align: top;\n",
       "    }\n",
       "\n",
       "    .dataframe thead th {\n",
       "        text-align: right;\n",
       "    }\n",
       "</style>\n",
       "<table border=\"1\" class=\"dataframe\">\n",
       "  <thead>\n",
       "    <tr style=\"text-align: right;\">\n",
       "      <th></th>\n",
       "      <th>overall</th>\n",
       "    </tr>\n",
       "    <tr>\n",
       "      <th>reviewerID</th>\n",
       "      <th></th>\n",
       "    </tr>\n",
       "  </thead>\n",
       "  <tbody>\n",
       "    <tr>\n",
       "      <th>A2FINIRQNXOTI</th>\n",
       "      <td>5.0</td>\n",
       "    </tr>\n",
       "    <tr>\n",
       "      <th>ATWS89FH6Y6S4</th>\n",
       "      <td>5.0</td>\n",
       "    </tr>\n",
       "    <tr>\n",
       "      <th>A16Q479PYT0G6N</th>\n",
       "      <td>5.0</td>\n",
       "    </tr>\n",
       "    <tr>\n",
       "      <th>A3OKW5VRXZG3OQ</th>\n",
       "      <td>5.0</td>\n",
       "    </tr>\n",
       "    <tr>\n",
       "      <th>A3O9Q3154FPZLL</th>\n",
       "      <td>5.0</td>\n",
       "    </tr>\n",
       "    <tr>\n",
       "      <th>...</th>\n",
       "      <td>...</td>\n",
       "    </tr>\n",
       "    <tr>\n",
       "      <th>A15QGN6UXJVW9G</th>\n",
       "      <td>5.0</td>\n",
       "    </tr>\n",
       "    <tr>\n",
       "      <th>ANOJX4RAUJ9HL</th>\n",
       "      <td>5.0</td>\n",
       "    </tr>\n",
       "    <tr>\n",
       "      <th>A2RJT3IE2T6KXJ</th>\n",
       "      <td>5.0</td>\n",
       "    </tr>\n",
       "    <tr>\n",
       "      <th>A1ORLBQV893JF0</th>\n",
       "      <td>5.0</td>\n",
       "    </tr>\n",
       "    <tr>\n",
       "      <th>A4UHZXSLMBWT2</th>\n",
       "      <td>5.0</td>\n",
       "    </tr>\n",
       "  </tbody>\n",
       "</table>\n",
       "<p>2822 rows × 1 columns</p>\n",
       "</div>"
      ],
      "text/plain": [
       "                overall\n",
       "reviewerID             \n",
       "A2FINIRQNXOTI       5.0\n",
       "ATWS89FH6Y6S4       5.0\n",
       "A16Q479PYT0G6N      5.0\n",
       "A3OKW5VRXZG3OQ      5.0\n",
       "A3O9Q3154FPZLL      5.0\n",
       "...                 ...\n",
       "A15QGN6UXJVW9G      5.0\n",
       "ANOJX4RAUJ9HL       5.0\n",
       "A2RJT3IE2T6KXJ      5.0\n",
       "A1ORLBQV893JF0      5.0\n",
       "A4UHZXSLMBWT2       5.0\n",
       "\n",
       "[2822 rows x 1 columns]"
      ]
     },
     "execution_count": 100,
     "metadata": {},
     "output_type": "execute_result"
    }
   ],
   "source": [
    "high_rating_user = avg_rating_user[avg_rating_user[\"overall\"]==5.0]\n",
    "high_rating_user"
   ]
  },
  {
   "cell_type": "code",
   "execution_count": 108,
   "metadata": {},
   "outputs": [
    {
     "data": {
      "text/plain": [
       "['A2FINIRQNXOTI',\n",
       " 'ATWS89FH6Y6S4',\n",
       " 'A16Q479PYT0G6N',\n",
       " 'A3OKW5VRXZG3OQ',\n",
       " 'A3O9Q3154FPZLL',\n",
       " 'A2FJRU6RKAEAYX',\n",
       " 'A1I9YRWNWRO3BY',\n",
       " 'A2FQ1Q3V31QLQB',\n",
       " 'A8WJERXUE7P43',\n",
       " 'A2FAVDANCZYKNX',\n",
       " 'A3OK7MGXBAK4JM',\n",
       " 'A1YUGBWG0G9REI',\n",
       " 'A1BOW2E468Y7Q1',\n",
       " 'A8TPE62B0UCCE',\n",
       " 'A2FKG99KYKTZQO',\n",
       " 'A3OQ4I8U6TYCVE',\n",
       " 'A3OOIWLW0Y01C2',\n",
       " 'A2FLXE8YW1LMBN',\n",
       " 'A1BPCAYEK3T1V7',\n",
       " 'A2FGQ0JGXYYW6D',\n",
       " 'A2FM0GJWDCQNFD',\n",
       " 'A8QXLDP4JBE3K',\n",
       " 'A3OPVTWOL57FCW',\n",
       " 'A2FM5AJ7QH33S0',\n",
       " 'A2FOR1IJSX76LQ',\n",
       " 'A3OP6HJMA7SKDB',\n",
       " 'A2FI3GF4Z7QNO',\n",
       " 'A3OHN0JHXJ9BLA',\n",
       " 'A2FEJKLHXJY7JT',\n",
       " 'A1BO0E7TFN58TS',\n",
       " 'A1YX68282RPR0S',\n",
       " 'A2FC89NUP5CL8B',\n",
       " 'A16Q29GKE0WNW4',\n",
       " 'A3OD3HNHVSYJCR',\n",
       " 'ATVAMZS8V7AZ6',\n",
       " 'ATZFZONPLXQJN',\n",
       " 'A3O27SJDAU2UAG',\n",
       " 'ATSVUBE2115N1',\n",
       " 'A3NPO4ECDIMF92',\n",
       " 'A2GFS17LT7K6QV',\n",
       " 'ATFF039E40YCS',\n",
       " 'A1YQZCX2K3ISX5',\n",
       " 'A94FW86TF1HL7',\n",
       " 'A1YRHLWLQYRXKH',\n",
       " 'A3NSLQZTVCO7J6',\n",
       " 'A3NSLW1M3469ST',\n",
       " 'A2GDP615CA6E9J',\n",
       " 'ATH3U4X61L8D5',\n",
       " 'A2GD4LJFKOZ9YZ',\n",
       " 'A93DR0MWWC2B7',\n",
       " 'ATHI1A9N10E6A',\n",
       " 'A930TA3RDIJRS',\n",
       " 'ATHP3KFKOKX6Z',\n",
       " 'A16KNLKH7JYA1I',\n",
       " 'A3NXOKJ2HEV7OU',\n",
       " 'A952LJOXPLTVL',\n",
       " 'A1YQALBYMTYLH9',\n",
       " 'ATATQV57APV3Q',\n",
       " 'A2GPMFTCS096A',\n",
       " 'A3NGXMNZITEBGA',\n",
       " 'A13C67M3TC0VVH',\n",
       " 'A13C02EJ1EC07T',\n",
       " 'A1I67E088GOLL9',\n",
       " 'ATCO1MR1GTK1T',\n",
       " 'ATCPF6HAYJ1ER',\n",
       " 'A13BQLWGS6OVR0',\n",
       " 'A1MJZ3UD1Q4L83',\n",
       " 'A1YPM4GCO8I1W1',\n",
       " 'A1YPWA0MA1XNKG',\n",
       " 'A2GJ62OZ3H09DX',\n",
       " 'A3NKBCNIXTL2CM',\n",
       " 'A95G2DL7YESDZ',\n",
       " 'A1MJPGYK9MOSB6',\n",
       " 'ATSVUDE1BXQQG',\n",
       " 'ATI4VS6HBNGYW',\n",
       " 'A2GBAFR62R7RJB',\n",
       " 'ATOGMC2TTUCJA',\n",
       " 'A2FWZFI9LB1RCW',\n",
       " 'ATP7CCTCM1Q83',\n",
       " 'A108JE8E0CK1G3',\n",
       " 'A2FWAQRKSOPBX',\n",
       " 'A2FUEW1L1B96WX',\n",
       " 'ATQJGEZNPHDVO',\n",
       " 'A3O3WQVKGDVB6D',\n",
       " 'A2FTQN0I96LVI7',\n",
       " 'A2FTOSIQ960XYT',\n",
       " 'A1I8CASQOMQTJ3',\n",
       " 'A2FSPD94H4SYE3',\n",
       " 'A8XG4YHHLQHXZ',\n",
       " 'A1MDW7AH6BUP5Y',\n",
       " 'A3O4OUM9TSG9Q8',\n",
       " 'A2FXAQB45P4DBT',\n",
       " 'A16M7YAIAOLPW',\n",
       " 'A8ZA0A9E2KJKH',\n",
       " 'A123KV8N20EQUR',\n",
       " 'A16MHMVUD5X4I7',\n",
       " 'A1BT3A2OAJXZLF',\n",
       " 'A2G8W6K7UW1KLL',\n",
       " 'A2G5PN9111VN6I',\n",
       " 'A2G563AC1HME2R',\n",
       " 'A3NYJ93DFGW6SD',\n",
       " 'A2G4GL6B3ABFBK',\n",
       " 'A1MFG9E45RX5OW',\n",
       " 'A19CZ4AFTM2KKG',\n",
       " 'ATLUT3BNIKGHJ',\n",
       " 'A1MF325XQFLRR9',\n",
       " 'A1YSYZTXYMY5IF',\n",
       " 'A2G1L1KWIHNQFI',\n",
       " 'A1MEQ9X7ZHTEHP',\n",
       " 'A3O22PG4MHDI4Y',\n",
       " 'A2FXHRM0QNU0QL',\n",
       " 'A1IBTOGR052IY2',\n",
       " 'A35E18C8NCR9CC',\n",
       " 'A2FAKXPLPCGSWM',\n",
       " 'A2DITXU4DDRLVT',\n",
       " 'A3Q22GVXHRZAZW',\n",
       " 'A1ZE39OSBBBXTE',\n",
       " 'A3Q387RL6ON95F',\n",
       " 'A2DH7Y87LDR8DU',\n",
       " 'A1BGG0GLIZNUPU',\n",
       " 'A1IHK5QYJMGSWP',\n",
       " 'A1BFEKGDUKP5ZT',\n",
       " 'A3Q1P2LK9IUA89',\n",
       " 'A2DG3YVEU37IZ7',\n",
       " 'A1ZFBT2PLD7QXT',\n",
       " 'AUVF56QLQRTPZ',\n",
       " 'A2DALFBECQH1SO',\n",
       " 'A841UB147HO47',\n",
       " 'A3Q5PK1BTW16TQ',\n",
       " 'A2D6AIGXGQWT1I',\n",
       " 'A836JYJP84A4V',\n",
       " 'A3Q6JDOBCYVDZO',\n",
       " 'A2DEAP0WB7UH67',\n",
       " 'A2DJGOC35FF9TC',\n",
       " 'A2DJXYKRNWLWGO',\n",
       " 'A2DK6WLI2Q0FCL',\n",
       " 'A3PVE2P1WD6FN8',\n",
       " 'A3PWOASCVEQNWC',\n",
       " 'A891P0KYK4HJV',\n",
       " 'A2DVE0GA00ZX5Z',\n",
       " 'A19YGJNR0ZQZ7P',\n",
       " 'A890BVCQ05TAV',\n",
       " 'A1LSP0DCU3BZEJ',\n",
       " 'A2DU8TQWBL4A24',\n",
       " 'A2DTE0WS2DWOYC',\n",
       " 'A2DSUD4EVD9CUI',\n",
       " 'AUOFDVOZV0JKA',\n",
       " 'A3PYTHRFQS5D2R',\n",
       " 'A2DQ3UDEHE0B5V',\n",
       " 'A3PZ9KFVQIJOEK',\n",
       " 'A2DPD0HSSK34QR',\n",
       " 'A3Q0XDS7RYYQ28',\n",
       " 'A1BGN1UM5GT19I',\n",
       " 'A2DMTDY25APFKC',\n",
       " 'A1BGM7XV3JLSDB',\n",
       " 'A2D5DO4LZZAIK3',\n",
       " 'A2D47Q6Y5N3YOQ',\n",
       " 'A2D3P6YM80ALRS',\n",
       " 'A3Q8YDUEW9TQO4',\n",
       " 'A12Z9GK7XZTYYD',\n",
       " 'AV3AUFSA1DXVZ',\n",
       " 'A2CQCPJQ3DLM45',\n",
       " 'A2CP7VAQRC55D7',\n",
       " 'A19CJKE0GHGCEC',\n",
       " 'A1LLG2MPYVFAIK',\n",
       " 'A1LINUXSVYVE7L',\n",
       " 'A1ZMUNE2N8G9EJ',\n",
       " 'A2CJL6TINDZ0IF',\n",
       " 'A2CJ38JUNXY4CA',\n",
       " 'A3QHTTBHBJ37IQ',\n",
       " 'AV5QKR5O2XE1I',\n",
       " 'A1IHXC9BG6S5AB',\n",
       " 'A3QI5G5J1NHAEU',\n",
       " 'A2CEM5LTF7Q2Q2',\n",
       " 'A16WQEFFLN0CBT',\n",
       " 'A3QJ5JOG2C2UAV',\n",
       " 'A2CDWKIJDTT0Y8',\n",
       " 'AV75Q06L47PZ4',\n",
       " 'A818QI0ZS5JFZ',\n",
       " 'A3PUB24X62J29P',\n",
       " 'A2CRYZRNVGHE6Y',\n",
       " 'A2CT9WC5LCY0BE',\n",
       " 'A1BCRICL4UUBC6',\n",
       " 'A1LMH7HFNBZUCX',\n",
       " 'A1IHKH9L7274JH',\n",
       " 'A3Q9V0CHGU7O0C',\n",
       " 'A2CY8NT1HMH2UJ',\n",
       " 'A1IHSNCZ5GQSC7',\n",
       " 'A2CXV9CG7DAOOK',\n",
       " 'A196FUEVIMH83H',\n",
       " 'AV0F59NZ356HJ',\n",
       " 'A2CVCPOHPWNNJL',\n",
       " 'AV10H5K6VPQIJ',\n",
       " 'AV1BNRU8LVHOI',\n",
       " 'A2CUZSTFNJRA1B',\n",
       " 'A2CUSP4GGAO1S7',\n",
       " 'A3QBHB039T7JC2',\n",
       " 'A2CUQABPIBHVNN',\n",
       " 'A1ZJW4FEQBITDB',\n",
       " 'A2CTS78K1HMU9L',\n",
       " 'A2CTK89K8RRQ60',\n",
       " 'A3QCWR3D75TZJK',\n",
       " 'A2DZ3HRFT20GXU',\n",
       " 'A1LUXL5GEANXL9',\n",
       " 'A1LVEPRENTHRSH',\n",
       " 'A3NEAETOSXDBOM',\n",
       " 'A1Z1E5FG4HSRBE',\n",
       " 'A1IDDSD1P24TZW',\n",
       " 'A3P4DI6NN4O0JE',\n",
       " 'A3PCCAUXRKYNV2',\n",
       " 'AU7SVOGF0Z2TK',\n",
       " 'A2EV3NYJJOW791',\n",
       " 'A1Z2P4GHN01I2M',\n",
       " 'AU9G3LW3F2BI2',\n",
       " 'AU9MV75IZYVB2',\n",
       " 'A8JC56FC74XZE',\n",
       " 'A1803RSNURLATR',\n",
       " 'A2ETF4N62SFLOJ',\n",
       " 'A2ESYF5YSDV4NF',\n",
       " 'A1Z3AV93ONK5VF',\n",
       " 'A1M05XCDFMAS83',\n",
       " 'AUBRO0YQ4PIE3',\n",
       " 'A3PCY3GWYEN50B',\n",
       " 'A2EPUONFZCXYHP',\n",
       " 'AU6V10A0JLTMG',\n",
       " 'A1IFBIHD4SLBLZ',\n",
       " 'AU6H2U9XGA246',\n",
       " 'A3P30LTMM9DJLP',\n",
       " 'A1M4OLB2W10T0P',\n",
       " 'A135SX8ESCQV9B',\n",
       " 'A2F6NONFUDB6UK',\n",
       " 'A3OS5ADQV1X5SP',\n",
       " 'A8OT6HCL778U5',\n",
       " 'A1YYNHPUR4OQQX',\n",
       " 'A3OW4DVJ23FTVV',\n",
       " 'A1M4H1TQP4H45Y',\n",
       " 'A8NVQFKYZZXRO',\n",
       " 'A8NUOJQ9GQ2VJ',\n",
       " 'A2F0X4LN9N4O4C',\n",
       " 'A2F0SJ0XNROB8F',\n",
       " 'A3OZJH0C9BAZ3K',\n",
       " 'A1M34AINJOYHB1',\n",
       " 'A1M271OI7YRUA',\n",
       " 'A8M84NBNEWD08',\n",
       " 'A2EY6R1C77EZGX',\n",
       " 'A2EY3MSJ8E9OAA',\n",
       " 'AU5J52BQMBCWB',\n",
       " 'A3P3APLPG3002B',\n",
       " 'A2FATV9B51LRK8',\n",
       " 'A3PD8KD87AXNLD',\n",
       " 'A8HUTERW4EHGR',\n",
       " 'A1BIW7KW0I66XG',\n",
       " 'A3PMZRFN20A6CH',\n",
       " 'A2EDF8M15LA651',\n",
       " 'A2EDAY56ZTA6XY',\n",
       " 'A1BHZ0B7FRQ8OD',\n",
       " 'AUHMNZ6NB5FH9',\n",
       " 'A2ECPNF68XBDS4',\n",
       " 'A2ECHX2S6EFQWC',\n",
       " 'A2E96ESB1L5R8Y',\n",
       " 'A8C9EJORQD23',\n",
       " 'A8BU45ZCMHUZW',\n",
       " 'AUJEF31CXWTCQ',\n",
       " 'A2E6HVN612LEQO',\n",
       " 'AUJP7UJNNEDT3',\n",
       " 'A16R09SYQR13YW',\n",
       " 'A2E3WMF9RWW2X2',\n",
       " 'A2E30NGLPAFJH0',\n",
       " 'A1LW6AUNFNF890',\n",
       " 'A16RNH6PP3NEBF',\n",
       " 'A2EF6ZK9XDG779',\n",
       " 'A133YCW8C9JKC5',\n",
       " 'AUFYGX6HQALNC',\n",
       " 'A3PLXJACVMU6NZ',\n",
       " 'A1Z4WDS16I363C',\n",
       " 'A1Z4WHS1TXCHLX',\n",
       " 'A1Z4XCX0PC1HSM',\n",
       " 'A3PFZTGAOXRB5J',\n",
       " 'A8GNTEB5XCCA4',\n",
       " 'A2EL2OS3LBG4RO',\n",
       " 'A2EKY0O6CL2M3H',\n",
       " 'AUDQIJOG4JI87',\n",
       " 'A8FJHPCMKR28F',\n",
       " 'A2EKHAXB4RJBM7',\n",
       " 'A3PGYSB5CMESLM',\n",
       " 'A3PHOU49VPIFEE',\n",
       " 'A2EJMYNF9WUNJO',\n",
       " 'A3PIVI77JXMYGV',\n",
       " 'AUF0ATEEOKV2C',\n",
       " 'AUF0N5SPOYWD',\n",
       " 'A1LXTP5YM7V90W',\n",
       " 'A8E0DUPKQFTGP',\n",
       " 'A1Z5WNXC34H0L0',\n",
       " 'A3PMT52V8V46CE',\n",
       " 'A3NE2N5HL7GLAT',\n",
       " 'A9DGZEZOARNKY',\n",
       " 'A2GQCSVZWZX10R',\n",
       " 'A2K0FT2E39AECL',\n",
       " 'A3KZ91O8KA1IAZ',\n",
       " 'A3KZERTGXIP8VW',\n",
       " 'AABTMAIXZY2CI',\n",
       " 'A2JYR10B40EI3Z',\n",
       " 'A2JY0MTZBFR660',\n",
       " 'A1HS1JS92UY6HK',\n",
       " 'A2JX359BT8MUSF',\n",
       " 'A2K0IGZEOM0GOC',\n",
       " 'A2JVISJC1V6GWB',\n",
       " 'A1N5DXFCDMVHE3',\n",
       " 'A1N4EI79NE4XYR',\n",
       " 'A3L85FTL937CEC',\n",
       " 'A19XBQVAR95EZJ',\n",
       " 'A2JS5LL8BY6NVL',\n",
       " 'A2JRC1BEN4F6P5',\n",
       " 'ARSNLUMI16REO',\n",
       " 'A2JQBPKTB1WG94',\n",
       " 'A1XX7A00LMV0B0',\n",
       " 'A13IEEF3PBMB0H',\n",
       " 'ARNQCPXDBEERZ',\n",
       " 'A1N8VZP6JAAMA4',\n",
       " 'A2K9XJ1ND1343O',\n",
       " 'A2K8WYNIBEOS0X',\n",
       " 'A3KJY6DTFQQWNV',\n",
       " 'A169XK3CYY855G',\n",
       " 'AAH9EZZAUQQW2',\n",
       " 'A2K7I7UJFU4ICU',\n",
       " 'A3KQMERZUTHO1R',\n",
       " 'A1N9QWF2LEHK80',\n",
       " 'A2K6Z2IN9HUT5B',\n",
       " 'A2K5E9YNWOP5JQ',\n",
       " 'A1XUA7404SYGBB',\n",
       " 'A2K5AGWEYERZ9X',\n",
       " 'AAFD10YI0B0V3',\n",
       " 'A1N8YI1UPTGH80',\n",
       " 'A2K1490BFW34BQ',\n",
       " 'A2K0W9HNCJ746V',\n",
       " 'A2K0QLST7946WU',\n",
       " 'AAF4AO5MAVD5D',\n",
       " 'AAEVYY0PHQUUL',\n",
       " 'ARSSTVEDZ6G68',\n",
       " 'A2KCNRFE5NL5B6',\n",
       " 'A1C90VHGKE1V9B',\n",
       " 'ART21UV0XR63Z',\n",
       " 'A2JJDROOLVYHXG',\n",
       " 'A3LIOQ6M991VBX',\n",
       " 'A1XZBI594HFG7Z',\n",
       " 'A2JFUJ4TLYXH0L',\n",
       " 'A2JFNS65F0XXHO',\n",
       " 'A3LJP6NDCTKK6Z',\n",
       " 'A2JEZAYNYDAORL',\n",
       " 'A2JENXDKSW666Z',\n",
       " 'A3LG52UDJ7S5FW',\n",
       " 'AS1RPAY2NAPAQ',\n",
       " 'A13H5DVSWU60KM',\n",
       " 'A2JCC5VZY1OTFW',\n",
       " 'A1Y0SZKSFOMESE',\n",
       " 'AA44DPP8I7IL3',\n",
       " 'AA3EZF22VEB32',\n",
       " 'A1HTU3BEHDKKLI',\n",
       " 'A3LMV6UDGWBTQA',\n",
       " 'AA33YTW7D3N6D',\n",
       " 'A3LM5BHZ018AOQ',\n",
       " 'ARZDORDLR4TA7',\n",
       " 'A1N0T1RXSF1AW4',\n",
       " 'A2JK2F69GDATO0',\n",
       " 'A1XXXD9WNPD9YS',\n",
       " 'A18357S1Y60QX9',\n",
       " 'AA9UTGNMCBM8Z',\n",
       " 'A1N3ABXUU3HSDG',\n",
       " 'AA9EU3E7YAL0E',\n",
       " 'A3LAMJS25LJ6I6',\n",
       " 'ARVRHICSF1HJ',\n",
       " 'ARVUWRVOB5GVP',\n",
       " 'A3LANSRXLT1PW0',\n",
       " 'A3LAQEWRLEP80C',\n",
       " 'A2JNA01G0SEVD5',\n",
       " 'A19DPHRG5VRHMH',\n",
       " 'AA7MS6WEVDYIM',\n",
       " 'ARXHSWN3RMN93',\n",
       " 'ARXIBN5VZ4386',\n",
       " 'A1XYWDGW0SE1E2',\n",
       " 'A2JKYM9C9QCO4K',\n",
       " 'A1XZ3Q7W0UPV56',\n",
       " 'A1HSQ41KGGXHNF',\n",
       " 'A3L85P5SQPNIPV',\n",
       " 'AS3UM0LHN7L1Y',\n",
       " 'A2KEMWA908SG97',\n",
       " 'A3KJUDG3PKRBB4',\n",
       " 'A3JP28548O7TPD',\n",
       " 'A2L47WREXM8L22',\n",
       " 'A11XT24G3PZ8CQ',\n",
       " 'A2L3J6A347GF9P',\n",
       " 'A1XIBJHFDFPFLV',\n",
       " 'A1XJ8S8M1POF8M',\n",
       " 'A2L1IEIZNTVI0J',\n",
       " 'A1NHVLB3BSRGBU',\n",
       " 'A3JON8UVO3BKWK',\n",
       " 'A3JRCCZFKAF52',\n",
       " 'A1NGYBTJ5Y15Y7',\n",
       " 'A184I8GT3BHZQV',\n",
       " 'A1HKLEIFW5IW3G',\n",
       " 'A168SB7R44I9IQ',\n",
       " 'A3JVN244YWI3F3',\n",
       " 'A3JY2F9INW4DCT',\n",
       " 'AR7ODCG57VKFT',\n",
       " 'A2KZ38JZXZNHDQ',\n",
       " 'AAXWEZOH5TI3',\n",
       " 'AR2YG7VMC6T1P',\n",
       " 'AR2KSHT9E4MM7',\n",
       " 'A1HIATEY9H0W3T',\n",
       " 'A1NKVNJOBA8FGZ',\n",
       " 'A2LB38AJ9ZJTC5',\n",
       " 'AQZ3U03RS6C88',\n",
       " 'A1CKP7DR7KV5E1',\n",
       " 'AQZFARMCVMI9Y',\n",
       " 'AQZGIT0PQ52AD',\n",
       " 'A13LHBUYIK9TMC',\n",
       " 'AR0061TDVTA90',\n",
       " 'A3JN7YYN1X6KI3',\n",
       " 'A3JNA4RRAQVUHM',\n",
       " 'A1CKCGZIHFBUR1',\n",
       " 'A1680FEI6YINFQ',\n",
       " 'A2L88TSIGYSP41',\n",
       " 'A2L7JV0MPTN4V',\n",
       " 'AR1JDFK058HE9',\n",
       " 'AB0T4M5WPYM0I',\n",
       " 'AB0J19NZ2SD70',\n",
       " 'A2L6JHIQJ6HX9P',\n",
       " 'A1CJZ8CGR8LSNO',\n",
       " 'AR88L6NGNUHG4',\n",
       " 'ARGT7BXP1K7HO',\n",
       " 'A2KZ0UIXK1TMIE',\n",
       " 'A2KYFJPCOJY35Q',\n",
       " 'AAMS5L1FD6U5N',\n",
       " 'A3KF8OP0I238YQ',\n",
       " 'A3KFWHU23ML8E8',\n",
       " 'A3KINWOT486RVD',\n",
       " 'ARE2MDLUM3APW',\n",
       " 'A3KIOMRFJL9YGB',\n",
       " 'A2KKVZDRUZ3NCA',\n",
       " 'A2KKS3UU5CE2T7',\n",
       " 'A13JYPP8UAWZWP',\n",
       " 'A1CDCZY6JQQUJ6',\n",
       " 'ARFL1FELT6VKZ',\n",
       " 'A2KJZXIXBHVG0K',\n",
       " 'A2KJWZ7I24GMQC',\n",
       " 'ARFM9XV0EUSW3',\n",
       " 'ARFRKID8WSIIL',\n",
       " 'AAJN7TABNKT5K',\n",
       " 'A1XRBL7XI90FX',\n",
       " 'A1XSSG2IQL1023',\n",
       " 'A1XQENKF1Z3HMJ',\n",
       " 'A13K7DI5Q7UXSB',\n",
       " 'A1HQM7Q6LEVKW1',\n",
       " 'A2KPWKLXW0JFE8',\n",
       " 'A1XLK1JAEFAN9I',\n",
       " 'A2KXC9ICIICYNS',\n",
       " 'AATWIUM92SB2R',\n",
       " 'A3JZ81N3CB5PIP',\n",
       " 'A3K07M3RETZR63',\n",
       " 'A3K3T0MJRZVWWP',\n",
       " 'A3K3WHM4C7XCCX',\n",
       " 'ARAGORUBUH8XT',\n",
       " 'A2KWLOBY7GABA0',\n",
       " 'AARLZ5YUHB7DB',\n",
       " 'A3K4SHKV5H9OSU',\n",
       " 'A3K74114J852FQ',\n",
       " 'A3K7APE268J196',\n",
       " 'A1CEXBPFII8OG8',\n",
       " 'A2KSEREZAWFOF2',\n",
       " 'A3KAZVPRN577G2',\n",
       " 'ARBRWSZH1CP70',\n",
       " 'A1XP13D49I37DV',\n",
       " 'A2KQH12AFDMN4B',\n",
       " 'A3JYAPO496COOF',\n",
       " 'A2J7BEPJB2NQ8I',\n",
       " 'A3LOVYOYGXZEZV',\n",
       " 'A2J591OLWPBEMQ',\n",
       " 'A3MIKGO9GHDB4E',\n",
       " 'A3MKTMG1Y1Q3M4',\n",
       " 'A2HRRBJDCHWAK9',\n",
       " 'A3MNFI7PHG3XLQ',\n",
       " 'A9MNSV3NKN2C',\n",
       " 'A3MOCGTDZO2A0U',\n",
       " 'A2HNY1X22KZ41M',\n",
       " 'A1YILLVK1277IC',\n",
       " 'A1YIDFOSOKSAG',\n",
       " 'A2HKKAOZG75FAQ',\n",
       " 'A3MU8OBSCGX56L',\n",
       " 'A10AVFDDU87KJ4',\n",
       " 'A16FQAZE232M0R',\n",
       " 'A1MQ7QN3S90UJ3',\n",
       " 'A181T1U7WRODR9',\n",
       " 'A121KMFNEWZHYW',\n",
       " 'A2HCRBZEU44R0N',\n",
       " 'ASY4TVBQLUU4V',\n",
       " 'A3MQGE78FUVFYX',\n",
       " 'ASS7BE3OFM44N',\n",
       " 'A3MIJQ6V1IACTY',\n",
       " 'A10BSS8EZFU0RZ',\n",
       " 'A16EWAG1SO7QMG',\n",
       " 'ASNEPTZRP0EDO',\n",
       " 'ASNEWWV7GY6LF',\n",
       " 'A2HWIB3OA6T3KF',\n",
       " 'A2HWF3GU8HQ65N',\n",
       " 'A1YIBS8K69EG1V',\n",
       " 'A2HV5MFNXN0FSW',\n",
       " 'A1I0UOVLRV2A5T',\n",
       " 'A1C05I2RE9MYMU',\n",
       " 'ASP7FI5BO281G',\n",
       " 'A1MU2YMN78CADQ',\n",
       " 'A1C04PEKGICEUO',\n",
       " 'ASPL0SF3VVEZH',\n",
       " 'A2HUJQL69W4F6X',\n",
       " 'A2HUIIA2QN4H14',\n",
       " 'A2HTX4HVK65YN4',\n",
       " 'A1MSLHCISXDB79',\n",
       " 'A3MHR2OBO2EWP0',\n",
       " 'A3MI7N5E7UQNFS',\n",
       " 'A1BYGJY1CIVTPY',\n",
       " 'A2HWZ43WI89MSF',\n",
       " 'A3MYG7TWPDUAK',\n",
       " 'A3MYY7DV4TDL6W',\n",
       " 'A2H05D2NQ7OFY1',\n",
       " 'A3NB7MNJ6QCSGB',\n",
       " 'A9BLKS2XSCI9J',\n",
       " 'A2GYCGJVT1TC4O',\n",
       " 'A2GXB7WJRGWHOL',\n",
       " 'A1YNI8AT0RX4FN',\n",
       " 'A3NBM4F6M7L2SY',\n",
       " 'A3NCB51ODGDZ3',\n",
       " 'A2H2N41KBP68JM',\n",
       " 'AT8K2X9IQS407',\n",
       " 'A99M9MDHR23Q4',\n",
       " 'A2GSO1KCB4LVXT',\n",
       " 'A1YP5WLIHGG136',\n",
       " 'A2GRK93JJ714MK',\n",
       " 'A13CU8MG6T51ET',\n",
       " 'A2GRIT6JVGKTSA',\n",
       " 'A2GRFYA2LX8STE',\n",
       " 'A2GR8DKPGFS0FX',\n",
       " 'A1BVGYU4CT3R06',\n",
       " 'A2H35PTYWVZA3I',\n",
       " 'A2H3FJ1MI0IN5V',\n",
       " 'A16HOF1WQ53ISU',\n",
       " 'A9HT0J22UER2U',\n",
       " 'A2HC94UMOSA5IE',\n",
       " 'A2HB9R7LTN7A7O',\n",
       " 'A2HAVICMBMJ1B6',\n",
       " 'A2H9Z6OSDBBDFI',\n",
       " 'A3N38KMSMYELWC',\n",
       " 'A3N49CWT2F2WCR',\n",
       " 'A9ESHA5MS6S6L',\n",
       " 'A2H8KHYX2CSKSS',\n",
       " 'A3N74F2A1D6N65',\n",
       " 'A1BY4ZPY5FF2SB',\n",
       " 'AT25728MZICA5',\n",
       " 'A2H7GVXG28DU3',\n",
       " 'AT29CACYTJKYX',\n",
       " 'A1MN175SVC6Q2I',\n",
       " 'A1MLZRR83LZE29',\n",
       " 'AV7JJ3X0M17AC',\n",
       " 'A2H4JOAAC6GH77',\n",
       " 'A3N9WRCZ1TTI9F',\n",
       " 'ASYVI9TLV4WPI',\n",
       " 'ASMK582FKPNDA',\n",
       " 'A2HYMHX9P8MXB',\n",
       " 'A2HZ6G2HQ5FCU5',\n",
       " 'A3LUBCK7X6CFDO',\n",
       " 'AS7Y7VUDF1VSN',\n",
       " 'AA0ACUPEPT1RN',\n",
       " 'A2IT5J4H9MHB2Z',\n",
       " 'A1Y7YR52YGFNJ',\n",
       " 'A1MY0JMN3D5HVH',\n",
       " 'A1Y87C9PZLSCK3',\n",
       " 'A2IQETH87S6IX6',\n",
       " 'AS7OZHGS6G1R5',\n",
       " 'AS935YJ1LIR5K',\n",
       " 'AS9IG6PUNJQGC',\n",
       " 'A1C4LZMNYZREZ2',\n",
       " 'A1Y8MXGYT8RUBF',\n",
       " 'A9YCRCOUEW8Q6',\n",
       " 'A9Y74ME1Y37BF',\n",
       " 'A3LYSKFMYREX9C',\n",
       " 'A2IK5CHTYMHMRX',\n",
       " 'ASBUN4IBPXXIC',\n",
       " 'A9YWXFBTBKQN6',\n",
       " 'A182GCMYVYOPF8',\n",
       " 'AA0E1FP3XX9KW',\n",
       " 'AS79L77IK4S1V',\n",
       " 'A2J58ARKUZ99YA',\n",
       " 'AS4P74KQY9WR4',\n",
       " 'A2J4XMWKR8PPD0',\n",
       " 'A1MYQP62TWNV78',\n",
       " 'A3LPP7N20G7PIY',\n",
       " 'A1Y3FEUELH3FTI',\n",
       " 'A2J20GWZLFU3MH',\n",
       " 'A3LQJZVOWQXOVU',\n",
       " 'A3LQXZYW45VAKG',\n",
       " 'AS5Y8GODK9IDQ',\n",
       " 'A1HUW41UBVLDNA',\n",
       " 'AS601QL76Q5ES',\n",
       " 'A2IYFWTBRBKO3G',\n",
       " 'A2IXSX2QSF7J66',\n",
       " 'A2IX2PCXS5O2FK',\n",
       " 'A1Y765I59I0ZTE',\n",
       " 'A3LRLLBCS4X5C1',\n",
       " 'A2IVF2MVEVER0I',\n",
       " 'A1Y7C8PV83I3XW',\n",
       " 'A3LYSRW0N6N3XE',\n",
       " 'ASCF54LSHNKDB',\n",
       " 'A1HVQFWB7GG15G',\n",
       " 'A2IHMUEERSGTVN',\n",
       " 'A2I7MP5GCRNNF0',\n",
       " 'ASIEM9LIO50D7',\n",
       " 'A9SY4R419THI1',\n",
       " 'ASIWJTQBF7FCN',\n",
       " 'A2I56Z0U2309NL',\n",
       " 'A9SWXSVCHJS6L',\n",
       " 'A3M6QNJ79UIR18',\n",
       " 'ASJDCUGCMII0I',\n",
       " 'A2I56BBI20YV1C',\n",
       " 'A3M7BLAXAQJE7D',\n",
       " 'A1YHP3TKOTIIZ3',\n",
       " 'A2I3BWIY35O2SX',\n",
       " 'A2I2ZHG8M88CUQ',\n",
       " 'A2I27S48Y59RH0',\n",
       " 'A9Q28YTLYREO7',\n",
       " 'ASKKAHTFD4XRL',\n",
       " 'A1YHXGV6GC51IM',\n",
       " 'A2I1HVD9U8MXS1',\n",
       " 'A2I0IEIA9FJB14',\n",
       " 'A2I83WNAYGX8E',\n",
       " 'A2GQ0WGM9BYX9O',\n",
       " 'A2I89FQUSMESB',\n",
       " 'A2I8KUDXTC9WYI',\n",
       " 'A1YD35RI6XTRQL',\n",
       " 'A16DBWVWD7W4W8',\n",
       " 'A16DP3TXU4EZ7S',\n",
       " 'A9WO6SOUAHQ8A',\n",
       " 'A2IFTMORNNXG62',\n",
       " 'A9WDESXSSYEYT',\n",
       " 'A16EIA3UQG445T',\n",
       " 'A3M237ECUXDH31',\n",
       " 'A3M31G4GJ9066T',\n",
       " 'A3M36QLDLO1V37',\n",
       " 'A2IB2YKTQP2QNP',\n",
       " 'A9UKC8VZM9W0L',\n",
       " 'A1C3I6ZVMMBB92',\n",
       " 'A1C39GTHFITRZV',\n",
       " 'A3M3ICZZA6DR84',\n",
       " 'A2I9H8CREHXA5E',\n",
       " 'A3M3MC7577AHRW',\n",
       " 'A1MW43XT6R4KS8',\n",
       " 'A3M64IGBQEMMFD',\n",
       " 'A2I8IBC8OIACOE',\n",
       " 'A3QMX9JBLBUICS',\n",
       " 'A1ZUFZLGZ3934Y',\n",
       " 'A3QTUD5QV77KM3',\n",
       " 'A3V4827LOG1F0X',\n",
       " 'A3V5G0BS6X5A6J',\n",
       " 'A25RRYX3QL61N0',\n",
       " 'AYCC7GURIXGB8',\n",
       " 'AYCU74U03VBY5',\n",
       " 'A21KN4ISHOTD51',\n",
       " 'A25OKJJ2BW9K90',\n",
       " 'A25O3WEZ0CA34T',\n",
       " 'A1J34263XP94K8',\n",
       " 'A25NTJM1Z0UYGK',\n",
       " 'A3V6HC7LL9SCQD',\n",
       " 'A25NOTQ0JT6LAT',\n",
       " 'A3V71B7C94KEJ8',\n",
       " 'A3V8VSBDKE65Z7',\n",
       " 'A25INPT1C5NT8B',\n",
       " 'A1K5CU1KYI5XGR',\n",
       " 'A21OFVVU602ODC',\n",
       " 'A3VBKLUC1O9AM3',\n",
       " 'A3V5Z382UEG7EI',\n",
       " 'A25TVH9W5A6IHP',\n",
       " 'A21JMECLD2N7I2',\n",
       " 'A17FSRCBSVGSGG',\n",
       " 'A265TY8TEJ5N8G',\n",
       " 'A265PCQZA1Y1WF',\n",
       " 'A265KF0CQ058RZ',\n",
       " 'A265JUO8W7SL7H',\n",
       " 'A1K855P1EC348C',\n",
       " 'A3UX3UDVQ9OHLI',\n",
       " 'A1K7R1U4QZS3W2',\n",
       " 'A265B1IZE5RVG6',\n",
       " 'A21HVTE2TGI9KS',\n",
       " 'A262XCRSU4FMH7',\n",
       " 'A262OFS18KH8YO',\n",
       " 'A261I3W883RWCM',\n",
       " 'A3UZDQV8BHCD1R',\n",
       " 'A1K6PIEN2A1YZ8',\n",
       " 'A2610IV7HXXJ6',\n",
       " 'A25YW24LG877H2',\n",
       " 'A17FRWQEYG9X0A',\n",
       " 'A1J2UNYVO9G9JV',\n",
       " 'A1K6MCIX5ML9YQ',\n",
       " 'A5W5BG0K9ZDAB',\n",
       " 'A61AI6ZVVEO0M',\n",
       " 'A25F9WKXU3X8BX',\n",
       " 'A25E8V5JMW43RY',\n",
       " 'A17IBYDGBOKWGY',\n",
       " 'A1J70BVQN2L78N',\n",
       " 'A21T5C3KL41REL',\n",
       " 'AYOHY9SL13PR6',\n",
       " 'A21TJVRUHT41X',\n",
       " 'A1JZD1KC4ECJ2P',\n",
       " 'A3VJGPF1CMXP12',\n",
       " 'A24YKXB4LYOAZR',\n",
       " 'A5Q4NHGUGRZFA',\n",
       " 'A24YATZK2JF7IR',\n",
       " 'A5P7STTZE2MJV',\n",
       " 'A24Y7P9O9LU6TH',\n",
       " 'A3VK83CL1ZHW2P',\n",
       " 'A3VKM6UC9W0OTM',\n",
       " 'A24VQTY2LYNAFT',\n",
       " 'A1JXRXYVSUAW6I',\n",
       " 'A3VKQB7H99HIF6',\n",
       " 'A3VM3Y2EQLSL7H',\n",
       " 'A1AGTVC5FQT7VE',\n",
       " 'A5QJ181472UWJ',\n",
       " 'A252H05TUGHEBV',\n",
       " 'A3VHZJN0SQ01M0',\n",
       " 'A3VC35X3OYBP4O',\n",
       " 'A25DIYZYMAPWCL',\n",
       " 'A5VHC3BRCZQAS',\n",
       " 'A25CXZCEN02WO7',\n",
       " 'A21POM7Z5KO3PD',\n",
       " 'A25APF7Z53DXSB',\n",
       " 'A5URUFZXLJI2Q',\n",
       " 'AYKGGK27FKHG8',\n",
       " 'A21QLF43FLA9DE',\n",
       " 'A1K3L3CVDVSKH2',\n",
       " 'A3VEWKVBH9N5L',\n",
       " 'A1J460T76TU0T5',\n",
       " 'A25512V89TWDBJ',\n",
       " 'A21RZFSC7L21V7',\n",
       " 'A254SB9BZ5KMUU',\n",
       " 'A3VEY6S5325K20',\n",
       " 'A3VF5E3CGBSI5Q',\n",
       " 'A1K38H4KCZCIIT',\n",
       " 'A3VFXERTB6B0GB',\n",
       " 'A21P0KJS5ZKN1R',\n",
       " 'A21WBA2RH72WYC',\n",
       " 'A0508779FEO1DUNOSQNX',\n",
       " 'A12LSO0YA2VLT4',\n",
       " 'A1KGVDGS4753UJ',\n",
       " 'A27AR8QJZRIOHP',\n",
       " 'A1KGLZD07FEHR3',\n",
       " 'A6F4HDHDTKQEQ',\n",
       " 'A1KFMFDJIT199V',\n",
       " 'A279GACYBMSAT0',\n",
       " 'A278X0N21YYWKE',\n",
       " 'A216V41DLQV9DC',\n",
       " 'A3TWWIZ8HSNXZ9',\n",
       " 'AXTDD995GILVI',\n",
       " 'A3U16LITWT2PQJ',\n",
       " 'A217CC8F7N5717',\n",
       " 'A277S2UN7U5PI3',\n",
       " 'A3U30FKFTAUPZR',\n",
       " 'A2771ZD14NJVS',\n",
       " 'A17CX91YX5TFFR',\n",
       " 'A276UN19IILK07',\n",
       " 'A276S7NU0KI9H',\n",
       " 'A1IZVWAO5SDBLH',\n",
       " 'A27CK1O95WL8SM',\n",
       " 'A3TWSBAR05BU1G',\n",
       " 'AXQNEMI9N0Z2D',\n",
       " 'AXL13DR8SG43T',\n",
       " 'A1KHYRYOKP99C9',\n",
       " 'A212HIFBJC2W9',\n",
       " 'A27JR52OWDWYX2',\n",
       " 'A27J8ZGNHN89XR',\n",
       " 'A213B4636S30CL',\n",
       " 'A2142HFF1SYV3R',\n",
       " 'A1KHTR21SMTYMX',\n",
       " 'AXNBNC7V5I88X',\n",
       " 'A3TTCDV2J5GRAI',\n",
       " 'A12OZVVOI5RCNU',\n",
       " 'A3TUZGQOWGA2C7',\n",
       " 'A215XT7V6PJGV5',\n",
       " 'A27DVYENZP6ABB',\n",
       " 'A1APCGMUVYINAJ',\n",
       " 'A1APB9ABTNT04V',\n",
       " 'A12OYN0X2GDUB',\n",
       " 'A1IZT8R23F819J',\n",
       " 'A3TWI7Y0KO08QV',\n",
       " 'A276QNJHOU6FO9',\n",
       " 'A3UT0CL8YVTGSL',\n",
       " 'A276IEU4PLTBZQ',\n",
       " 'A6B5LMF6CWT27',\n",
       " 'A3UIQ1DG8MOREB',\n",
       " 'A1KBSRBXYLI83B',\n",
       " 'A26KACI1TX95E3',\n",
       " 'A1KB5SQKOW9FV8',\n",
       " 'A26HGVNQ8V9RGX',\n",
       " 'A26H9J768DVXT0',\n",
       " 'A26G4L2U3Z98CL',\n",
       " 'A21DH44P649EB5',\n",
       " 'A3UHXL2R1Z1F0V',\n",
       " 'AY3QEKFB60O9X',\n",
       " 'A26BZ1JTONRPGB',\n",
       " 'A26BPNWY3HKNYR',\n",
       " 'A26BFVZVU268J7',\n",
       " 'A62YLUD4BHI1Y',\n",
       " 'A26A2OVCGNIVQ',\n",
       " 'A3UQXHI88S7XAX',\n",
       " 'A268FKAUZ7RH7D',\n",
       " 'A267PALC57LP8A',\n",
       " 'A1K9NTYL9PSRXJ',\n",
       " 'A26LRC23C31CTM',\n",
       " 'A3UGZLCQSOVCVY',\n",
       " 'A67861C2ZZDHQ',\n",
       " 'A3U6I9RZRA4AYY',\n",
       " 'A271VS35SZEVOF',\n",
       " 'A1J1J0FNZHJYPM',\n",
       " 'A271N3VANLQQLG',\n",
       " 'A688WCFR38LDX',\n",
       " 'A12N5XB3C9ODEV',\n",
       " 'A26ZFDF2C7NIQ7',\n",
       " 'A26YY83AQWS0JL',\n",
       " 'A26YE3F1HWM1KR',\n",
       " 'AXZCVTROTSSP9',\n",
       " 'A26Y7PS6415JCF',\n",
       " 'A219528T3MZ3SZ',\n",
       " 'A26WG5COTUR9MD',\n",
       " 'A05306962T0DL4FS2RA7L',\n",
       " 'A1KD0YU2NXAOVI',\n",
       " 'A678V8KAX22OT',\n",
       " 'A21AO8OD439XA8',\n",
       " 'A26PRB90CRN1T3',\n",
       " 'A26NTVWYOXC407',\n",
       " 'A3U46FFN9OP7BL',\n",
       " 'A1JVZE35LFQ0PF',\n",
       " 'A1JUWVRHEXUX22',\n",
       " 'A5MFE0AQAB1IE',\n",
       " 'A52KI87KEWX39',\n",
       " 'AZJVIC5P13X3H',\n",
       " 'A22AGOPQYGHN8J',\n",
       " 'A2318YEO923PC0',\n",
       " 'AZKN9KO2ECFFZ',\n",
       " 'A52K1MRD4C87B',\n",
       " 'AZLE2XFH3JUNG',\n",
       " 'A1JDXWQ82RVSYC',\n",
       " 'A231M5GVQYB9BC',\n",
       " 'A1JKNXCDZ42K84',\n",
       " 'A51EAGUKGTONU',\n",
       " 'A22Z0TTGZE6KHD',\n",
       " 'AZMY6E8B52L2T',\n",
       " 'A1JJ2X01P1TTPL',\n",
       " 'AZN8F9UR5F17N',\n",
       " 'A22XHWAE9HLVRL',\n",
       " 'A22BQPEBCPADGH',\n",
       " 'A22XEPBJDEK8YG',\n",
       " 'A2308TJAZZMLDR',\n",
       " 'A22A5CRRL8XKMN',\n",
       " 'A1A8KY344FDXZB',\n",
       " 'A23355NW4K0V8M',\n",
       " 'A23CL1FWTYW6WA',\n",
       " 'A48AIMNUFCPCD',\n",
       " 'A239K0NSA8BHKJ',\n",
       " 'A48WFFX018ZVU',\n",
       " 'A236E6Y09LWX2J',\n",
       " 'A1A31FTEQDJULZ',\n",
       " 'A1JLU71GKXMCL3',\n",
       " 'A4DLVVK8W2ZVA',\n",
       " 'A4DMBG1O76C1S',\n",
       " 'A545W3WII5GCM',\n",
       " 'A234TEF3JFHNEE',\n",
       " 'A4EIIO2XXLR61',\n",
       " 'A1JKVXQLDP1Y5G',\n",
       " 'AZGWU83KK5HJR',\n",
       " 'A233HU0KM5YAJ0',\n",
       " 'AZH9O3UNENISE',\n",
       " 'A229KK9DZL6J7R',\n",
       " 'A00700212KB3K0MVESPIY',\n",
       " 'A1JKVK3MC5VRLU',\n",
       " 'A22BY7QD5OMJET',\n",
       " 'A226DOIEG9RDIY',\n",
       " 'A17PMJZYDJPDQ0',\n",
       " 'A1JE6LNKII6WZM',\n",
       " 'AZX1JTTIUYZX4',\n",
       " 'A22DZVKZ8TVBPB',\n",
       " 'A22NE96VVS6WXT',\n",
       " 'AZXP46IB63PU8',\n",
       " 'A22NB5IEE054MS',\n",
       " 'A22F95LFUTNPBL',\n",
       " 'A1A4R41718418D',\n",
       " 'A4Q7Q1PHFFJ0H',\n",
       " 'A1A4V0X4A2PFTD',\n",
       " 'A4QDZKZLZKXRG',\n",
       " 'A22LQGRG61FDYW',\n",
       " 'A1JEZWLIOEMI7Z',\n",
       " 'A22FD5WLFCW033',\n",
       " 'A4S1P34RBLBVO',\n",
       " 'A22JT37677YT9X',\n",
       " 'A1A3PA9LL8DQRG',\n",
       " 'A4S36RVUN4H24',\n",
       " 'A4S4AO6X6EY7N',\n",
       " 'A22M5Q26POVZN',\n",
       " 'A22NT5D3VX41OA',\n",
       " 'A22NU0QZBB0PDK',\n",
       " 'A1A51IAKLHAORR',\n",
       " 'A22W31M3LHT4AV',\n",
       " 'A22UGV7ZMGSOJ0',\n",
       " 'AZR10WSWFD4B5',\n",
       " 'A22TA00NX63RC7',\n",
       " 'A22T0TRQT9WE14',\n",
       " 'A4HI1DDZN54S1',\n",
       " 'AZS23E3IKSF9D',\n",
       " 'A4IJBVEONRRPP',\n",
       " 'A1A6GN5E65NJQX',\n",
       " 'A4LKXHDQYJTG8',\n",
       " 'A22QBPOG0A08AB',\n",
       " 'A1JH5EKCDJPXSH',\n",
       " 'A1A5YE7K0WHN2T',\n",
       " 'A22DXDIYXPBVSP',\n",
       " 'A4N2MORJWLSCP',\n",
       " 'A22PHKFFVGZ9X6',\n",
       " 'A12GINZDBMPBOI',\n",
       " 'AZUPWQFWXZYE9',\n",
       " 'AZV2AG96CRJ26',\n",
       " 'AZPQY0IGZD5QL',\n",
       " 'A473A4T2R38OB',\n",
       " 'A23EYT9OZXXOJ7',\n",
       " 'AZBHJDI49LKDK',\n",
       " 'A3VVUO6B3WR1KG',\n",
       " 'A3VWGP4KFK5VSM',\n",
       " 'A21ZE48YPVAE4A',\n",
       " 'AYYTQM1QEUI6A',\n",
       " 'A3VYOQI0WY1ICY',\n",
       " 'A24840XIEH2EE7',\n",
       " 'A3VZEBBLZU111C',\n",
       " 'A245U8GCCM4FX3',\n",
       " 'A21Z4GIHSIOQRT',\n",
       " 'AYZ4L8A48FSCO',\n",
       " 'A5DTRTR8UM3V4',\n",
       " 'A17RFKTUC8LKLH',\n",
       " 'A220H1HPW0BU20',\n",
       " 'A244I0L3B89G0B',\n",
       " 'A1JR6E2RBY18BH',\n",
       " 'A17QLW95TYSFME',\n",
       " 'A3WB8ENIBT5WV',\n",
       " 'AZ1T0IVL0EBRF',\n",
       " 'A1JB07R59K3ARB',\n",
       " 'A3VUY5LNTPISLH',\n",
       " 'A1J9AEEMC4CQ8C',\n",
       " 'A5ISEDTWYHLDR',\n",
       " 'A1JUF8HCOHA6UU',\n",
       " 'A1J8UKH2DY4GH2',\n",
       " 'A1JUAHVYRZRQJV',\n",
       " 'A1AG6U022WHXBF',\n",
       " 'AYT9GJV1F1HWO',\n",
       " 'A24MUR7JGFFAXF',\n",
       " 'A1JTUH8W536LMH',\n",
       " 'A3VSTZHEH4X02S',\n",
       " 'AYVBGONQ2AVXB',\n",
       " 'AYVGCYZSG8ERF',\n",
       " 'AYVLGOWLOORVX',\n",
       " 'A3VTSPF7JQ80UQ',\n",
       " 'A24HMHJ163EE20',\n",
       " 'AYWHCM0TJ4737',\n",
       " 'A24H7H89DXSYTI',\n",
       " 'AYWUHB7N8XGZQ',\n",
       " 'AYX4ABAI4QDJX',\n",
       " 'A3VU2J7G0U35AU',\n",
       " 'A24GGAR2UUL06M',\n",
       " 'A221CPTL0Y71NU',\n",
       " 'A5AXASLO6LDMH',\n",
       " 'A1AD8K8JH6KSTQ',\n",
       " 'AZ2UU2UYXECYX',\n",
       " 'A225I9V0Y8MBRQ',\n",
       " 'A1A2OUARTAUEZI',\n",
       " 'A1ABSMOMA1M0RR',\n",
       " 'A3Y4SHD9YOVUL',\n",
       " 'A23LL6RVBJALL',\n",
       " 'A1JB5FUPKL6MB2',\n",
       " 'A23KZ0YXN76OSF',\n",
       " 'A3Z0305EP80ZC',\n",
       " 'A12IPN4JK4H39P',\n",
       " 'AZANVKBYIYUJC',\n",
       " 'A1ABCEHTRLZPKD',\n",
       " 'A414B9GBG3LWF',\n",
       " 'A23IU0GXPBOFDC',\n",
       " 'A1JNEGVVM6PA0U',\n",
       " 'A22604C1II3OGW',\n",
       " 'A2265FMBWOG0WM',\n",
       " 'A1JCGUZB7PX4SA',\n",
       " 'A43BHE7FOTFFP',\n",
       " 'A44PLVM8M8MNX',\n",
       " 'A225CZ3Y2JJT5O',\n",
       " 'A27LI8T4Y6AG2K',\n",
       " 'A23Q4B6O6E8GZ9',\n",
       " 'A3X101EB60MV9',\n",
       " 'A2407TYT5MCLX9',\n",
       " 'A222XUSQUPQUD2',\n",
       " 'A23Z9R8VEYWG3U',\n",
       " 'A2232N3RH0VU3A',\n",
       " ...]"
      ]
     },
     "execution_count": 108,
     "metadata": {},
     "output_type": "execute_result"
    }
   ],
   "source": [
    "high_rating_user_ids = list(high_rating_user.index)\n",
    "high_rating_user_ids"
   ]
  },
  {
   "cell_type": "code",
   "execution_count": 109,
   "metadata": {},
   "outputs": [
    {
     "data": {
      "text/html": [
       "<div>\n",
       "<style scoped>\n",
       "    .dataframe tbody tr th:only-of-type {\n",
       "        vertical-align: middle;\n",
       "    }\n",
       "\n",
       "    .dataframe tbody tr th {\n",
       "        vertical-align: top;\n",
       "    }\n",
       "\n",
       "    .dataframe thead th {\n",
       "        text-align: right;\n",
       "    }\n",
       "</style>\n",
       "<table border=\"1\" class=\"dataframe\">\n",
       "  <thead>\n",
       "    <tr style=\"text-align: right;\">\n",
       "      <th></th>\n",
       "      <th>reviewerID</th>\n",
       "      <th>asin</th>\n",
       "      <th>reviewerName</th>\n",
       "      <th>helpful</th>\n",
       "      <th>reviewText</th>\n",
       "      <th>overall</th>\n",
       "      <th>summary</th>\n",
       "      <th>unixReviewTime</th>\n",
       "      <th>reviewTime</th>\n",
       "    </tr>\n",
       "  </thead>\n",
       "  <tbody>\n",
       "    <tr>\n",
       "      <th>0</th>\n",
       "      <td>A1YJEY40YUW4SE</td>\n",
       "      <td>7806397051</td>\n",
       "      <td>Andrea</td>\n",
       "      <td>[3, 4]</td>\n",
       "      <td>Very oily and creamy. Not at all what I expect...</td>\n",
       "      <td>1</td>\n",
       "      <td>Don't waste your money</td>\n",
       "      <td>1391040000</td>\n",
       "      <td>01 30, 2014</td>\n",
       "    </tr>\n",
       "    <tr>\n",
       "      <th>1</th>\n",
       "      <td>A60XNB876KYML</td>\n",
       "      <td>7806397051</td>\n",
       "      <td>Jessica H.</td>\n",
       "      <td>[1, 1]</td>\n",
       "      <td>This palette was a decent price and I was look...</td>\n",
       "      <td>3</td>\n",
       "      <td>OK Palette!</td>\n",
       "      <td>1397779200</td>\n",
       "      <td>04 18, 2014</td>\n",
       "    </tr>\n",
       "    <tr>\n",
       "      <th>2</th>\n",
       "      <td>A3G6XNM240RMWA</td>\n",
       "      <td>7806397051</td>\n",
       "      <td>Karen</td>\n",
       "      <td>[0, 1]</td>\n",
       "      <td>The texture of this concealer pallet is fantas...</td>\n",
       "      <td>4</td>\n",
       "      <td>great quality</td>\n",
       "      <td>1378425600</td>\n",
       "      <td>09 6, 2013</td>\n",
       "    </tr>\n",
       "    <tr>\n",
       "      <th>3</th>\n",
       "      <td>A1PQFP6SAJ6D80</td>\n",
       "      <td>7806397051</td>\n",
       "      <td>Norah</td>\n",
       "      <td>[2, 2]</td>\n",
       "      <td>I really can't tell what exactly this thing is...</td>\n",
       "      <td>2</td>\n",
       "      <td>Do not work on my face</td>\n",
       "      <td>1386460800</td>\n",
       "      <td>12 8, 2013</td>\n",
       "    </tr>\n",
       "    <tr>\n",
       "      <th>4</th>\n",
       "      <td>A38FVHZTNQ271F</td>\n",
       "      <td>7806397051</td>\n",
       "      <td>Nova Amor</td>\n",
       "      <td>[0, 0]</td>\n",
       "      <td>It was a little smaller than I expected, but t...</td>\n",
       "      <td>3</td>\n",
       "      <td>It's okay.</td>\n",
       "      <td>1382140800</td>\n",
       "      <td>10 19, 2013</td>\n",
       "    </tr>\n",
       "    <tr>\n",
       "      <th>...</th>\n",
       "      <td>...</td>\n",
       "      <td>...</td>\n",
       "      <td>...</td>\n",
       "      <td>...</td>\n",
       "      <td>...</td>\n",
       "      <td>...</td>\n",
       "      <td>...</td>\n",
       "      <td>...</td>\n",
       "      <td>...</td>\n",
       "    </tr>\n",
       "    <tr>\n",
       "      <th>198497</th>\n",
       "      <td>A2BLFCOPSMBOZ9</td>\n",
       "      <td>B00LLPT4HI</td>\n",
       "      <td>Dave Edmiston</td>\n",
       "      <td>[0, 0]</td>\n",
       "      <td>Just a little dab of this shea butter should b...</td>\n",
       "      <td>5</td>\n",
       "      <td>A little dab...</td>\n",
       "      <td>1405468800</td>\n",
       "      <td>07 16, 2014</td>\n",
       "    </tr>\n",
       "    <tr>\n",
       "      <th>198498</th>\n",
       "      <td>A1UQBFCERIP7VJ</td>\n",
       "      <td>B00LLPT4HI</td>\n",
       "      <td>Margaret Picky</td>\n",
       "      <td>[0, 0]</td>\n",
       "      <td>This shea butter is completely raw and unrefin...</td>\n",
       "      <td>5</td>\n",
       "      <td>Pure organic raw shea butter</td>\n",
       "      <td>1405296000</td>\n",
       "      <td>07 14, 2014</td>\n",
       "    </tr>\n",
       "    <tr>\n",
       "      <th>198499</th>\n",
       "      <td>A35Q0RBM3YNQNF</td>\n",
       "      <td>B00LLPT4HI</td>\n",
       "      <td>M. Hill</td>\n",
       "      <td>[0, 0]</td>\n",
       "      <td>The skin is the body's largest organ and it ab...</td>\n",
       "      <td>5</td>\n",
       "      <td>One Pound Organic Grade A Unrefined Shea Butter</td>\n",
       "      <td>1405468800</td>\n",
       "      <td>07 16, 2014</td>\n",
       "    </tr>\n",
       "    <tr>\n",
       "      <th>198500</th>\n",
       "      <td>A3LGT6UZL99IW1</td>\n",
       "      <td>B00LLPT4HI</td>\n",
       "      <td>Richard C. Drew \"Anaal Nathra/Uthe vas Bethod...</td>\n",
       "      <td>[0, 0]</td>\n",
       "      <td>I have very dry elbows and knees.  I have a to...</td>\n",
       "      <td>5</td>\n",
       "      <td>This stuff is amazing!</td>\n",
       "      <td>1405382400</td>\n",
       "      <td>07 15, 2014</td>\n",
       "    </tr>\n",
       "    <tr>\n",
       "      <th>198501</th>\n",
       "      <td>A3UJRNI8UR4871</td>\n",
       "      <td>B00LLPT4HI</td>\n",
       "      <td>Wulfstan \"wulfstan\"</td>\n",
       "      <td>[0, 1]</td>\n",
       "      <td>This is 100% pure Shea Butter. Do not mistake ...</td>\n",
       "      <td>5</td>\n",
       "      <td>The \"Real Stuff\"!</td>\n",
       "      <td>1405987200</td>\n",
       "      <td>07 22, 2014</td>\n",
       "    </tr>\n",
       "  </tbody>\n",
       "</table>\n",
       "<p>178368 rows × 9 columns</p>\n",
       "</div>"
      ],
      "text/plain": [
       "            reviewerID        asin  \\\n",
       "0       A1YJEY40YUW4SE  7806397051   \n",
       "1        A60XNB876KYML  7806397051   \n",
       "2       A3G6XNM240RMWA  7806397051   \n",
       "3       A1PQFP6SAJ6D80  7806397051   \n",
       "4       A38FVHZTNQ271F  7806397051   \n",
       "...                ...         ...   \n",
       "198497  A2BLFCOPSMBOZ9  B00LLPT4HI   \n",
       "198498  A1UQBFCERIP7VJ  B00LLPT4HI   \n",
       "198499  A35Q0RBM3YNQNF  B00LLPT4HI   \n",
       "198500  A3LGT6UZL99IW1  B00LLPT4HI   \n",
       "198501  A3UJRNI8UR4871  B00LLPT4HI   \n",
       "\n",
       "                                            reviewerName helpful  \\\n",
       "0                                                 Andrea  [3, 4]   \n",
       "1                                             Jessica H.  [1, 1]   \n",
       "2                                                  Karen  [0, 1]   \n",
       "3                                                  Norah  [2, 2]   \n",
       "4                                              Nova Amor  [0, 0]   \n",
       "...                                                  ...     ...   \n",
       "198497                                     Dave Edmiston  [0, 0]   \n",
       "198498                                    Margaret Picky  [0, 0]   \n",
       "198499                                           M. Hill  [0, 0]   \n",
       "198500  Richard C. Drew \"Anaal Nathra/Uthe vas Bethod...  [0, 0]   \n",
       "198501                               Wulfstan \"wulfstan\"  [0, 1]   \n",
       "\n",
       "                                               reviewText  overall  \\\n",
       "0       Very oily and creamy. Not at all what I expect...        1   \n",
       "1       This palette was a decent price and I was look...        3   \n",
       "2       The texture of this concealer pallet is fantas...        4   \n",
       "3       I really can't tell what exactly this thing is...        2   \n",
       "4       It was a little smaller than I expected, but t...        3   \n",
       "...                                                   ...      ...   \n",
       "198497  Just a little dab of this shea butter should b...        5   \n",
       "198498  This shea butter is completely raw and unrefin...        5   \n",
       "198499  The skin is the body's largest organ and it ab...        5   \n",
       "198500  I have very dry elbows and knees.  I have a to...        5   \n",
       "198501  This is 100% pure Shea Butter. Do not mistake ...        5   \n",
       "\n",
       "                                                summary  unixReviewTime  \\\n",
       "0                                Don't waste your money      1391040000   \n",
       "1                                           OK Palette!      1397779200   \n",
       "2                                         great quality      1378425600   \n",
       "3                                Do not work on my face      1386460800   \n",
       "4                                            It's okay.      1382140800   \n",
       "...                                                 ...             ...   \n",
       "198497                                  A little dab...      1405468800   \n",
       "198498                     Pure organic raw shea butter      1405296000   \n",
       "198499  One Pound Organic Grade A Unrefined Shea Butter      1405468800   \n",
       "198500                           This stuff is amazing!      1405382400   \n",
       "198501                                The \"Real Stuff\"!      1405987200   \n",
       "\n",
       "         reviewTime  \n",
       "0       01 30, 2014  \n",
       "1       04 18, 2014  \n",
       "2        09 6, 2013  \n",
       "3        12 8, 2013  \n",
       "4       10 19, 2013  \n",
       "...             ...  \n",
       "198497  07 16, 2014  \n",
       "198498  07 14, 2014  \n",
       "198499  07 16, 2014  \n",
       "198500  07 15, 2014  \n",
       "198501  07 22, 2014  \n",
       "\n",
       "[178368 rows x 9 columns]"
      ]
     },
     "execution_count": 109,
     "metadata": {},
     "output_type": "execute_result"
    }
   ],
   "source": [
    "df_cleaned = df[~df.reviewerID.isin(high_rating_user_ids)]\n",
    "df_cleaned"
   ]
  },
  {
   "cell_type": "code",
   "execution_count": 111,
   "metadata": {},
   "outputs": [
    {
     "data": {
      "text/html": [
       "<div>\n",
       "<style scoped>\n",
       "    .dataframe tbody tr th:only-of-type {\n",
       "        vertical-align: middle;\n",
       "    }\n",
       "\n",
       "    .dataframe tbody tr th {\n",
       "        vertical-align: top;\n",
       "    }\n",
       "\n",
       "    .dataframe thead th {\n",
       "        text-align: right;\n",
       "    }\n",
       "</style>\n",
       "<table border=\"1\" class=\"dataframe\">\n",
       "  <thead>\n",
       "    <tr style=\"text-align: right;\">\n",
       "      <th></th>\n",
       "      <th>reviewerID</th>\n",
       "      <th>asin</th>\n",
       "      <th>reviewerName</th>\n",
       "      <th>helpful</th>\n",
       "      <th>reviewText</th>\n",
       "      <th>overall</th>\n",
       "      <th>summary</th>\n",
       "      <th>unixReviewTime</th>\n",
       "      <th>reviewTime</th>\n",
       "    </tr>\n",
       "  </thead>\n",
       "  <tbody>\n",
       "  </tbody>\n",
       "</table>\n",
       "</div>"
      ],
      "text/plain": [
       "Empty DataFrame\n",
       "Columns: [reviewerID, asin, reviewerName, helpful, reviewText, overall, summary, unixReviewTime, reviewTime]\n",
       "Index: []"
      ]
     },
     "execution_count": 111,
     "metadata": {},
     "output_type": "execute_result"
    }
   ],
   "source": [
    "#Testing a few high rating user IDs to see if we succesfully dropped from our cleaned df\n",
    "df_cleaned[df_cleaned[\"reviewerID\"]== \"A3OOIWLW0Y01C2\"]"
   ]
  },
  {
   "cell_type": "code",
   "execution_count": 113,
   "metadata": {},
   "outputs": [
    {
     "data": {
      "text/html": [
       "<div>\n",
       "<style scoped>\n",
       "    .dataframe tbody tr th:only-of-type {\n",
       "        vertical-align: middle;\n",
       "    }\n",
       "\n",
       "    .dataframe tbody tr th {\n",
       "        vertical-align: top;\n",
       "    }\n",
       "\n",
       "    .dataframe thead th {\n",
       "        text-align: right;\n",
       "    }\n",
       "</style>\n",
       "<table border=\"1\" class=\"dataframe\">\n",
       "  <thead>\n",
       "    <tr style=\"text-align: right;\">\n",
       "      <th></th>\n",
       "      <th>reviewerID</th>\n",
       "      <th>asin</th>\n",
       "      <th>reviewerName</th>\n",
       "      <th>helpful</th>\n",
       "      <th>reviewText</th>\n",
       "      <th>overall</th>\n",
       "      <th>summary</th>\n",
       "      <th>unixReviewTime</th>\n",
       "      <th>reviewTime</th>\n",
       "    </tr>\n",
       "  </thead>\n",
       "  <tbody>\n",
       "  </tbody>\n",
       "</table>\n",
       "</div>"
      ],
      "text/plain": [
       "Empty DataFrame\n",
       "Columns: [reviewerID, asin, reviewerName, helpful, reviewText, overall, summary, unixReviewTime, reviewTime]\n",
       "Index: []"
      ]
     },
     "execution_count": 113,
     "metadata": {},
     "output_type": "execute_result"
    }
   ],
   "source": [
    "#It worked!\n",
    "df_cleaned[df_cleaned[\"reviewerID\"]== \"A2FM0GJWDCQNFD\"]"
   ]
  },
  {
   "cell_type": "code",
   "execution_count": 112,
   "metadata": {},
   "outputs": [
    {
     "data": {
      "text/html": [
       "<div>\n",
       "<style scoped>\n",
       "    .dataframe tbody tr th:only-of-type {\n",
       "        vertical-align: middle;\n",
       "    }\n",
       "\n",
       "    .dataframe tbody tr th {\n",
       "        vertical-align: top;\n",
       "    }\n",
       "\n",
       "    .dataframe thead th {\n",
       "        text-align: right;\n",
       "    }\n",
       "</style>\n",
       "<table border=\"1\" class=\"dataframe\">\n",
       "  <thead>\n",
       "    <tr style=\"text-align: right;\">\n",
       "      <th></th>\n",
       "      <th>reviewerID</th>\n",
       "      <th>asin</th>\n",
       "      <th>reviewerName</th>\n",
       "      <th>helpful</th>\n",
       "      <th>reviewText</th>\n",
       "      <th>overall</th>\n",
       "      <th>summary</th>\n",
       "      <th>unixReviewTime</th>\n",
       "      <th>reviewTime</th>\n",
       "    </tr>\n",
       "  </thead>\n",
       "  <tbody>\n",
       "    <tr>\n",
       "      <th>58231</th>\n",
       "      <td>A3OOIWLW0Y01C2</td>\n",
       "      <td>B001H9404A</td>\n",
       "      <td>Amy... \"MoMmYof5\"</td>\n",
       "      <td>[0, 0]</td>\n",
       "      <td>My 12 year old loves this eye shadow,  its not...</td>\n",
       "      <td>5</td>\n",
       "      <td>Daughters Favorite...</td>\n",
       "      <td>1400716800</td>\n",
       "      <td>05 22, 2014</td>\n",
       "    </tr>\n",
       "    <tr>\n",
       "      <th>61529</th>\n",
       "      <td>A3OOIWLW0Y01C2</td>\n",
       "      <td>B001M9KX78</td>\n",
       "      <td>Amy... \"MoMmYof5\"</td>\n",
       "      <td>[0, 0]</td>\n",
       "      <td>I ordered this for Christmas for my husband an...</td>\n",
       "      <td>5</td>\n",
       "      <td>Hubby loves!</td>\n",
       "      <td>1401321600</td>\n",
       "      <td>05 29, 2014</td>\n",
       "    </tr>\n",
       "    <tr>\n",
       "      <th>89804</th>\n",
       "      <td>A3OOIWLW0Y01C2</td>\n",
       "      <td>B003H8180I</td>\n",
       "      <td>Amy... \"MoMmYof5\"</td>\n",
       "      <td>[1, 1]</td>\n",
       "      <td>Gosh I luv this lip stain. Its looks like I ha...</td>\n",
       "      <td>5</td>\n",
       "      <td>ohh myy...</td>\n",
       "      <td>1400889600</td>\n",
       "      <td>05 24, 2014</td>\n",
       "    </tr>\n",
       "    <tr>\n",
       "      <th>95593</th>\n",
       "      <td>A3OOIWLW0Y01C2</td>\n",
       "      <td>B003UY8WFS</td>\n",
       "      <td>Amy... \"MoMmYof5\"</td>\n",
       "      <td>[0, 0]</td>\n",
       "      <td>Entire makeup collection.  I use it everyday. ...</td>\n",
       "      <td>5</td>\n",
       "      <td>I LOVE this..</td>\n",
       "      <td>1400716800</td>\n",
       "      <td>05 22, 2014</td>\n",
       "    </tr>\n",
       "    <tr>\n",
       "      <th>95964</th>\n",
       "      <td>A3OOIWLW0Y01C2</td>\n",
       "      <td>B003V265QW</td>\n",
       "      <td>Amy... \"MoMmYof5\"</td>\n",
       "      <td>[0, 0]</td>\n",
       "      <td>I ordered this as a Christmas present for all ...</td>\n",
       "      <td>5</td>\n",
       "      <td>Daughters LOVE!</td>\n",
       "      <td>1401321600</td>\n",
       "      <td>05 29, 2014</td>\n",
       "    </tr>\n",
       "    <tr>\n",
       "      <th>112873</th>\n",
       "      <td>A3OOIWLW0Y01C2</td>\n",
       "      <td>B004OJIZO6</td>\n",
       "      <td>Amy... \"MoMmYof5\"</td>\n",
       "      <td>[1, 1]</td>\n",
       "      <td>Saw and smelled this in the store.  Loved it a...</td>\n",
       "      <td>5</td>\n",
       "      <td>My Son...</td>\n",
       "      <td>1370649600</td>\n",
       "      <td>06 8, 2013</td>\n",
       "    </tr>\n",
       "  </tbody>\n",
       "</table>\n",
       "</div>"
      ],
      "text/plain": [
       "            reviewerID        asin       reviewerName helpful  \\\n",
       "58231   A3OOIWLW0Y01C2  B001H9404A  Amy... \"MoMmYof5\"  [0, 0]   \n",
       "61529   A3OOIWLW0Y01C2  B001M9KX78  Amy... \"MoMmYof5\"  [0, 0]   \n",
       "89804   A3OOIWLW0Y01C2  B003H8180I  Amy... \"MoMmYof5\"  [1, 1]   \n",
       "95593   A3OOIWLW0Y01C2  B003UY8WFS  Amy... \"MoMmYof5\"  [0, 0]   \n",
       "95964   A3OOIWLW0Y01C2  B003V265QW  Amy... \"MoMmYof5\"  [0, 0]   \n",
       "112873  A3OOIWLW0Y01C2  B004OJIZO6  Amy... \"MoMmYof5\"  [1, 1]   \n",
       "\n",
       "                                               reviewText  overall  \\\n",
       "58231   My 12 year old loves this eye shadow,  its not...        5   \n",
       "61529   I ordered this for Christmas for my husband an...        5   \n",
       "89804   Gosh I luv this lip stain. Its looks like I ha...        5   \n",
       "95593   Entire makeup collection.  I use it everyday. ...        5   \n",
       "95964   I ordered this as a Christmas present for all ...        5   \n",
       "112873  Saw and smelled this in the store.  Loved it a...        5   \n",
       "\n",
       "                      summary  unixReviewTime   reviewTime  \n",
       "58231   Daughters Favorite...      1400716800  05 22, 2014  \n",
       "61529            Hubby loves!      1401321600  05 29, 2014  \n",
       "89804              ohh myy...      1400889600  05 24, 2014  \n",
       "95593           I LOVE this..      1400716800  05 22, 2014  \n",
       "95964         Daughters LOVE!      1401321600  05 29, 2014  \n",
       "112873              My Son...      1370649600   06 8, 2013  "
      ]
     },
     "execution_count": 112,
     "metadata": {},
     "output_type": "execute_result"
    }
   ],
   "source": [
    "df[df[\"reviewerID\"]== \"A3OOIWLW0Y01C2\"]"
   ]
  },
  {
   "cell_type": "code",
   "execution_count": null,
   "metadata": {},
   "outputs": [],
   "source": []
  }
 ],
 "metadata": {
  "kernelspec": {
   "display_name": "Python (learn-env)",
   "language": "python",
   "name": "learn-env"
  },
  "language_info": {
   "codemirror_mode": {
    "name": "ipython",
    "version": 3
   },
   "file_extension": ".py",
   "mimetype": "text/x-python",
   "name": "python",
   "nbconvert_exporter": "python",
   "pygments_lexer": "ipython3",
   "version": "3.8.5"
  }
 },
 "nbformat": 4,
 "nbformat_minor": 4
}
