{
 "cells": [
  {
   "cell_type": "markdown",
   "id": "defe4635",
   "metadata": {},
   "source": [
    "## Data Exploration"
   ]
  },
  {
   "cell_type": "code",
   "execution_count": 152,
   "id": "8429074c",
   "metadata": {},
   "outputs": [],
   "source": [
    "#importing necessary imports"
   ]
  },
  {
   "cell_type": "code",
   "execution_count": 153,
   "id": "2224a202",
   "metadata": {},
   "outputs": [
    {
     "ename": "SyntaxError",
     "evalue": "invalid syntax (<ipython-input-153-fca5cba4c816>, line 20)",
     "output_type": "error",
     "traceback": [
      "\u001b[0;36m  Input \u001b[0;32mIn [153]\u001b[0;36m\u001b[0m\n\u001b[0;31m    from surprise.dataset\u001b[0m\n\u001b[0m                          ^\u001b[0m\n\u001b[0;31mSyntaxError\u001b[0m\u001b[0;31m:\u001b[0m invalid syntax\n"
     ]
    }
   ],
   "source": [
    "import pandas as pd\n",
    "import pickle\n",
    "import matplotlib.pyplot as plt\n",
    "\n",
    "from surprise import Dataset, Reader, accuracy\n",
    "from surprise import NormalPredictor\n",
    "from surprise import KNNBasic\n",
    "from surprise import KNNWithMeans\n",
    "from surprise import KNNWithZScore\n",
    "from surprise import KNNBaseline\n",
    "from surprise import SVD\n",
    "from surprise import BaselineOnly\n",
    "from surprise import SVDpp\n",
    "from surprise import NMF\n",
    "from surprise import SlopeOne\n",
    "from surprise import CoClustering\n",
    "from surprise.accuracy import rmse\n",
    "from surprise.model_selection import cross_validate, train_test_split, GridSearchCV\n",
    "from surprise.prediction_algorithms import SVD, SVDpp, NMF, BaselineOnly, NormalPredictor\n",
    "from surprise.dataset \n",
    "from IPython.core.display import HTML\n",
    "\n",
    "%matplotlib inline"
   ]
  },
  {
   "cell_type": "markdown",
   "id": "641173c1",
   "metadata": {},
   "source": [
    "## Exploring Review Data"
   ]
  },
  {
   "cell_type": "code",
   "execution_count": null,
   "id": "a61a8335",
   "metadata": {},
   "outputs": [],
   "source": [
    "#reading in our data as a dataframe"
   ]
  },
  {
   "cell_type": "code",
   "execution_count": null,
   "id": "111e1c62",
   "metadata": {},
   "outputs": [],
   "source": [
    "df = pd.read_json(\"Data/reviews_Beauty_5.json.gz\",lines=True)"
   ]
  },
  {
   "cell_type": "code",
   "execution_count": null,
   "id": "a43162f3",
   "metadata": {},
   "outputs": [],
   "source": [
    "df"
   ]
  },
  {
   "cell_type": "code",
   "execution_count": null,
   "id": "9b119856",
   "metadata": {},
   "outputs": [],
   "source": [
    "#checking for nulls"
   ]
  },
  {
   "cell_type": "code",
   "execution_count": null,
   "id": "440c3188",
   "metadata": {},
   "outputs": [],
   "source": [
    "df.isna().sum()"
   ]
  },
  {
   "cell_type": "code",
   "execution_count": null,
   "id": "a019f38c",
   "metadata": {},
   "outputs": [],
   "source": [
    "#1386 reviewerNames left blank; we will not need reviewerName since utilizing reviewerID\n",
    "#checking that all needed information is provided when reviewerName is NaN"
   ]
  },
  {
   "cell_type": "code",
   "execution_count": null,
   "id": "be983d3a",
   "metadata": {},
   "outputs": [],
   "source": [
    "df[df['reviewerName'].isnull()]"
   ]
  },
  {
   "cell_type": "code",
   "execution_count": null,
   "id": "2e143502",
   "metadata": {},
   "outputs": [],
   "source": [
    "#checking that all reviewers have completed at least 5 reviews"
   ]
  },
  {
   "cell_type": "code",
   "execution_count": null,
   "id": "bf6be1aa",
   "metadata": {
    "scrolled": true
   },
   "outputs": [],
   "source": [
    "df.reviewerID.value_counts()"
   ]
  },
  {
   "cell_type": "code",
   "execution_count": null,
   "id": "38eaac1d",
   "metadata": {},
   "outputs": [],
   "source": [
    "#YAY! all reviewerIDs have value of at least 5, total of 22,363 reviewers"
   ]
  },
  {
   "cell_type": "code",
   "execution_count": null,
   "id": "2832d61f",
   "metadata": {},
   "outputs": [],
   "source": [
    "#checking that all products have been reviewed at least 5 times"
   ]
  },
  {
   "cell_type": "code",
   "execution_count": null,
   "id": "632c0a88",
   "metadata": {},
   "outputs": [],
   "source": [
    "df.asin.value_counts()"
   ]
  },
  {
   "cell_type": "code",
   "execution_count": null,
   "id": "a46786dd",
   "metadata": {},
   "outputs": [],
   "source": [
    "#YAY! all products have at least 5 reviews, total of 12,101 different products"
   ]
  },
  {
   "cell_type": "code",
   "execution_count": null,
   "id": "6c81a01a",
   "metadata": {},
   "outputs": [],
   "source": [
    "#looking at ratings distribution"
   ]
  },
  {
   "cell_type": "code",
   "execution_count": null,
   "id": "a9b8c9eb",
   "metadata": {},
   "outputs": [],
   "source": [
    "from plotly.offline import init_notebook_mode, plot, iplot\n",
    "import plotly.graph_objs as go\n",
    "init_notebook_mode(connected=True)\n",
    "\n",
    "data = df['overall'].value_counts().sort_index(ascending=False)\n",
    "trace = go.Bar(x = data.index,\n",
    "               text = ['{:.1f} %'.format(val) for val in (data.values / df.shape[0] * 100)],\n",
    "               textposition = 'auto',\n",
    "               textfont = dict(color = '#000000'),\n",
    "               y = data.values,\n",
    "               )\n",
    "# Create layout\n",
    "layout = dict(title = 'Distribution Of {} reviews'.format(df.shape[0]),\n",
    "              xaxis = dict(title = 'Rating'),\n",
    "              yaxis = dict(title = 'Count'))\n",
    "# Create plot\n",
    "fig = go.Figure(data=[trace], layout=layout)\n",
    "iplot(fig)"
   ]
  },
  {
   "cell_type": "code",
   "execution_count": null,
   "id": "807ac6d3",
   "metadata": {},
   "outputs": [],
   "source": [
    "#we see a majority of our ratings are 5s, which could impact our system"
   ]
  },
  {
   "cell_type": "code",
   "execution_count": null,
   "id": "afe2a401",
   "metadata": {},
   "outputs": [],
   "source": [
    "#exploring number of ratings per product"
   ]
  },
  {
   "cell_type": "code",
   "execution_count": null,
   "id": "2c966ac4",
   "metadata": {},
   "outputs": [],
   "source": [
    "# Number of ratings per product\n",
    "data = df.groupby('asin')['overall'].count().clip(upper=50)\n",
    "\n",
    "# Create trace\n",
    "trace = go.Histogram(x = data.values,\n",
    "                     name = 'Ratings',\n",
    "                     xbins = dict(start = 0,\n",
    "                                  end = 50,\n",
    "                                  size = 2))\n",
    "# Create layout\n",
    "layout = go.Layout(title = 'Distribution Of Number of Ratings Per Product (Clipped at 100)',\n",
    "                   xaxis = dict(title = 'Number of Ratings Per Product'),\n",
    "                   yaxis = dict(title = 'Count'),\n",
    "                   bargap = 0.2)\n",
    "\n",
    "# Create plot\n",
    "fig = go.Figure(data=[trace], layout=layout)\n",
    "iplot(fig)"
   ]
  },
  {
   "cell_type": "code",
   "execution_count": null,
   "id": "9bc4f919",
   "metadata": {},
   "outputs": [],
   "source": [
    "#We see a majority of our projects have 10 or less ratings"
   ]
  },
  {
   "cell_type": "code",
   "execution_count": null,
   "id": "234d3588",
   "metadata": {},
   "outputs": [],
   "source": [
    "#exploring ratings distribution by user"
   ]
  },
  {
   "cell_type": "code",
   "execution_count": null,
   "id": "ce0ff7e3",
   "metadata": {},
   "outputs": [],
   "source": [
    "# Number of ratings per user\n",
    "data = df.groupby('reviewerID')['overall'].count().clip(upper=50)\n",
    "\n",
    "trace = go.Histogram(x = data.values,\n",
    "                     name = 'Ratings',\n",
    "                     xbins = dict(start = 0,\n",
    "                                  end = 50,\n",
    "                                  size = 2))\n",
    "# Create layout\n",
    "layout = go.Layout(title = 'Distribution Of Number of Ratings Per User (Clipped at 50)',\n",
    "                   xaxis = dict(title = 'Ratings Per User'),\n",
    "                   yaxis = dict(title = 'Count'),\n",
    "                   bargap = 0.2)\n",
    "\n",
    "# Create plot\n",
    "fig = go.Figure(data=[trace], layout=layout)\n",
    "iplot(fig)"
   ]
  },
  {
   "cell_type": "code",
   "execution_count": null,
   "id": "454735d0",
   "metadata": {},
   "outputs": [],
   "source": [
    "#we see most users rated under 10 products"
   ]
  },
  {
   "cell_type": "code",
   "execution_count": null,
   "id": "0d9e59fa",
   "metadata": {},
   "outputs": [],
   "source": [
    "lower_rating = df.overall.min()"
   ]
  },
  {
   "cell_type": "code",
   "execution_count": null,
   "id": "116cfff3",
   "metadata": {},
   "outputs": [],
   "source": [
    "upper_rating = df.overall.max()"
   ]
  },
  {
   "cell_type": "code",
   "execution_count": null,
   "id": "c9bc77e5",
   "metadata": {},
   "outputs": [],
   "source": [
    "#Confirming our review range is 1 to 5"
   ]
  },
  {
   "cell_type": "code",
   "execution_count": 154,
   "id": "e2dcf246",
   "metadata": {},
   "outputs": [
    {
     "name": "stdout",
     "output_type": "stream",
     "text": [
      "Review range: 1 to 5\n"
     ]
    }
   ],
   "source": [
    "print('Review range: {0} to {1}'.format(lower_rating, upper_rating))"
   ]
  },
  {
   "cell_type": "code",
   "execution_count": 155,
   "id": "1d348245",
   "metadata": {},
   "outputs": [],
   "source": [
    "#Creating dataframe with appropriate columns to run through surprise"
   ]
  },
  {
   "cell_type": "code",
   "execution_count": 156,
   "id": "19d7c48b",
   "metadata": {},
   "outputs": [],
   "source": [
    "surprise_df = df[['reviewerID', 'asin', 'overall']]"
   ]
  },
  {
   "cell_type": "code",
   "execution_count": 157,
   "id": "ca44a770",
   "metadata": {},
   "outputs": [
    {
     "data": {
      "text/html": [
       "<div>\n",
       "<style scoped>\n",
       "    .dataframe tbody tr th:only-of-type {\n",
       "        vertical-align: middle;\n",
       "    }\n",
       "\n",
       "    .dataframe tbody tr th {\n",
       "        vertical-align: top;\n",
       "    }\n",
       "\n",
       "    .dataframe thead th {\n",
       "        text-align: right;\n",
       "    }\n",
       "</style>\n",
       "<table border=\"1\" class=\"dataframe\">\n",
       "  <thead>\n",
       "    <tr style=\"text-align: right;\">\n",
       "      <th></th>\n",
       "      <th>reviewerID</th>\n",
       "      <th>asin</th>\n",
       "      <th>overall</th>\n",
       "    </tr>\n",
       "  </thead>\n",
       "  <tbody>\n",
       "    <tr>\n",
       "      <th>0</th>\n",
       "      <td>A1YJEY40YUW4SE</td>\n",
       "      <td>7806397051</td>\n",
       "      <td>1</td>\n",
       "    </tr>\n",
       "    <tr>\n",
       "      <th>1</th>\n",
       "      <td>A60XNB876KYML</td>\n",
       "      <td>7806397051</td>\n",
       "      <td>3</td>\n",
       "    </tr>\n",
       "    <tr>\n",
       "      <th>2</th>\n",
       "      <td>A3G6XNM240RMWA</td>\n",
       "      <td>7806397051</td>\n",
       "      <td>4</td>\n",
       "    </tr>\n",
       "    <tr>\n",
       "      <th>3</th>\n",
       "      <td>A1PQFP6SAJ6D80</td>\n",
       "      <td>7806397051</td>\n",
       "      <td>2</td>\n",
       "    </tr>\n",
       "    <tr>\n",
       "      <th>4</th>\n",
       "      <td>A38FVHZTNQ271F</td>\n",
       "      <td>7806397051</td>\n",
       "      <td>3</td>\n",
       "    </tr>\n",
       "    <tr>\n",
       "      <th>...</th>\n",
       "      <td>...</td>\n",
       "      <td>...</td>\n",
       "      <td>...</td>\n",
       "    </tr>\n",
       "    <tr>\n",
       "      <th>198497</th>\n",
       "      <td>A2BLFCOPSMBOZ9</td>\n",
       "      <td>B00LLPT4HI</td>\n",
       "      <td>5</td>\n",
       "    </tr>\n",
       "    <tr>\n",
       "      <th>198498</th>\n",
       "      <td>A1UQBFCERIP7VJ</td>\n",
       "      <td>B00LLPT4HI</td>\n",
       "      <td>5</td>\n",
       "    </tr>\n",
       "    <tr>\n",
       "      <th>198499</th>\n",
       "      <td>A35Q0RBM3YNQNF</td>\n",
       "      <td>B00LLPT4HI</td>\n",
       "      <td>5</td>\n",
       "    </tr>\n",
       "    <tr>\n",
       "      <th>198500</th>\n",
       "      <td>A3LGT6UZL99IW1</td>\n",
       "      <td>B00LLPT4HI</td>\n",
       "      <td>5</td>\n",
       "    </tr>\n",
       "    <tr>\n",
       "      <th>198501</th>\n",
       "      <td>A3UJRNI8UR4871</td>\n",
       "      <td>B00LLPT4HI</td>\n",
       "      <td>5</td>\n",
       "    </tr>\n",
       "  </tbody>\n",
       "</table>\n",
       "<p>198502 rows × 3 columns</p>\n",
       "</div>"
      ],
      "text/plain": [
       "            reviewerID        asin  overall\n",
       "0       A1YJEY40YUW4SE  7806397051        1\n",
       "1        A60XNB876KYML  7806397051        3\n",
       "2       A3G6XNM240RMWA  7806397051        4\n",
       "3       A1PQFP6SAJ6D80  7806397051        2\n",
       "4       A38FVHZTNQ271F  7806397051        3\n",
       "...                ...         ...      ...\n",
       "198497  A2BLFCOPSMBOZ9  B00LLPT4HI        5\n",
       "198498  A1UQBFCERIP7VJ  B00LLPT4HI        5\n",
       "198499  A35Q0RBM3YNQNF  B00LLPT4HI        5\n",
       "198500  A3LGT6UZL99IW1  B00LLPT4HI        5\n",
       "198501  A3UJRNI8UR4871  B00LLPT4HI        5\n",
       "\n",
       "[198502 rows x 3 columns]"
      ]
     },
     "execution_count": 157,
     "metadata": {},
     "output_type": "execute_result"
    }
   ],
   "source": [
    "surprise_df"
   ]
  },
  {
   "cell_type": "code",
   "execution_count": 158,
   "id": "868a1485",
   "metadata": {},
   "outputs": [],
   "source": [
    "#Checking average rating user to see if there are users who rate everything 1 or 5"
   ]
  },
  {
   "cell_type": "code",
   "execution_count": 159,
   "id": "ea77f838",
   "metadata": {},
   "outputs": [
    {
     "name": "stderr",
     "output_type": "stream",
     "text": [
      "<ipython-input-159-8752c1212ea2>:1: FutureWarning:\n",
      "\n",
      "Indexing with multiple keys (implicitly converted to a tuple of keys) will be deprecated, use a list instead.\n",
      "\n"
     ]
    },
    {
     "data": {
      "text/html": [
       "<div>\n",
       "<style scoped>\n",
       "    .dataframe tbody tr th:only-of-type {\n",
       "        vertical-align: middle;\n",
       "    }\n",
       "\n",
       "    .dataframe tbody tr th {\n",
       "        vertical-align: top;\n",
       "    }\n",
       "\n",
       "    .dataframe thead th {\n",
       "        text-align: right;\n",
       "    }\n",
       "</style>\n",
       "<table border=\"1\" class=\"dataframe\">\n",
       "  <thead>\n",
       "    <tr style=\"text-align: right;\">\n",
       "      <th></th>\n",
       "      <th>overall</th>\n",
       "    </tr>\n",
       "    <tr>\n",
       "      <th>reviewerID</th>\n",
       "      <th></th>\n",
       "    </tr>\n",
       "  </thead>\n",
       "  <tbody>\n",
       "    <tr>\n",
       "      <th>A1W522Z24EPBJB</th>\n",
       "      <td>1.0</td>\n",
       "    </tr>\n",
       "    <tr>\n",
       "      <th>A2DPSPXFJ507C0</th>\n",
       "      <td>1.0</td>\n",
       "    </tr>\n",
       "    <tr>\n",
       "      <th>A1GQLVT0SWAWU</th>\n",
       "      <td>1.0</td>\n",
       "    </tr>\n",
       "    <tr>\n",
       "      <th>A1KLA02LZXAT46</th>\n",
       "      <td>1.0</td>\n",
       "    </tr>\n",
       "    <tr>\n",
       "      <th>A2MHHSACEJANSX</th>\n",
       "      <td>1.0</td>\n",
       "    </tr>\n",
       "    <tr>\n",
       "      <th>...</th>\n",
       "      <td>...</td>\n",
       "    </tr>\n",
       "    <tr>\n",
       "      <th>A15QGN6UXJVW9G</th>\n",
       "      <td>5.0</td>\n",
       "    </tr>\n",
       "    <tr>\n",
       "      <th>ANOJX4RAUJ9HL</th>\n",
       "      <td>5.0</td>\n",
       "    </tr>\n",
       "    <tr>\n",
       "      <th>A2RJT3IE2T6KXJ</th>\n",
       "      <td>5.0</td>\n",
       "    </tr>\n",
       "    <tr>\n",
       "      <th>A1ORLBQV893JF0</th>\n",
       "      <td>5.0</td>\n",
       "    </tr>\n",
       "    <tr>\n",
       "      <th>A4UHZXSLMBWT2</th>\n",
       "      <td>5.0</td>\n",
       "    </tr>\n",
       "  </tbody>\n",
       "</table>\n",
       "<p>22363 rows × 1 columns</p>\n",
       "</div>"
      ],
      "text/plain": [
       "                overall\n",
       "reviewerID             \n",
       "A1W522Z24EPBJB      1.0\n",
       "A2DPSPXFJ507C0      1.0\n",
       "A1GQLVT0SWAWU       1.0\n",
       "A1KLA02LZXAT46      1.0\n",
       "A2MHHSACEJANSX      1.0\n",
       "...                 ...\n",
       "A15QGN6UXJVW9G      5.0\n",
       "ANOJX4RAUJ9HL       5.0\n",
       "A2RJT3IE2T6KXJ      5.0\n",
       "A1ORLBQV893JF0      5.0\n",
       "A4UHZXSLMBWT2       5.0\n",
       "\n",
       "[22363 rows x 1 columns]"
      ]
     },
     "execution_count": 159,
     "metadata": {},
     "output_type": "execute_result"
    }
   ],
   "source": [
    "avg_rating_user = df.groupby(\"reviewerID\")[\"overall\",\"reviewerID\"].mean().sort_values(\"overall\")\n",
    "avg_rating_user"
   ]
  },
  {
   "cell_type": "code",
   "execution_count": 160,
   "id": "39f43019",
   "metadata": {},
   "outputs": [
    {
     "data": {
      "text/html": [
       "<div>\n",
       "<style scoped>\n",
       "    .dataframe tbody tr th:only-of-type {\n",
       "        vertical-align: middle;\n",
       "    }\n",
       "\n",
       "    .dataframe tbody tr th {\n",
       "        vertical-align: top;\n",
       "    }\n",
       "\n",
       "    .dataframe thead th {\n",
       "        text-align: right;\n",
       "    }\n",
       "</style>\n",
       "<table border=\"1\" class=\"dataframe\">\n",
       "  <thead>\n",
       "    <tr style=\"text-align: right;\">\n",
       "      <th></th>\n",
       "      <th>overall</th>\n",
       "    </tr>\n",
       "    <tr>\n",
       "      <th>reviewerID</th>\n",
       "      <th></th>\n",
       "    </tr>\n",
       "  </thead>\n",
       "  <tbody>\n",
       "    <tr>\n",
       "      <th>A1W522Z24EPBJB</th>\n",
       "      <td>1.0</td>\n",
       "    </tr>\n",
       "    <tr>\n",
       "      <th>A2DPSPXFJ507C0</th>\n",
       "      <td>1.0</td>\n",
       "    </tr>\n",
       "    <tr>\n",
       "      <th>A1GQLVT0SWAWU</th>\n",
       "      <td>1.0</td>\n",
       "    </tr>\n",
       "    <tr>\n",
       "      <th>A1KLA02LZXAT46</th>\n",
       "      <td>1.0</td>\n",
       "    </tr>\n",
       "    <tr>\n",
       "      <th>A2MHHSACEJANSX</th>\n",
       "      <td>1.0</td>\n",
       "    </tr>\n",
       "    <tr>\n",
       "      <th>A2RJTIE73NPN3C</th>\n",
       "      <td>1.0</td>\n",
       "    </tr>\n",
       "    <tr>\n",
       "      <th>ASWIC85F71H4J</th>\n",
       "      <td>1.0</td>\n",
       "    </tr>\n",
       "    <tr>\n",
       "      <th>A2TBE0N8JN6H4K</th>\n",
       "      <td>1.0</td>\n",
       "    </tr>\n",
       "    <tr>\n",
       "      <th>A1GPPMHYM6SMEW</th>\n",
       "      <td>1.0</td>\n",
       "    </tr>\n",
       "  </tbody>\n",
       "</table>\n",
       "</div>"
      ],
      "text/plain": [
       "                overall\n",
       "reviewerID             \n",
       "A1W522Z24EPBJB      1.0\n",
       "A2DPSPXFJ507C0      1.0\n",
       "A1GQLVT0SWAWU       1.0\n",
       "A1KLA02LZXAT46      1.0\n",
       "A2MHHSACEJANSX      1.0\n",
       "A2RJTIE73NPN3C      1.0\n",
       "ASWIC85F71H4J       1.0\n",
       "A2TBE0N8JN6H4K      1.0\n",
       "A1GPPMHYM6SMEW      1.0"
      ]
     },
     "execution_count": 160,
     "metadata": {},
     "output_type": "execute_result"
    }
   ],
   "source": [
    "low_rating_user = avg_rating_user[avg_rating_user[\"overall\"]==1.0]\n",
    "low_rating_user"
   ]
  },
  {
   "cell_type": "code",
   "execution_count": 161,
   "id": "10132218",
   "metadata": {},
   "outputs": [],
   "source": [
    "#only 9 users have rated every product a 1"
   ]
  },
  {
   "cell_type": "code",
   "execution_count": 162,
   "id": "bbceedff",
   "metadata": {},
   "outputs": [
    {
     "data": {
      "text/html": [
       "<div>\n",
       "<style scoped>\n",
       "    .dataframe tbody tr th:only-of-type {\n",
       "        vertical-align: middle;\n",
       "    }\n",
       "\n",
       "    .dataframe tbody tr th {\n",
       "        vertical-align: top;\n",
       "    }\n",
       "\n",
       "    .dataframe thead th {\n",
       "        text-align: right;\n",
       "    }\n",
       "</style>\n",
       "<table border=\"1\" class=\"dataframe\">\n",
       "  <thead>\n",
       "    <tr style=\"text-align: right;\">\n",
       "      <th></th>\n",
       "      <th>overall</th>\n",
       "    </tr>\n",
       "    <tr>\n",
       "      <th>reviewerID</th>\n",
       "      <th></th>\n",
       "    </tr>\n",
       "  </thead>\n",
       "  <tbody>\n",
       "    <tr>\n",
       "      <th>A2FINIRQNXOTI</th>\n",
       "      <td>5.0</td>\n",
       "    </tr>\n",
       "    <tr>\n",
       "      <th>ATWS89FH6Y6S4</th>\n",
       "      <td>5.0</td>\n",
       "    </tr>\n",
       "    <tr>\n",
       "      <th>A16Q479PYT0G6N</th>\n",
       "      <td>5.0</td>\n",
       "    </tr>\n",
       "    <tr>\n",
       "      <th>A3OKW5VRXZG3OQ</th>\n",
       "      <td>5.0</td>\n",
       "    </tr>\n",
       "    <tr>\n",
       "      <th>A3O9Q3154FPZLL</th>\n",
       "      <td>5.0</td>\n",
       "    </tr>\n",
       "    <tr>\n",
       "      <th>...</th>\n",
       "      <td>...</td>\n",
       "    </tr>\n",
       "    <tr>\n",
       "      <th>A15QGN6UXJVW9G</th>\n",
       "      <td>5.0</td>\n",
       "    </tr>\n",
       "    <tr>\n",
       "      <th>ANOJX4RAUJ9HL</th>\n",
       "      <td>5.0</td>\n",
       "    </tr>\n",
       "    <tr>\n",
       "      <th>A2RJT3IE2T6KXJ</th>\n",
       "      <td>5.0</td>\n",
       "    </tr>\n",
       "    <tr>\n",
       "      <th>A1ORLBQV893JF0</th>\n",
       "      <td>5.0</td>\n",
       "    </tr>\n",
       "    <tr>\n",
       "      <th>A4UHZXSLMBWT2</th>\n",
       "      <td>5.0</td>\n",
       "    </tr>\n",
       "  </tbody>\n",
       "</table>\n",
       "<p>2822 rows × 1 columns</p>\n",
       "</div>"
      ],
      "text/plain": [
       "                overall\n",
       "reviewerID             \n",
       "A2FINIRQNXOTI       5.0\n",
       "ATWS89FH6Y6S4       5.0\n",
       "A16Q479PYT0G6N      5.0\n",
       "A3OKW5VRXZG3OQ      5.0\n",
       "A3O9Q3154FPZLL      5.0\n",
       "...                 ...\n",
       "A15QGN6UXJVW9G      5.0\n",
       "ANOJX4RAUJ9HL       5.0\n",
       "A2RJT3IE2T6KXJ      5.0\n",
       "A1ORLBQV893JF0      5.0\n",
       "A4UHZXSLMBWT2       5.0\n",
       "\n",
       "[2822 rows x 1 columns]"
      ]
     },
     "execution_count": 162,
     "metadata": {},
     "output_type": "execute_result"
    }
   ],
   "source": [
    "high_rating_user = avg_rating_user[avg_rating_user[\"overall\"]==5.0]\n",
    "high_rating_user"
   ]
  },
  {
   "cell_type": "code",
   "execution_count": 163,
   "id": "d65a4277",
   "metadata": {},
   "outputs": [],
   "source": [
    "#2822 users have rated every product a 5"
   ]
  },
  {
   "cell_type": "code",
   "execution_count": 164,
   "id": "4fed3f64",
   "metadata": {},
   "outputs": [],
   "source": [
    "#we decide to keep these users in our final dataset but will not use them to test our model for recommendations"
   ]
  },
  {
   "cell_type": "code",
   "execution_count": 165,
   "id": "b6d29dd4",
   "metadata": {},
   "outputs": [],
   "source": [
    "#elaborate on justification for keeping these reviews"
   ]
  },
  {
   "cell_type": "markdown",
   "id": "b1b0da86",
   "metadata": {},
   "source": [
    "## Exploring Meta Data"
   ]
  },
  {
   "cell_type": "code",
   "execution_count": 166,
   "id": "59a60748",
   "metadata": {},
   "outputs": [],
   "source": [
    "#Import our meta data \n",
    "import gzip\n",
    "\n",
    "def parse(path):\n",
    "  g = gzip.open(path, 'rb')\n",
    "  for l in g:\n",
    "    yield eval(l)\n",
    "\n",
    "def getDF(path):\n",
    "  i = 0\n",
    "  df = {}\n",
    "  for d in parse(path):\n",
    "    df[i] = d\n",
    "    i += 1\n",
    "  return pd.DataFrame.from_dict(df, orient='index')"
   ]
  },
  {
   "cell_type": "code",
   "execution_count": 167,
   "id": "cca300b7",
   "metadata": {},
   "outputs": [
    {
     "data": {
      "text/html": [
       "<div>\n",
       "<style scoped>\n",
       "    .dataframe tbody tr th:only-of-type {\n",
       "        vertical-align: middle;\n",
       "    }\n",
       "\n",
       "    .dataframe tbody tr th {\n",
       "        vertical-align: top;\n",
       "    }\n",
       "\n",
       "    .dataframe thead th {\n",
       "        text-align: right;\n",
       "    }\n",
       "</style>\n",
       "<table border=\"1\" class=\"dataframe\">\n",
       "  <thead>\n",
       "    <tr style=\"text-align: right;\">\n",
       "      <th></th>\n",
       "      <th>asin</th>\n",
       "      <th>description</th>\n",
       "      <th>title</th>\n",
       "      <th>imUrl</th>\n",
       "      <th>salesRank</th>\n",
       "      <th>categories</th>\n",
       "      <th>price</th>\n",
       "      <th>related</th>\n",
       "      <th>brand</th>\n",
       "    </tr>\n",
       "  </thead>\n",
       "  <tbody>\n",
       "    <tr>\n",
       "      <th>0</th>\n",
       "      <td>0205616461</td>\n",
       "      <td>As we age, our once youthful, healthy skin succumbs to an enzymatic imbalance that wears away the cellular network, resulting in skin thinning and aging. Combining the best of nature and cosmetic biotechnology, Bio-Active products are formulated with Enzymes that gently exfoliate the skin and stimulate regeneration for a youthful glow. Benefiting from fertile orchards in the Italian countryside, Bio-active formulas are rich in phytohormones, flavonoids and fatty acids from active extracts in Apple and Pear Seeds ,enzymatically modified and developed especially for the care of aging skin. This repairing fluid helps to nourish and firm by accelerating penetration and delivery of active principles to the skin, giving it a more youthful appearance. \\n\\nAdvanced \"Probiotic\" Complex from nourishing milk proteins regains the skin's natural equilibrium, boosts its immunities and protects it against environmental and biological stress.\\n\\nPeptides and Ceramides help to firm and regenerate the skin by stimulating collagen production and strengthening the epidermis.\\n\\nA Calming Botanical Complex of Hyaluronic Acid and Wheat Germ Extract hydrates and restores the skin's protective barriers.\\n\\nA nutritive Vitamin Complex moisturizes and protects the skin from damaging environmental factors. \\n\\nParacress Extract, a natural alternative to cosmetic injections, limits and relaxes micro-contractions that create facial lines, producing immediate and long-term smoothing of the skin.\\n\\nTo Use: Apply a few pumps to Apply a few pumps to a clean and dried face, neck and dcollet.</td>\n",
       "      <td>Bio-Active Anti-Aging Serum (Firming Ultra-Hydrating Serum)</td>\n",
       "      <td>http://ecx.images-amazon.com/images/I/41DecrGODDL._SY300_.jpg</td>\n",
       "      <td>{'Health &amp; Personal Care': 461765}</td>\n",
       "      <td>[[Beauty, Skin Care, Face, Creams &amp; Moisturizers]]</td>\n",
       "      <td>NaN</td>\n",
       "      <td>NaN</td>\n",
       "      <td>NaN</td>\n",
       "    </tr>\n",
       "    <tr>\n",
       "      <th>1</th>\n",
       "      <td>0558925278</td>\n",
       "      <td>Mineral Powder Brush--Apply powder or mineral foundation all over face in a circular, buffing motion and work inward towards nose.\\n\\nConcealer Brush--Use with liquid or mineral powder concealer for more coverage on blemishes and under eyes. \\n\\nEye Shading Brush-- Expertly cut to apply and blend powder eye shadows.\\n\\nBaby Kabuki-- Buff powder over areas that need more coverage. \\n\\nCosmetic Brush Bag-- 55% hemp linen, 45% cotton</td>\n",
       "      <td>Eco Friendly Ecotools Quality Natural Bamboo Cosmetic Mineral Brush Set Kit of 4 Soft Brushes and 1 Pouch Baby Kabuki Eye Shading Brush Mineral Powder Brush Concealer Brush(travle Size)</td>\n",
       "      <td>http://ecx.images-amazon.com/images/I/51L%2BzYCQWSL._SX300_.jpg</td>\n",
       "      <td>{'Beauty': 402875}</td>\n",
       "      <td>[[Beauty, Tools &amp; Accessories, Makeup Brushes &amp; Tools, Brushes &amp; Applicators]]</td>\n",
       "      <td>NaN</td>\n",
       "      <td>NaN</td>\n",
       "      <td>NaN</td>\n",
       "    </tr>\n",
       "    <tr>\n",
       "      <th>2</th>\n",
       "      <td>0733001998</td>\n",
       "      <td>From the Greek island of Chios, this Mastiha body lotion is made from Mastic oil, a pure product derived from mastic. With organically grown: Olive oil, red grape leaves, Aloe vera, Rosemary, Bee's wax, Shea Butter.</td>\n",
       "      <td>Mastiha Body Lotion</td>\n",
       "      <td>http://ecx.images-amazon.com/images/I/311WK5y1dML._SY300_.jpg</td>\n",
       "      <td>{'Beauty': 540255}</td>\n",
       "      <td>[[Beauty, Skin Care, Body, Moisturizers, Lotions]]</td>\n",
       "      <td>NaN</td>\n",
       "      <td>NaN</td>\n",
       "      <td>NaN</td>\n",
       "    </tr>\n",
       "    <tr>\n",
       "      <th>3</th>\n",
       "      <td>0737104473</td>\n",
       "      <td>Limited edition Hello Kitty Lipstick featuring shiny black casing with Hello Kitty figure on a pop art pattern background. Cap features the logos of both MAC and Hello Kitty in this collection.</td>\n",
       "      <td>Hello Kitty Lustre Lipstick (See sellers comments for colors)</td>\n",
       "      <td>http://ecx.images-amazon.com/images/I/31u6Hrzk3WL._SY300_.jpg</td>\n",
       "      <td>{'Beauty': 931125}</td>\n",
       "      <td>[[Beauty, Makeup, Lips, Lipstick]]</td>\n",
       "      <td>NaN</td>\n",
       "      <td>NaN</td>\n",
       "      <td>NaN</td>\n",
       "    </tr>\n",
       "    <tr>\n",
       "      <th>4</th>\n",
       "      <td>0762451459</td>\n",
       "      <td>The mermaid is an elusive (okay, mythical) creature, her beauty glimpsed only fleetingly by swimmers and sailors. With this mermaid-inspired iridescent compact, we landlubbers can capture a bit of that shimmering allure. Plus, having a mirror always on hand, we'll have no trouble catching a glimpse of our own gorgeousness (or doing a quick touchup when we need to).Within its slim silhouette, this colorful compact contains a double-sided mirror: Each mirror is large enough to show your entire face, and angling the two offers a side-angle view for hair fixes. The case snaps shut to keep the mirrors scuff-free.</td>\n",
       "      <td>Stephanie Johnson Mermaid Round Snap Mirror</td>\n",
       "      <td>http://ecx.images-amazon.com/images/I/41y2%2BFUdf1L._SY300_.jpg</td>\n",
       "      <td>NaN</td>\n",
       "      <td>[[Beauty, Tools &amp; Accessories, Mirrors, Makeup Mirrors]]</td>\n",
       "      <td>19.98</td>\n",
       "      <td>NaN</td>\n",
       "      <td>NaN</td>\n",
       "    </tr>\n",
       "    <tr>\n",
       "      <th>...</th>\n",
       "      <td>...</td>\n",
       "      <td>...</td>\n",
       "      <td>...</td>\n",
       "      <td>...</td>\n",
       "      <td>...</td>\n",
       "      <td>...</td>\n",
       "      <td>...</td>\n",
       "      <td>...</td>\n",
       "      <td>...</td>\n",
       "    </tr>\n",
       "    <tr>\n",
       "      <th>259199</th>\n",
       "      <td>B00LP2YB8E</td>\n",
       "      <td>Color: White\\nFullness72 inches\\nCenter Gathered\\nPencil Edge, Sewn on Flexible plasticl Wire Comb\\nShip within 3 days from TX. Expedited Shipping available</td>\n",
       "      <td>2t 2t Edge Crystal Rhinestones Bridal Wedding Veil (White)</td>\n",
       "      <td>http://ecx.images-amazon.com/images/I/41E630m-yQL._SY300_.jpg</td>\n",
       "      <td>NaN</td>\n",
       "      <td>[[Beauty, Hair Care, Styling Tools, Styling Accessories, Decorative Combs]]</td>\n",
       "      <td>NaN</td>\n",
       "      <td>NaN</td>\n",
       "      <td>NaN</td>\n",
       "    </tr>\n",
       "    <tr>\n",
       "      <th>259200</th>\n",
       "      <td>B00LOS7MEE</td>\n",
       "      <td>The secret to long lasting colors, healthy nails in natural looking french manicure. This product serves as a protection layer and creates a smooth surface for flawless gel color application and seals in color and nail designs. Makes colors  and designs 3x's more durable.</td>\n",
       "      <td>French Manicure Gel Nail Polish Set - &amp;quot;Set of 4&amp;quot; Uv Soak Off Salon Manicure (Top Coat, Base Coat, French Pink and French White)</td>\n",
       "      <td>http://ecx.images-amazon.com/images/I/41skHL1OXhL._SX300_.jpg</td>\n",
       "      <td>{'Beauty': 108820}</td>\n",
       "      <td>[[Beauty, Makeup, Nails, Nail Polish]]</td>\n",
       "      <td>NaN</td>\n",
       "      <td>{'also_viewed': ['B0057JCYYE', 'B00LMXHR1Y', 'B00993T7YY', 'B006FRS9O6', 'B00993T6C2', 'B00CHV3LNS', 'B004NMYR96', 'B006HJQRB4', 'B007AU0FXA', 'B0053ZA1ME', 'B001RMP7M6', 'B00DLJ7LJA']}</td>\n",
       "      <td>NaN</td>\n",
       "    </tr>\n",
       "    <tr>\n",
       "      <th>259201</th>\n",
       "      <td>B00LPVG6V0</td>\n",
       "      <td>ResQ Organics Face &amp; Body Wash - With Aloe Vera and Manuka Honey, 5.5 pH Balanced Mild And Non Irritating Hydrates While It Cleans, Great Make-up Remover, Shaving Cream, Ache Skin Cleanser, Dry Skin Treatment, Non Allergenic, Fragrance Free, Paraben Free, Sulfate Free, Your Skin Deserves The Best! -100% Money Back Guarantee</td>\n",
       "      <td>ResQ Organics Face &amp;amp; Body Wash - Aloe Vera Manuka Honey 5.5 pH Balanced - Mild And Non Irritating Non Allergenic Fragrance Free Paraben Free Sulfate Free - Your Skin Deserves The Best! -100% Money Back Guarantee</td>\n",
       "      <td>http://ecx.images-amazon.com/images/I/31C1w4KuyHL._SY300_.jpg</td>\n",
       "      <td>NaN</td>\n",
       "      <td>[[Beauty, Skin Care, Face, Creams &amp; Moisturizers]]</td>\n",
       "      <td>NaN</td>\n",
       "      <td>NaN</td>\n",
       "      <td>NaN</td>\n",
       "    </tr>\n",
       "    <tr>\n",
       "      <th>259202</th>\n",
       "      <td>B00LTDUHJQ</td>\n",
       "      <td>Color: White\\n2 Tier \\nFullness 72 inches\\nSewn on Flexible plastic Comb\\nShip within 3 days from TX. Expedited Shipping available</td>\n",
       "      <td>2 Tier Tulle Elbow Wedding Veil with Ribbon Edge Fashion Veil</td>\n",
       "      <td>http://ecx.images-amazon.com/images/I/51%2B%2BnlwkxbL._SX300_.jpg</td>\n",
       "      <td>NaN</td>\n",
       "      <td>[[Beauty, Hair Care, Styling Tools, Styling Accessories, Decorative Combs]]</td>\n",
       "      <td>NaN</td>\n",
       "      <td>NaN</td>\n",
       "      <td>NaN</td>\n",
       "    </tr>\n",
       "    <tr>\n",
       "      <th>259203</th>\n",
       "      <td>B00LU0LTOU</td>\n",
       "      <td>The bags produced by us are 100% ECO friendly and are made using top quality leather which is tanned without the use of any chemicals. These bags are handcrafted by craftsman using traditional techniques. We use YKK zippers which is again a very well known brand for its quality and lasts a long time. The outside of the bag is then rubbed with vegetable oil to get the right shade and make it water resistant. Pls be aware that pure leather by its nature has some scars (due to markings/cuts/holes on goat skin) which reconfirms that its 100% genuine and also makes every bag one of a kind and adds character to your prized possession. Also, each bag has distinctive color tone, which may deviate a little from given pictures. Pls also note that this brand new bag may also have a distinctive leather smell. Most of our customers tend to like this earthly smell, some don't. In any case it does fade away within 4-6 weeks of regular use. Quality All Brass Fittings Long Lasting Well Known YKK Zippers ** PLEASE NOTE WE ACCEPT RETURNS AND ISSUE REFUNDS ONLY FOR FAULTY ITEMS. WE DO NOT ACCEPT RETURNS IF YO HAVE CHANGED YOUR MIND OR DO NOT LIKE THE ITEM. PLEASE CHECK PHOTOS AND DESCRIPTION BEFORE BUYING. ** Requirements for a Full Refund Items must be in new condition Items must be returned with all original packaging and accessories Shipping and handling charges for returning items shipped by a seller are borne by the buyer. Items valued at over $75 must be returned to the seller with a trackable shipping service. If the order is valued at $100 or more, insure the shipment for the value of the merchandise and ship your return with a signature shipping service. For items below $75, we suggest USPS delivery confirmation service. Note: If a package doesn't arrive and you don't use a trackable method to return or if you refuse the shipment as a method of return, we may not be able to cover you.. Items must be returned in 30 working days from delivery date***</td>\n",
       "      <td>*ECOCRAFTWORLD* GENUINE BUFFALO LEATHER TRAVEL BAG; HANDMADE, VINTAGE STYLE / TRAVEL /GYM /CABIN/ CHECK IN (24&amp;quot; z 10&amp;quot; x 9&amp;quot;)</td>\n",
       "      <td>http://ecx.images-amazon.com/images/I/41kXSEchRbL._SX300_.jpg</td>\n",
       "      <td>NaN</td>\n",
       "      <td>[[Beauty, Tools &amp; Accessories, Bags &amp; Cases, Toiletry Bags]]</td>\n",
       "      <td>130.00</td>\n",
       "      <td>{'also_viewed': ['B00JWX6OOW', 'B00L4HJCZC', 'B00KJFXPUS', 'B00K3M4WGS', 'B00K575CXI', 'B00DCX5TI0']}</td>\n",
       "      <td>NaN</td>\n",
       "    </tr>\n",
       "  </tbody>\n",
       "</table>\n",
       "<p>259204 rows × 9 columns</p>\n",
       "</div>"
      ],
      "text/plain": [
       "              asin  \\\n",
       "0       0205616461   \n",
       "1       0558925278   \n",
       "2       0733001998   \n",
       "3       0737104473   \n",
       "4       0762451459   \n",
       "...            ...   \n",
       "259199  B00LP2YB8E   \n",
       "259200  B00LOS7MEE   \n",
       "259201  B00LPVG6V0   \n",
       "259202  B00LTDUHJQ   \n",
       "259203  B00LU0LTOU   \n",
       "\n",
       "                                                                                                                                                                                                                                                                                                                                                                                                                                                                                                                                                                                                                                                                                                                                                                                                                                                                                                                                                                                                                                                                                                                                                                                                                                                                                                                                                                                                                                                                                                                                                                                                                                                                                                                                                                                                                                                                                                                                                                                                                                                description  \\\n",
       "0                                                                                                                                                                                                                                                                                                                                                                                                         As we age, our once youthful, healthy skin succumbs to an enzymatic imbalance that wears away the cellular network, resulting in skin thinning and aging. Combining the best of nature and cosmetic biotechnology, Bio-Active products are formulated with Enzymes that gently exfoliate the skin and stimulate regeneration for a youthful glow. Benefiting from fertile orchards in the Italian countryside, Bio-active formulas are rich in phytohormones, flavonoids and fatty acids from active extracts in Apple and Pear Seeds ,enzymatically modified and developed especially for the care of aging skin. This repairing fluid helps to nourish and firm by accelerating penetration and delivery of active principles to the skin, giving it a more youthful appearance. \\n\\nAdvanced \"Probiotic\" Complex from nourishing milk proteins regains the skin's natural equilibrium, boosts its immunities and protects it against environmental and biological stress.\\n\\nPeptides and Ceramides help to firm and regenerate the skin by stimulating collagen production and strengthening the epidermis.\\n\\nA Calming Botanical Complex of Hyaluronic Acid and Wheat Germ Extract hydrates and restores the skin's protective barriers.\\n\\nA nutritive Vitamin Complex moisturizes and protects the skin from damaging environmental factors. \\n\\nParacress Extract, a natural alternative to cosmetic injections, limits and relaxes micro-contractions that create facial lines, producing immediate and long-term smoothing of the skin.\\n\\nTo Use: Apply a few pumps to Apply a few pumps to a clean and dried face, neck and dcollet.   \n",
       "1                                                                                                                                                                                                                                                                                                                                                                                                                                                                                                                                                                                                                                                                                                                                                                                                                                                                                                                                                                                                                                                                                                                                                                                                                                                                                                                                                                                                                                                                                                                                                                                                        Mineral Powder Brush--Apply powder or mineral foundation all over face in a circular, buffing motion and work inward towards nose.\\n\\nConcealer Brush--Use with liquid or mineral powder concealer for more coverage on blemishes and under eyes. \\n\\nEye Shading Brush-- Expertly cut to apply and blend powder eye shadows.\\n\\nBaby Kabuki-- Buff powder over areas that need more coverage. \\n\\nCosmetic Brush Bag-- 55% hemp linen, 45% cotton   \n",
       "2                                                                                                                                                                                                                                                                                                                                                                                                                                                                                                                                                                                                                                                                                                                                                                                                                                                                                                                                                                                                                                                                                                                                                                                                                                                                                                                                                                                                                                                                                                                                                                                                                                                                                                                                                                                                                                   From the Greek island of Chios, this Mastiha body lotion is made from Mastic oil, a pure product derived from mastic. With organically grown: Olive oil, red grape leaves, Aloe vera, Rosemary, Bee's wax, Shea Butter.   \n",
       "3                                                                                                                                                                                                                                                                                                                                                                                                                                                                                                                                                                                                                                                                                                                                                                                                                                                                                                                                                                                                                                                                                                                                                                                                                                                                                                                                                                                                                                                                                                                                                                                                                                                                                                                                                                                                                                                         Limited edition Hello Kitty Lipstick featuring shiny black casing with Hello Kitty figure on a pop art pattern background. Cap features the logos of both MAC and Hello Kitty in this collection.   \n",
       "4                                                                                                                                                                                                                                                                                                                                                                                                                                                                                                                                                                                                                                                                                                                                                                                                                                                                                                                                                                                                                                                                                                                                                                                                                                                                                                                                                                                                                   The mermaid is an elusive (okay, mythical) creature, her beauty glimpsed only fleetingly by swimmers and sailors. With this mermaid-inspired iridescent compact, we landlubbers can capture a bit of that shimmering allure. Plus, having a mirror always on hand, we'll have no trouble catching a glimpse of our own gorgeousness (or doing a quick touchup when we need to).Within its slim silhouette, this colorful compact contains a double-sided mirror: Each mirror is large enough to show your entire face, and angling the two offers a side-angle view for hair fixes. The case snaps shut to keep the mirrors scuff-free.   \n",
       "...                                                                                                                                                                                                                                                                                                                                                                                                                                                                                                                                                                                                                                                                                                                                                                                                                                                                                                                                                                                                                                                                                                                                                                                                                                                                                                                                                                                                                                                                                                                                                                                                                                                                                                                                                                                                                                                                                                                                                                                                                                                     ...   \n",
       "259199                                                                                                                                                                                                                                                                                                                                                                                                                                                                                                                                                                                                                                                                                                                                                                                                                                                                                                                                                                                                                                                                                                                                                                                                                                                                                                                                                                                                                                                                                                                                                                                                                                                                                                                                                                                                                                                                                         Color: White\\nFullness72 inches\\nCenter Gathered\\nPencil Edge, Sewn on Flexible plasticl Wire Comb\\nShip within 3 days from TX. Expedited Shipping available   \n",
       "259200                                                                                                                                                                                                                                                                                                                                                                                                                                                                                                                                                                                                                                                                                                                                                                                                                                                                                                                                                                                                                                                                                                                                                                                                                                                                                                                                                                                                                                                                                                                                                                                                                                                                                                                                                                     The secret to long lasting colors, healthy nails in natural looking french manicure. This product serves as a protection layer and creates a smooth surface for flawless gel color application and seals in color and nail designs. Makes colors  and designs 3x's more durable.   \n",
       "259201                                                                                                                                                                                                                                                                                                                                                                                                                                                                                                                                                                                                                                                                                                                                                                                                                                                                                                                                                                                                                                                                                                                                                                                                                                                                                                                                                                                                                                                                                                                                                                                                                                                                                                                ResQ Organics Face & Body Wash - With Aloe Vera and Manuka Honey, 5.5 pH Balanced Mild And Non Irritating Hydrates While It Cleans, Great Make-up Remover, Shaving Cream, Ache Skin Cleanser, Dry Skin Treatment, Non Allergenic, Fragrance Free, Paraben Free, Sulfate Free, Your Skin Deserves The Best! -100% Money Back Guarantee   \n",
       "259202                                                                                                                                                                                                                                                                                                                                                                                                                                                                                                                                                                                                                                                                                                                                                                                                                                                                                                                                                                                                                                                                                                                                                                                                                                                                                                                                                                                                                                                                                                                                                                                                                                                                                                                                                                                                                                                                                                                   Color: White\\n2 Tier \\nFullness 72 inches\\nSewn on Flexible plastic Comb\\nShip within 3 days from TX. Expedited Shipping available   \n",
       "259203  The bags produced by us are 100% ECO friendly and are made using top quality leather which is tanned without the use of any chemicals. These bags are handcrafted by craftsman using traditional techniques. We use YKK zippers which is again a very well known brand for its quality and lasts a long time. The outside of the bag is then rubbed with vegetable oil to get the right shade and make it water resistant. Pls be aware that pure leather by its nature has some scars (due to markings/cuts/holes on goat skin) which reconfirms that its 100% genuine and also makes every bag one of a kind and adds character to your prized possession. Also, each bag has distinctive color tone, which may deviate a little from given pictures. Pls also note that this brand new bag may also have a distinctive leather smell. Most of our customers tend to like this earthly smell, some don't. In any case it does fade away within 4-6 weeks of regular use. Quality All Brass Fittings Long Lasting Well Known YKK Zippers ** PLEASE NOTE WE ACCEPT RETURNS AND ISSUE REFUNDS ONLY FOR FAULTY ITEMS. WE DO NOT ACCEPT RETURNS IF YO HAVE CHANGED YOUR MIND OR DO NOT LIKE THE ITEM. PLEASE CHECK PHOTOS AND DESCRIPTION BEFORE BUYING. ** Requirements for a Full Refund Items must be in new condition Items must be returned with all original packaging and accessories Shipping and handling charges for returning items shipped by a seller are borne by the buyer. Items valued at over $75 must be returned to the seller with a trackable shipping service. If the order is valued at $100 or more, insure the shipment for the value of the merchandise and ship your return with a signature shipping service. For items below $75, we suggest USPS delivery confirmation service. Note: If a package doesn't arrive and you don't use a trackable method to return or if you refuse the shipment as a method of return, we may not be able to cover you.. Items must be returned in 30 working days from delivery date***   \n",
       "\n",
       "                                                                                                                                                                                                                          title  \\\n",
       "0                                                                                                                                                                   Bio-Active Anti-Aging Serum (Firming Ultra-Hydrating Serum)   \n",
       "1                                     Eco Friendly Ecotools Quality Natural Bamboo Cosmetic Mineral Brush Set Kit of 4 Soft Brushes and 1 Pouch Baby Kabuki Eye Shading Brush Mineral Powder Brush Concealer Brush(travle Size)   \n",
       "2                                                                                                                                                                                                           Mastiha Body Lotion   \n",
       "3                                                                                                                                                                 Hello Kitty Lustre Lipstick (See sellers comments for colors)   \n",
       "4                                                                                                                                                                                   Stephanie Johnson Mermaid Round Snap Mirror   \n",
       "...                                                                                                                                                                                                                         ...   \n",
       "259199                                                                                                                                                               2t 2t Edge Crystal Rhinestones Bridal Wedding Veil (White)   \n",
       "259200                                                                                French Manicure Gel Nail Polish Set - &quot;Set of 4&quot; Uv Soak Off Salon Manicure (Top Coat, Base Coat, French Pink and French White)   \n",
       "259201  ResQ Organics Face &amp; Body Wash - Aloe Vera Manuka Honey 5.5 pH Balanced - Mild And Non Irritating Non Allergenic Fragrance Free Paraben Free Sulfate Free - Your Skin Deserves The Best! -100% Money Back Guarantee   \n",
       "259202                                                                                                                                                            2 Tier Tulle Elbow Wedding Veil with Ribbon Edge Fashion Veil   \n",
       "259203                                                                               *ECOCRAFTWORLD* GENUINE BUFFALO LEATHER TRAVEL BAG; HANDMADE, VINTAGE STYLE / TRAVEL /GYM /CABIN/ CHECK IN (24&quot; z 10&quot; x 9&quot;)   \n",
       "\n",
       "                                                                    imUrl  \\\n",
       "0           http://ecx.images-amazon.com/images/I/41DecrGODDL._SY300_.jpg   \n",
       "1         http://ecx.images-amazon.com/images/I/51L%2BzYCQWSL._SX300_.jpg   \n",
       "2           http://ecx.images-amazon.com/images/I/311WK5y1dML._SY300_.jpg   \n",
       "3           http://ecx.images-amazon.com/images/I/31u6Hrzk3WL._SY300_.jpg   \n",
       "4         http://ecx.images-amazon.com/images/I/41y2%2BFUdf1L._SY300_.jpg   \n",
       "...                                                                   ...   \n",
       "259199      http://ecx.images-amazon.com/images/I/41E630m-yQL._SY300_.jpg   \n",
       "259200      http://ecx.images-amazon.com/images/I/41skHL1OXhL._SX300_.jpg   \n",
       "259201      http://ecx.images-amazon.com/images/I/31C1w4KuyHL._SY300_.jpg   \n",
       "259202  http://ecx.images-amazon.com/images/I/51%2B%2BnlwkxbL._SX300_.jpg   \n",
       "259203      http://ecx.images-amazon.com/images/I/41kXSEchRbL._SX300_.jpg   \n",
       "\n",
       "                                 salesRank  \\\n",
       "0       {'Health & Personal Care': 461765}   \n",
       "1                       {'Beauty': 402875}   \n",
       "2                       {'Beauty': 540255}   \n",
       "3                       {'Beauty': 931125}   \n",
       "4                                      NaN   \n",
       "...                                    ...   \n",
       "259199                                 NaN   \n",
       "259200                  {'Beauty': 108820}   \n",
       "259201                                 NaN   \n",
       "259202                                 NaN   \n",
       "259203                                 NaN   \n",
       "\n",
       "                                                                            categories  \\\n",
       "0                                   [[Beauty, Skin Care, Face, Creams & Moisturizers]]   \n",
       "1       [[Beauty, Tools & Accessories, Makeup Brushes & Tools, Brushes & Applicators]]   \n",
       "2                                   [[Beauty, Skin Care, Body, Moisturizers, Lotions]]   \n",
       "3                                                   [[Beauty, Makeup, Lips, Lipstick]]   \n",
       "4                             [[Beauty, Tools & Accessories, Mirrors, Makeup Mirrors]]   \n",
       "...                                                                                ...   \n",
       "259199     [[Beauty, Hair Care, Styling Tools, Styling Accessories, Decorative Combs]]   \n",
       "259200                                          [[Beauty, Makeup, Nails, Nail Polish]]   \n",
       "259201                              [[Beauty, Skin Care, Face, Creams & Moisturizers]]   \n",
       "259202     [[Beauty, Hair Care, Styling Tools, Styling Accessories, Decorative Combs]]   \n",
       "259203                    [[Beauty, Tools & Accessories, Bags & Cases, Toiletry Bags]]   \n",
       "\n",
       "         price  \\\n",
       "0          NaN   \n",
       "1          NaN   \n",
       "2          NaN   \n",
       "3          NaN   \n",
       "4        19.98   \n",
       "...        ...   \n",
       "259199     NaN   \n",
       "259200     NaN   \n",
       "259201     NaN   \n",
       "259202     NaN   \n",
       "259203  130.00   \n",
       "\n",
       "                                                                                                                                                                                          related  \\\n",
       "0                                                                                                                                                                                             NaN   \n",
       "1                                                                                                                                                                                             NaN   \n",
       "2                                                                                                                                                                                             NaN   \n",
       "3                                                                                                                                                                                             NaN   \n",
       "4                                                                                                                                                                                             NaN   \n",
       "...                                                                                                                                                                                           ...   \n",
       "259199                                                                                                                                                                                        NaN   \n",
       "259200  {'also_viewed': ['B0057JCYYE', 'B00LMXHR1Y', 'B00993T7YY', 'B006FRS9O6', 'B00993T6C2', 'B00CHV3LNS', 'B004NMYR96', 'B006HJQRB4', 'B007AU0FXA', 'B0053ZA1ME', 'B001RMP7M6', 'B00DLJ7LJA']}   \n",
       "259201                                                                                                                                                                                        NaN   \n",
       "259202                                                                                                                                                                                        NaN   \n",
       "259203                                                                                      {'also_viewed': ['B00JWX6OOW', 'B00L4HJCZC', 'B00KJFXPUS', 'B00K3M4WGS', 'B00K575CXI', 'B00DCX5TI0']}   \n",
       "\n",
       "       brand  \n",
       "0        NaN  \n",
       "1        NaN  \n",
       "2        NaN  \n",
       "3        NaN  \n",
       "4        NaN  \n",
       "...      ...  \n",
       "259199   NaN  \n",
       "259200   NaN  \n",
       "259201   NaN  \n",
       "259202   NaN  \n",
       "259203   NaN  \n",
       "\n",
       "[259204 rows x 9 columns]"
      ]
     },
     "execution_count": 167,
     "metadata": {},
     "output_type": "execute_result"
    }
   ],
   "source": [
    "meta_data_df = getDF(\"Data/meta_Beauty.json.gz\")\n",
    "meta_data_df"
   ]
  },
  {
   "cell_type": "code",
   "execution_count": 168,
   "id": "759672ac",
   "metadata": {},
   "outputs": [
    {
     "data": {
      "text/html": [
       "<div>\n",
       "<style scoped>\n",
       "    .dataframe tbody tr th:only-of-type {\n",
       "        vertical-align: middle;\n",
       "    }\n",
       "\n",
       "    .dataframe tbody tr th {\n",
       "        vertical-align: top;\n",
       "    }\n",
       "\n",
       "    .dataframe thead th {\n",
       "        text-align: right;\n",
       "    }\n",
       "</style>\n",
       "<table border=\"1\" class=\"dataframe\">\n",
       "  <thead>\n",
       "    <tr style=\"text-align: right;\">\n",
       "      <th></th>\n",
       "      <th>asin</th>\n",
       "      <th>description</th>\n",
       "      <th>title</th>\n",
       "      <th>imUrl</th>\n",
       "      <th>salesRank</th>\n",
       "      <th>categories</th>\n",
       "      <th>price</th>\n",
       "      <th>related</th>\n",
       "      <th>brand</th>\n",
       "    </tr>\n",
       "  </thead>\n",
       "  <tbody>\n",
       "    <tr>\n",
       "      <th>0</th>\n",
       "      <td>0205616461</td>\n",
       "      <td>As we age, our once youthful, healthy skin succumbs to an enzymatic imbalance that wears away the cellular network, resulting in skin thinning and aging. Combining the best of nature and cosmetic biotechnology, Bio-Active products are formulated with Enzymes that gently exfoliate the skin and stimulate regeneration for a youthful glow. Benefiting from fertile orchards in the Italian countryside, Bio-active formulas are rich in phytohormones, flavonoids and fatty acids from active extracts in Apple and Pear Seeds ,enzymatically modified and developed especially for the care of aging skin. This repairing fluid helps to nourish and firm by accelerating penetration and delivery of active principles to the skin, giving it a more youthful appearance. \\n\\nAdvanced \"Probiotic\" Complex from nourishing milk proteins regains the skin's natural equilibrium, boosts its immunities and protects it against environmental and biological stress.\\n\\nPeptides and Ceramides help to firm and regenerate the skin by stimulating collagen production and strengthening the epidermis.\\n\\nA Calming Botanical Complex of Hyaluronic Acid and Wheat Germ Extract hydrates and restores the skin's protective barriers.\\n\\nA nutritive Vitamin Complex moisturizes and protects the skin from damaging environmental factors. \\n\\nParacress Extract, a natural alternative to cosmetic injections, limits and relaxes micro-contractions that create facial lines, producing immediate and long-term smoothing of the skin.\\n\\nTo Use: Apply a few pumps to Apply a few pumps to a clean and dried face, neck and dcollet.</td>\n",
       "      <td>Bio-Active Anti-Aging Serum (Firming Ultra-Hydrating Serum)</td>\n",
       "      <td>http://ecx.images-amazon.com/images/I/41DecrGODDL._SY300_.jpg</td>\n",
       "      <td>{'Health &amp; Personal Care': 461765}</td>\n",
       "      <td>[[Beauty, Skin Care, Face, Creams &amp; Moisturizers]]</td>\n",
       "      <td>NaN</td>\n",
       "      <td>NaN</td>\n",
       "      <td>NaN</td>\n",
       "    </tr>\n",
       "    <tr>\n",
       "      <th>1</th>\n",
       "      <td>0558925278</td>\n",
       "      <td>Mineral Powder Brush--Apply powder or mineral foundation all over face in a circular, buffing motion and work inward towards nose.\\n\\nConcealer Brush--Use with liquid or mineral powder concealer for more coverage on blemishes and under eyes. \\n\\nEye Shading Brush-- Expertly cut to apply and blend powder eye shadows.\\n\\nBaby Kabuki-- Buff powder over areas that need more coverage. \\n\\nCosmetic Brush Bag-- 55% hemp linen, 45% cotton</td>\n",
       "      <td>Eco Friendly Ecotools Quality Natural Bamboo Cosmetic Mineral Brush Set Kit of 4 Soft Brushes and 1 Pouch Baby Kabuki Eye Shading Brush Mineral Powder Brush Concealer Brush(travle Size)</td>\n",
       "      <td>http://ecx.images-amazon.com/images/I/51L%2BzYCQWSL._SX300_.jpg</td>\n",
       "      <td>{'Beauty': 402875}</td>\n",
       "      <td>[[Beauty, Tools &amp; Accessories, Makeup Brushes &amp; Tools, Brushes &amp; Applicators]]</td>\n",
       "      <td>NaN</td>\n",
       "      <td>NaN</td>\n",
       "      <td>NaN</td>\n",
       "    </tr>\n",
       "    <tr>\n",
       "      <th>2</th>\n",
       "      <td>0733001998</td>\n",
       "      <td>From the Greek island of Chios, this Mastiha body lotion is made from Mastic oil, a pure product derived from mastic. With organically grown: Olive oil, red grape leaves, Aloe vera, Rosemary, Bee's wax, Shea Butter.</td>\n",
       "      <td>Mastiha Body Lotion</td>\n",
       "      <td>http://ecx.images-amazon.com/images/I/311WK5y1dML._SY300_.jpg</td>\n",
       "      <td>{'Beauty': 540255}</td>\n",
       "      <td>[[Beauty, Skin Care, Body, Moisturizers, Lotions]]</td>\n",
       "      <td>NaN</td>\n",
       "      <td>NaN</td>\n",
       "      <td>NaN</td>\n",
       "    </tr>\n",
       "    <tr>\n",
       "      <th>3</th>\n",
       "      <td>0737104473</td>\n",
       "      <td>Limited edition Hello Kitty Lipstick featuring shiny black casing with Hello Kitty figure on a pop art pattern background. Cap features the logos of both MAC and Hello Kitty in this collection.</td>\n",
       "      <td>Hello Kitty Lustre Lipstick (See sellers comments for colors)</td>\n",
       "      <td>http://ecx.images-amazon.com/images/I/31u6Hrzk3WL._SY300_.jpg</td>\n",
       "      <td>{'Beauty': 931125}</td>\n",
       "      <td>[[Beauty, Makeup, Lips, Lipstick]]</td>\n",
       "      <td>NaN</td>\n",
       "      <td>NaN</td>\n",
       "      <td>NaN</td>\n",
       "    </tr>\n",
       "    <tr>\n",
       "      <th>4</th>\n",
       "      <td>0762451459</td>\n",
       "      <td>The mermaid is an elusive (okay, mythical) creature, her beauty glimpsed only fleetingly by swimmers and sailors. With this mermaid-inspired iridescent compact, we landlubbers can capture a bit of that shimmering allure. Plus, having a mirror always on hand, we'll have no trouble catching a glimpse of our own gorgeousness (or doing a quick touchup when we need to).Within its slim silhouette, this colorful compact contains a double-sided mirror: Each mirror is large enough to show your entire face, and angling the two offers a side-angle view for hair fixes. The case snaps shut to keep the mirrors scuff-free.</td>\n",
       "      <td>Stephanie Johnson Mermaid Round Snap Mirror</td>\n",
       "      <td>http://ecx.images-amazon.com/images/I/41y2%2BFUdf1L._SY300_.jpg</td>\n",
       "      <td>NaN</td>\n",
       "      <td>[[Beauty, Tools &amp; Accessories, Mirrors, Makeup Mirrors]]</td>\n",
       "      <td>19.98</td>\n",
       "      <td>NaN</td>\n",
       "      <td>NaN</td>\n",
       "    </tr>\n",
       "    <tr>\n",
       "      <th>...</th>\n",
       "      <td>...</td>\n",
       "      <td>...</td>\n",
       "      <td>...</td>\n",
       "      <td>...</td>\n",
       "      <td>...</td>\n",
       "      <td>...</td>\n",
       "      <td>...</td>\n",
       "      <td>...</td>\n",
       "      <td>...</td>\n",
       "    </tr>\n",
       "    <tr>\n",
       "      <th>95</th>\n",
       "      <td>6041134473</td>\n",
       "      <td>Restore your skin's firmness and elasticity.\\n\\nGold has magic energy of resisting oxidation. \\n\\nTightens your skin &amp; see your skin turn soft &amp; elastic \\n\\nReshapes your face contour to reveal your youthful look\\n\\nThe 24K Gold Y shape beauty bar will beautify your skin.\\n\\nAll you need is  3 minutes a day, and then you will see firm and radiant skin that you never dreamed of.\\n\\n It is the beauty masterwork for anti-aging.\\n\\nPortable massager, you can enjoy it for relaxation everywhere. It can be used on your face, leg, hands,waist, back and all your body.\\n \\nMassage face with germanium particles, can replenish the lost negatively charged ions of skin. \\n\\n Y shape and six massage planes designed for your comfort.\\n\\n Beautiful and elegant design, light and easy to carry.\\n\\nWith the high technology processed gold beauty bar and ion current slight vibration , it can go deep into your skin and release active ingredients to activate subcutaneous fibrous tissue and improve regeneration of collagen.</td>\n",
       "      <td>Cellulite Massager Face Lift Face Massager 24k Gold Beauty Bar- Perfect Custom Fit Travel Bag for Your Awesome Device- Best 100% Satisfaction Money Back Guarantee- Click the &amp;quot;Add to Cart&amp;quot; Button Now to Make Your Skin Look &amp;amp; Feel Younger!</td>\n",
       "      <td>http://ecx.images-amazon.com/images/I/41Mv9hUfc%2BL._SX300_.jpg</td>\n",
       "      <td>{'Beauty': 26646}</td>\n",
       "      <td>[[Beauty, Skin Care, Face]]</td>\n",
       "      <td>NaN</td>\n",
       "      <td>{'also_bought': ['B00K7HKVQO', 'B00IODYRJ0', 'B00585N0ZY', 'B00CE2JC9W', 'B00B99O5WK', 'B008XB9T1Y', 'B0096Q8AXS', 'B007UR20P4', 'B00CME22DK', 'B00G2TQNZ4', 'B003UJHSUI', 'B003Z388CQ'], 'also_viewed': ['B00K7HKVQO', 'B008XB9T1Y', 'B007YY4RXG', 'B00E6BQNE6', 'B001QYNI94', 'B00E3OO3JI', 'B00EQ2HGSC', 'B00K4GA5YQ', 'B00FXMNZ52', 'B00H93O97Q', 'B00GXXIHYE', 'B00ALI4KQG', 'B001R94UNG', 'B00EMJQ3TM', 'B00B4M5WM4', 'B00ARHY6EW', 'B0051ZHQEC', 'B00585N0ZY', 'B00HUWE4JE', 'B00JSJ78ZO', 'B00J5ZRTM8', 'B001E8QTP2', 'B00ALHTYNQ', 'B002U774PK', 'B00CAJ8Q96', 'B000V2F9RQ', 'B00LWW53MK', 'B00D4AIF3C', 'B003Z388CQ', 'B00CK2CLE4', 'B00L06ANSW', 'B00BWNJQJA', 'B00GJ1UK3G', 'B00L8NDF3M', 'B007UMQ410', 'B00GOJ60W8', 'B00CE6CFLU', 'B002JPPNUQ', 'B005GLQFJI', 'B00J4IHD4U', 'B00B99O5WK', 'B00G48RK3C', 'B008YVTQ5M', 'B005851HJU', 'B00GJ1ZNXI', 'B00HLXB9TA', 'B003F88N3K', 'B001T9P2NG', 'B00KPSKJD0', 'B00CBA6B5U', 'B00GZICS1A', 'B00JQVIVPK', 'B009DZKNHI', 'B00CAJTZ8C']}</td>\n",
       "      <td>NaN</td>\n",
       "    </tr>\n",
       "    <tr>\n",
       "      <th>96</th>\n",
       "      <td>6040652705</td>\n",
       "      <td>Cure time: 3 minutes. Performs with ease when sculpting or creating that pristine smile line.</td>\n",
       "      <td>Atnails Nail Uv Gel - Extreme White - French Manicure 20 Ml</td>\n",
       "      <td>http://ecx.images-amazon.com/images/I/41EPV9ftTyL._SX300_.jpg</td>\n",
       "      <td>{'Beauty': 554040}</td>\n",
       "      <td>[[Beauty, Makeup, Nails, Nail Polish]]</td>\n",
       "      <td>NaN</td>\n",
       "      <td>NaN</td>\n",
       "      <td>NaN</td>\n",
       "    </tr>\n",
       "    <tr>\n",
       "      <th>97</th>\n",
       "      <td>6041134511</td>\n",
       "      <td>Gold has magic energy of resisting oxidation.\\n\\n With the high technology processed gold beauty bar and ion current slight vibration , it can go deep into your skin and release active ingredients to activate subcutaneous fibrous tissue and improve regeneration of collagen.\\n\\n Enhances the tightness of fibrous tissue of the collagen to tighten your skin and it make your skin soft, elastic and antioxidant. \\n\\nIt is the beauty masterwork for anti-aging.</td>\n",
       "      <td>24k Gold Vibrating Face Lifting Tightening T Shape Patented Beauty Bar, Face Lift Device, Slim Face Face Lift Massager</td>\n",
       "      <td>http://ecx.images-amazon.com/images/I/511oshirD4L._SY300_.jpg</td>\n",
       "      <td>{'Beauty': 397584}</td>\n",
       "      <td>[[Beauty, Skin Care, Sets &amp; Kits]]</td>\n",
       "      <td>NaN</td>\n",
       "      <td>{'also_viewed': ['6041134473']}</td>\n",
       "      <td>NaN</td>\n",
       "    </tr>\n",
       "    <tr>\n",
       "      <th>98</th>\n",
       "      <td>604113449X</td>\n",
       "      <td>The Extra 600 Titanium Micro Needles per roller head in comparison with the standard 192 needles insures greater penetration in much less time. &amp;#x2022; The 600 Titanium performs comfortable treatments due to the increased density of punctures per cm2 and due to the titanium sharp edges. &amp;#x2022; The 600 Titanium gives better results and fast. The 600 Titanium enables serums and nutrients to be quickly absorbed through your skin It has fewer side effects due to the sharp cut while penetrating the skin instead of the tearing caused by other less sharp materials used on other derma rollers. Titanium is easier to sterilize, maintains sharpness and lasts longer. &amp;#x2022; 1.0 mm needle length enables the precise piercing of your skin to the exact depth that will effectively remove wrinkles, skin pigmentations, stretch marks &amp; blackheads, and treat acne scars. &amp;#x2022; The 600 Titanium has shown to improve pregnancy lines, thick wrinkles, large black pores, and cellulite treatment, face firming &amp; face lifting. &amp;#x2022; The 600 Titanium is the best solution on the market for acne treatment today. &amp;#x2022; The New 600 Titanium for hair loss treatment enables active ingredients to arrive to the inner layers of the skin most effectively. &amp;#x2022; The shape of the 600 Titanium Needles insures greater comfort compared to the standard round shaped needle of other derma rollers which are twice as large. &amp;#x2022; Thinner Needles in comparison with the standard needle thickness insures maximum comfort throughout your Dermatology Therapy. &amp;#x2022; The 600 Titanium is the solution for&amp;#x2022; Acne scar treatment &amp;#x2022;Wrinkles Anti-aging &amp;#x2022;Enlarged pores and Blackheads &amp;#x2022;Lack of firmness &amp;#x2022;Dark Circles &amp;#x2022;Age spots. &amp;#x2022; The 600 Titanium is also the answer for your body and has shown excellent results for Stretch mark treatment, Cellulite treatment, Hair loss Treatment, and Hyper pigmentation Treatment.                             BUY NOW WITH CONFIDENCE WITH OUR 100% SATISFACTION MONEY BACK GUARANTEE - CLICK \"ADD TO CART\" BUTTON NOW!</td>\n",
       "      <td>Derma Roller Titanium 1.0mm 600 Micro Needles Skin Care System-Best Facial 600 Microneedle Roller for Cellulite &amp;amp; Wrinkle Removal to Treat Aged Skin, Fine Lines, Crows Feet, Hyper-pigmentation-Stimulates Collagen and Elastin Production to Make Your Skin Firmer Tighter and Smoother Through Dermatology Therapy &amp;amp; Cell Regeneration-The ONLY Derma Roller with a 100% Satisfaction Money Back Guarantee!</td>\n",
       "      <td>http://ecx.images-amazon.com/images/I/41kVoMvqndL._SX300_.jpg</td>\n",
       "      <td>{'Beauty': 80310}</td>\n",
       "      <td>[[Beauty, Skin Care, Face, Treatments &amp; Masks]]</td>\n",
       "      <td>12.87</td>\n",
       "      <td>{'also_bought': ['B008CEDY5O', 'B00C7DYBX0', 'B00CME22DK', 'B00G2TQNZ4', 'B009653PPW', 'B000XJ0PG2'], 'also_viewed': ['B00H09L558', 'B00H0LVCVI', 'B00ICB76MO', 'B008H3S8GU', 'B00A7FS2NK', 'B00H5A513O', 'B009653PPW', 'B00I3958F2', 'B00LWUUYZ8', 'B002F4Z18A', 'B004LUZ956', 'B0085LXOC2', 'B00IIVVG2E', 'B00JT2SWUK', 'B00JO11UH8', 'B00HXF7HZQ', 'B00LMZ00FC', 'B00CE2JC9W', 'B004ATTGSY', 'B00GID829O', 'B004LUVN10', '6041134473', 'B00CP0APMQ', 'B00KGDRCZW', 'B00IM42M7A', 'B0085L060A', 'B00JC77VEK', 'B00F9JII3I', 'B005MEFCKM', 'B00H30O6GE', 'B00E0C9O8I', 'B00K3022LM', 'B002F50FYE', 'B00I1VR3P0', 'B006ZCQD30', 'B00J7ED2B4', 'B00DAC4SPI', 'B002OUN9IO', 'B00CEJALXQ', 'B006ZCPZMA', 'B00L0C529Q', 'B00EOGDPE4', 'B00ERYKD5W', 'B00JTY6WQ4', 'B00KIX65CG', 'B00HJ2863K', 'B008IYLQTO', 'B00HEYH5BC', 'B00KT11OWI', 'B00K14P4HO', 'B004EFF3DG', 'B00CW8V200', 'B00KCSTCQS', 'B009ZVNKPC'], 'bought_together': ['B008CEDY5O']}</td>\n",
       "      <td>NaN</td>\n",
       "    </tr>\n",
       "    <tr>\n",
       "      <th>99</th>\n",
       "      <td>6053640972</td>\n",
       "      <td>Worried about your hair loss, tired of using products that promise results and never give? Or wait 6 to12 months to see the poor results of a shampoo, lotion or pills? The solution is TOPPIK...</td>\n",
       "      <td>Toppik Hair Building Fibers Travel Size Small Dark Brown (2.5gm), Cover Bald Spots Instantly, Hair Loss Concealer, &amp;quot;HAIR TRANSPLANT&amp;quot;, Keratin Fiber&amp;quot;</td>\n",
       "      <td>http://ecx.images-amazon.com/images/I/419hAhz1cyL._SY300_.jpg</td>\n",
       "      <td>{'Beauty': 319142}</td>\n",
       "      <td>[[Beauty, Hair Care, Hair Loss Products, Styling Products]]</td>\n",
       "      <td>10.75</td>\n",
       "      <td>{'also_bought': ['B00D8CQ8ZS', 'B000QGKQXO', 'B008Z3WCZA'], 'also_viewed': ['B0072CSOYI', 'B006O4QE74', 'B006O4R3L0'], 'bought_together': ['B000QGKQXO']}</td>\n",
       "      <td>NaN</td>\n",
       "    </tr>\n",
       "  </tbody>\n",
       "</table>\n",
       "<p>100 rows × 9 columns</p>\n",
       "</div>"
      ],
      "text/plain": [
       "          asin  \\\n",
       "0   0205616461   \n",
       "1   0558925278   \n",
       "2   0733001998   \n",
       "3   0737104473   \n",
       "4   0762451459   \n",
       "..         ...   \n",
       "95  6041134473   \n",
       "96  6040652705   \n",
       "97  6041134511   \n",
       "98  604113449X   \n",
       "99  6053640972   \n",
       "\n",
       "                                                                                                                                                                                                                                                                                                                                                                                                                                                                                                                                                                                                                                                                                                                                                                                                                                                                                                                                                                                                                                                                                                                                                                                                                                                                                                                                                                                                                                                                                                                                                                                                                                                                                                                                                                                                                                                                                                                                                                                                                                                                                                                                                          description  \\\n",
       "0                                                                                                                                                                                                                                                                                                                                                                                                                                                                                                                   As we age, our once youthful, healthy skin succumbs to an enzymatic imbalance that wears away the cellular network, resulting in skin thinning and aging. Combining the best of nature and cosmetic biotechnology, Bio-Active products are formulated with Enzymes that gently exfoliate the skin and stimulate regeneration for a youthful glow. Benefiting from fertile orchards in the Italian countryside, Bio-active formulas are rich in phytohormones, flavonoids and fatty acids from active extracts in Apple and Pear Seeds ,enzymatically modified and developed especially for the care of aging skin. This repairing fluid helps to nourish and firm by accelerating penetration and delivery of active principles to the skin, giving it a more youthful appearance. \\n\\nAdvanced \"Probiotic\" Complex from nourishing milk proteins regains the skin's natural equilibrium, boosts its immunities and protects it against environmental and biological stress.\\n\\nPeptides and Ceramides help to firm and regenerate the skin by stimulating collagen production and strengthening the epidermis.\\n\\nA Calming Botanical Complex of Hyaluronic Acid and Wheat Germ Extract hydrates and restores the skin's protective barriers.\\n\\nA nutritive Vitamin Complex moisturizes and protects the skin from damaging environmental factors. \\n\\nParacress Extract, a natural alternative to cosmetic injections, limits and relaxes micro-contractions that create facial lines, producing immediate and long-term smoothing of the skin.\\n\\nTo Use: Apply a few pumps to Apply a few pumps to a clean and dried face, neck and dcollet.   \n",
       "1                                                                                                                                                                                                                                                                                                                                                                                                                                                                                                                                                                                                                                                                                                                                                                                                                                                                                                                                                                                                                                                                                                                                                                                                                                                                                                                                                                                                                                                                                                                                                                                                                                                                                                                  Mineral Powder Brush--Apply powder or mineral foundation all over face in a circular, buffing motion and work inward towards nose.\\n\\nConcealer Brush--Use with liquid or mineral powder concealer for more coverage on blemishes and under eyes. \\n\\nEye Shading Brush-- Expertly cut to apply and blend powder eye shadows.\\n\\nBaby Kabuki-- Buff powder over areas that need more coverage. \\n\\nCosmetic Brush Bag-- 55% hemp linen, 45% cotton   \n",
       "2                                                                                                                                                                                                                                                                                                                                                                                                                                                                                                                                                                                                                                                                                                                                                                                                                                                                                                                                                                                                                                                                                                                                                                                                                                                                                                                                                                                                                                                                                                                                                                                                                                                                                                                                                                                                                                                                                                                                             From the Greek island of Chios, this Mastiha body lotion is made from Mastic oil, a pure product derived from mastic. With organically grown: Olive oil, red grape leaves, Aloe vera, Rosemary, Bee's wax, Shea Butter.   \n",
       "3                                                                                                                                                                                                                                                                                                                                                                                                                                                                                                                                                                                                                                                                                                                                                                                                                                                                                                                                                                                                                                                                                                                                                                                                                                                                                                                                                                                                                                                                                                                                                                                                                                                                                                                                                                                                                                                                                                                                                                   Limited edition Hello Kitty Lipstick featuring shiny black casing with Hello Kitty figure on a pop art pattern background. Cap features the logos of both MAC and Hello Kitty in this collection.   \n",
       "4                                                                                                                                                                                                                                                                                                                                                                                                                                                                                                                                                                                                                                                                                                                                                                                                                                                                                                                                                                                                                                                                                                                                                                                                                                                                                                                                                                                                                                                                                                                             The mermaid is an elusive (okay, mythical) creature, her beauty glimpsed only fleetingly by swimmers and sailors. With this mermaid-inspired iridescent compact, we landlubbers can capture a bit of that shimmering allure. Plus, having a mirror always on hand, we'll have no trouble catching a glimpse of our own gorgeousness (or doing a quick touchup when we need to).Within its slim silhouette, this colorful compact contains a double-sided mirror: Each mirror is large enough to show your entire face, and angling the two offers a side-angle view for hair fixes. The case snaps shut to keep the mirrors scuff-free.   \n",
       "..                                                                                                                                                                                                                                                                                                                                                                                                                                                                                                                                                                                                                                                                                                                                                                                                                                                                                                                                                                                                                                                                                                                                                                                                                                                                                                                                                                                                                                                                                                                                                                                                                                                                                                                                                                                                                                                                                                                                                                                                                                                                                                                                                                ...   \n",
       "95                                                                                                                                                                                                                                                                                                                                                                                                                                                                                                                                                                                                                                                                                                                                                                                                                                                                                                                                                                                                                                                                                                             Restore your skin's firmness and elasticity.\\n\\nGold has magic energy of resisting oxidation. \\n\\nTightens your skin & see your skin turn soft & elastic \\n\\nReshapes your face contour to reveal your youthful look\\n\\nThe 24K Gold Y shape beauty bar will beautify your skin.\\n\\nAll you need is  3 minutes a day, and then you will see firm and radiant skin that you never dreamed of.\\n\\n It is the beauty masterwork for anti-aging.\\n\\nPortable massager, you can enjoy it for relaxation everywhere. It can be used on your face, leg, hands,waist, back and all your body.\\n \\nMassage face with germanium particles, can replenish the lost negatively charged ions of skin. \\n\\n Y shape and six massage planes designed for your comfort.\\n\\n Beautiful and elegant design, light and easy to carry.\\n\\nWith the high technology processed gold beauty bar and ion current slight vibration , it can go deep into your skin and release active ingredients to activate subcutaneous fibrous tissue and improve regeneration of collagen.   \n",
       "96                                                                                                                                                                                                                                                                                                                                                                                                                                                                                                                                                                                                                                                                                                                                                                                                                                                                                                                                                                                                                                                                                                                                                                                                                                                                                                                                                                                                                                                                                                                                                                                                                                                                                                                                                                                                                                                                                                                                                                                                                                                                      Cure time: 3 minutes. Performs with ease when sculpting or creating that pristine smile line.   \n",
       "97                                                                                                                                                                                                                                                                                                                                                                                                                                                                                                                                                                                                                                                                                                                                                                                                                                                                                                                                                                                                                                                                                                                                                                                                                                                                                                                                                                                                                                                                                                                                                                                                                                                                                          Gold has magic energy of resisting oxidation.\\n\\n With the high technology processed gold beauty bar and ion current slight vibration , it can go deep into your skin and release active ingredients to activate subcutaneous fibrous tissue and improve regeneration of collagen.\\n\\n Enhances the tightness of fibrous tissue of the collagen to tighten your skin and it make your skin soft, elastic and antioxidant. \\n\\nIt is the beauty masterwork for anti-aging.   \n",
       "98  The Extra 600 Titanium Micro Needles per roller head in comparison with the standard 192 needles insures greater penetration in much less time. &#x2022; The 600 Titanium performs comfortable treatments due to the increased density of punctures per cm2 and due to the titanium sharp edges. &#x2022; The 600 Titanium gives better results and fast. The 600 Titanium enables serums and nutrients to be quickly absorbed through your skin It has fewer side effects due to the sharp cut while penetrating the skin instead of the tearing caused by other less sharp materials used on other derma rollers. Titanium is easier to sterilize, maintains sharpness and lasts longer. &#x2022; 1.0 mm needle length enables the precise piercing of your skin to the exact depth that will effectively remove wrinkles, skin pigmentations, stretch marks & blackheads, and treat acne scars. &#x2022; The 600 Titanium has shown to improve pregnancy lines, thick wrinkles, large black pores, and cellulite treatment, face firming & face lifting. &#x2022; The 600 Titanium is the best solution on the market for acne treatment today. &#x2022; The New 600 Titanium for hair loss treatment enables active ingredients to arrive to the inner layers of the skin most effectively. &#x2022; The shape of the 600 Titanium Needles insures greater comfort compared to the standard round shaped needle of other derma rollers which are twice as large. &#x2022; Thinner Needles in comparison with the standard needle thickness insures maximum comfort throughout your Dermatology Therapy. &#x2022; The 600 Titanium is the solution for&#x2022; Acne scar treatment &#x2022;Wrinkles Anti-aging &#x2022;Enlarged pores and Blackheads &#x2022;Lack of firmness &#x2022;Dark Circles &#x2022;Age spots. &#x2022; The 600 Titanium is also the answer for your body and has shown excellent results for Stretch mark treatment, Cellulite treatment, Hair loss Treatment, and Hyper pigmentation Treatment.                             BUY NOW WITH CONFIDENCE WITH OUR 100% SATISFACTION MONEY BACK GUARANTEE - CLICK \"ADD TO CART\" BUTTON NOW!   \n",
       "99                                                                                                                                                                                                                                                                                                                                                                                                                                                                                                                                                                                                                                                                                                                                                                                                                                                                                                                                                                                                                                                                                                                                                                                                                                                                                                                                                                                                                                                                                                                                                                                                                                                                                                                                                                                                                                                                                                                                                                  Worried about your hair loss, tired of using products that promise results and never give? Or wait 6 to12 months to see the poor results of a shampoo, lotion or pills? The solution is TOPPIK...   \n",
       "\n",
       "                                                                                                                                                                                                                                                                                                                                                                                                                     title  \\\n",
       "0                                                                                                                                                                                                                                                                                                                                                              Bio-Active Anti-Aging Serum (Firming Ultra-Hydrating Serum)   \n",
       "1                                                                                                                                                                                                                                Eco Friendly Ecotools Quality Natural Bamboo Cosmetic Mineral Brush Set Kit of 4 Soft Brushes and 1 Pouch Baby Kabuki Eye Shading Brush Mineral Powder Brush Concealer Brush(travle Size)   \n",
       "2                                                                                                                                                                                                                                                                                                                                                                                                      Mastiha Body Lotion   \n",
       "3                                                                                                                                                                                                                                                                                                                                                            Hello Kitty Lustre Lipstick (See sellers comments for colors)   \n",
       "4                                                                                                                                                                                                                                                                                                                                                                              Stephanie Johnson Mermaid Round Snap Mirror   \n",
       "..                                                                                                                                                                                                                                                                                                                                                                                                                     ...   \n",
       "95                                                                                                                                                             Cellulite Massager Face Lift Face Massager 24k Gold Beauty Bar- Perfect Custom Fit Travel Bag for Your Awesome Device- Best 100% Satisfaction Money Back Guarantee- Click the &quot;Add to Cart&quot; Button Now to Make Your Skin Look &amp; Feel Younger!   \n",
       "96                                                                                                                                                                                                                                                                                                                                                             Atnails Nail Uv Gel - Extreme White - French Manicure 20 Ml   \n",
       "97                                                                                                                                                                                                                                                                                                  24k Gold Vibrating Face Lifting Tightening T Shape Patented Beauty Bar, Face Lift Device, Slim Face Face Lift Massager   \n",
       "98  Derma Roller Titanium 1.0mm 600 Micro Needles Skin Care System-Best Facial 600 Microneedle Roller for Cellulite &amp; Wrinkle Removal to Treat Aged Skin, Fine Lines, Crows Feet, Hyper-pigmentation-Stimulates Collagen and Elastin Production to Make Your Skin Firmer Tighter and Smoother Through Dermatology Therapy &amp; Cell Regeneration-The ONLY Derma Roller with a 100% Satisfaction Money Back Guarantee!   \n",
       "99                                                                                                                                                                                                                                                     Toppik Hair Building Fibers Travel Size Small Dark Brown (2.5gm), Cover Bald Spots Instantly, Hair Loss Concealer, &quot;HAIR TRANSPLANT&quot;, Keratin Fiber&quot;   \n",
       "\n",
       "                                                              imUrl  \\\n",
       "0     http://ecx.images-amazon.com/images/I/41DecrGODDL._SY300_.jpg   \n",
       "1   http://ecx.images-amazon.com/images/I/51L%2BzYCQWSL._SX300_.jpg   \n",
       "2     http://ecx.images-amazon.com/images/I/311WK5y1dML._SY300_.jpg   \n",
       "3     http://ecx.images-amazon.com/images/I/31u6Hrzk3WL._SY300_.jpg   \n",
       "4   http://ecx.images-amazon.com/images/I/41y2%2BFUdf1L._SY300_.jpg   \n",
       "..                                                              ...   \n",
       "95  http://ecx.images-amazon.com/images/I/41Mv9hUfc%2BL._SX300_.jpg   \n",
       "96    http://ecx.images-amazon.com/images/I/41EPV9ftTyL._SX300_.jpg   \n",
       "97    http://ecx.images-amazon.com/images/I/511oshirD4L._SY300_.jpg   \n",
       "98    http://ecx.images-amazon.com/images/I/41kVoMvqndL._SX300_.jpg   \n",
       "99    http://ecx.images-amazon.com/images/I/419hAhz1cyL._SY300_.jpg   \n",
       "\n",
       "                             salesRank  \\\n",
       "0   {'Health & Personal Care': 461765}   \n",
       "1                   {'Beauty': 402875}   \n",
       "2                   {'Beauty': 540255}   \n",
       "3                   {'Beauty': 931125}   \n",
       "4                                  NaN   \n",
       "..                                 ...   \n",
       "95                   {'Beauty': 26646}   \n",
       "96                  {'Beauty': 554040}   \n",
       "97                  {'Beauty': 397584}   \n",
       "98                   {'Beauty': 80310}   \n",
       "99                  {'Beauty': 319142}   \n",
       "\n",
       "                                                                        categories  \\\n",
       "0                               [[Beauty, Skin Care, Face, Creams & Moisturizers]]   \n",
       "1   [[Beauty, Tools & Accessories, Makeup Brushes & Tools, Brushes & Applicators]]   \n",
       "2                               [[Beauty, Skin Care, Body, Moisturizers, Lotions]]   \n",
       "3                                               [[Beauty, Makeup, Lips, Lipstick]]   \n",
       "4                         [[Beauty, Tools & Accessories, Mirrors, Makeup Mirrors]]   \n",
       "..                                                                             ...   \n",
       "95                                                     [[Beauty, Skin Care, Face]]   \n",
       "96                                          [[Beauty, Makeup, Nails, Nail Polish]]   \n",
       "97                                              [[Beauty, Skin Care, Sets & Kits]]   \n",
       "98                                 [[Beauty, Skin Care, Face, Treatments & Masks]]   \n",
       "99                     [[Beauty, Hair Care, Hair Loss Products, Styling Products]]   \n",
       "\n",
       "    price  \\\n",
       "0     NaN   \n",
       "1     NaN   \n",
       "2     NaN   \n",
       "3     NaN   \n",
       "4   19.98   \n",
       "..    ...   \n",
       "95    NaN   \n",
       "96    NaN   \n",
       "97    NaN   \n",
       "98  12.87   \n",
       "99  10.75   \n",
       "\n",
       "                                                                                                                                                                                                                                                                                                                                                                                                                                                                                                                                                                                                                                                                                                                                                                                                                                                                                                                                                                                           related  \\\n",
       "0                                                                                                                                                                                                                                                                                                                                                                                                                                                                                                                                                                                                                                                                                                                                                                                                                                                                                                                                                                                              NaN   \n",
       "1                                                                                                                                                                                                                                                                                                                                                                                                                                                                                                                                                                                                                                                                                                                                                                                                                                                                                                                                                                                              NaN   \n",
       "2                                                                                                                                                                                                                                                                                                                                                                                                                                                                                                                                                                                                                                                                                                                                                                                                                                                                                                                                                                                              NaN   \n",
       "3                                                                                                                                                                                                                                                                                                                                                                                                                                                                                                                                                                                                                                                                                                                                                                                                                                                                                                                                                                                              NaN   \n",
       "4                                                                                                                                                                                                                                                                                                                                                                                                                                                                                                                                                                                                                                                                                                                                                                                                                                                                                                                                                                                              NaN   \n",
       "..                                                                                                                                                                                                                                                                                                                                                                                                                                                                                                                                                                                                                                                                                                                                                                                                                                                                                                                                                                                             ...   \n",
       "95  {'also_bought': ['B00K7HKVQO', 'B00IODYRJ0', 'B00585N0ZY', 'B00CE2JC9W', 'B00B99O5WK', 'B008XB9T1Y', 'B0096Q8AXS', 'B007UR20P4', 'B00CME22DK', 'B00G2TQNZ4', 'B003UJHSUI', 'B003Z388CQ'], 'also_viewed': ['B00K7HKVQO', 'B008XB9T1Y', 'B007YY4RXG', 'B00E6BQNE6', 'B001QYNI94', 'B00E3OO3JI', 'B00EQ2HGSC', 'B00K4GA5YQ', 'B00FXMNZ52', 'B00H93O97Q', 'B00GXXIHYE', 'B00ALI4KQG', 'B001R94UNG', 'B00EMJQ3TM', 'B00B4M5WM4', 'B00ARHY6EW', 'B0051ZHQEC', 'B00585N0ZY', 'B00HUWE4JE', 'B00JSJ78ZO', 'B00J5ZRTM8', 'B001E8QTP2', 'B00ALHTYNQ', 'B002U774PK', 'B00CAJ8Q96', 'B000V2F9RQ', 'B00LWW53MK', 'B00D4AIF3C', 'B003Z388CQ', 'B00CK2CLE4', 'B00L06ANSW', 'B00BWNJQJA', 'B00GJ1UK3G', 'B00L8NDF3M', 'B007UMQ410', 'B00GOJ60W8', 'B00CE6CFLU', 'B002JPPNUQ', 'B005GLQFJI', 'B00J4IHD4U', 'B00B99O5WK', 'B00G48RK3C', 'B008YVTQ5M', 'B005851HJU', 'B00GJ1ZNXI', 'B00HLXB9TA', 'B003F88N3K', 'B001T9P2NG', 'B00KPSKJD0', 'B00CBA6B5U', 'B00GZICS1A', 'B00JQVIVPK', 'B009DZKNHI', 'B00CAJTZ8C']}   \n",
       "96                                                                                                                                                                                                                                                                                                                                                                                                                                                                                                                                                                                                                                                                                                                                                                                                                                                                                                                                                                                             NaN   \n",
       "97                                                                                                                                                                                                                                                                                                                                                                                                                                                                                                                                                                                                                                                                                                                                                                                                                                                                                                                                                                 {'also_viewed': ['6041134473']}   \n",
       "98                                                   {'also_bought': ['B008CEDY5O', 'B00C7DYBX0', 'B00CME22DK', 'B00G2TQNZ4', 'B009653PPW', 'B000XJ0PG2'], 'also_viewed': ['B00H09L558', 'B00H0LVCVI', 'B00ICB76MO', 'B008H3S8GU', 'B00A7FS2NK', 'B00H5A513O', 'B009653PPW', 'B00I3958F2', 'B00LWUUYZ8', 'B002F4Z18A', 'B004LUZ956', 'B0085LXOC2', 'B00IIVVG2E', 'B00JT2SWUK', 'B00JO11UH8', 'B00HXF7HZQ', 'B00LMZ00FC', 'B00CE2JC9W', 'B004ATTGSY', 'B00GID829O', 'B004LUVN10', '6041134473', 'B00CP0APMQ', 'B00KGDRCZW', 'B00IM42M7A', 'B0085L060A', 'B00JC77VEK', 'B00F9JII3I', 'B005MEFCKM', 'B00H30O6GE', 'B00E0C9O8I', 'B00K3022LM', 'B002F50FYE', 'B00I1VR3P0', 'B006ZCQD30', 'B00J7ED2B4', 'B00DAC4SPI', 'B002OUN9IO', 'B00CEJALXQ', 'B006ZCPZMA', 'B00L0C529Q', 'B00EOGDPE4', 'B00ERYKD5W', 'B00JTY6WQ4', 'B00KIX65CG', 'B00HJ2863K', 'B008IYLQTO', 'B00HEYH5BC', 'B00KT11OWI', 'B00K14P4HO', 'B004EFF3DG', 'B00CW8V200', 'B00KCSTCQS', 'B009ZVNKPC'], 'bought_together': ['B008CEDY5O']}   \n",
       "99                                                                                                                                                                                                                                                                                                                                                                                                                                                                                                                                                                                                                                                                                                                                                                                                                                       {'also_bought': ['B00D8CQ8ZS', 'B000QGKQXO', 'B008Z3WCZA'], 'also_viewed': ['B0072CSOYI', 'B006O4QE74', 'B006O4R3L0'], 'bought_together': ['B000QGKQXO']}   \n",
       "\n",
       "   brand  \n",
       "0    NaN  \n",
       "1    NaN  \n",
       "2    NaN  \n",
       "3    NaN  \n",
       "4    NaN  \n",
       "..   ...  \n",
       "95   NaN  \n",
       "96   NaN  \n",
       "97   NaN  \n",
       "98   NaN  \n",
       "99   NaN  \n",
       "\n",
       "[100 rows x 9 columns]"
      ]
     },
     "execution_count": 168,
     "metadata": {},
     "output_type": "execute_result"
    }
   ],
   "source": [
    "meta_data_df.head(100)"
   ]
  },
  {
   "cell_type": "code",
   "execution_count": 169,
   "id": "b05ff6eb",
   "metadata": {},
   "outputs": [
    {
     "data": {
      "text/plain": [
       "asin                0\n",
       "description     24707\n",
       "title             444\n",
       "imUrl              88\n",
       "salesRank        5188\n",
       "categories          0\n",
       "price           69274\n",
       "related         51350\n",
       "brand          131038\n",
       "dtype: int64"
      ]
     },
     "execution_count": 169,
     "metadata": {},
     "output_type": "execute_result"
    }
   ],
   "source": [
    "meta_data_df.isna().sum()"
   ]
  },
  {
   "cell_type": "code",
   "execution_count": 170,
   "id": "e011ba72",
   "metadata": {},
   "outputs": [],
   "source": [
    "#exploring NaN and deciding which data is helpful to return to our users for recommendations"
   ]
  },
  {
   "cell_type": "code",
   "execution_count": 171,
   "id": "e34515d5",
   "metadata": {},
   "outputs": [
    {
     "data": {
      "text/plain": [
       "(259204, 9)"
      ]
     },
     "execution_count": 171,
     "metadata": {},
     "output_type": "execute_result"
    }
   ],
   "source": [
    "meta_data_df.shape"
   ]
  },
  {
   "cell_type": "code",
   "execution_count": 172,
   "id": "71192eeb",
   "metadata": {},
   "outputs": [
    {
     "data": {
      "text/plain": [
       "0.2672556470747092"
      ]
     },
     "execution_count": 172,
     "metadata": {},
     "output_type": "execute_result"
    }
   ],
   "source": [
    "69274/259205"
   ]
  },
  {
   "cell_type": "code",
   "execution_count": 173,
   "id": "724a4bc9",
   "metadata": {},
   "outputs": [
    {
     "data": {
      "image/jpeg": "[encoded data removed]",
      "text/plain": [
       "<IPython.core.display.Image object>"
      ]
     },
     "execution_count": 173,
     "metadata": {},
     "output_type": "execute_result"
    }
   ],
   "source": [
    "from IPython import display\n",
    "display.Image(meta_data_df.loc[192][\"imUrl\"])\n",
    "#display.Image(meta_data_df_cleaned.loc[259179][\"imUrl\"])"
   ]
  },
  {
   "cell_type": "code",
   "execution_count": 174,
   "id": "b6885c21",
   "metadata": {},
   "outputs": [
    {
     "data": {
      "text/plain": [
       "count    189930.000000\n",
       "mean         24.878165\n",
       "std          33.431190\n",
       "min           0.010000\n",
       "25%           8.240000\n",
       "50%          15.690000\n",
       "75%          29.300000\n",
       "max         999.990000\n",
       "Name: price, dtype: float64"
      ]
     },
     "execution_count": 174,
     "metadata": {},
     "output_type": "execute_result"
    }
   ],
   "source": [
    "meta_data_df.price.describe()"
   ]
  },
  {
   "cell_type": "code",
   "execution_count": 175,
   "id": "00cb0412",
   "metadata": {},
   "outputs": [
    {
     "data": {
      "text/html": [
       "<div>\n",
       "<style scoped>\n",
       "    .dataframe tbody tr th:only-of-type {\n",
       "        vertical-align: middle;\n",
       "    }\n",
       "\n",
       "    .dataframe tbody tr th {\n",
       "        vertical-align: top;\n",
       "    }\n",
       "\n",
       "    .dataframe thead th {\n",
       "        text-align: right;\n",
       "    }\n",
       "</style>\n",
       "<table border=\"1\" class=\"dataframe\">\n",
       "  <thead>\n",
       "    <tr style=\"text-align: right;\">\n",
       "      <th></th>\n",
       "      <th>asin</th>\n",
       "      <th>description</th>\n",
       "      <th>title</th>\n",
       "      <th>imUrl</th>\n",
       "      <th>salesRank</th>\n",
       "      <th>categories</th>\n",
       "      <th>price</th>\n",
       "      <th>related</th>\n",
       "      <th>brand</th>\n",
       "    </tr>\n",
       "  </thead>\n",
       "  <tbody>\n",
       "    <tr>\n",
       "      <th>197364</th>\n",
       "      <td>B009PQIAL6</td>\n",
       "      <td>This beautifully sculpted and gracefully designed bench will makes a luxurious statement in your salon. The unique design lends itself to many furniture arrangements. It gives you a lot of flexibility. Covered in black soft PVC vinyl over ample padding, it is very comfortable, durable, and made to last for many years to come. These powerful traditional-style box dryers provide an ample supply of heated air to spread heat quickly. While these dryers are not as warm as the classic style big head blow dryers, it has more power and gets the job done without the excessive overheating of a corded blow dryer. The powder-coated cabinet and hood ducts fit any decor, are easy to clean and always look sharp. The extra large smoke color hood and removable air filter provide convenience for the client and stylist. The cleverly designed wheel base provides the appearance of a built-in unit with the flexibility of portability when necessary.Package Includes:1qty -WC-18BLK&amp;quot;Vernet&amp;quot; Bench2qty -DE-11Box DryerDimensions:Bench-Height: 29&amp;quot;Width: 68&amp;quot;Depth: 31&amp;quot;Arm to Arm: 60.5&amp;quot;Dryer-Adjustable Height: 60&amp;quot; to 49&amp;quot;Box Height: 24&amp;quot;Box Width: 12&amp;quot;Box Depth: 7&amp;quot;Dryer Head: 12&amp;quot; (diameter)Adjustable Neck: 7&amp;quot; to 15&amp;quot;- All dimensions listed are approximations. Some assembly is required.</td>\n",
       "      <td>&amp;quot;Vernet&amp;quot; Black Dual Dryer Chair With Box Dryers</td>\n",
       "      <td>http://ecx.images-amazon.com/images/I/41ks5sFAZ7L._SY300_.jpg</td>\n",
       "      <td>{'Beauty': 582815}</td>\n",
       "      <td>[[Beauty, Tools &amp; Accessories, Nail Tools, Nail Dryers]]</td>\n",
       "      <td>999.99</td>\n",
       "      <td>{'also_viewed': ['B004O4N4OW', 'B009ZHVQYI', 'B0041HNVC2', 'B009PQHZ3A', 'B009PQI1U6', 'B0032CI2IU', 'B009PQ8BUG', 'B00AU7YGOY', 'B003TXUUKK', 'B003B4ILSK', 'B00563J3W2', 'B00563HCSE', 'B0041HPM1K', 'B004280N3U', 'B0085XY2MQ', 'B007ROD3O2', 'B006QH74TG', 'B007EG2MK4', 'B0087P00OG', 'B004UDWY7K', 'B0043VTK30', 'B004GGFQB2', 'B004GE9LXI']}</td>\n",
       "      <td>NaN</td>\n",
       "    </tr>\n",
       "  </tbody>\n",
       "</table>\n",
       "</div>"
      ],
      "text/plain": [
       "              asin  \\\n",
       "197364  B009PQIAL6   \n",
       "\n",
       "                                                                                                                                                                                                                                                                                                                                                                                                                                                                                                                                                                                                                                                                                                                                                                                                                                                                                                                                                                                                                                                                                                                                                                                                                                                                                                                                                                                        description  \\\n",
       "197364  This beautifully sculpted and gracefully designed bench will makes a luxurious statement in your salon. The unique design lends itself to many furniture arrangements. It gives you a lot of flexibility. Covered in black soft PVC vinyl over ample padding, it is very comfortable, durable, and made to last for many years to come. These powerful traditional-style box dryers provide an ample supply of heated air to spread heat quickly. While these dryers are not as warm as the classic style big head blow dryers, it has more power and gets the job done without the excessive overheating of a corded blow dryer. The powder-coated cabinet and hood ducts fit any decor, are easy to clean and always look sharp. The extra large smoke color hood and removable air filter provide convenience for the client and stylist. The cleverly designed wheel base provides the appearance of a built-in unit with the flexibility of portability when necessary.Package Includes:1qty -WC-18BLK&quot;Vernet&quot; Bench2qty -DE-11Box DryerDimensions:Bench-Height: 29&quot;Width: 68&quot;Depth: 31&quot;Arm to Arm: 60.5&quot;Dryer-Adjustable Height: 60&quot; to 49&quot;Box Height: 24&quot;Box Width: 12&quot;Box Depth: 7&quot;Dryer Head: 12&quot; (diameter)Adjustable Neck: 7&quot; to 15&quot;- All dimensions listed are approximations. Some assembly is required.   \n",
       "\n",
       "                                                            title  \\\n",
       "197364  &quot;Vernet&quot; Black Dual Dryer Chair With Box Dryers   \n",
       "\n",
       "                                                                imUrl  \\\n",
       "197364  http://ecx.images-amazon.com/images/I/41ks5sFAZ7L._SY300_.jpg   \n",
       "\n",
       "                 salesRank  \\\n",
       "197364  {'Beauty': 582815}   \n",
       "\n",
       "                                                      categories   price  \\\n",
       "197364  [[Beauty, Tools & Accessories, Nail Tools, Nail Dryers]]  999.99   \n",
       "\n",
       "                                                                                                                                                                                                                                                                                                                                                    related  \\\n",
       "197364  {'also_viewed': ['B004O4N4OW', 'B009ZHVQYI', 'B0041HNVC2', 'B009PQHZ3A', 'B009PQI1U6', 'B0032CI2IU', 'B009PQ8BUG', 'B00AU7YGOY', 'B003TXUUKK', 'B003B4ILSK', 'B00563J3W2', 'B00563HCSE', 'B0041HPM1K', 'B004280N3U', 'B0085XY2MQ', 'B007ROD3O2', 'B006QH74TG', 'B007EG2MK4', 'B0087P00OG', 'B004UDWY7K', 'B0043VTK30', 'B004GGFQB2', 'B004GE9LXI']}   \n",
       "\n",
       "       brand  \n",
       "197364   NaN  "
      ]
     },
     "execution_count": 175,
     "metadata": {},
     "output_type": "execute_result"
    }
   ],
   "source": [
    "meta_data_df[meta_data_df['price'] == 999.99]"
   ]
  },
  {
   "cell_type": "code",
   "execution_count": 176,
   "id": "87864a5a",
   "metadata": {},
   "outputs": [
    {
     "data": {
      "image/jpeg": "[encoded data removed]",
      "text/plain": [
       "<IPython.core.display.Image object>"
      ]
     },
     "execution_count": 176,
     "metadata": {},
     "output_type": "execute_result"
    }
   ],
   "source": [
    "display.Image(meta_data_df.loc[197364][\"imUrl\"])"
   ]
  },
  {
   "cell_type": "code",
   "execution_count": 177,
   "id": "f27bc9b9",
   "metadata": {},
   "outputs": [
    {
     "data": {
      "text/html": [
       "<div>\n",
       "<style scoped>\n",
       "    .dataframe tbody tr th:only-of-type {\n",
       "        vertical-align: middle;\n",
       "    }\n",
       "\n",
       "    .dataframe tbody tr th {\n",
       "        vertical-align: top;\n",
       "    }\n",
       "\n",
       "    .dataframe thead th {\n",
       "        text-align: right;\n",
       "    }\n",
       "</style>\n",
       "<table border=\"1\" class=\"dataframe\">\n",
       "  <thead>\n",
       "    <tr style=\"text-align: right;\">\n",
       "      <th></th>\n",
       "      <th>asin</th>\n",
       "      <th>description</th>\n",
       "      <th>title</th>\n",
       "      <th>imUrl</th>\n",
       "      <th>salesRank</th>\n",
       "      <th>categories</th>\n",
       "      <th>price</th>\n",
       "      <th>related</th>\n",
       "      <th>brand</th>\n",
       "    </tr>\n",
       "  </thead>\n",
       "  <tbody>\n",
       "    <tr>\n",
       "      <th>0</th>\n",
       "      <td>0205616461</td>\n",
       "      <td>As we age, our once youthful, healthy skin succumbs to an enzymatic imbalance that wears away the cellular network, resulting in skin thinning and aging. Combining the best of nature and cosmetic biotechnology, Bio-Active products are formulated with Enzymes that gently exfoliate the skin and stimulate regeneration for a youthful glow. Benefiting from fertile orchards in the Italian countryside, Bio-active formulas are rich in phytohormones, flavonoids and fatty acids from active extracts in Apple and Pear Seeds ,enzymatically modified and developed especially for the care of aging skin. This repairing fluid helps to nourish and firm by accelerating penetration and delivery of active principles to the skin, giving it a more youthful appearance. \\n\\nAdvanced \"Probiotic\" Complex from nourishing milk proteins regains the skin's natural equilibrium, boosts its immunities and protects it against environmental and biological stress.\\n\\nPeptides and Ceramides help to firm and regenerate the skin by stimulating collagen production and strengthening the epidermis.\\n\\nA Calming Botanical Complex of Hyaluronic Acid and Wheat Germ Extract hydrates and restores the skin's protective barriers.\\n\\nA nutritive Vitamin Complex moisturizes and protects the skin from damaging environmental factors. \\n\\nParacress Extract, a natural alternative to cosmetic injections, limits and relaxes micro-contractions that create facial lines, producing immediate and long-term smoothing of the skin.\\n\\nTo Use: Apply a few pumps to Apply a few pumps to a clean and dried face, neck and dcollet.</td>\n",
       "      <td>Bio-Active Anti-Aging Serum (Firming Ultra-Hydrating Serum)</td>\n",
       "      <td>http://ecx.images-amazon.com/images/I/41DecrGODDL._SY300_.jpg</td>\n",
       "      <td>{'Health &amp; Personal Care': 461765}</td>\n",
       "      <td>[[Beauty, Skin Care, Face, Creams &amp; Moisturizers]]</td>\n",
       "      <td>NaN</td>\n",
       "      <td>NaN</td>\n",
       "      <td>NaN</td>\n",
       "    </tr>\n",
       "    <tr>\n",
       "      <th>1</th>\n",
       "      <td>0558925278</td>\n",
       "      <td>Mineral Powder Brush--Apply powder or mineral foundation all over face in a circular, buffing motion and work inward towards nose.\\n\\nConcealer Brush--Use with liquid or mineral powder concealer for more coverage on blemishes and under eyes. \\n\\nEye Shading Brush-- Expertly cut to apply and blend powder eye shadows.\\n\\nBaby Kabuki-- Buff powder over areas that need more coverage. \\n\\nCosmetic Brush Bag-- 55% hemp linen, 45% cotton</td>\n",
       "      <td>Eco Friendly Ecotools Quality Natural Bamboo Cosmetic Mineral Brush Set Kit of 4 Soft Brushes and 1 Pouch Baby Kabuki Eye Shading Brush Mineral Powder Brush Concealer Brush(travle Size)</td>\n",
       "      <td>http://ecx.images-amazon.com/images/I/51L%2BzYCQWSL._SX300_.jpg</td>\n",
       "      <td>{'Beauty': 402875}</td>\n",
       "      <td>[[Beauty, Tools &amp; Accessories, Makeup Brushes &amp; Tools, Brushes &amp; Applicators]]</td>\n",
       "      <td>NaN</td>\n",
       "      <td>NaN</td>\n",
       "      <td>NaN</td>\n",
       "    </tr>\n",
       "    <tr>\n",
       "      <th>2</th>\n",
       "      <td>0733001998</td>\n",
       "      <td>From the Greek island of Chios, this Mastiha body lotion is made from Mastic oil, a pure product derived from mastic. With organically grown: Olive oil, red grape leaves, Aloe vera, Rosemary, Bee's wax, Shea Butter.</td>\n",
       "      <td>Mastiha Body Lotion</td>\n",
       "      <td>http://ecx.images-amazon.com/images/I/311WK5y1dML._SY300_.jpg</td>\n",
       "      <td>{'Beauty': 540255}</td>\n",
       "      <td>[[Beauty, Skin Care, Body, Moisturizers, Lotions]]</td>\n",
       "      <td>NaN</td>\n",
       "      <td>NaN</td>\n",
       "      <td>NaN</td>\n",
       "    </tr>\n",
       "    <tr>\n",
       "      <th>3</th>\n",
       "      <td>0737104473</td>\n",
       "      <td>Limited edition Hello Kitty Lipstick featuring shiny black casing with Hello Kitty figure on a pop art pattern background. Cap features the logos of both MAC and Hello Kitty in this collection.</td>\n",
       "      <td>Hello Kitty Lustre Lipstick (See sellers comments for colors)</td>\n",
       "      <td>http://ecx.images-amazon.com/images/I/31u6Hrzk3WL._SY300_.jpg</td>\n",
       "      <td>{'Beauty': 931125}</td>\n",
       "      <td>[[Beauty, Makeup, Lips, Lipstick]]</td>\n",
       "      <td>NaN</td>\n",
       "      <td>NaN</td>\n",
       "      <td>NaN</td>\n",
       "    </tr>\n",
       "    <tr>\n",
       "      <th>4</th>\n",
       "      <td>0762451459</td>\n",
       "      <td>The mermaid is an elusive (okay, mythical) creature, her beauty glimpsed only fleetingly by swimmers and sailors. With this mermaid-inspired iridescent compact, we landlubbers can capture a bit of that shimmering allure. Plus, having a mirror always on hand, we'll have no trouble catching a glimpse of our own gorgeousness (or doing a quick touchup when we need to).Within its slim silhouette, this colorful compact contains a double-sided mirror: Each mirror is large enough to show your entire face, and angling the two offers a side-angle view for hair fixes. The case snaps shut to keep the mirrors scuff-free.</td>\n",
       "      <td>Stephanie Johnson Mermaid Round Snap Mirror</td>\n",
       "      <td>http://ecx.images-amazon.com/images/I/41y2%2BFUdf1L._SY300_.jpg</td>\n",
       "      <td>NaN</td>\n",
       "      <td>[[Beauty, Tools &amp; Accessories, Mirrors, Makeup Mirrors]]</td>\n",
       "      <td>19.98</td>\n",
       "      <td>NaN</td>\n",
       "      <td>NaN</td>\n",
       "    </tr>\n",
       "    <tr>\n",
       "      <th>...</th>\n",
       "      <td>...</td>\n",
       "      <td>...</td>\n",
       "      <td>...</td>\n",
       "      <td>...</td>\n",
       "      <td>...</td>\n",
       "      <td>...</td>\n",
       "      <td>...</td>\n",
       "      <td>...</td>\n",
       "      <td>...</td>\n",
       "    </tr>\n",
       "    <tr>\n",
       "      <th>259199</th>\n",
       "      <td>B00LP2YB8E</td>\n",
       "      <td>Color: White\\nFullness72 inches\\nCenter Gathered\\nPencil Edge, Sewn on Flexible plasticl Wire Comb\\nShip within 3 days from TX. Expedited Shipping available</td>\n",
       "      <td>2t 2t Edge Crystal Rhinestones Bridal Wedding Veil (White)</td>\n",
       "      <td>http://ecx.images-amazon.com/images/I/41E630m-yQL._SY300_.jpg</td>\n",
       "      <td>NaN</td>\n",
       "      <td>[[Beauty, Hair Care, Styling Tools, Styling Accessories, Decorative Combs]]</td>\n",
       "      <td>NaN</td>\n",
       "      <td>NaN</td>\n",
       "      <td>NaN</td>\n",
       "    </tr>\n",
       "    <tr>\n",
       "      <th>259200</th>\n",
       "      <td>B00LOS7MEE</td>\n",
       "      <td>The secret to long lasting colors, healthy nails in natural looking french manicure. This product serves as a protection layer and creates a smooth surface for flawless gel color application and seals in color and nail designs. Makes colors  and designs 3x's more durable.</td>\n",
       "      <td>French Manicure Gel Nail Polish Set - &amp;quot;Set of 4&amp;quot; Uv Soak Off Salon Manicure (Top Coat, Base Coat, French Pink and French White)</td>\n",
       "      <td>http://ecx.images-amazon.com/images/I/41skHL1OXhL._SX300_.jpg</td>\n",
       "      <td>{'Beauty': 108820}</td>\n",
       "      <td>[[Beauty, Makeup, Nails, Nail Polish]]</td>\n",
       "      <td>NaN</td>\n",
       "      <td>{'also_viewed': ['B0057JCYYE', 'B00LMXHR1Y', 'B00993T7YY', 'B006FRS9O6', 'B00993T6C2', 'B00CHV3LNS', 'B004NMYR96', 'B006HJQRB4', 'B007AU0FXA', 'B0053ZA1ME', 'B001RMP7M6', 'B00DLJ7LJA']}</td>\n",
       "      <td>NaN</td>\n",
       "    </tr>\n",
       "    <tr>\n",
       "      <th>259201</th>\n",
       "      <td>B00LPVG6V0</td>\n",
       "      <td>ResQ Organics Face &amp; Body Wash - With Aloe Vera and Manuka Honey, 5.5 pH Balanced Mild And Non Irritating Hydrates While It Cleans, Great Make-up Remover, Shaving Cream, Ache Skin Cleanser, Dry Skin Treatment, Non Allergenic, Fragrance Free, Paraben Free, Sulfate Free, Your Skin Deserves The Best! -100% Money Back Guarantee</td>\n",
       "      <td>ResQ Organics Face &amp;amp; Body Wash - Aloe Vera Manuka Honey 5.5 pH Balanced - Mild And Non Irritating Non Allergenic Fragrance Free Paraben Free Sulfate Free - Your Skin Deserves The Best! -100% Money Back Guarantee</td>\n",
       "      <td>http://ecx.images-amazon.com/images/I/31C1w4KuyHL._SY300_.jpg</td>\n",
       "      <td>NaN</td>\n",
       "      <td>[[Beauty, Skin Care, Face, Creams &amp; Moisturizers]]</td>\n",
       "      <td>NaN</td>\n",
       "      <td>NaN</td>\n",
       "      <td>NaN</td>\n",
       "    </tr>\n",
       "    <tr>\n",
       "      <th>259202</th>\n",
       "      <td>B00LTDUHJQ</td>\n",
       "      <td>Color: White\\n2 Tier \\nFullness 72 inches\\nSewn on Flexible plastic Comb\\nShip within 3 days from TX. Expedited Shipping available</td>\n",
       "      <td>2 Tier Tulle Elbow Wedding Veil with Ribbon Edge Fashion Veil</td>\n",
       "      <td>http://ecx.images-amazon.com/images/I/51%2B%2BnlwkxbL._SX300_.jpg</td>\n",
       "      <td>NaN</td>\n",
       "      <td>[[Beauty, Hair Care, Styling Tools, Styling Accessories, Decorative Combs]]</td>\n",
       "      <td>NaN</td>\n",
       "      <td>NaN</td>\n",
       "      <td>NaN</td>\n",
       "    </tr>\n",
       "    <tr>\n",
       "      <th>259203</th>\n",
       "      <td>B00LU0LTOU</td>\n",
       "      <td>The bags produced by us are 100% ECO friendly and are made using top quality leather which is tanned without the use of any chemicals. These bags are handcrafted by craftsman using traditional techniques. We use YKK zippers which is again a very well known brand for its quality and lasts a long time. The outside of the bag is then rubbed with vegetable oil to get the right shade and make it water resistant. Pls be aware that pure leather by its nature has some scars (due to markings/cuts/holes on goat skin) which reconfirms that its 100% genuine and also makes every bag one of a kind and adds character to your prized possession. Also, each bag has distinctive color tone, which may deviate a little from given pictures. Pls also note that this brand new bag may also have a distinctive leather smell. Most of our customers tend to like this earthly smell, some don't. In any case it does fade away within 4-6 weeks of regular use. Quality All Brass Fittings Long Lasting Well Known YKK Zippers ** PLEASE NOTE WE ACCEPT RETURNS AND ISSUE REFUNDS ONLY FOR FAULTY ITEMS. WE DO NOT ACCEPT RETURNS IF YO HAVE CHANGED YOUR MIND OR DO NOT LIKE THE ITEM. PLEASE CHECK PHOTOS AND DESCRIPTION BEFORE BUYING. ** Requirements for a Full Refund Items must be in new condition Items must be returned with all original packaging and accessories Shipping and handling charges for returning items shipped by a seller are borne by the buyer. Items valued at over $75 must be returned to the seller with a trackable shipping service. If the order is valued at $100 or more, insure the shipment for the value of the merchandise and ship your return with a signature shipping service. For items below $75, we suggest USPS delivery confirmation service. Note: If a package doesn't arrive and you don't use a trackable method to return or if you refuse the shipment as a method of return, we may not be able to cover you.. Items must be returned in 30 working days from delivery date***</td>\n",
       "      <td>*ECOCRAFTWORLD* GENUINE BUFFALO LEATHER TRAVEL BAG; HANDMADE, VINTAGE STYLE / TRAVEL /GYM /CABIN/ CHECK IN (24&amp;quot; z 10&amp;quot; x 9&amp;quot;)</td>\n",
       "      <td>http://ecx.images-amazon.com/images/I/41kXSEchRbL._SX300_.jpg</td>\n",
       "      <td>NaN</td>\n",
       "      <td>[[Beauty, Tools &amp; Accessories, Bags &amp; Cases, Toiletry Bags]]</td>\n",
       "      <td>130.00</td>\n",
       "      <td>{'also_viewed': ['B00JWX6OOW', 'B00L4HJCZC', 'B00KJFXPUS', 'B00K3M4WGS', 'B00K575CXI', 'B00DCX5TI0']}</td>\n",
       "      <td>NaN</td>\n",
       "    </tr>\n",
       "  </tbody>\n",
       "</table>\n",
       "<p>259204 rows × 9 columns</p>\n",
       "</div>"
      ],
      "text/plain": [
       "              asin  \\\n",
       "0       0205616461   \n",
       "1       0558925278   \n",
       "2       0733001998   \n",
       "3       0737104473   \n",
       "4       0762451459   \n",
       "...            ...   \n",
       "259199  B00LP2YB8E   \n",
       "259200  B00LOS7MEE   \n",
       "259201  B00LPVG6V0   \n",
       "259202  B00LTDUHJQ   \n",
       "259203  B00LU0LTOU   \n",
       "\n",
       "                                                                                                                                                                                                                                                                                                                                                                                                                                                                                                                                                                                                                                                                                                                                                                                                                                                                                                                                                                                                                                                                                                                                                                                                                                                                                                                                                                                                                                                                                                                                                                                                                                                                                                                                                                                                                                                                                                                                                                                                                                                description  \\\n",
       "0                                                                                                                                                                                                                                                                                                                                                                                                         As we age, our once youthful, healthy skin succumbs to an enzymatic imbalance that wears away the cellular network, resulting in skin thinning and aging. Combining the best of nature and cosmetic biotechnology, Bio-Active products are formulated with Enzymes that gently exfoliate the skin and stimulate regeneration for a youthful glow. Benefiting from fertile orchards in the Italian countryside, Bio-active formulas are rich in phytohormones, flavonoids and fatty acids from active extracts in Apple and Pear Seeds ,enzymatically modified and developed especially for the care of aging skin. This repairing fluid helps to nourish and firm by accelerating penetration and delivery of active principles to the skin, giving it a more youthful appearance. \\n\\nAdvanced \"Probiotic\" Complex from nourishing milk proteins regains the skin's natural equilibrium, boosts its immunities and protects it against environmental and biological stress.\\n\\nPeptides and Ceramides help to firm and regenerate the skin by stimulating collagen production and strengthening the epidermis.\\n\\nA Calming Botanical Complex of Hyaluronic Acid and Wheat Germ Extract hydrates and restores the skin's protective barriers.\\n\\nA nutritive Vitamin Complex moisturizes and protects the skin from damaging environmental factors. \\n\\nParacress Extract, a natural alternative to cosmetic injections, limits and relaxes micro-contractions that create facial lines, producing immediate and long-term smoothing of the skin.\\n\\nTo Use: Apply a few pumps to Apply a few pumps to a clean and dried face, neck and dcollet.   \n",
       "1                                                                                                                                                                                                                                                                                                                                                                                                                                                                                                                                                                                                                                                                                                                                                                                                                                                                                                                                                                                                                                                                                                                                                                                                                                                                                                                                                                                                                                                                                                                                                                                                        Mineral Powder Brush--Apply powder or mineral foundation all over face in a circular, buffing motion and work inward towards nose.\\n\\nConcealer Brush--Use with liquid or mineral powder concealer for more coverage on blemishes and under eyes. \\n\\nEye Shading Brush-- Expertly cut to apply and blend powder eye shadows.\\n\\nBaby Kabuki-- Buff powder over areas that need more coverage. \\n\\nCosmetic Brush Bag-- 55% hemp linen, 45% cotton   \n",
       "2                                                                                                                                                                                                                                                                                                                                                                                                                                                                                                                                                                                                                                                                                                                                                                                                                                                                                                                                                                                                                                                                                                                                                                                                                                                                                                                                                                                                                                                                                                                                                                                                                                                                                                                                                                                                                                   From the Greek island of Chios, this Mastiha body lotion is made from Mastic oil, a pure product derived from mastic. With organically grown: Olive oil, red grape leaves, Aloe vera, Rosemary, Bee's wax, Shea Butter.   \n",
       "3                                                                                                                                                                                                                                                                                                                                                                                                                                                                                                                                                                                                                                                                                                                                                                                                                                                                                                                                                                                                                                                                                                                                                                                                                                                                                                                                                                                                                                                                                                                                                                                                                                                                                                                                                                                                                                                         Limited edition Hello Kitty Lipstick featuring shiny black casing with Hello Kitty figure on a pop art pattern background. Cap features the logos of both MAC and Hello Kitty in this collection.   \n",
       "4                                                                                                                                                                                                                                                                                                                                                                                                                                                                                                                                                                                                                                                                                                                                                                                                                                                                                                                                                                                                                                                                                                                                                                                                                                                                                                                                                                                                                   The mermaid is an elusive (okay, mythical) creature, her beauty glimpsed only fleetingly by swimmers and sailors. With this mermaid-inspired iridescent compact, we landlubbers can capture a bit of that shimmering allure. Plus, having a mirror always on hand, we'll have no trouble catching a glimpse of our own gorgeousness (or doing a quick touchup when we need to).Within its slim silhouette, this colorful compact contains a double-sided mirror: Each mirror is large enough to show your entire face, and angling the two offers a side-angle view for hair fixes. The case snaps shut to keep the mirrors scuff-free.   \n",
       "...                                                                                                                                                                                                                                                                                                                                                                                                                                                                                                                                                                                                                                                                                                                                                                                                                                                                                                                                                                                                                                                                                                                                                                                                                                                                                                                                                                                                                                                                                                                                                                                                                                                                                                                                                                                                                                                                                                                                                                                                                                                     ...   \n",
       "259199                                                                                                                                                                                                                                                                                                                                                                                                                                                                                                                                                                                                                                                                                                                                                                                                                                                                                                                                                                                                                                                                                                                                                                                                                                                                                                                                                                                                                                                                                                                                                                                                                                                                                                                                                                                                                                                                                         Color: White\\nFullness72 inches\\nCenter Gathered\\nPencil Edge, Sewn on Flexible plasticl Wire Comb\\nShip within 3 days from TX. Expedited Shipping available   \n",
       "259200                                                                                                                                                                                                                                                                                                                                                                                                                                                                                                                                                                                                                                                                                                                                                                                                                                                                                                                                                                                                                                                                                                                                                                                                                                                                                                                                                                                                                                                                                                                                                                                                                                                                                                                                                                     The secret to long lasting colors, healthy nails in natural looking french manicure. This product serves as a protection layer and creates a smooth surface for flawless gel color application and seals in color and nail designs. Makes colors  and designs 3x's more durable.   \n",
       "259201                                                                                                                                                                                                                                                                                                                                                                                                                                                                                                                                                                                                                                                                                                                                                                                                                                                                                                                                                                                                                                                                                                                                                                                                                                                                                                                                                                                                                                                                                                                                                                                                                                                                                                                ResQ Organics Face & Body Wash - With Aloe Vera and Manuka Honey, 5.5 pH Balanced Mild And Non Irritating Hydrates While It Cleans, Great Make-up Remover, Shaving Cream, Ache Skin Cleanser, Dry Skin Treatment, Non Allergenic, Fragrance Free, Paraben Free, Sulfate Free, Your Skin Deserves The Best! -100% Money Back Guarantee   \n",
       "259202                                                                                                                                                                                                                                                                                                                                                                                                                                                                                                                                                                                                                                                                                                                                                                                                                                                                                                                                                                                                                                                                                                                                                                                                                                                                                                                                                                                                                                                                                                                                                                                                                                                                                                                                                                                                                                                                                                                   Color: White\\n2 Tier \\nFullness 72 inches\\nSewn on Flexible plastic Comb\\nShip within 3 days from TX. Expedited Shipping available   \n",
       "259203  The bags produced by us are 100% ECO friendly and are made using top quality leather which is tanned without the use of any chemicals. These bags are handcrafted by craftsman using traditional techniques. We use YKK zippers which is again a very well known brand for its quality and lasts a long time. The outside of the bag is then rubbed with vegetable oil to get the right shade and make it water resistant. Pls be aware that pure leather by its nature has some scars (due to markings/cuts/holes on goat skin) which reconfirms that its 100% genuine and also makes every bag one of a kind and adds character to your prized possession. Also, each bag has distinctive color tone, which may deviate a little from given pictures. Pls also note that this brand new bag may also have a distinctive leather smell. Most of our customers tend to like this earthly smell, some don't. In any case it does fade away within 4-6 weeks of regular use. Quality All Brass Fittings Long Lasting Well Known YKK Zippers ** PLEASE NOTE WE ACCEPT RETURNS AND ISSUE REFUNDS ONLY FOR FAULTY ITEMS. WE DO NOT ACCEPT RETURNS IF YO HAVE CHANGED YOUR MIND OR DO NOT LIKE THE ITEM. PLEASE CHECK PHOTOS AND DESCRIPTION BEFORE BUYING. ** Requirements for a Full Refund Items must be in new condition Items must be returned with all original packaging and accessories Shipping and handling charges for returning items shipped by a seller are borne by the buyer. Items valued at over $75 must be returned to the seller with a trackable shipping service. If the order is valued at $100 or more, insure the shipment for the value of the merchandise and ship your return with a signature shipping service. For items below $75, we suggest USPS delivery confirmation service. Note: If a package doesn't arrive and you don't use a trackable method to return or if you refuse the shipment as a method of return, we may not be able to cover you.. Items must be returned in 30 working days from delivery date***   \n",
       "\n",
       "                                                                                                                                                                                                                          title  \\\n",
       "0                                                                                                                                                                   Bio-Active Anti-Aging Serum (Firming Ultra-Hydrating Serum)   \n",
       "1                                     Eco Friendly Ecotools Quality Natural Bamboo Cosmetic Mineral Brush Set Kit of 4 Soft Brushes and 1 Pouch Baby Kabuki Eye Shading Brush Mineral Powder Brush Concealer Brush(travle Size)   \n",
       "2                                                                                                                                                                                                           Mastiha Body Lotion   \n",
       "3                                                                                                                                                                 Hello Kitty Lustre Lipstick (See sellers comments for colors)   \n",
       "4                                                                                                                                                                                   Stephanie Johnson Mermaid Round Snap Mirror   \n",
       "...                                                                                                                                                                                                                         ...   \n",
       "259199                                                                                                                                                               2t 2t Edge Crystal Rhinestones Bridal Wedding Veil (White)   \n",
       "259200                                                                                French Manicure Gel Nail Polish Set - &quot;Set of 4&quot; Uv Soak Off Salon Manicure (Top Coat, Base Coat, French Pink and French White)   \n",
       "259201  ResQ Organics Face &amp; Body Wash - Aloe Vera Manuka Honey 5.5 pH Balanced - Mild And Non Irritating Non Allergenic Fragrance Free Paraben Free Sulfate Free - Your Skin Deserves The Best! -100% Money Back Guarantee   \n",
       "259202                                                                                                                                                            2 Tier Tulle Elbow Wedding Veil with Ribbon Edge Fashion Veil   \n",
       "259203                                                                               *ECOCRAFTWORLD* GENUINE BUFFALO LEATHER TRAVEL BAG; HANDMADE, VINTAGE STYLE / TRAVEL /GYM /CABIN/ CHECK IN (24&quot; z 10&quot; x 9&quot;)   \n",
       "\n",
       "                                                                    imUrl  \\\n",
       "0           http://ecx.images-amazon.com/images/I/41DecrGODDL._SY300_.jpg   \n",
       "1         http://ecx.images-amazon.com/images/I/51L%2BzYCQWSL._SX300_.jpg   \n",
       "2           http://ecx.images-amazon.com/images/I/311WK5y1dML._SY300_.jpg   \n",
       "3           http://ecx.images-amazon.com/images/I/31u6Hrzk3WL._SY300_.jpg   \n",
       "4         http://ecx.images-amazon.com/images/I/41y2%2BFUdf1L._SY300_.jpg   \n",
       "...                                                                   ...   \n",
       "259199      http://ecx.images-amazon.com/images/I/41E630m-yQL._SY300_.jpg   \n",
       "259200      http://ecx.images-amazon.com/images/I/41skHL1OXhL._SX300_.jpg   \n",
       "259201      http://ecx.images-amazon.com/images/I/31C1w4KuyHL._SY300_.jpg   \n",
       "259202  http://ecx.images-amazon.com/images/I/51%2B%2BnlwkxbL._SX300_.jpg   \n",
       "259203      http://ecx.images-amazon.com/images/I/41kXSEchRbL._SX300_.jpg   \n",
       "\n",
       "                                 salesRank  \\\n",
       "0       {'Health & Personal Care': 461765}   \n",
       "1                       {'Beauty': 402875}   \n",
       "2                       {'Beauty': 540255}   \n",
       "3                       {'Beauty': 931125}   \n",
       "4                                      NaN   \n",
       "...                                    ...   \n",
       "259199                                 NaN   \n",
       "259200                  {'Beauty': 108820}   \n",
       "259201                                 NaN   \n",
       "259202                                 NaN   \n",
       "259203                                 NaN   \n",
       "\n",
       "                                                                            categories  \\\n",
       "0                                   [[Beauty, Skin Care, Face, Creams & Moisturizers]]   \n",
       "1       [[Beauty, Tools & Accessories, Makeup Brushes & Tools, Brushes & Applicators]]   \n",
       "2                                   [[Beauty, Skin Care, Body, Moisturizers, Lotions]]   \n",
       "3                                                   [[Beauty, Makeup, Lips, Lipstick]]   \n",
       "4                             [[Beauty, Tools & Accessories, Mirrors, Makeup Mirrors]]   \n",
       "...                                                                                ...   \n",
       "259199     [[Beauty, Hair Care, Styling Tools, Styling Accessories, Decorative Combs]]   \n",
       "259200                                          [[Beauty, Makeup, Nails, Nail Polish]]   \n",
       "259201                              [[Beauty, Skin Care, Face, Creams & Moisturizers]]   \n",
       "259202     [[Beauty, Hair Care, Styling Tools, Styling Accessories, Decorative Combs]]   \n",
       "259203                    [[Beauty, Tools & Accessories, Bags & Cases, Toiletry Bags]]   \n",
       "\n",
       "         price  \\\n",
       "0          NaN   \n",
       "1          NaN   \n",
       "2          NaN   \n",
       "3          NaN   \n",
       "4        19.98   \n",
       "...        ...   \n",
       "259199     NaN   \n",
       "259200     NaN   \n",
       "259201     NaN   \n",
       "259202     NaN   \n",
       "259203  130.00   \n",
       "\n",
       "                                                                                                                                                                                          related  \\\n",
       "0                                                                                                                                                                                             NaN   \n",
       "1                                                                                                                                                                                             NaN   \n",
       "2                                                                                                                                                                                             NaN   \n",
       "3                                                                                                                                                                                             NaN   \n",
       "4                                                                                                                                                                                             NaN   \n",
       "...                                                                                                                                                                                           ...   \n",
       "259199                                                                                                                                                                                        NaN   \n",
       "259200  {'also_viewed': ['B0057JCYYE', 'B00LMXHR1Y', 'B00993T7YY', 'B006FRS9O6', 'B00993T6C2', 'B00CHV3LNS', 'B004NMYR96', 'B006HJQRB4', 'B007AU0FXA', 'B0053ZA1ME', 'B001RMP7M6', 'B00DLJ7LJA']}   \n",
       "259201                                                                                                                                                                                        NaN   \n",
       "259202                                                                                                                                                                                        NaN   \n",
       "259203                                                                                      {'also_viewed': ['B00JWX6OOW', 'B00L4HJCZC', 'B00KJFXPUS', 'B00K3M4WGS', 'B00K575CXI', 'B00DCX5TI0']}   \n",
       "\n",
       "       brand  \n",
       "0        NaN  \n",
       "1        NaN  \n",
       "2        NaN  \n",
       "3        NaN  \n",
       "4        NaN  \n",
       "...      ...  \n",
       "259199   NaN  \n",
       "259200   NaN  \n",
       "259201   NaN  \n",
       "259202   NaN  \n",
       "259203   NaN  \n",
       "\n",
       "[259204 rows x 9 columns]"
      ]
     },
     "execution_count": 177,
     "metadata": {},
     "output_type": "execute_result"
    }
   ],
   "source": [
    "meta_data_df"
   ]
  },
  {
   "cell_type": "code",
   "execution_count": 178,
   "id": "164fa839",
   "metadata": {},
   "outputs": [],
   "source": [
    "#renaming columns we plan to return to users for improved aesthetics"
   ]
  },
  {
   "cell_type": "code",
   "execution_count": 179,
   "id": "ba3c6b5c",
   "metadata": {},
   "outputs": [],
   "source": [
    "meta_data_df.rename(columns={'description':'Description', 'title': 'Product Name'}, inplace=True)"
   ]
  },
  {
   "cell_type": "code",
   "execution_count": 180,
   "id": "91f3898f",
   "metadata": {},
   "outputs": [],
   "source": [
    "meta_data_df.rename(columns={'asin':'ASIN'}, inplace=True)"
   ]
  },
  {
   "cell_type": "code",
   "execution_count": 181,
   "id": "19c983c8",
   "metadata": {},
   "outputs": [
    {
     "data": {
      "text/html": [
       "<div>\n",
       "<style scoped>\n",
       "    .dataframe tbody tr th:only-of-type {\n",
       "        vertical-align: middle;\n",
       "    }\n",
       "\n",
       "    .dataframe tbody tr th {\n",
       "        vertical-align: top;\n",
       "    }\n",
       "\n",
       "    .dataframe thead th {\n",
       "        text-align: right;\n",
       "    }\n",
       "</style>\n",
       "<table border=\"1\" class=\"dataframe\">\n",
       "  <thead>\n",
       "    <tr style=\"text-align: right;\">\n",
       "      <th></th>\n",
       "      <th>ASIN</th>\n",
       "      <th>Description</th>\n",
       "      <th>Product Name</th>\n",
       "      <th>imUrl</th>\n",
       "      <th>salesRank</th>\n",
       "      <th>categories</th>\n",
       "      <th>price</th>\n",
       "      <th>related</th>\n",
       "      <th>brand</th>\n",
       "    </tr>\n",
       "  </thead>\n",
       "  <tbody>\n",
       "    <tr>\n",
       "      <th>0</th>\n",
       "      <td>0205616461</td>\n",
       "      <td>As we age, our once youthful, healthy skin succumbs to an enzymatic imbalance that wears away the cellular network, resulting in skin thinning and aging. Combining the best of nature and cosmetic biotechnology, Bio-Active products are formulated with Enzymes that gently exfoliate the skin and stimulate regeneration for a youthful glow. Benefiting from fertile orchards in the Italian countryside, Bio-active formulas are rich in phytohormones, flavonoids and fatty acids from active extracts in Apple and Pear Seeds ,enzymatically modified and developed especially for the care of aging skin. This repairing fluid helps to nourish and firm by accelerating penetration and delivery of active principles to the skin, giving it a more youthful appearance. \\n\\nAdvanced \"Probiotic\" Complex from nourishing milk proteins regains the skin's natural equilibrium, boosts its immunities and protects it against environmental and biological stress.\\n\\nPeptides and Ceramides help to firm and regenerate the skin by stimulating collagen production and strengthening the epidermis.\\n\\nA Calming Botanical Complex of Hyaluronic Acid and Wheat Germ Extract hydrates and restores the skin's protective barriers.\\n\\nA nutritive Vitamin Complex moisturizes and protects the skin from damaging environmental factors. \\n\\nParacress Extract, a natural alternative to cosmetic injections, limits and relaxes micro-contractions that create facial lines, producing immediate and long-term smoothing of the skin.\\n\\nTo Use: Apply a few pumps to Apply a few pumps to a clean and dried face, neck and dcollet.</td>\n",
       "      <td>Bio-Active Anti-Aging Serum (Firming Ultra-Hydrating Serum)</td>\n",
       "      <td>http://ecx.images-amazon.com/images/I/41DecrGODDL._SY300_.jpg</td>\n",
       "      <td>{'Health &amp; Personal Care': 461765}</td>\n",
       "      <td>[[Beauty, Skin Care, Face, Creams &amp; Moisturizers]]</td>\n",
       "      <td>NaN</td>\n",
       "      <td>NaN</td>\n",
       "      <td>NaN</td>\n",
       "    </tr>\n",
       "    <tr>\n",
       "      <th>1</th>\n",
       "      <td>0558925278</td>\n",
       "      <td>Mineral Powder Brush--Apply powder or mineral foundation all over face in a circular, buffing motion and work inward towards nose.\\n\\nConcealer Brush--Use with liquid or mineral powder concealer for more coverage on blemishes and under eyes. \\n\\nEye Shading Brush-- Expertly cut to apply and blend powder eye shadows.\\n\\nBaby Kabuki-- Buff powder over areas that need more coverage. \\n\\nCosmetic Brush Bag-- 55% hemp linen, 45% cotton</td>\n",
       "      <td>Eco Friendly Ecotools Quality Natural Bamboo Cosmetic Mineral Brush Set Kit of 4 Soft Brushes and 1 Pouch Baby Kabuki Eye Shading Brush Mineral Powder Brush Concealer Brush(travle Size)</td>\n",
       "      <td>http://ecx.images-amazon.com/images/I/51L%2BzYCQWSL._SX300_.jpg</td>\n",
       "      <td>{'Beauty': 402875}</td>\n",
       "      <td>[[Beauty, Tools &amp; Accessories, Makeup Brushes &amp; Tools, Brushes &amp; Applicators]]</td>\n",
       "      <td>NaN</td>\n",
       "      <td>NaN</td>\n",
       "      <td>NaN</td>\n",
       "    </tr>\n",
       "    <tr>\n",
       "      <th>2</th>\n",
       "      <td>0733001998</td>\n",
       "      <td>From the Greek island of Chios, this Mastiha body lotion is made from Mastic oil, a pure product derived from mastic. With organically grown: Olive oil, red grape leaves, Aloe vera, Rosemary, Bee's wax, Shea Butter.</td>\n",
       "      <td>Mastiha Body Lotion</td>\n",
       "      <td>http://ecx.images-amazon.com/images/I/311WK5y1dML._SY300_.jpg</td>\n",
       "      <td>{'Beauty': 540255}</td>\n",
       "      <td>[[Beauty, Skin Care, Body, Moisturizers, Lotions]]</td>\n",
       "      <td>NaN</td>\n",
       "      <td>NaN</td>\n",
       "      <td>NaN</td>\n",
       "    </tr>\n",
       "    <tr>\n",
       "      <th>3</th>\n",
       "      <td>0737104473</td>\n",
       "      <td>Limited edition Hello Kitty Lipstick featuring shiny black casing with Hello Kitty figure on a pop art pattern background. Cap features the logos of both MAC and Hello Kitty in this collection.</td>\n",
       "      <td>Hello Kitty Lustre Lipstick (See sellers comments for colors)</td>\n",
       "      <td>http://ecx.images-amazon.com/images/I/31u6Hrzk3WL._SY300_.jpg</td>\n",
       "      <td>{'Beauty': 931125}</td>\n",
       "      <td>[[Beauty, Makeup, Lips, Lipstick]]</td>\n",
       "      <td>NaN</td>\n",
       "      <td>NaN</td>\n",
       "      <td>NaN</td>\n",
       "    </tr>\n",
       "    <tr>\n",
       "      <th>4</th>\n",
       "      <td>0762451459</td>\n",
       "      <td>The mermaid is an elusive (okay, mythical) creature, her beauty glimpsed only fleetingly by swimmers and sailors. With this mermaid-inspired iridescent compact, we landlubbers can capture a bit of that shimmering allure. Plus, having a mirror always on hand, we'll have no trouble catching a glimpse of our own gorgeousness (or doing a quick touchup when we need to).Within its slim silhouette, this colorful compact contains a double-sided mirror: Each mirror is large enough to show your entire face, and angling the two offers a side-angle view for hair fixes. The case snaps shut to keep the mirrors scuff-free.</td>\n",
       "      <td>Stephanie Johnson Mermaid Round Snap Mirror</td>\n",
       "      <td>http://ecx.images-amazon.com/images/I/41y2%2BFUdf1L._SY300_.jpg</td>\n",
       "      <td>NaN</td>\n",
       "      <td>[[Beauty, Tools &amp; Accessories, Mirrors, Makeup Mirrors]]</td>\n",
       "      <td>19.98</td>\n",
       "      <td>NaN</td>\n",
       "      <td>NaN</td>\n",
       "    </tr>\n",
       "  </tbody>\n",
       "</table>\n",
       "</div>"
      ],
      "text/plain": [
       "         ASIN  \\\n",
       "0  0205616461   \n",
       "1  0558925278   \n",
       "2  0733001998   \n",
       "3  0737104473   \n",
       "4  0762451459   \n",
       "\n",
       "                                                                                                                                                                                                                                                                                                                                                                                                                                                                                                                                                                                                                                                                                                                                                                                                                                                                                                                                                                                                                                                                                                                                                                                                                                                                                                                                                                                                                                                                                                                                                                                                                                         Description  \\\n",
       "0  As we age, our once youthful, healthy skin succumbs to an enzymatic imbalance that wears away the cellular network, resulting in skin thinning and aging. Combining the best of nature and cosmetic biotechnology, Bio-Active products are formulated with Enzymes that gently exfoliate the skin and stimulate regeneration for a youthful glow. Benefiting from fertile orchards in the Italian countryside, Bio-active formulas are rich in phytohormones, flavonoids and fatty acids from active extracts in Apple and Pear Seeds ,enzymatically modified and developed especially for the care of aging skin. This repairing fluid helps to nourish and firm by accelerating penetration and delivery of active principles to the skin, giving it a more youthful appearance. \\n\\nAdvanced \"Probiotic\" Complex from nourishing milk proteins regains the skin's natural equilibrium, boosts its immunities and protects it against environmental and biological stress.\\n\\nPeptides and Ceramides help to firm and regenerate the skin by stimulating collagen production and strengthening the epidermis.\\n\\nA Calming Botanical Complex of Hyaluronic Acid and Wheat Germ Extract hydrates and restores the skin's protective barriers.\\n\\nA nutritive Vitamin Complex moisturizes and protects the skin from damaging environmental factors. \\n\\nParacress Extract, a natural alternative to cosmetic injections, limits and relaxes micro-contractions that create facial lines, producing immediate and long-term smoothing of the skin.\\n\\nTo Use: Apply a few pumps to Apply a few pumps to a clean and dried face, neck and dcollet.   \n",
       "1                                                                                                                                                                                                                                                                                                                                                                                                                                                                                                                                                                                                                                                                                                                                                                                                                                                                                                                                                                                                                                                                                                                                                                                                 Mineral Powder Brush--Apply powder or mineral foundation all over face in a circular, buffing motion and work inward towards nose.\\n\\nConcealer Brush--Use with liquid or mineral powder concealer for more coverage on blemishes and under eyes. \\n\\nEye Shading Brush-- Expertly cut to apply and blend powder eye shadows.\\n\\nBaby Kabuki-- Buff powder over areas that need more coverage. \\n\\nCosmetic Brush Bag-- 55% hemp linen, 45% cotton   \n",
       "2                                                                                                                                                                                                                                                                                                                                                                                                                                                                                                                                                                                                                                                                                                                                                                                                                                                                                                                                                                                                                                                                                                                                                                                                                                                                                                                                                                                                                            From the Greek island of Chios, this Mastiha body lotion is made from Mastic oil, a pure product derived from mastic. With organically grown: Olive oil, red grape leaves, Aloe vera, Rosemary, Bee's wax, Shea Butter.   \n",
       "3                                                                                                                                                                                                                                                                                                                                                                                                                                                                                                                                                                                                                                                                                                                                                                                                                                                                                                                                                                                                                                                                                                                                                                                                                                                                                                                                                                                                                                                  Limited edition Hello Kitty Lipstick featuring shiny black casing with Hello Kitty figure on a pop art pattern background. Cap features the logos of both MAC and Hello Kitty in this collection.   \n",
       "4                                                                                                                                                                                                                                                                                                                                                                                                                                                                                                                                                                                                                                                                                                                                                                                                                                                                                                                                                                                                            The mermaid is an elusive (okay, mythical) creature, her beauty glimpsed only fleetingly by swimmers and sailors. With this mermaid-inspired iridescent compact, we landlubbers can capture a bit of that shimmering allure. Plus, having a mirror always on hand, we'll have no trouble catching a glimpse of our own gorgeousness (or doing a quick touchup when we need to).Within its slim silhouette, this colorful compact contains a double-sided mirror: Each mirror is large enough to show your entire face, and angling the two offers a side-angle view for hair fixes. The case snaps shut to keep the mirrors scuff-free.   \n",
       "\n",
       "                                                                                                                                                                                Product Name  \\\n",
       "0                                                                                                                                Bio-Active Anti-Aging Serum (Firming Ultra-Hydrating Serum)   \n",
       "1  Eco Friendly Ecotools Quality Natural Bamboo Cosmetic Mineral Brush Set Kit of 4 Soft Brushes and 1 Pouch Baby Kabuki Eye Shading Brush Mineral Powder Brush Concealer Brush(travle Size)   \n",
       "2                                                                                                                                                                        Mastiha Body Lotion   \n",
       "3                                                                                                                              Hello Kitty Lustre Lipstick (See sellers comments for colors)   \n",
       "4                                                                                                                                                Stephanie Johnson Mermaid Round Snap Mirror   \n",
       "\n",
       "                                                             imUrl  \\\n",
       "0    http://ecx.images-amazon.com/images/I/41DecrGODDL._SY300_.jpg   \n",
       "1  http://ecx.images-amazon.com/images/I/51L%2BzYCQWSL._SX300_.jpg   \n",
       "2    http://ecx.images-amazon.com/images/I/311WK5y1dML._SY300_.jpg   \n",
       "3    http://ecx.images-amazon.com/images/I/31u6Hrzk3WL._SY300_.jpg   \n",
       "4  http://ecx.images-amazon.com/images/I/41y2%2BFUdf1L._SY300_.jpg   \n",
       "\n",
       "                            salesRank  \\\n",
       "0  {'Health & Personal Care': 461765}   \n",
       "1                  {'Beauty': 402875}   \n",
       "2                  {'Beauty': 540255}   \n",
       "3                  {'Beauty': 931125}   \n",
       "4                                 NaN   \n",
       "\n",
       "                                                                       categories  \\\n",
       "0                              [[Beauty, Skin Care, Face, Creams & Moisturizers]]   \n",
       "1  [[Beauty, Tools & Accessories, Makeup Brushes & Tools, Brushes & Applicators]]   \n",
       "2                              [[Beauty, Skin Care, Body, Moisturizers, Lotions]]   \n",
       "3                                              [[Beauty, Makeup, Lips, Lipstick]]   \n",
       "4                        [[Beauty, Tools & Accessories, Mirrors, Makeup Mirrors]]   \n",
       "\n",
       "   price related brand  \n",
       "0    NaN     NaN   NaN  \n",
       "1    NaN     NaN   NaN  \n",
       "2    NaN     NaN   NaN  \n",
       "3    NaN     NaN   NaN  \n",
       "4  19.98     NaN   NaN  "
      ]
     },
     "execution_count": 181,
     "metadata": {},
     "output_type": "execute_result"
    }
   ],
   "source": [
    "meta_data_df.head()"
   ]
  },
  {
   "cell_type": "code",
   "execution_count": 182,
   "id": "7bbc4ae8",
   "metadata": {},
   "outputs": [
    {
     "data": {
      "text/plain": [
       "ASIN                 0\n",
       "Description      24707\n",
       "Product Name       444\n",
       "imUrl               88\n",
       "salesRank         5188\n",
       "categories           0\n",
       "price            69274\n",
       "related          51350\n",
       "brand           131038\n",
       "dtype: int64"
      ]
     },
     "execution_count": 182,
     "metadata": {},
     "output_type": "execute_result"
    }
   ],
   "source": [
    "meta_data_df.isna().sum()"
   ]
  },
  {
   "cell_type": "code",
   "execution_count": 183,
   "id": "4254c1fc",
   "metadata": {},
   "outputs": [],
   "source": [
    "#dropping brand due to large # of nulls"
   ]
  },
  {
   "cell_type": "code",
   "execution_count": 184,
   "id": "b59c697d",
   "metadata": {},
   "outputs": [],
   "source": [
    "meta_data_df.drop(columns=['brand'], inplace=True)"
   ]
  },
  {
   "cell_type": "markdown",
   "id": "56181799",
   "metadata": {},
   "source": [
    "## Setting Up Surprise"
   ]
  },
  {
   "cell_type": "code",
   "execution_count": 185,
   "id": "d1302bf4",
   "metadata": {},
   "outputs": [],
   "source": [
    "reader = Reader(rating_scale=(1, 5))\n",
    "surprise_data = Dataset.load_from_df(surprise_df, reader)\n",
    "\n",
    "trainset, testset = train_test_split(surprise_data, test_size=0.2, random_state=23)"
   ]
  },
  {
   "cell_type": "code",
   "execution_count": 186,
   "id": "46f76512",
   "metadata": {},
   "outputs": [
    {
     "data": {
      "text/plain": [
       "<surprise.dataset.DatasetAutoFolds at 0x7fb1b6740a60>"
      ]
     },
     "execution_count": 186,
     "metadata": {},
     "output_type": "execute_result"
    }
   ],
   "source": [
    "surprise_data"
   ]
  },
  {
   "cell_type": "code",
   "execution_count": 187,
   "id": "83431584",
   "metadata": {},
   "outputs": [
    {
     "name": "stdout",
     "output_type": "stream",
     "text": [
      "Number of users:  22359 \n",
      "\n",
      "Number of items:  12101 \n",
      "\n"
     ]
    }
   ],
   "source": [
    "# How many users and items are in the trainset\n",
    "print('Number of users: ', trainset.n_users, '\\n')\n",
    "print('Number of items: ', trainset.n_items, '\\n')"
   ]
  },
  {
   "cell_type": "code",
   "execution_count": 188,
   "id": "366853e4",
   "metadata": {},
   "outputs": [
    {
     "name": "stdout",
     "output_type": "stream",
     "text": [
      "Type trainset : <class 'surprise.trainset.Trainset'> \n",
      "\n",
      "Type testset : <class 'list'>\n"
     ]
    }
   ],
   "source": [
    "print('Type trainset :',type(trainset),'\\n')\n",
    "print('Type testset :',type(testset))"
   ]
  },
  {
   "cell_type": "markdown",
   "id": "de180b36",
   "metadata": {},
   "source": [
    "## Dummy Model"
   ]
  },
  {
   "cell_type": "code",
   "execution_count": null,
   "id": "e9b8dab9",
   "metadata": {},
   "outputs": [],
   "source": [
    "baseline = NormalPredictor()\n",
    "baseline.fit(trainset)"
   ]
  },
  {
   "cell_type": "code",
   "execution_count": null,
   "id": "78079c18",
   "metadata": {},
   "outputs": [],
   "source": [
    "predictions = baseline.test(testset)"
   ]
  },
  {
   "cell_type": "code",
   "execution_count": null,
   "id": "f9992b10",
   "metadata": {},
   "outputs": [],
   "source": [
    "baseline = accuracy.rmse(predictions)"
   ]
  },
  {
   "cell_type": "code",
   "execution_count": null,
   "id": "3a543cee",
   "metadata": {},
   "outputs": [],
   "source": [
    "#baseline RMSE of 1.5002"
   ]
  },
  {
   "cell_type": "markdown",
   "id": "3b20ab46",
   "metadata": {},
   "source": [
    "## Baseline Models"
   ]
  },
  {
   "cell_type": "code",
   "execution_count": null,
   "id": "22560419",
   "metadata": {},
   "outputs": [],
   "source": [
    "baseline2 = BaselineOnly()\n",
    "baseline2.fit(trainset)"
   ]
  },
  {
   "cell_type": "code",
   "execution_count": null,
   "id": "5b55585d",
   "metadata": {},
   "outputs": [],
   "source": [
    "predictions2 = baseline2.test(testset)"
   ]
  },
  {
   "cell_type": "code",
   "execution_count": null,
   "id": "50a0c10a",
   "metadata": {},
   "outputs": [],
   "source": [
    "baseline2 = accuracy.rmse(predictions2)"
   ]
  },
  {
   "cell_type": "code",
   "execution_count": null,
   "id": "be613842",
   "metadata": {},
   "outputs": [],
   "source": [
    "#baseline RMSE of 1.089 utilizing BaselineOnly"
   ]
  },
  {
   "cell_type": "code",
   "execution_count": null,
   "id": "20a83971",
   "metadata": {},
   "outputs": [],
   "source": [
    "als_options = {'method': 'als',\n",
    "               }\n",
    "als_baseline = BaselineOnly(bsl_options=als_options)"
   ]
  },
  {
   "cell_type": "code",
   "execution_count": null,
   "id": "bea2a667",
   "metadata": {},
   "outputs": [],
   "source": [
    "als_baseline.fit(trainset)"
   ]
  },
  {
   "cell_type": "code",
   "execution_count": null,
   "id": "4647a097",
   "metadata": {},
   "outputs": [],
   "source": [
    "predictions = als_baseline.test(testset)"
   ]
  },
  {
   "cell_type": "code",
   "execution_count": null,
   "id": "4eeff5e7",
   "metadata": {},
   "outputs": [],
   "source": [
    "als_baseline = accuracy.rmse(predictions)"
   ]
  },
  {
   "cell_type": "code",
   "execution_count": null,
   "id": "554a1041",
   "metadata": {},
   "outputs": [],
   "source": [
    "sgd_options = {'method': 'sgd',\n",
    "               }\n",
    "sgd_baseline = BaselineOnly(bsl_options=sgd_options)"
   ]
  },
  {
   "cell_type": "code",
   "execution_count": null,
   "id": "e901c1fb",
   "metadata": {},
   "outputs": [],
   "source": [
    "sgd_baseline.fit(trainset)"
   ]
  },
  {
   "cell_type": "code",
   "execution_count": null,
   "id": "d9f2e3bf",
   "metadata": {},
   "outputs": [],
   "source": [
    "predictions = sgd_baseline.test(testset)"
   ]
  },
  {
   "cell_type": "code",
   "execution_count": null,
   "id": "3d9cb27f",
   "metadata": {},
   "outputs": [],
   "source": [
    "sgd_baseline = accuracy.rmse(predictions)"
   ]
  },
  {
   "cell_type": "code",
   "execution_count": null,
   "id": "cae74cfe",
   "metadata": {},
   "outputs": [],
   "source": [
    "#our baseline model with sgd improved our RMSE to 1.0818"
   ]
  },
  {
   "cell_type": "markdown",
   "id": "4523c197",
   "metadata": {},
   "source": [
    "## Iterating Over All Algorithms to Assess Which Models to Further Explore"
   ]
  },
  {
   "cell_type": "code",
   "execution_count": null,
   "id": "b70749b9",
   "metadata": {},
   "outputs": [],
   "source": [
    "benchmark = []\n",
    "# Iterate over all algorithms\n",
    "for algorithm in [SVD(), SVDpp(), SlopeOne(), NMF(), NormalPredictor(), KNNBaseline(), KNNBasic(), KNNWithMeans(), KNNWithZScore(), BaselineOnly(), CoClustering()]:\n",
    "    # Perform cross validation\n",
    "    results = cross_validate(algorithm, surprise_data, measures=['RMSE'], cv=3, verbose=False)\n",
    "    \n",
    "    # Get results & append algorithm name\n",
    "    tmp = pd.DataFrame.from_dict(results).mean(axis=0)\n",
    "    tmp = tmp.append(pd.Series([str(algorithm).split(' ')[0].split('.')[-1]], index=['Algorithm']))\n",
    "    benchmark.append(tmp)\n",
    "    \n",
    "pd.DataFrame(benchmark).set_index('Algorithm').sort_values('test_rmse')    "
   ]
  },
  {
   "cell_type": "code",
   "execution_count": null,
   "id": "9c379570",
   "metadata": {},
   "outputs": [],
   "source": [
    "#given our results, we will further explor SVDpp and SVD"
   ]
  },
  {
   "cell_type": "markdown",
   "id": "4bb751a9",
   "metadata": {},
   "source": [
    "## SVD Model Exploration"
   ]
  },
  {
   "cell_type": "code",
   "execution_count": null,
   "id": "db5b4a98",
   "metadata": {},
   "outputs": [],
   "source": [
    "#Running an SVD model with defaults on trainset"
   ]
  },
  {
   "cell_type": "code",
   "execution_count": 47,
   "id": "0ecda94a",
   "metadata": {},
   "outputs": [
    {
     "name": "stdout",
     "output_type": "stream",
     "text": [
      "RMSE: 1.0889\n",
      "1.0889451149217502\n"
     ]
    }
   ],
   "source": [
    "svd = SVD(random_state=42)\n",
    "svd.fit(trainset)\n",
    "predictions = svd.test(testset)\n",
    "print(accuracy.rmse(predictions))"
   ]
  },
  {
   "cell_type": "code",
   "execution_count": null,
   "id": "1319a93c",
   "metadata": {},
   "outputs": [],
   "source": [
    "#Checking to see estimated rating for 2 user/product combinations"
   ]
  },
  {
   "cell_type": "code",
   "execution_count": null,
   "id": "28eec461",
   "metadata": {},
   "outputs": [],
   "source": [
    "svd.predict('A1YJEY40YUW4SE', 'B00LLPT4HI')"
   ]
  },
  {
   "cell_type": "code",
   "execution_count": null,
   "id": "aeabb4e1",
   "metadata": {},
   "outputs": [],
   "source": [
    "svd.predict('A2BLFCOPSMBOZ9', '7806397051')"
   ]
  },
  {
   "cell_type": "code",
   "execution_count": null,
   "id": "ef6abc27",
   "metadata": {},
   "outputs": [],
   "source": [
    "#Cross validate the model"
   ]
  },
  {
   "cell_type": "code",
   "execution_count": null,
   "id": "34759caf",
   "metadata": {},
   "outputs": [],
   "source": [
    "cv_svd_baseline = cross_validate(svd, surprise_data)"
   ]
  },
  {
   "cell_type": "code",
   "execution_count": null,
   "id": "5ed3ac70",
   "metadata": {},
   "outputs": [],
   "source": [
    "cv_svd_baseline"
   ]
  },
  {
   "cell_type": "markdown",
   "id": "388258a0",
   "metadata": {},
   "source": [
    "### Attempt on new split"
   ]
  },
  {
   "cell_type": "code",
   "execution_count": null,
   "id": "493541df",
   "metadata": {},
   "outputs": [],
   "source": [
    "#Hold out 10% of data for validation\n",
    "#Create a new surpise data class\n",
    "svd_data = Dataset.load_from_df(surprise_df, reader)\n",
    "raw_ratings_svd = svd_data.raw_ratings\n",
    "# A = 90% of the data, B = 10% of the data\n",
    "threshold = int(.9 * len(raw_ratings_svd))\n",
    "A_raw_ratings_svd = raw_ratings_svd[:threshold]\n",
    "B_raw_ratings_svd = raw_ratings_svd[threshold:]"
   ]
  },
  {
   "cell_type": "code",
   "execution_count": null,
   "id": "53e58f1a",
   "metadata": {},
   "outputs": [],
   "source": [
    "# svd_data is now the set A\n",
    "svd_data.raw_ratings = A_raw_ratings_svd"
   ]
  },
  {
   "cell_type": "code",
   "execution_count": null,
   "id": "948ea52b",
   "metadata": {},
   "outputs": [],
   "source": [
    "#Create a param grid for grid search\n",
    "SVD_parm_grid = {'n_factors':[20,50,100,150],'n_epochs':[10,20,30],'biased':[True,False]}"
   ]
  },
  {
   "cell_type": "code",
   "execution_count": null,
   "id": "ba75eb99",
   "metadata": {},
   "outputs": [],
   "source": [
    "#Instantiate our grid search & fit to set A\n",
    "#svd_grid_search = GridSearchCV(algo_class=SVD,param_grid=SVD_parm_grid,measures=['rmse'],cv=5)\n",
    "#svd_grid_search.fit(svd_data)"
   ]
  },
  {
   "cell_type": "code",
   "execution_count": null,
   "id": "703c9bbd",
   "metadata": {},
   "outputs": [],
   "source": [
    "#best_svd_algo = svd_grid_search.best_estimator['rmse']"
   ]
  },
  {
   "cell_type": "code",
   "execution_count": null,
   "id": "35d868c6",
   "metadata": {},
   "outputs": [],
   "source": [
    "#svd_grid_search.best_params"
   ]
  },
  {
   "cell_type": "code",
   "execution_count": null,
   "id": "9f78878d",
   "metadata": {},
   "outputs": [],
   "source": [
    "#{'rmse': {'n_factors': 20, 'n_epochs': 20, 'biased': True}}"
   ]
  },
  {
   "cell_type": "code",
   "execution_count": null,
   "id": "0f5cd8fc",
   "metadata": {},
   "outputs": [],
   "source": [
    "# retrain on the whole set A\n",
    "trainset_svd = svd_data.build_full_trainset()\n",
    "best_svd_algo.fit(trainset_svd)"
   ]
  },
  {
   "cell_type": "code",
   "execution_count": null,
   "id": "c1fe9187",
   "metadata": {},
   "outputs": [],
   "source": [
    "predictions = best_svd_algo.test(trainset_svd.build_testset())\n",
    "print('Biased accuracy on A,', end='   ')\n",
    "accuracy.rmse(predictions)"
   ]
  },
  {
   "cell_type": "code",
   "execution_count": null,
   "id": "800fcd48",
   "metadata": {},
   "outputs": [],
   "source": [
    "# Compute unbiased accuracy on B\n",
    "testset_svd = svd_data.construct_testset(B_raw_ratings_svd)  # testset is now the set B\n",
    "predictions = best_svd_algo.test(testset_svd)\n",
    "print('Unbiased accuracy on B,', end=' ')\n",
    "accuracy.rmse(predictions)"
   ]
  },
  {
   "cell_type": "code",
   "execution_count": null,
   "id": "3b1aa4f8",
   "metadata": {},
   "outputs": [],
   "source": [
    "svd2 = SVD(n_factors=20, n_epochs=20, biased=True, random_state=42)\n",
    "svd2.fit(trainset)\n",
    "predictions = svd2.test(testset)\n",
    "print(accuracy.rmse(predictions))"
   ]
  },
  {
   "cell_type": "markdown",
   "id": "fcce8f34",
   "metadata": {},
   "source": [
    "### Attempt new grid search params with lower n_factors"
   ]
  },
  {
   "cell_type": "code",
   "execution_count": null,
   "id": "8cec2461",
   "metadata": {},
   "outputs": [],
   "source": [
    "#SVD_parm_grid = {'n_factors':[2,5,10,20],'n_epochs':[10,20,30],'biased':[True,False]}"
   ]
  },
  {
   "cell_type": "code",
   "execution_count": null,
   "id": "7c73b9f6",
   "metadata": {},
   "outputs": [],
   "source": [
    "#Instantiate our grid search & fit to set A\n",
    "#svd_grid_search = GridSearchCV(algo_class=SVD,param_grid=SVD_parm_grid,measures=['rmse'],cv=5)\n",
    "#svd_grid_search.fit(svd_data)"
   ]
  },
  {
   "cell_type": "code",
   "execution_count": null,
   "id": "07fae990",
   "metadata": {},
   "outputs": [],
   "source": [
    "#best_svd_algo = svd_grid_search.best_estimator['rmse']"
   ]
  },
  {
   "cell_type": "code",
   "execution_count": null,
   "id": "85403c2b",
   "metadata": {},
   "outputs": [],
   "source": [
    "#svd_grid_search.best_params"
   ]
  },
  {
   "cell_type": "code",
   "execution_count": null,
   "id": "b12d26b7",
   "metadata": {},
   "outputs": [],
   "source": [
    "#{'rmse': {'n_factors': 2, 'n_epochs': 20, 'biased': True}}"
   ]
  },
  {
   "cell_type": "code",
   "execution_count": null,
   "id": "65c1dfe1",
   "metadata": {},
   "outputs": [],
   "source": [
    "# retrain on the whole set A\n",
    "trainset_svd = svd_data.build_full_trainset()\n",
    "best_svd_algo.fit(trainset_svd)"
   ]
  },
  {
   "cell_type": "code",
   "execution_count": null,
   "id": "bddf381c",
   "metadata": {},
   "outputs": [],
   "source": [
    "predictions = best_svd_algo.test(trainset_svd.build_testset())\n",
    "print('Biased accuracy on A,', end='   ')\n",
    "accuracy.rmse(predictions)"
   ]
  },
  {
   "cell_type": "code",
   "execution_count": null,
   "id": "3646d14c",
   "metadata": {},
   "outputs": [],
   "source": [
    "# Compute unbiased accuracy on B\n",
    "testset_svd = svd_data.construct_testset(B_raw_ratings_svd)  # testset is now the set B\n",
    "predictions = best_svd_algo.test(testset_svd)\n",
    "print('Unbiased accuracy on B,', end=' ')\n",
    "accuracy.rmse(predictions)"
   ]
  },
  {
   "cell_type": "code",
   "execution_count": null,
   "id": "dd83fe17",
   "metadata": {},
   "outputs": [],
   "source": [
    "svd3 = SVD(n_factors=2, n_epochs=20, biased=True, random_state=42)\n",
    "svd3.fit(trainset)\n",
    "predictions = svd3.test(testset)\n",
    "print(accuracy.rmse(predictions))"
   ]
  },
  {
   "cell_type": "code",
   "execution_count": null,
   "id": "6a4c26f4",
   "metadata": {},
   "outputs": [],
   "source": [
    "#Same RMSE as sgd_baseline"
   ]
  },
  {
   "cell_type": "code",
   "execution_count": null,
   "id": "039ace05",
   "metadata": {},
   "outputs": [],
   "source": [
    "cv_svd3 = cross_validate(svd3, surprise_data)"
   ]
  },
  {
   "cell_type": "code",
   "execution_count": null,
   "id": "901821dc",
   "metadata": {},
   "outputs": [],
   "source": [
    "cv_svd3"
   ]
  },
  {
   "cell_type": "markdown",
   "id": "5d103a1c",
   "metadata": {},
   "source": [
    "## SVPpp Model Exploration"
   ]
  },
  {
   "cell_type": "code",
   "execution_count": null,
   "id": "32b01180",
   "metadata": {},
   "outputs": [],
   "source": [
    "#Running an SVDpp model with defaults on train "
   ]
  },
  {
   "cell_type": "code",
   "execution_count": null,
   "id": "af40ca17",
   "metadata": {},
   "outputs": [],
   "source": [
    "svdpp = SVDpp(random_state=42)\n",
    "svdpp.fit(trainset)\n",
    "predictions = svdpp.test(testset)\n",
    "print(accuracy.rmse(predictions))"
   ]
  },
  {
   "cell_type": "code",
   "execution_count": null,
   "id": "1daa8687",
   "metadata": {},
   "outputs": [],
   "source": [
    "cv_svdpp_baseline = cross_validate(svdpp, surprise_data)"
   ]
  },
  {
   "cell_type": "code",
   "execution_count": null,
   "id": "e45ba644",
   "metadata": {},
   "outputs": [],
   "source": [
    "cv_svdpp_baseline"
   ]
  },
  {
   "cell_type": "code",
   "execution_count": null,
   "id": "b620477f",
   "metadata": {},
   "outputs": [],
   "source": [
    "# grid search for SVD++\n",
    "svdpp_param_grid = {'n_factors':[10, 20],\n",
    "                    'n_epochs':[20, 30],\n",
    "                    'reg_all':[0.02, 0.05], \n",
    "                    \"lr_all\": [0.007, 0.005]}\n",
    "#svdpp_gs_model = GridSearchCV(SVDpp, param_grid=svdpp_param_grid, cv=3, joblib_verbose=10, n_jobs=-1, return_train_measures=True)\n",
    "\n",
    "# Fit and return the best_params based on cross validation this will take a VERY long time to run\n",
    "#svdpp_gs_model.fit(surprise_data)\n",
    "#svdpp_gs_model.best_params['rmse']"
   ]
  },
  {
   "cell_type": "code",
   "execution_count": null,
   "id": "00017661",
   "metadata": {},
   "outputs": [],
   "source": [
    "#{'n_factors': 10, 'n_epochs': 20, 'reg_all': 0.05, 'lr_all': 0.005}"
   ]
  },
  {
   "cell_type": "code",
   "execution_count": 107,
   "id": "3a86dbea",
   "metadata": {},
   "outputs": [
    {
     "name": "stdout",
     "output_type": "stream",
     "text": [
      "RMSE: 1.0823\n"
     ]
    }
   ],
   "source": [
    "# Instantiate - fit on trainset - score the model on testset\n",
    "SVDpp_model = SVDpp(n_factors=10, n_epochs=20, random_state=42, reg_all=0.05, lr_all=.005)\n",
    "SVDpp_model.fit(trainset)\n",
    "predictions = SVDpp_model.test(testset)\n",
    "SVDpp_gs = accuracy.rmse(predictions)"
   ]
  },
  {
   "cell_type": "code",
   "execution_count": 108,
   "id": "d0fdfa91",
   "metadata": {},
   "outputs": [],
   "source": [
    "#RMSE: 1.0823"
   ]
  },
  {
   "cell_type": "code",
   "execution_count": null,
   "id": "91f414e7",
   "metadata": {},
   "outputs": [],
   "source": [
    "# New dictionary for SVD++\n",
    "svdpp_param_grid = {'n_factors':[15, 20, 25],\n",
    "                    'n_epochs':[10, 20 ],\n",
    "                    'reg_all':[0.02, 0.05, .07], \n",
    "                    \"lr_all\": [0.007, 0.005, .002]}\n",
    "#svdpp_gs_model = GridSearchCV(SVDpp, param_grid=svdpp_param_grid, cv=3, joblib_verbose=10, n_jobs=-1, return_train_measures=True)\n",
    "\n",
    "# Fit and return the best_params based on cross validation this will take a VERY long time to run\n",
    "#svdpp_gs_model.fit(surprise_data)\n",
    "#svdpp_gs_model.best_params['rmse']"
   ]
  },
  {
   "cell_type": "code",
   "execution_count": null,
   "id": "95be929d",
   "metadata": {},
   "outputs": [],
   "source": [
    "#{'n_factors': 15, 'n_epochs': 20, 'reg_all': 0.07, 'lr_all': 0.005}"
   ]
  },
  {
   "cell_type": "code",
   "execution_count": null,
   "id": "4b93cc6d",
   "metadata": {},
   "outputs": [],
   "source": [
    "# Instantiate - fit on trainset - score the model on testset\n",
    "SVDpp_model = SVDpp(n_factors=15, n_epochs=20, random_state=42, reg_all=0.07, lr_all=.005)\n",
    "SVDpp_model.fit(trainset)\n",
    "predictions = SVDpp_model.test(testset)\n",
    "SVDpp_gs = accuracy.rmse(predictions)"
   ]
  },
  {
   "cell_type": "code",
   "execution_count": null,
   "id": "af2b2161",
   "metadata": {},
   "outputs": [],
   "source": [
    "#RMSE: 1.0824\n",
    "#still not as good as sgd baseline"
   ]
  },
  {
   "cell_type": "code",
   "execution_count": null,
   "id": "4655ae38",
   "metadata": {},
   "outputs": [],
   "source": [
    "df"
   ]
  },
  {
   "cell_type": "markdown",
   "id": "0f0d16af",
   "metadata": {},
   "source": [
    "## Utilizing Best Model to create Recommendations"
   ]
  },
  {
   "cell_type": "code",
   "execution_count": 189,
   "id": "1a25f280",
   "metadata": {},
   "outputs": [],
   "source": [
    "# Building our trainset_full to fit our final model on full trainset"
   ]
  },
  {
   "cell_type": "code",
   "execution_count": 190,
   "id": "dad1667c",
   "metadata": {},
   "outputs": [],
   "source": [
    "trainset_full = surprise_data.build_full_trainset()"
   ]
  },
  {
   "cell_type": "code",
   "execution_count": 191,
   "id": "916b3337",
   "metadata": {},
   "outputs": [
    {
     "data": {
      "text/plain": [
       "<surprise.trainset.Trainset at 0x7fb2913a47f0>"
      ]
     },
     "execution_count": 191,
     "metadata": {},
     "output_type": "execute_result"
    }
   ],
   "source": [
    "trainset_full"
   ]
  },
  {
   "cell_type": "code",
   "execution_count": 192,
   "id": "e5e6abfa",
   "metadata": {},
   "outputs": [
    {
     "data": {
      "text/plain": [
       "<surprise.prediction_algorithms.matrix_factorization.SVD at 0x7fb1d6f35fa0>"
      ]
     },
     "execution_count": 192,
     "metadata": {},
     "output_type": "execute_result"
    }
   ],
   "source": [
    "best_model = SVD(n_factors=2, n_epochs=20, biased=True, random_state=23)\n",
    "best_model.fit(trainset_full)"
   ]
  },
  {
   "cell_type": "code",
   "execution_count": 193,
   "id": "7ebfc9de",
   "metadata": {},
   "outputs": [
    {
     "name": "stdout",
     "output_type": "stream",
     "text": [
      "<class 'pandas.core.frame.DataFrame'>\n",
      "Index: 198502 entries, A1YJEY40YUW4SE to A3UJRNI8UR4871\n",
      "Data columns (total 1 columns):\n",
      " #   Column  Non-Null Count   Dtype \n",
      "---  ------  --------------   ----- \n",
      " 0   asin    198502 non-null  object\n",
      "dtypes: object(1)\n",
      "memory usage: 3.0+ MB\n"
     ]
    }
   ],
   "source": [
    "## Subset data frame to show reviewers the products they have rated \n",
    "df_prior_ratings = pd.DataFrame(df.set_index(\"reviewerID\"))\n",
    "df_prior_ratings.drop(columns= [\"reviewerName\", \"helpful\", \"reviewText\", \"overall\", \"summary\", \"unixReviewTime\", \"reviewTime\"], inplace=True)\n",
    "df_prior_ratings.info()"
   ]
  },
  {
   "cell_type": "code",
   "execution_count": null,
   "id": "1226a635",
   "metadata": {},
   "outputs": [],
   "source": [
    "pd.set_option('display.max_colwidth', None)"
   ]
  },
  {
   "cell_type": "code",
   "execution_count": 201,
   "id": "a9575b42",
   "metadata": {},
   "outputs": [],
   "source": [
    "def buyer_recommended_products(): \n",
    "    pd.set_option('display.max_colwidth', None)\n",
    "    buyer = input(\"reviewerID: \")\n",
    "    n_recs = int(input(\"How many recommendations? \"))\n",
    "    \n",
    "    already_reviewed = list(df_prior_ratings.loc[buyer, \"asin\"])\n",
    "    not_reviewed = meta_data_df.copy()\n",
    "    not_reviewed = not_reviewed[not_reviewed.ASIN.isin(already_reviewed) == False]\n",
    "    not_reviewed.reset_index(inplace=True)\n",
    "    not_reviewed[\"predicted_rating\"] = not_reviewed[\"ASIN\"].apply(lambda x: best_model.predict(buyer, x).est)\n",
    "    not_reviewed.sort_values(by=\"predicted_rating\", ascending=False, inplace=True)\n",
    "    not_reviewd = not_reviewed[['ASIN','Product Name', 'Description', 'imUrl']].head(n_recs)\n",
    "\n",
    " #Converting links to html tags\n",
    "    def path_to_image_html(path):\n",
    "        return '<img src=\"'+ path + '\" width=\"60\" >'\n",
    "    \n",
    "    \n",
    "    return HTML(not_reviewed.to_html(escape=False, formatters=dict(imUrl=path_to_image_html)))\n",
    "\n",
    "    \n",
    "    "
   ]
  },
  {
   "cell_type": "code",
   "execution_count": 202,
   "id": "2ad37faa",
   "metadata": {},
   "outputs": [],
   "source": [
    "#could save the return as a variable, then return variable AND utilize variable\n",
    "#to index into image and loop through (for loop in function)\n",
    "#loop through subsetted df and return image"
   ]
  },
  {
   "cell_type": "code",
   "execution_count": null,
   "id": "79fc3ba4",
   "metadata": {
    "scrolled": false
   },
   "outputs": [
    {
     "name": "stdout",
     "output_type": "stream",
     "text": [
      "reviewerID: A1GQLVT0SWAWU\n",
      "How many recommendations? 3\n"
     ]
    }
   ],
   "source": [
    "buyer_recommended_products()"
   ]
  },
  {
   "cell_type": "markdown",
   "id": "158499b4",
   "metadata": {},
   "source": [
    "## Looking into Creating a Recommendation System with an option to add Category of Product "
   ]
  },
  {
   "cell_type": "code",
   "execution_count": 197,
   "id": "c027e883",
   "metadata": {
    "scrolled": true
   },
   "outputs": [
    {
     "data": {
      "text/plain": [
       "0                                     [[Beauty, Skin Care, Face, Creams & Moisturizers]]\n",
       "1         [[Beauty, Tools & Accessories, Makeup Brushes & Tools, Brushes & Applicators]]\n",
       "2                                     [[Beauty, Skin Care, Body, Moisturizers, Lotions]]\n",
       "3                                                     [[Beauty, Makeup, Lips, Lipstick]]\n",
       "4                               [[Beauty, Tools & Accessories, Mirrors, Makeup Mirrors]]\n",
       "                                               ...                                      \n",
       "259199       [[Beauty, Hair Care, Styling Tools, Styling Accessories, Decorative Combs]]\n",
       "259200                                            [[Beauty, Makeup, Nails, Nail Polish]]\n",
       "259201                                [[Beauty, Skin Care, Face, Creams & Moisturizers]]\n",
       "259202       [[Beauty, Hair Care, Styling Tools, Styling Accessories, Decorative Combs]]\n",
       "259203                      [[Beauty, Tools & Accessories, Bags & Cases, Toiletry Bags]]\n",
       "Name: categories, Length: 259204, dtype: object"
      ]
     },
     "execution_count": 197,
     "metadata": {},
     "output_type": "execute_result"
    }
   ],
   "source": [
    "meta_data_df.categories #which level do we want to go to? "
   ]
  },
  {
   "cell_type": "code",
   "execution_count": 132,
   "id": "8b95d236",
   "metadata": {},
   "outputs": [
    {
     "data": {
      "text/plain": [
       "'Makeup'"
      ]
     },
     "execution_count": 132,
     "metadata": {},
     "output_type": "execute_result"
    }
   ],
   "source": [
    "list(meta_data_df.categories)[:][643][0][1]"
   ]
  },
  {
   "cell_type": "code",
   "execution_count": 141,
   "id": "af97f9c1",
   "metadata": {},
   "outputs": [],
   "source": [
    "#return unique subcategories from meta deta to give user input options for category"
   ]
  },
  {
   "cell_type": "code",
   "execution_count": 140,
   "id": "16b3738a",
   "metadata": {},
   "outputs": [
    {
     "data": {
      "text/plain": [
       "['Skin Care',\n",
       " 'Tools & Accessories',\n",
       " 'Makeup',\n",
       " 'Hair Care',\n",
       " 'Bath & Body',\n",
       " 'Fragrance',\n",
       " 'Fan Shop',\n",
       " 'Snow Sports',\n",
       " 'Kitchen & Dining',\n",
       " 'Health Care',\n",
       " 'Stationery & Party Supplies',\n",
       " 'Storage & Organization',\n",
       " 'Baby & Child Care',\n",
       " 'Personal Care',\n",
       " 'Household Supplies',\n",
       " 'Accessories',\n",
       " 'Hardware']"
      ]
     },
     "execution_count": 140,
     "metadata": {},
     "output_type": "execute_result"
    }
   ],
   "source": [
    "subcategories = []\n",
    "for row in meta_data_df[\"categories\"]:\n",
    "    value = row[0][1]\n",
    "    if value not in subcategories:\n",
    "        subcategories.append(value) \n",
    "subcategories"
   ]
  },
  {
   "cell_type": "code",
   "execution_count": 142,
   "id": "81fd0e78",
   "metadata": {},
   "outputs": [],
   "source": [
    "#create a function to extract subcategory level 1 from categories\n",
    "def get_subcategory(cat):\n",
    "    value = cat[0][1]\n",
    "    return(value)"
   ]
  },
  {
   "cell_type": "code",
   "execution_count": 144,
   "id": "928d7f0a",
   "metadata": {},
   "outputs": [],
   "source": [
    "#Create a new column in our meta data df called \"sub_cat\" containing sub category info\n",
    "meta_data_df[\"sub_cat\"] = meta_data_df[\"categories\"].apply(get_subcategory)"
   ]
  },
  {
   "cell_type": "code",
   "execution_count": 146,
   "id": "cd2a53c9",
   "metadata": {},
   "outputs": [
    {
     "data": {
      "text/html": [
       "<div>\n",
       "<style scoped>\n",
       "    .dataframe tbody tr th:only-of-type {\n",
       "        vertical-align: middle;\n",
       "    }\n",
       "\n",
       "    .dataframe tbody tr th {\n",
       "        vertical-align: top;\n",
       "    }\n",
       "\n",
       "    .dataframe thead th {\n",
       "        text-align: right;\n",
       "    }\n",
       "</style>\n",
       "<table border=\"1\" class=\"dataframe\">\n",
       "  <thead>\n",
       "    <tr style=\"text-align: right;\">\n",
       "      <th></th>\n",
       "      <th>ASIN</th>\n",
       "      <th>Description</th>\n",
       "      <th>Product Name</th>\n",
       "      <th>imUrl</th>\n",
       "      <th>salesRank</th>\n",
       "      <th>categories</th>\n",
       "      <th>price</th>\n",
       "      <th>related</th>\n",
       "      <th>brand</th>\n",
       "      <th>sub_cat</th>\n",
       "    </tr>\n",
       "  </thead>\n",
       "  <tbody>\n",
       "    <tr>\n",
       "      <th>0</th>\n",
       "      <td>0205616461</td>\n",
       "      <td>As we age, our once youthful, healthy skin succumbs to an enzymatic imbalance that wears away the cellular network, resulting in skin thinning and aging. Combining the best of nature and cosmetic biotechnology, Bio-Active products are formulated with Enzymes that gently exfoliate the skin and stimulate regeneration for a youthful glow. Benefiting from fertile orchards in the Italian countryside, Bio-active formulas are rich in phytohormones, flavonoids and fatty acids from active extracts in Apple and Pear Seeds ,enzymatically modified and developed especially for the care of aging skin. This repairing fluid helps to nourish and firm by accelerating penetration and delivery of active principles to the skin, giving it a more youthful appearance. \\n\\nAdvanced \"Probiotic\" Complex from nourishing milk proteins regains the skin's natural equilibrium, boosts its immunities and protects it against environmental and biological stress.\\n\\nPeptides and Ceramides help to firm and regenerate the skin by stimulating collagen production and strengthening the epidermis.\\n\\nA Calming Botanical Complex of Hyaluronic Acid and Wheat Germ Extract hydrates and restores the skin's protective barriers.\\n\\nA nutritive Vitamin Complex moisturizes and protects the skin from damaging environmental factors. \\n\\nParacress Extract, a natural alternative to cosmetic injections, limits and relaxes micro-contractions that create facial lines, producing immediate and long-term smoothing of the skin.\\n\\nTo Use: Apply a few pumps to Apply a few pumps to a clean and dried face, neck and dcollet.</td>\n",
       "      <td>Bio-Active Anti-Aging Serum (Firming Ultra-Hydrating Serum)</td>\n",
       "      <td>http://ecx.images-amazon.com/images/I/41DecrGODDL._SY300_.jpg</td>\n",
       "      <td>{'Health &amp; Personal Care': 461765}</td>\n",
       "      <td>[[Beauty, Skin Care, Face, Creams &amp; Moisturizers]]</td>\n",
       "      <td>NaN</td>\n",
       "      <td>NaN</td>\n",
       "      <td>NaN</td>\n",
       "      <td>Skin Care</td>\n",
       "    </tr>\n",
       "    <tr>\n",
       "      <th>1</th>\n",
       "      <td>0558925278</td>\n",
       "      <td>Mineral Powder Brush--Apply powder or mineral foundation all over face in a circular, buffing motion and work inward towards nose.\\n\\nConcealer Brush--Use with liquid or mineral powder concealer for more coverage on blemishes and under eyes. \\n\\nEye Shading Brush-- Expertly cut to apply and blend powder eye shadows.\\n\\nBaby Kabuki-- Buff powder over areas that need more coverage. \\n\\nCosmetic Brush Bag-- 55% hemp linen, 45% cotton</td>\n",
       "      <td>Eco Friendly Ecotools Quality Natural Bamboo Cosmetic Mineral Brush Set Kit of 4 Soft Brushes and 1 Pouch Baby Kabuki Eye Shading Brush Mineral Powder Brush Concealer Brush(travle Size)</td>\n",
       "      <td>http://ecx.images-amazon.com/images/I/51L%2BzYCQWSL._SX300_.jpg</td>\n",
       "      <td>{'Beauty': 402875}</td>\n",
       "      <td>[[Beauty, Tools &amp; Accessories, Makeup Brushes &amp; Tools, Brushes &amp; Applicators]]</td>\n",
       "      <td>NaN</td>\n",
       "      <td>NaN</td>\n",
       "      <td>NaN</td>\n",
       "      <td>Tools &amp; Accessories</td>\n",
       "    </tr>\n",
       "    <tr>\n",
       "      <th>2</th>\n",
       "      <td>0733001998</td>\n",
       "      <td>From the Greek island of Chios, this Mastiha body lotion is made from Mastic oil, a pure product derived from mastic. With organically grown: Olive oil, red grape leaves, Aloe vera, Rosemary, Bee's wax, Shea Butter.</td>\n",
       "      <td>Mastiha Body Lotion</td>\n",
       "      <td>http://ecx.images-amazon.com/images/I/311WK5y1dML._SY300_.jpg</td>\n",
       "      <td>{'Beauty': 540255}</td>\n",
       "      <td>[[Beauty, Skin Care, Body, Moisturizers, Lotions]]</td>\n",
       "      <td>NaN</td>\n",
       "      <td>NaN</td>\n",
       "      <td>NaN</td>\n",
       "      <td>Skin Care</td>\n",
       "    </tr>\n",
       "    <tr>\n",
       "      <th>3</th>\n",
       "      <td>0737104473</td>\n",
       "      <td>Limited edition Hello Kitty Lipstick featuring shiny black casing with Hello Kitty figure on a pop art pattern background. Cap features the logos of both MAC and Hello Kitty in this collection.</td>\n",
       "      <td>Hello Kitty Lustre Lipstick (See sellers comments for colors)</td>\n",
       "      <td>http://ecx.images-amazon.com/images/I/31u6Hrzk3WL._SY300_.jpg</td>\n",
       "      <td>{'Beauty': 931125}</td>\n",
       "      <td>[[Beauty, Makeup, Lips, Lipstick]]</td>\n",
       "      <td>NaN</td>\n",
       "      <td>NaN</td>\n",
       "      <td>NaN</td>\n",
       "      <td>Makeup</td>\n",
       "    </tr>\n",
       "    <tr>\n",
       "      <th>4</th>\n",
       "      <td>0762451459</td>\n",
       "      <td>The mermaid is an elusive (okay, mythical) creature, her beauty glimpsed only fleetingly by swimmers and sailors. With this mermaid-inspired iridescent compact, we landlubbers can capture a bit of that shimmering allure. Plus, having a mirror always on hand, we'll have no trouble catching a glimpse of our own gorgeousness (or doing a quick touchup when we need to).Within its slim silhouette, this colorful compact contains a double-sided mirror: Each mirror is large enough to show your entire face, and angling the two offers a side-angle view for hair fixes. The case snaps shut to keep the mirrors scuff-free.</td>\n",
       "      <td>Stephanie Johnson Mermaid Round Snap Mirror</td>\n",
       "      <td>http://ecx.images-amazon.com/images/I/41y2%2BFUdf1L._SY300_.jpg</td>\n",
       "      <td>NaN</td>\n",
       "      <td>[[Beauty, Tools &amp; Accessories, Mirrors, Makeup Mirrors]]</td>\n",
       "      <td>19.98</td>\n",
       "      <td>NaN</td>\n",
       "      <td>NaN</td>\n",
       "      <td>Tools &amp; Accessories</td>\n",
       "    </tr>\n",
       "  </tbody>\n",
       "</table>\n",
       "</div>"
      ],
      "text/plain": [
       "         ASIN  \\\n",
       "0  0205616461   \n",
       "1  0558925278   \n",
       "2  0733001998   \n",
       "3  0737104473   \n",
       "4  0762451459   \n",
       "\n",
       "                                                                                                                                                                                                                                                                                                                                                                                                                                                                                                                                                                                                                                                                                                                                                                                                                                                                                                                                                                                                                                                                                                                                                                                                                                                                                                                                                                                                                                                                                                                                                                                                                                         Description  \\\n",
       "0  As we age, our once youthful, healthy skin succumbs to an enzymatic imbalance that wears away the cellular network, resulting in skin thinning and aging. Combining the best of nature and cosmetic biotechnology, Bio-Active products are formulated with Enzymes that gently exfoliate the skin and stimulate regeneration for a youthful glow. Benefiting from fertile orchards in the Italian countryside, Bio-active formulas are rich in phytohormones, flavonoids and fatty acids from active extracts in Apple and Pear Seeds ,enzymatically modified and developed especially for the care of aging skin. This repairing fluid helps to nourish and firm by accelerating penetration and delivery of active principles to the skin, giving it a more youthful appearance. \\n\\nAdvanced \"Probiotic\" Complex from nourishing milk proteins regains the skin's natural equilibrium, boosts its immunities and protects it against environmental and biological stress.\\n\\nPeptides and Ceramides help to firm and regenerate the skin by stimulating collagen production and strengthening the epidermis.\\n\\nA Calming Botanical Complex of Hyaluronic Acid and Wheat Germ Extract hydrates and restores the skin's protective barriers.\\n\\nA nutritive Vitamin Complex moisturizes and protects the skin from damaging environmental factors. \\n\\nParacress Extract, a natural alternative to cosmetic injections, limits and relaxes micro-contractions that create facial lines, producing immediate and long-term smoothing of the skin.\\n\\nTo Use: Apply a few pumps to Apply a few pumps to a clean and dried face, neck and dcollet.   \n",
       "1                                                                                                                                                                                                                                                                                                                                                                                                                                                                                                                                                                                                                                                                                                                                                                                                                                                                                                                                                                                                                                                                                                                                                                                                 Mineral Powder Brush--Apply powder or mineral foundation all over face in a circular, buffing motion and work inward towards nose.\\n\\nConcealer Brush--Use with liquid or mineral powder concealer for more coverage on blemishes and under eyes. \\n\\nEye Shading Brush-- Expertly cut to apply and blend powder eye shadows.\\n\\nBaby Kabuki-- Buff powder over areas that need more coverage. \\n\\nCosmetic Brush Bag-- 55% hemp linen, 45% cotton   \n",
       "2                                                                                                                                                                                                                                                                                                                                                                                                                                                                                                                                                                                                                                                                                                                                                                                                                                                                                                                                                                                                                                                                                                                                                                                                                                                                                                                                                                                                                            From the Greek island of Chios, this Mastiha body lotion is made from Mastic oil, a pure product derived from mastic. With organically grown: Olive oil, red grape leaves, Aloe vera, Rosemary, Bee's wax, Shea Butter.   \n",
       "3                                                                                                                                                                                                                                                                                                                                                                                                                                                                                                                                                                                                                                                                                                                                                                                                                                                                                                                                                                                                                                                                                                                                                                                                                                                                                                                                                                                                                                                  Limited edition Hello Kitty Lipstick featuring shiny black casing with Hello Kitty figure on a pop art pattern background. Cap features the logos of both MAC and Hello Kitty in this collection.   \n",
       "4                                                                                                                                                                                                                                                                                                                                                                                                                                                                                                                                                                                                                                                                                                                                                                                                                                                                                                                                                                                                            The mermaid is an elusive (okay, mythical) creature, her beauty glimpsed only fleetingly by swimmers and sailors. With this mermaid-inspired iridescent compact, we landlubbers can capture a bit of that shimmering allure. Plus, having a mirror always on hand, we'll have no trouble catching a glimpse of our own gorgeousness (or doing a quick touchup when we need to).Within its slim silhouette, this colorful compact contains a double-sided mirror: Each mirror is large enough to show your entire face, and angling the two offers a side-angle view for hair fixes. The case snaps shut to keep the mirrors scuff-free.   \n",
       "\n",
       "                                                                                                                                                                                Product Name  \\\n",
       "0                                                                                                                                Bio-Active Anti-Aging Serum (Firming Ultra-Hydrating Serum)   \n",
       "1  Eco Friendly Ecotools Quality Natural Bamboo Cosmetic Mineral Brush Set Kit of 4 Soft Brushes and 1 Pouch Baby Kabuki Eye Shading Brush Mineral Powder Brush Concealer Brush(travle Size)   \n",
       "2                                                                                                                                                                        Mastiha Body Lotion   \n",
       "3                                                                                                                              Hello Kitty Lustre Lipstick (See sellers comments for colors)   \n",
       "4                                                                                                                                                Stephanie Johnson Mermaid Round Snap Mirror   \n",
       "\n",
       "                                                             imUrl  \\\n",
       "0    http://ecx.images-amazon.com/images/I/41DecrGODDL._SY300_.jpg   \n",
       "1  http://ecx.images-amazon.com/images/I/51L%2BzYCQWSL._SX300_.jpg   \n",
       "2    http://ecx.images-amazon.com/images/I/311WK5y1dML._SY300_.jpg   \n",
       "3    http://ecx.images-amazon.com/images/I/31u6Hrzk3WL._SY300_.jpg   \n",
       "4  http://ecx.images-amazon.com/images/I/41y2%2BFUdf1L._SY300_.jpg   \n",
       "\n",
       "                            salesRank  \\\n",
       "0  {'Health & Personal Care': 461765}   \n",
       "1                  {'Beauty': 402875}   \n",
       "2                  {'Beauty': 540255}   \n",
       "3                  {'Beauty': 931125}   \n",
       "4                                 NaN   \n",
       "\n",
       "                                                                       categories  \\\n",
       "0                              [[Beauty, Skin Care, Face, Creams & Moisturizers]]   \n",
       "1  [[Beauty, Tools & Accessories, Makeup Brushes & Tools, Brushes & Applicators]]   \n",
       "2                              [[Beauty, Skin Care, Body, Moisturizers, Lotions]]   \n",
       "3                                              [[Beauty, Makeup, Lips, Lipstick]]   \n",
       "4                        [[Beauty, Tools & Accessories, Mirrors, Makeup Mirrors]]   \n",
       "\n",
       "   price related brand              sub_cat  \n",
       "0    NaN     NaN   NaN            Skin Care  \n",
       "1    NaN     NaN   NaN  Tools & Accessories  \n",
       "2    NaN     NaN   NaN            Skin Care  \n",
       "3    NaN     NaN   NaN               Makeup  \n",
       "4  19.98     NaN   NaN  Tools & Accessories  "
      ]
     },
     "execution_count": 146,
     "metadata": {},
     "output_type": "execute_result"
    }
   ],
   "source": [
    "meta_data_df.head()"
   ]
  },
  {
   "cell_type": "code",
   "execution_count": null,
   "id": "2ebde3a0",
   "metadata": {},
   "outputs": [],
   "source": [
    "def buyer_recommended_category_products(): \n",
    "    pd.set_option('display.max_colwidth', None)\n",
    "    buyer = input(\"reviewerID: \")\n",
    "    n_recs = int(input(\"How many recommendations? \"))\n",
    "    #request_category from subcategories \n",
    "    request_category = input(\"Which category of beauty to recommend buyer? \")\n",
    "    \n",
    "    already_reviewed = list(df_prior_ratings.loc[buyer, \"asin\"])\n",
    "    not_reviewed = meta_data_df.copy()\n",
    "    not_reviewed = not_reviewed[not_reviewed.ASIN.isin(already_reviewed) == False]\n",
    "    not_reviewed.reset_index(inplace=True)\n",
    "    not_reviewed[\"predicted_rating\"] = not_reviewed[\"ASIN\"].apply(lambda x: best_model.predict(buyer, x).est)\n",
    "    not_reviewed = not_reviewed[not_reviewed[\"sub_cat\"]==request_category]\n",
    "    not_reviewed.sort_values(by=\"predicted_rating\", ascending=False, inplace=True)\n",
    "    not_reviewed = not_reviewed[['ASIN','Product Name', 'Description', 'imUrl']].head(n_recs)\n",
    "    \n",
    "    #Converting links to html tags\n",
    "    def path_to_image_html(path):\n",
    "        return '<img src=\"'+ path + '\" width=\"60\" >'\n",
    "    \n",
    "    \n",
    "    return HTML(not_reviewed.to_html(escape=False, formatters=dict(imUrl=path_to_image_html)))"
   ]
  },
  {
   "cell_type": "code",
   "execution_count": 109,
   "id": "fb296aa1",
   "metadata": {},
   "outputs": [],
   "source": [
    "#visualizations: demonstrate function, screen record of running the function\n",
    "#select user, this is what they have previously rated, here's our returned \n",
    "#recommended items "
   ]
  },
  {
   "cell_type": "code",
   "execution_count": 111,
   "id": "24f6f663",
   "metadata": {},
   "outputs": [],
   "source": [
    "#report RMSE, discuss in terms of rating scale of 1-5"
   ]
  },
  {
   "cell_type": "code",
   "execution_count": 112,
   "id": "8326f68b",
   "metadata": {},
   "outputs": [],
   "source": [
    "#in presentation report system is based off of x # users, x # reviews, x # of products in reviews"
   ]
  },
  {
   "cell_type": "code",
   "execution_count": 113,
   "id": "7e476475",
   "metadata": {},
   "outputs": [],
   "source": [
    "#5 core limitation; system needs user interaction to work, need users to review at least 5 products\n",
    "#and products to have at least 5 reviews"
   ]
  },
  {
   "cell_type": "code",
   "execution_count": null,
   "id": "4a85d9d4",
   "metadata": {},
   "outputs": [],
   "source": []
  }
 ],
 "metadata": {
  "kernelspec": {
   "display_name": "Python 3",
   "language": "python",
   "name": "python3"
  },
  "language_info": {
   "codemirror_mode": {
    "name": "ipython",
    "version": 3
   },
   "file_extension": ".py",
   "mimetype": "text/x-python",
   "name": "python",
   "nbconvert_exporter": "python",
   "pygments_lexer": "ipython3",
   "version": "3.8.5"
  }
 },
 "nbformat": 4,
 "nbformat_minor": 5
}
